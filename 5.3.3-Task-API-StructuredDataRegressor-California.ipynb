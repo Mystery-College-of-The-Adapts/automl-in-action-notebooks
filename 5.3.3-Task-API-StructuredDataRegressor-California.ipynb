{
 "cells": [
  {
   "cell_type": "markdown",
   "metadata": {
    "colab_type": "text",
    "id": "LowS0sjVAsIh"
   },
   "source": [
    "[![Open In Colab](https://colab.research.google.com/assets/colab-badge.svg)](https://colab.research.google.com/github/keras-team/autokeras/blob/master/docs/templates/tutorial/image_classification.ipynb)"
   ]
  },
  {
   "cell_type": "code",
   "execution_count": 1,
   "metadata": {},
   "outputs": [
    {
     "data": {
      "text/plain": [
       "'2.1.0'"
      ]
     },
     "execution_count": 1,
     "metadata": {},
     "output_type": "execute_result"
    }
   ],
   "source": [
    "import tensorflow as tf\n",
    "import autokeras as ak\n",
    "tf.__version__"
   ]
  },
  {
   "cell_type": "markdown",
   "metadata": {
    "colab_type": "text",
    "id": "0D7scqBWkg5t"
   },
   "source": [
    "### Load California housing price prediction dataset"
   ]
  },
  {
   "cell_type": "code",
   "execution_count": 3,
   "metadata": {
    "colab": {},
    "colab_type": "code",
    "id": "YACSvJ81h_Ry"
   },
   "outputs": [],
   "source": [
    "from sklearn.datasets import fetch_california_housing\n",
    "\n",
    "house_dataset = fetch_california_housing()\n",
    "\n",
    "# Import pandas package to format the data\n",
    "import pandas as pd\n",
    "\n",
    "# Extract features with their names into the a dataframe format\n",
    "data = pd.DataFrame(house_dataset.data, columns=house_dataset.feature_names)\n",
    "\n",
    "# Extract target with their names into a pd.Series object with name MEDV\n",
    "target = pd.Series(house_dataset.target, name = 'MEDV')\n",
    "\n",
    "from sklearn.model_selection import train_test_split\n",
    "train_data, test_data, train_targets, test_targets = train_test_split(data, target, test_size=0.2, random_state=42)"
   ]
  },
  {
   "cell_type": "code",
   "execution_count": 4,
   "metadata": {},
   "outputs": [
    {
     "name": "stdout",
     "output_type": "stream",
     "text": [
      "--Shape of the whole data--\n",
      " (20640, 8)\n",
      "\n",
      "--Shape of the target vector--\n",
      " (20640,)\n",
      "\n",
      "--Shape of the training data--\n",
      " (16512, 8)\n",
      "\n",
      "--Shape of the testing data--\n",
      " (4128, 8)\n"
     ]
    }
   ],
   "source": [
    "# Check the shape of whole dataset and the splited training and test set\n",
    "print(\"--Shape of the whole data--\\n {}\".format(data.shape))\n",
    "print(\"\\n--Shape of the target vector--\\n {}\".format(target.shape))\n",
    "print(\"\\n--Shape of the training data--\\n {}\".format(train_data.shape))\n",
    "print(\"\\n--Shape of the testing data--\\n {}\".format(test_data.shape))"
   ]
  },
  {
   "cell_type": "markdown",
   "metadata": {
    "colab_type": "text",
    "id": "N5xlStkakqJn"
   },
   "source": [
    "### Run the StructuredDataRegressor"
   ]
  },
  {
   "cell_type": "code",
   "execution_count": 24,
   "metadata": {
    "colab": {},
    "colab_type": "code",
    "id": "QfnaDrkPiTTg"
   },
   "outputs": [
    {
     "name": "stdout",
     "output_type": "stream",
     "text": [
      "WARNING:tensorflow:Unresolved object in checkpoint: (root).optimizer.iter\n",
      "WARNING:tensorflow:Unresolved object in checkpoint: (root).optimizer.beta_1\n",
      "WARNING:tensorflow:Unresolved object in checkpoint: (root).optimizer.beta_2\n",
      "WARNING:tensorflow:Unresolved object in checkpoint: (root).optimizer.decay\n",
      "WARNING:tensorflow:Unresolved object in checkpoint: (root).optimizer.learning_rate\n",
      "WARNING:tensorflow:A checkpoint was restored (e.g. tf.train.Checkpoint.restore or tf.keras.Model.load_weights) but not all checkpointed values were used. See above for specific issues. Use expect_partial() on the load status object, e.g. tf.train.Checkpoint.restore(...).expect_partial(), to silence these warnings, or use assert_consumed() to make the check explicit. See https://www.tensorflow.org/guide/checkpoint#loading_mechanics for details.\n",
      "WARNING:tensorflow:Unresolved object in checkpoint: (root).optimizer.iter\n",
      "WARNING:tensorflow:Unresolved object in checkpoint: (root).optimizer.beta_1\n",
      "WARNING:tensorflow:Unresolved object in checkpoint: (root).optimizer.beta_2\n",
      "WARNING:tensorflow:Unresolved object in checkpoint: (root).optimizer.decay\n",
      "WARNING:tensorflow:Unresolved object in checkpoint: (root).optimizer.learning_rate\n",
      "WARNING:tensorflow:A checkpoint was restored (e.g. tf.train.Checkpoint.restore or tf.keras.Model.load_weights) but not all checkpointed values were used. See above for specific issues. Use expect_partial() on the load status object, e.g. tf.train.Checkpoint.restore(...).expect_partial(), to silence these warnings, or use assert_consumed() to make the check explicit. See https://www.tensorflow.org/guide/checkpoint#loading_mechanics for details.\n",
      "Train for 13 steps, validate for 4 steps\n",
      "Epoch 1/1000\n",
      "13/13 - 1s - loss: 41827.3086 - mean_squared_error: 42097.0820 - val_loss: 2752.5870 - val_mean_squared_error: 2819.3501\n",
      "Epoch 2/1000\n",
      "13/13 - 0s - loss: 1591.7249 - mean_squared_error: 1580.0551 - val_loss: 4006.0596 - val_mean_squared_error: 4127.5942\n",
      "Epoch 3/1000\n",
      "13/13 - 0s - loss: 2036.0968 - mean_squared_error: 2048.9292 - val_loss: 164.4747 - val_mean_squared_error: 171.0992\n",
      "Epoch 4/1000\n",
      "13/13 - 0s - loss: 153.3292 - mean_squared_error: 152.3435 - val_loss: 319.7138 - val_mean_squared_error: 325.8289\n",
      "Epoch 5/1000\n",
      "13/13 - 0s - loss: 138.6185 - mean_squared_error: 139.4990 - val_loss: 14.9977 - val_mean_squared_error: 15.4220\n",
      "Epoch 6/1000\n",
      "13/13 - 0s - loss: 32.1683 - mean_squared_error: 32.1839 - val_loss: 33.9843 - val_mean_squared_error: 35.4453\n",
      "Epoch 7/1000\n",
      "13/13 - 0s - loss: 14.8023 - mean_squared_error: 14.8366 - val_loss: 10.2113 - val_mean_squared_error: 10.2053\n",
      "Epoch 8/1000\n",
      "13/13 - 0s - loss: 7.9500 - mean_squared_error: 7.9572 - val_loss: 7.8347 - val_mean_squared_error: 7.7911\n",
      "Epoch 9/1000\n",
      "13/13 - 0s - loss: 6.8181 - mean_squared_error: 6.8217 - val_loss: 7.1031 - val_mean_squared_error: 7.0600\n",
      "Epoch 10/1000\n",
      "13/13 - 0s - loss: 6.4590 - mean_squared_error: 6.4615 - val_loss: 6.8086 - val_mean_squared_error: 6.7395\n",
      "Epoch 11/1000\n",
      "13/13 - 0s - loss: 6.2543 - mean_squared_error: 6.2567 - val_loss: 6.5416 - val_mean_squared_error: 6.4407\n",
      "Epoch 12/1000\n",
      "13/13 - 0s - loss: 6.0947 - mean_squared_error: 6.0970 - val_loss: 6.3515 - val_mean_squared_error: 6.2399\n",
      "Epoch 13/1000\n",
      "13/13 - 0s - loss: 5.9650 - mean_squared_error: 5.9673 - val_loss: 6.2038 - val_mean_squared_error: 6.0857\n",
      "Epoch 14/1000\n",
      "13/13 - 0s - loss: 5.8450 - mean_squared_error: 5.8475 - val_loss: 6.0721 - val_mean_squared_error: 5.9483\n",
      "Epoch 15/1000\n",
      "13/13 - 0s - loss: 5.7310 - mean_squared_error: 5.7335 - val_loss: 5.9519 - val_mean_squared_error: 5.8259\n",
      "Epoch 16/1000\n",
      "13/13 - 0s - loss: 5.6206 - mean_squared_error: 5.6231 - val_loss: 5.8391 - val_mean_squared_error: 5.7128\n",
      "Epoch 17/1000\n",
      "13/13 - 0s - loss: 5.5128 - mean_squared_error: 5.5154 - val_loss: 5.7320 - val_mean_squared_error: 5.6059\n",
      "Epoch 18/1000\n",
      "13/13 - 0s - loss: 5.4068 - mean_squared_error: 5.4094 - val_loss: 5.6277 - val_mean_squared_error: 5.5021\n",
      "Epoch 19/1000\n",
      "13/13 - 0s - loss: 5.3015 - mean_squared_error: 5.3042 - val_loss: 5.5247 - val_mean_squared_error: 5.3998\n",
      "Epoch 20/1000\n",
      "13/13 - 0s - loss: 5.1968 - mean_squared_error: 5.1995 - val_loss: 5.4227 - val_mean_squared_error: 5.2988\n",
      "Epoch 21/1000\n",
      "13/13 - 0s - loss: 5.0922 - mean_squared_error: 5.0950 - val_loss: 5.3211 - val_mean_squared_error: 5.1983\n",
      "Epoch 22/1000\n",
      "13/13 - 0s - loss: 4.9873 - mean_squared_error: 4.9900 - val_loss: 5.2183 - val_mean_squared_error: 5.0966\n",
      "Epoch 23/1000\n",
      "13/13 - 0s - loss: 4.8812 - mean_squared_error: 4.8841 - val_loss: 5.1139 - val_mean_squared_error: 4.9937\n",
      "Epoch 24/1000\n",
      "13/13 - 0s - loss: 4.7741 - mean_squared_error: 4.7770 - val_loss: 5.0080 - val_mean_squared_error: 4.8893\n",
      "Epoch 25/1000\n",
      "13/13 - 0s - loss: 4.6659 - mean_squared_error: 4.6687 - val_loss: 4.9016 - val_mean_squared_error: 4.7849\n",
      "Epoch 26/1000\n",
      "13/13 - 0s - loss: 4.5562 - mean_squared_error: 4.5591 - val_loss: 4.7942 - val_mean_squared_error: 4.6797\n",
      "Epoch 27/1000\n",
      "13/13 - 0s - loss: 4.4449 - mean_squared_error: 4.4478 - val_loss: 4.6853 - val_mean_squared_error: 4.5731\n",
      "Epoch 28/1000\n",
      "13/13 - 0s - loss: 4.3319 - mean_squared_error: 4.3348 - val_loss: 4.5747 - val_mean_squared_error: 4.4650\n",
      "Epoch 29/1000\n",
      "13/13 - 0s - loss: 4.2170 - mean_squared_error: 4.2199 - val_loss: 4.4617 - val_mean_squared_error: 4.3544\n",
      "Epoch 30/1000\n",
      "13/13 - 0s - loss: 4.1001 - mean_squared_error: 4.1030 - val_loss: 4.3461 - val_mean_squared_error: 4.2413\n",
      "Epoch 31/1000\n",
      "13/13 - 0s - loss: 3.9812 - mean_squared_error: 3.9841 - val_loss: 4.2274 - val_mean_squared_error: 4.1248\n",
      "Epoch 32/1000\n",
      "13/13 - 0s - loss: 3.8604 - mean_squared_error: 3.8632 - val_loss: 4.1068 - val_mean_squared_error: 4.0067\n",
      "Epoch 33/1000\n",
      "13/13 - 0s - loss: 3.7383 - mean_squared_error: 3.7412 - val_loss: 3.9851 - val_mean_squared_error: 3.8880\n",
      "Epoch 34/1000\n",
      "13/13 - 0s - loss: 3.6153 - mean_squared_error: 3.6181 - val_loss: 3.8620 - val_mean_squared_error: 3.7682\n",
      "Epoch 35/1000\n",
      "13/13 - 0s - loss: 3.4913 - mean_squared_error: 3.4941 - val_loss: 3.7354 - val_mean_squared_error: 3.6442\n",
      "Epoch 36/1000\n",
      "13/13 - 0s - loss: 3.3674 - mean_squared_error: 3.3701 - val_loss: 3.6023 - val_mean_squared_error: 3.5123\n",
      "Epoch 37/1000\n",
      "13/13 - 0s - loss: 3.2439 - mean_squared_error: 3.2465 - val_loss: 3.4679 - val_mean_squared_error: 3.3788\n",
      "Epoch 38/1000\n",
      "13/13 - 0s - loss: 3.1222 - mean_squared_error: 3.1247 - val_loss: 3.3340 - val_mean_squared_error: 3.2445\n",
      "Epoch 39/1000\n",
      "13/13 - 0s - loss: 3.0024 - mean_squared_error: 3.0049 - val_loss: 3.2010 - val_mean_squared_error: 3.1089\n",
      "Epoch 40/1000\n",
      "13/13 - 0s - loss: 2.8859 - mean_squared_error: 2.8882 - val_loss: 3.0692 - val_mean_squared_error: 2.9739\n",
      "Epoch 41/1000\n",
      "13/13 - 0s - loss: 2.7735 - mean_squared_error: 2.7758 - val_loss: 2.9330 - val_mean_squared_error: 2.8387\n",
      "Epoch 42/1000\n",
      "13/13 - 0s - loss: 2.6258 - mean_squared_error: 2.6283 - val_loss: 2.5664 - val_mean_squared_error: 2.4855\n",
      "Epoch 43/1000\n",
      "13/13 - 0s - loss: 2.3788 - mean_squared_error: 2.3806 - val_loss: 2.5509 - val_mean_squared_error: 2.4716\n",
      "Epoch 44/1000\n",
      "13/13 - 0s - loss: 2.2645 - mean_squared_error: 2.2666 - val_loss: 2.3535 - val_mean_squared_error: 2.2617\n",
      "Epoch 45/1000\n",
      "13/13 - 0s - loss: 2.1206 - mean_squared_error: 2.1225 - val_loss: 2.2050 - val_mean_squared_error: 2.1092\n",
      "Epoch 46/1000\n",
      "13/13 - 0s - loss: 1.9985 - mean_squared_error: 2.0003 - val_loss: 2.1021 - val_mean_squared_error: 2.0059\n",
      "Epoch 47/1000\n",
      "13/13 - 0s - loss: 1.8925 - mean_squared_error: 1.8941 - val_loss: 1.9951 - val_mean_squared_error: 1.9046\n",
      "Epoch 48/1000\n",
      "13/13 - 0s - loss: 1.7973 - mean_squared_error: 1.7986 - val_loss: 1.9102 - val_mean_squared_error: 1.8202\n",
      "Epoch 49/1000\n",
      "13/13 - 0s - loss: 1.7177 - mean_squared_error: 1.7189 - val_loss: 1.8359 - val_mean_squared_error: 1.7491\n",
      "Epoch 50/1000\n",
      "13/13 - 0s - loss: 1.6555 - mean_squared_error: 1.6566 - val_loss: 1.7714 - val_mean_squared_error: 1.6882\n",
      "Epoch 51/1000\n",
      "13/13 - 0s - loss: 1.6044 - mean_squared_error: 1.6054 - val_loss: 1.7141 - val_mean_squared_error: 1.6336\n",
      "Epoch 52/1000\n",
      "13/13 - 0s - loss: 1.5558 - mean_squared_error: 1.5567 - val_loss: 1.6605 - val_mean_squared_error: 1.5828\n",
      "Epoch 53/1000\n",
      "13/13 - 0s - loss: 1.5095 - mean_squared_error: 1.5104 - val_loss: 1.6078 - val_mean_squared_error: 1.5335\n",
      "Epoch 54/1000\n",
      "13/13 - 0s - loss: 1.4659 - mean_squared_error: 1.4667 - val_loss: 1.5572 - val_mean_squared_error: 1.4864\n"
     ]
    },
    {
     "name": "stdout",
     "output_type": "stream",
     "text": [
      "Epoch 55/1000\n",
      "13/13 - 0s - loss: 1.4242 - mean_squared_error: 1.4249 - val_loss: 1.5086 - val_mean_squared_error: 1.4411\n",
      "Epoch 56/1000\n",
      "13/13 - 0s - loss: 1.3839 - mean_squared_error: 1.3846 - val_loss: 1.4634 - val_mean_squared_error: 1.3988\n",
      "Epoch 57/1000\n",
      "13/13 - 0s - loss: 1.3453 - mean_squared_error: 1.3459 - val_loss: 1.4194 - val_mean_squared_error: 1.3577\n",
      "Epoch 58/1000\n",
      "13/13 - 0s - loss: 1.3096 - mean_squared_error: 1.3101 - val_loss: 1.3776 - val_mean_squared_error: 1.3187\n",
      "Epoch 59/1000\n",
      "13/13 - 0s - loss: 1.2763 - mean_squared_error: 1.2768 - val_loss: 1.3380 - val_mean_squared_error: 1.2818\n",
      "Epoch 60/1000\n",
      "13/13 - 0s - loss: 1.2447 - mean_squared_error: 1.2451 - val_loss: 1.3013 - val_mean_squared_error: 1.2473\n",
      "Epoch 61/1000\n",
      "13/13 - 0s - loss: 1.2143 - mean_squared_error: 1.2147 - val_loss: 1.2673 - val_mean_squared_error: 1.2154\n",
      "Epoch 62/1000\n",
      "13/13 - 0s - loss: 1.1857 - mean_squared_error: 1.1860 - val_loss: 1.2345 - val_mean_squared_error: 1.1849\n",
      "Epoch 63/1000\n",
      "13/13 - 0s - loss: 1.1589 - mean_squared_error: 1.1593 - val_loss: 1.2036 - val_mean_squared_error: 1.1563\n",
      "Epoch 64/1000\n",
      "13/13 - 0s - loss: 1.1350 - mean_squared_error: 1.1353 - val_loss: 1.1756 - val_mean_squared_error: 1.1302\n",
      "Epoch 65/1000\n",
      "13/13 - 0s - loss: 1.1112 - mean_squared_error: 1.1114 - val_loss: 1.1501 - val_mean_squared_error: 1.1064\n",
      "Epoch 66/1000\n",
      "13/13 - 0s - loss: 1.0878 - mean_squared_error: 1.0880 - val_loss: 1.1256 - val_mean_squared_error: 1.0837\n",
      "Epoch 67/1000\n",
      "13/13 - 0s - loss: 1.0667 - mean_squared_error: 1.0669 - val_loss: 1.1020 - val_mean_squared_error: 1.0619\n",
      "Epoch 68/1000\n",
      "13/13 - 0s - loss: 1.0497 - mean_squared_error: 1.0499 - val_loss: 1.0799 - val_mean_squared_error: 1.0415\n",
      "Epoch 69/1000\n",
      "13/13 - 0s - loss: 1.0341 - mean_squared_error: 1.0342 - val_loss: 1.0603 - val_mean_squared_error: 1.0234\n",
      "Epoch 70/1000\n",
      "13/13 - 0s - loss: 1.0200 - mean_squared_error: 1.0200 - val_loss: 1.0453 - val_mean_squared_error: 1.0089\n",
      "Epoch 71/1000\n",
      "13/13 - 0s - loss: 1.0018 - mean_squared_error: 1.0019 - val_loss: 1.0295 - val_mean_squared_error: 0.9941\n",
      "Epoch 72/1000\n",
      "13/13 - 0s - loss: 0.9833 - mean_squared_error: 0.9834 - val_loss: 1.0119 - val_mean_squared_error: 0.9780\n",
      "Epoch 73/1000\n",
      "13/13 - 0s - loss: 0.9716 - mean_squared_error: 0.9716 - val_loss: 0.9988 - val_mean_squared_error: 0.9658\n",
      "Epoch 74/1000\n",
      "13/13 - 0s - loss: 0.9623 - mean_squared_error: 0.9623 - val_loss: 0.9886 - val_mean_squared_error: 0.9560\n",
      "Epoch 75/1000\n",
      "13/13 - 0s - loss: 0.9494 - mean_squared_error: 0.9494 - val_loss: 0.9781 - val_mean_squared_error: 0.9462\n",
      "Epoch 76/1000\n",
      "13/13 - 0s - loss: 0.9368 - mean_squared_error: 0.9368 - val_loss: 0.9662 - val_mean_squared_error: 0.9350\n",
      "Epoch 77/1000\n",
      "13/13 - 0s - loss: 0.9291 - mean_squared_error: 0.9291 - val_loss: 0.9540 - val_mean_squared_error: 0.9238\n",
      "Epoch 78/1000\n",
      "13/13 - 0s - loss: 0.9225 - mean_squared_error: 0.9224 - val_loss: 0.9443 - val_mean_squared_error: 0.9148\n",
      "Epoch 79/1000\n",
      "13/13 - 0s - loss: 0.9164 - mean_squared_error: 0.9163 - val_loss: 0.9364 - val_mean_squared_error: 0.9073\n",
      "Epoch 80/1000\n",
      "13/13 - 0s - loss: 0.9102 - mean_squared_error: 0.9101 - val_loss: 0.9302 - val_mean_squared_error: 0.9015\n",
      "Epoch 81/1000\n",
      "13/13 - 0s - loss: 0.9030 - mean_squared_error: 0.9029 - val_loss: 0.9245 - val_mean_squared_error: 0.8959\n",
      "Epoch 82/1000\n",
      "13/13 - 0s - loss: 0.8941 - mean_squared_error: 0.8940 - val_loss: 0.9183 - val_mean_squared_error: 0.8899\n",
      "Epoch 83/1000\n",
      "13/13 - 0s - loss: 0.8867 - mean_squared_error: 0.8866 - val_loss: 0.9121 - val_mean_squared_error: 0.8842\n",
      "Epoch 84/1000\n",
      "13/13 - 0s - loss: 0.8803 - mean_squared_error: 0.8802 - val_loss: 0.9065 - val_mean_squared_error: 0.8791\n",
      "Epoch 85/1000\n",
      "13/13 - 0s - loss: 0.8767 - mean_squared_error: 0.8765 - val_loss: 0.9011 - val_mean_squared_error: 0.8740\n",
      "Epoch 86/1000\n",
      "13/13 - 0s - loss: 0.8730 - mean_squared_error: 0.8728 - val_loss: 0.8968 - val_mean_squared_error: 0.8700\n",
      "Epoch 87/1000\n",
      "13/13 - 0s - loss: 0.8668 - mean_squared_error: 0.8667 - val_loss: 0.8926 - val_mean_squared_error: 0.8660\n",
      "Epoch 88/1000\n",
      "13/13 - 0s - loss: 0.8607 - mean_squared_error: 0.8605 - val_loss: 0.8884 - val_mean_squared_error: 0.8619\n",
      "Epoch 89/1000\n",
      "13/13 - 0s - loss: 0.8570 - mean_squared_error: 0.8569 - val_loss: 0.8844 - val_mean_squared_error: 0.8580\n",
      "Epoch 90/1000\n",
      "13/13 - 0s - loss: 0.8545 - mean_squared_error: 0.8543 - val_loss: 0.8810 - val_mean_squared_error: 0.8548\n",
      "Epoch 91/1000\n",
      "13/13 - 0s - loss: 0.8523 - mean_squared_error: 0.8521 - val_loss: 0.8781 - val_mean_squared_error: 0.8521\n",
      "Epoch 92/1000\n",
      "13/13 - 0s - loss: 0.8479 - mean_squared_error: 0.8477 - val_loss: 0.8754 - val_mean_squared_error: 0.8495\n",
      "Epoch 93/1000\n",
      "13/13 - 0s - loss: 0.8434 - mean_squared_error: 0.8433 - val_loss: 0.8724 - val_mean_squared_error: 0.8466\n",
      "Epoch 94/1000\n",
      "13/13 - 0s - loss: 0.8403 - mean_squared_error: 0.8402 - val_loss: 0.8696 - val_mean_squared_error: 0.8437\n",
      "Epoch 95/1000\n",
      "13/13 - 0s - loss: 0.8377 - mean_squared_error: 0.8375 - val_loss: 0.8670 - val_mean_squared_error: 0.8411\n",
      "Epoch 96/1000\n",
      "13/13 - 0s - loss: 0.8356 - mean_squared_error: 0.8354 - val_loss: 0.8644 - val_mean_squared_error: 0.8386\n",
      "Epoch 97/1000\n",
      "13/13 - 0s - loss: 0.8339 - mean_squared_error: 0.8337 - val_loss: 0.8622 - val_mean_squared_error: 0.8366\n",
      "Epoch 98/1000\n",
      "13/13 - 0s - loss: 0.8324 - mean_squared_error: 0.8322 - val_loss: 0.8599 - val_mean_squared_error: 0.8343\n",
      "Epoch 99/1000\n",
      "13/13 - 0s - loss: 0.8303 - mean_squared_error: 0.8301 - val_loss: 0.8578 - val_mean_squared_error: 0.8324\n",
      "Epoch 100/1000\n",
      "13/13 - 0s - loss: 0.8294 - mean_squared_error: 0.8292 - val_loss: 0.8557 - val_mean_squared_error: 0.8304\n",
      "Epoch 101/1000\n",
      "13/13 - 0s - loss: 0.8282 - mean_squared_error: 0.8280 - val_loss: 0.8537 - val_mean_squared_error: 0.8285\n",
      "Epoch 102/1000\n",
      "13/13 - 2s - loss: 0.8270 - mean_squared_error: 0.8268 - val_loss: 0.8519 - val_mean_squared_error: 0.8268\n",
      "Epoch 103/1000\n",
      "13/13 - 0s - loss: 0.8259 - mean_squared_error: 0.8257 - val_loss: 0.8502 - val_mean_squared_error: 0.8251\n",
      "Epoch 104/1000\n",
      "13/13 - 0s - loss: 0.8242 - mean_squared_error: 0.8240 - val_loss: 0.8485 - val_mean_squared_error: 0.8234\n",
      "Epoch 105/1000\n",
      "13/13 - 0s - loss: 0.8219 - mean_squared_error: 0.8217 - val_loss: 0.8467 - val_mean_squared_error: 0.8217\n",
      "Epoch 106/1000\n",
      "13/13 - 0s - loss: 0.8198 - mean_squared_error: 0.8196 - val_loss: 0.8453 - val_mean_squared_error: 0.8204\n",
      "Epoch 107/1000\n",
      "13/13 - 0s - loss: 0.8179 - mean_squared_error: 0.8177 - val_loss: 0.8437 - val_mean_squared_error: 0.8189\n",
      "Epoch 108/1000\n",
      "13/13 - 0s - loss: 0.8166 - mean_squared_error: 0.8164 - val_loss: 0.8424 - val_mean_squared_error: 0.8177\n",
      "Epoch 109/1000\n",
      "13/13 - 1s - loss: 0.8158 - mean_squared_error: 0.8156 - val_loss: 0.8410 - val_mean_squared_error: 0.8162\n",
      "Epoch 110/1000\n",
      "13/13 - 0s - loss: 0.8139 - mean_squared_error: 0.8137 - val_loss: 0.8393 - val_mean_squared_error: 0.8146\n",
      "Epoch 111/1000\n",
      "13/13 - 0s - loss: 0.8116 - mean_squared_error: 0.8114 - val_loss: 0.8379 - val_mean_squared_error: 0.8134\n",
      "Epoch 112/1000\n",
      "13/13 - 0s - loss: 0.8097 - mean_squared_error: 0.8095 - val_loss: 0.8365 - val_mean_squared_error: 0.8121\n",
      "Epoch 113/1000\n",
      "13/13 - 1s - loss: 0.8085 - mean_squared_error: 0.8083 - val_loss: 0.8354 - val_mean_squared_error: 0.8110\n",
      "Epoch 114/1000\n",
      "13/13 - 0s - loss: 0.8076 - mean_squared_error: 0.8074 - val_loss: 0.8341 - val_mean_squared_error: 0.8097\n",
      "Epoch 115/1000\n",
      "13/13 - 0s - loss: 0.8060 - mean_squared_error: 0.8058 - val_loss: 0.8327 - val_mean_squared_error: 0.8084\n",
      "Epoch 116/1000\n",
      "13/13 - 0s - loss: 0.8045 - mean_squared_error: 0.8043 - val_loss: 0.8313 - val_mean_squared_error: 0.8070\n",
      "Epoch 117/1000\n",
      "13/13 - 1s - loss: 0.8028 - mean_squared_error: 0.8026 - val_loss: 0.8300 - val_mean_squared_error: 0.8057\n",
      "Epoch 118/1000\n",
      "13/13 - 0s - loss: 0.8012 - mean_squared_error: 0.8010 - val_loss: 0.8288 - val_mean_squared_error: 0.8046\n",
      "Epoch 119/1000\n",
      "13/13 - 1s - loss: 0.8013 - mean_squared_error: 0.8011 - val_loss: 0.8273 - val_mean_squared_error: 0.8032\n",
      "Epoch 120/1000\n",
      "13/13 - 0s - loss: 0.7993 - mean_squared_error: 0.7991 - val_loss: 0.8256 - val_mean_squared_error: 0.8017\n",
      "Epoch 121/1000\n",
      "13/13 - 0s - loss: 0.7972 - mean_squared_error: 0.7970 - val_loss: 0.8242 - val_mean_squared_error: 0.8003\n",
      "Epoch 122/1000\n",
      "13/13 - 0s - loss: 0.7959 - mean_squared_error: 0.7957 - val_loss: 0.8228 - val_mean_squared_error: 0.7991\n"
     ]
    },
    {
     "name": "stdout",
     "output_type": "stream",
     "text": [
      "Epoch 123/1000\n",
      "13/13 - 0s - loss: 0.7950 - mean_squared_error: 0.7948 - val_loss: 0.8215 - val_mean_squared_error: 0.7978\n",
      "Epoch 124/1000\n",
      "13/13 - 0s - loss: 0.7947 - mean_squared_error: 0.7945 - val_loss: 0.8202 - val_mean_squared_error: 0.7965\n",
      "Epoch 125/1000\n",
      "13/13 - 0s - loss: 0.7938 - mean_squared_error: 0.7936 - val_loss: 0.8185 - val_mean_squared_error: 0.7951\n",
      "Epoch 126/1000\n",
      "13/13 - 0s - loss: 0.7911 - mean_squared_error: 0.7909 - val_loss: 0.8171 - val_mean_squared_error: 0.7938\n",
      "Epoch 127/1000\n",
      "13/13 - 0s - loss: 0.7886 - mean_squared_error: 0.7884 - val_loss: 0.8160 - val_mean_squared_error: 0.7927\n",
      "Epoch 128/1000\n",
      "13/13 - 0s - loss: 0.7878 - mean_squared_error: 0.7876 - val_loss: 0.8152 - val_mean_squared_error: 0.7918\n",
      "Epoch 129/1000\n",
      "13/13 - 0s - loss: 0.7883 - mean_squared_error: 0.7881 - val_loss: 0.8144 - val_mean_squared_error: 0.7912\n",
      "Epoch 130/1000\n",
      "13/13 - 0s - loss: 0.7893 - mean_squared_error: 0.7891 - val_loss: 0.8125 - val_mean_squared_error: 0.7896\n",
      "Epoch 131/1000\n",
      "13/13 - 0s - loss: 0.7885 - mean_squared_error: 0.7883 - val_loss: 0.8111 - val_mean_squared_error: 0.7883\n",
      "Epoch 132/1000\n",
      "13/13 - 0s - loss: 0.7862 - mean_squared_error: 0.7860 - val_loss: 0.8098 - val_mean_squared_error: 0.7870\n",
      "Epoch 133/1000\n",
      "13/13 - 0s - loss: 0.7832 - mean_squared_error: 0.7830 - val_loss: 0.8087 - val_mean_squared_error: 0.7860\n",
      "Epoch 134/1000\n",
      "13/13 - 0s - loss: 0.7812 - mean_squared_error: 0.7810 - val_loss: 0.8075 - val_mean_squared_error: 0.7850\n",
      "Epoch 135/1000\n",
      "13/13 - 0s - loss: 0.7813 - mean_squared_error: 0.7811 - val_loss: 0.8065 - val_mean_squared_error: 0.7841\n",
      "Epoch 136/1000\n",
      "13/13 - 0s - loss: 0.7820 - mean_squared_error: 0.7818 - val_loss: 0.8054 - val_mean_squared_error: 0.7831\n",
      "Epoch 137/1000\n",
      "13/13 - 0s - loss: 0.7818 - mean_squared_error: 0.7816 - val_loss: 0.8043 - val_mean_squared_error: 0.7820\n",
      "Epoch 138/1000\n",
      "13/13 - 0s - loss: 0.7810 - mean_squared_error: 0.7808 - val_loss: 0.8030 - val_mean_squared_error: 0.7808\n",
      "Epoch 139/1000\n",
      "13/13 - 0s - loss: 0.7789 - mean_squared_error: 0.7787 - val_loss: 0.8018 - val_mean_squared_error: 0.7797\n",
      "Epoch 140/1000\n",
      "13/13 - 0s - loss: 0.7760 - mean_squared_error: 0.7759 - val_loss: 0.8006 - val_mean_squared_error: 0.7787\n",
      "Epoch 141/1000\n",
      "13/13 - 0s - loss: 0.7753 - mean_squared_error: 0.7751 - val_loss: 0.8000 - val_mean_squared_error: 0.7781\n",
      "Epoch 142/1000\n",
      "13/13 - 0s - loss: 0.7770 - mean_squared_error: 0.7768 - val_loss: 0.7986 - val_mean_squared_error: 0.7770\n",
      "Epoch 143/1000\n",
      "13/13 - 0s - loss: 0.7751 - mean_squared_error: 0.7749 - val_loss: 0.7976 - val_mean_squared_error: 0.7762\n",
      "Epoch 144/1000\n",
      "13/13 - 0s - loss: 0.7713 - mean_squared_error: 0.7711 - val_loss: 0.7965 - val_mean_squared_error: 0.7752\n",
      "Epoch 145/1000\n",
      "13/13 - 0s - loss: 0.7688 - mean_squared_error: 0.7686 - val_loss: 0.7956 - val_mean_squared_error: 0.7740\n",
      "Epoch 146/1000\n",
      "13/13 - 0s - loss: 0.7704 - mean_squared_error: 0.7702 - val_loss: 0.7950 - val_mean_squared_error: 0.7737\n",
      "Epoch 147/1000\n",
      "13/13 - 0s - loss: 0.7737 - mean_squared_error: 0.7735 - val_loss: 0.7933 - val_mean_squared_error: 0.7725\n",
      "Epoch 148/1000\n",
      "13/13 - 0s - loss: 0.7711 - mean_squared_error: 0.7709 - val_loss: 0.7926 - val_mean_squared_error: 0.7719\n",
      "Epoch 149/1000\n",
      "13/13 - 0s - loss: 0.7657 - mean_squared_error: 0.7656 - val_loss: 0.7917 - val_mean_squared_error: 0.7707\n",
      "Epoch 150/1000\n",
      "13/13 - 0s - loss: 0.7641 - mean_squared_error: 0.7639 - val_loss: 0.7906 - val_mean_squared_error: 0.7697\n",
      "Epoch 151/1000\n",
      "13/13 - 0s - loss: 0.7652 - mean_squared_error: 0.7650 - val_loss: 0.7896 - val_mean_squared_error: 0.7690\n",
      "Epoch 152/1000\n",
      "13/13 - 0s - loss: 0.7665 - mean_squared_error: 0.7663 - val_loss: 0.7884 - val_mean_squared_error: 0.7681\n",
      "Epoch 153/1000\n",
      "13/13 - 0s - loss: 0.7657 - mean_squared_error: 0.7655 - val_loss: 0.7873 - val_mean_squared_error: 0.7671\n",
      "Epoch 154/1000\n",
      "13/13 - 0s - loss: 0.7630 - mean_squared_error: 0.7628 - val_loss: 0.7867 - val_mean_squared_error: 0.7663\n",
      "Epoch 155/1000\n",
      "13/13 - 0s - loss: 0.7602 - mean_squared_error: 0.7600 - val_loss: 0.7854 - val_mean_squared_error: 0.7650\n",
      "Epoch 156/1000\n",
      "13/13 - 0s - loss: 0.7616 - mean_squared_error: 0.7614 - val_loss: 0.7850 - val_mean_squared_error: 0.7647\n",
      "Epoch 157/1000\n",
      "13/13 - 0s - loss: 0.7644 - mean_squared_error: 0.7642 - val_loss: 0.7835 - val_mean_squared_error: 0.7637\n",
      "Epoch 158/1000\n",
      "13/13 - 0s - loss: 0.7624 - mean_squared_error: 0.7622 - val_loss: 0.7826 - val_mean_squared_error: 0.7627\n",
      "Epoch 159/1000\n",
      "13/13 - 0s - loss: 0.7589 - mean_squared_error: 0.7587 - val_loss: 0.7814 - val_mean_squared_error: 0.7615\n",
      "Epoch 160/1000\n",
      "13/13 - 0s - loss: 0.7573 - mean_squared_error: 0.7571 - val_loss: 0.7805 - val_mean_squared_error: 0.7606\n",
      "Epoch 161/1000\n",
      "13/13 - 0s - loss: 0.7570 - mean_squared_error: 0.7568 - val_loss: 0.7795 - val_mean_squared_error: 0.7598\n",
      "Epoch 162/1000\n",
      "13/13 - 0s - loss: 0.7570 - mean_squared_error: 0.7568 - val_loss: 0.7785 - val_mean_squared_error: 0.7589\n",
      "Epoch 163/1000\n",
      "13/13 - 0s - loss: 0.7567 - mean_squared_error: 0.7566 - val_loss: 0.7775 - val_mean_squared_error: 0.7580\n",
      "Epoch 164/1000\n",
      "13/13 - 0s - loss: 0.7563 - mean_squared_error: 0.7561 - val_loss: 0.7766 - val_mean_squared_error: 0.7571\n",
      "Epoch 165/1000\n",
      "13/13 - 0s - loss: 0.7556 - mean_squared_error: 0.7554 - val_loss: 0.7757 - val_mean_squared_error: 0.7563\n",
      "Epoch 166/1000\n",
      "13/13 - 0s - loss: 0.7552 - mean_squared_error: 0.7550 - val_loss: 0.7748 - val_mean_squared_error: 0.7555\n",
      "Epoch 167/1000\n",
      "13/13 - 0s - loss: 0.7543 - mean_squared_error: 0.7541 - val_loss: 0.7737 - val_mean_squared_error: 0.7544\n",
      "Epoch 168/1000\n",
      "13/13 - 0s - loss: 0.7534 - mean_squared_error: 0.7532 - val_loss: 0.7728 - val_mean_squared_error: 0.7536\n",
      "Epoch 169/1000\n",
      "13/13 - 0s - loss: 0.7528 - mean_squared_error: 0.7526 - val_loss: 0.7718 - val_mean_squared_error: 0.7528\n",
      "Epoch 170/1000\n",
      "13/13 - 0s - loss: 0.7522 - mean_squared_error: 0.7520 - val_loss: 0.7709 - val_mean_squared_error: 0.7519\n",
      "Epoch 171/1000\n",
      "13/13 - 0s - loss: 0.7515 - mean_squared_error: 0.7513 - val_loss: 0.7702 - val_mean_squared_error: 0.7512\n",
      "Epoch 172/1000\n",
      "13/13 - 0s - loss: 0.7509 - mean_squared_error: 0.7507 - val_loss: 0.7695 - val_mean_squared_error: 0.7507\n",
      "Epoch 173/1000\n",
      "13/13 - 0s - loss: 0.7517 - mean_squared_error: 0.7515 - val_loss: 0.7686 - val_mean_squared_error: 0.7499\n",
      "Epoch 174/1000\n",
      "13/13 - 0s - loss: 0.7513 - mean_squared_error: 0.7511 - val_loss: 0.7676 - val_mean_squared_error: 0.7489\n",
      "Epoch 175/1000\n",
      "13/13 - 0s - loss: 0.7489 - mean_squared_error: 0.7488 - val_loss: 0.7667 - val_mean_squared_error: 0.7480\n",
      "Epoch 176/1000\n",
      "13/13 - 0s - loss: 0.7479 - mean_squared_error: 0.7477 - val_loss: 0.7658 - val_mean_squared_error: 0.7473\n",
      "Epoch 177/1000\n",
      "13/13 - 0s - loss: 0.7477 - mean_squared_error: 0.7475 - val_loss: 0.7649 - val_mean_squared_error: 0.7464\n",
      "Epoch 178/1000\n",
      "13/13 - 0s - loss: 0.7475 - mean_squared_error: 0.7473 - val_loss: 0.7641 - val_mean_squared_error: 0.7456\n",
      "Epoch 179/1000\n",
      "13/13 - 0s - loss: 0.7469 - mean_squared_error: 0.7467 - val_loss: 0.7631 - val_mean_squared_error: 0.7448\n",
      "Epoch 180/1000\n",
      "13/13 - 0s - loss: 0.7447 - mean_squared_error: 0.7445 - val_loss: 0.7625 - val_mean_squared_error: 0.7441\n",
      "Epoch 181/1000\n",
      "13/13 - 0s - loss: 0.7425 - mean_squared_error: 0.7423 - val_loss: 0.7618 - val_mean_squared_error: 0.7434\n",
      "Epoch 182/1000\n",
      "13/13 - 0s - loss: 0.7406 - mean_squared_error: 0.7405 - val_loss: 0.7613 - val_mean_squared_error: 0.7428\n",
      "Epoch 183/1000\n",
      "13/13 - 0s - loss: 0.7391 - mean_squared_error: 0.7390 - val_loss: 0.7604 - val_mean_squared_error: 0.7420\n",
      "Epoch 184/1000\n",
      "13/13 - 0s - loss: 0.7378 - mean_squared_error: 0.7377 - val_loss: 0.7594 - val_mean_squared_error: 0.7411\n",
      "Epoch 185/1000\n",
      "13/13 - 0s - loss: 0.7374 - mean_squared_error: 0.7372 - val_loss: 0.7585 - val_mean_squared_error: 0.7402\n",
      "Epoch 186/1000\n",
      "13/13 - 0s - loss: 0.7374 - mean_squared_error: 0.7372 - val_loss: 0.7574 - val_mean_squared_error: 0.7392\n",
      "Epoch 187/1000\n",
      "13/13 - 0s - loss: 0.7361 - mean_squared_error: 0.7359 - val_loss: 0.7566 - val_mean_squared_error: 0.7384\n",
      "Epoch 188/1000\n",
      "13/13 - 0s - loss: 0.7344 - mean_squared_error: 0.7343 - val_loss: 0.7559 - val_mean_squared_error: 0.7376\n",
      "Epoch 189/1000\n",
      "13/13 - 0s - loss: 0.7328 - mean_squared_error: 0.7326 - val_loss: 0.7549 - val_mean_squared_error: 0.7369\n",
      "Epoch 190/1000\n",
      "13/13 - 0s - loss: 0.7331 - mean_squared_error: 0.7329 - val_loss: 0.7540 - val_mean_squared_error: 0.7361\n"
     ]
    },
    {
     "name": "stdout",
     "output_type": "stream",
     "text": [
      "Epoch 191/1000\n",
      "13/13 - 0s - loss: 0.7330 - mean_squared_error: 0.7328 - val_loss: 0.7534 - val_mean_squared_error: 0.7355\n",
      "Epoch 192/1000\n",
      "13/13 - 0s - loss: 0.7318 - mean_squared_error: 0.7316 - val_loss: 0.7522 - val_mean_squared_error: 0.7344\n",
      "Epoch 193/1000\n",
      "13/13 - 0s - loss: 0.7307 - mean_squared_error: 0.7306 - val_loss: 0.7514 - val_mean_squared_error: 0.7336\n",
      "Epoch 194/1000\n",
      "13/13 - 0s - loss: 0.7304 - mean_squared_error: 0.7302 - val_loss: 0.7504 - val_mean_squared_error: 0.7327\n",
      "Epoch 195/1000\n",
      "13/13 - 0s - loss: 0.7302 - mean_squared_error: 0.7300 - val_loss: 0.7496 - val_mean_squared_error: 0.7319\n",
      "Epoch 196/1000\n",
      "13/13 - 0s - loss: 0.7300 - mean_squared_error: 0.7299 - val_loss: 0.7489 - val_mean_squared_error: 0.7311\n",
      "Epoch 197/1000\n",
      "13/13 - 0s - loss: 0.7296 - mean_squared_error: 0.7294 - val_loss: 0.7472 - val_mean_squared_error: 0.7299\n",
      "Epoch 198/1000\n",
      "13/13 - 0s - loss: 0.7289 - mean_squared_error: 0.7287 - val_loss: 0.7476 - val_mean_squared_error: 0.7298\n",
      "Epoch 199/1000\n",
      "13/13 - 0s - loss: 0.7269 - mean_squared_error: 0.7268 - val_loss: 0.7469 - val_mean_squared_error: 0.7291\n",
      "Epoch 200/1000\n",
      "13/13 - 0s - loss: 0.7251 - mean_squared_error: 0.7249 - val_loss: 0.7452 - val_mean_squared_error: 0.7279\n",
      "Epoch 201/1000\n",
      "13/13 - 0s - loss: 0.7245 - mean_squared_error: 0.7243 - val_loss: 0.7458 - val_mean_squared_error: 0.7280\n",
      "Epoch 202/1000\n",
      "13/13 - 0s - loss: 0.7229 - mean_squared_error: 0.7228 - val_loss: 0.7453 - val_mean_squared_error: 0.7275\n",
      "Epoch 203/1000\n",
      "13/13 - 0s - loss: 0.7210 - mean_squared_error: 0.7208 - val_loss: 0.7449 - val_mean_squared_error: 0.7270\n",
      "Epoch 204/1000\n",
      "13/13 - 0s - loss: 0.7185 - mean_squared_error: 0.7184 - val_loss: 0.7436 - val_mean_squared_error: 0.7260\n",
      "Epoch 205/1000\n",
      "13/13 - 0s - loss: 0.7179 - mean_squared_error: 0.7178 - val_loss: 0.7432 - val_mean_squared_error: 0.7256\n",
      "Epoch 206/1000\n",
      "13/13 - 0s - loss: 0.7177 - mean_squared_error: 0.7175 - val_loss: 0.7424 - val_mean_squared_error: 0.7249\n",
      "Epoch 207/1000\n",
      "13/13 - 0s - loss: 0.7171 - mean_squared_error: 0.7170 - val_loss: 0.7417 - val_mean_squared_error: 0.7242\n",
      "Epoch 208/1000\n",
      "13/13 - 0s - loss: 0.7168 - mean_squared_error: 0.7167 - val_loss: 0.7409 - val_mean_squared_error: 0.7234\n",
      "Epoch 209/1000\n",
      "13/13 - 0s - loss: 0.7166 - mean_squared_error: 0.7165 - val_loss: 0.7404 - val_mean_squared_error: 0.7228\n",
      "Epoch 210/1000\n",
      "13/13 - 0s - loss: 0.7157 - mean_squared_error: 0.7155 - val_loss: 0.7398 - val_mean_squared_error: 0.7222\n",
      "Epoch 211/1000\n",
      "13/13 - 0s - loss: 0.7150 - mean_squared_error: 0.7149 - val_loss: 0.7392 - val_mean_squared_error: 0.7217\n",
      "Epoch 212/1000\n",
      "13/13 - 0s - loss: 0.7149 - mean_squared_error: 0.7148 - val_loss: 0.7386 - val_mean_squared_error: 0.7212\n",
      "Epoch 213/1000\n",
      "13/13 - 0s - loss: 0.7151 - mean_squared_error: 0.7150 - val_loss: 0.7379 - val_mean_squared_error: 0.7206\n",
      "Epoch 214/1000\n",
      "13/13 - 0s - loss: 0.7153 - mean_squared_error: 0.7151 - val_loss: 0.7373 - val_mean_squared_error: 0.7201\n",
      "Epoch 215/1000\n",
      "13/13 - 0s - loss: 0.7151 - mean_squared_error: 0.7150 - val_loss: 0.7365 - val_mean_squared_error: 0.7194\n",
      "Epoch 216/1000\n",
      "13/13 - 0s - loss: 0.7149 - mean_squared_error: 0.7148 - val_loss: 0.7360 - val_mean_squared_error: 0.7189\n",
      "Epoch 217/1000\n",
      "13/13 - 0s - loss: 0.7146 - mean_squared_error: 0.7145 - val_loss: 0.7353 - val_mean_squared_error: 0.7184\n",
      "Epoch 218/1000\n",
      "13/13 - 0s - loss: 0.7145 - mean_squared_error: 0.7143 - val_loss: 0.7347 - val_mean_squared_error: 0.7179\n",
      "Epoch 219/1000\n",
      "13/13 - 0s - loss: 0.7143 - mean_squared_error: 0.7142 - val_loss: 0.7341 - val_mean_squared_error: 0.7173\n",
      "Epoch 220/1000\n",
      "13/13 - 0s - loss: 0.7136 - mean_squared_error: 0.7134 - val_loss: 0.7337 - val_mean_squared_error: 0.7167\n",
      "Epoch 221/1000\n",
      "13/13 - 0s - loss: 0.7125 - mean_squared_error: 0.7124 - val_loss: 0.7329 - val_mean_squared_error: 0.7161\n",
      "Epoch 222/1000\n",
      "13/13 - 0s - loss: 0.7118 - mean_squared_error: 0.7117 - val_loss: 0.7323 - val_mean_squared_error: 0.7156\n",
      "Epoch 223/1000\n",
      "13/13 - 0s - loss: 0.7117 - mean_squared_error: 0.7116 - val_loss: 0.7319 - val_mean_squared_error: 0.7154\n",
      "Epoch 224/1000\n",
      "13/13 - 0s - loss: 0.7121 - mean_squared_error: 0.7119 - val_loss: 0.7312 - val_mean_squared_error: 0.7149\n",
      "Epoch 225/1000\n",
      "13/13 - 0s - loss: 0.7124 - mean_squared_error: 0.7123 - val_loss: 0.7305 - val_mean_squared_error: 0.7142\n",
      "Epoch 226/1000\n",
      "13/13 - 0s - loss: 0.7119 - mean_squared_error: 0.7118 - val_loss: 0.7294 - val_mean_squared_error: 0.7130\n",
      "Epoch 227/1000\n",
      "13/13 - 0s - loss: 0.7100 - mean_squared_error: 0.7099 - val_loss: 0.7289 - val_mean_squared_error: 0.7126\n",
      "Epoch 228/1000\n",
      "13/13 - 0s - loss: 0.7082 - mean_squared_error: 0.7080 - val_loss: 0.7286 - val_mean_squared_error: 0.7122\n",
      "Epoch 229/1000\n",
      "13/13 - 0s - loss: 0.7073 - mean_squared_error: 0.7072 - val_loss: 0.7282 - val_mean_squared_error: 0.7121\n",
      "Epoch 230/1000\n",
      "13/13 - 0s - loss: 0.7077 - mean_squared_error: 0.7076 - val_loss: 0.7273 - val_mean_squared_error: 0.7112\n",
      "Epoch 231/1000\n",
      "13/13 - 0s - loss: 0.7069 - mean_squared_error: 0.7067 - val_loss: 0.7266 - val_mean_squared_error: 0.7106\n",
      "Epoch 232/1000\n",
      "13/13 - 0s - loss: 0.7062 - mean_squared_error: 0.7061 - val_loss: 0.7262 - val_mean_squared_error: 0.7102\n",
      "Epoch 233/1000\n",
      "13/13 - 0s - loss: 0.7058 - mean_squared_error: 0.7057 - val_loss: 0.7253 - val_mean_squared_error: 0.7094\n",
      "Epoch 234/1000\n",
      "13/13 - 0s - loss: 0.7056 - mean_squared_error: 0.7055 - val_loss: 0.7247 - val_mean_squared_error: 0.7090\n",
      "Epoch 235/1000\n",
      "13/13 - 0s - loss: 0.7053 - mean_squared_error: 0.7052 - val_loss: 0.7242 - val_mean_squared_error: 0.7084\n",
      "Epoch 236/1000\n",
      "13/13 - 0s - loss: 0.7050 - mean_squared_error: 0.7049 - val_loss: 0.7235 - val_mean_squared_error: 0.7079\n",
      "Epoch 237/1000\n",
      "13/13 - 0s - loss: 0.7046 - mean_squared_error: 0.7045 - val_loss: 0.7232 - val_mean_squared_error: 0.7076\n",
      "Epoch 238/1000\n",
      "13/13 - 0s - loss: 0.7043 - mean_squared_error: 0.7042 - val_loss: 0.7227 - val_mean_squared_error: 0.7072\n",
      "Epoch 239/1000\n",
      "13/13 - 0s - loss: 0.7042 - mean_squared_error: 0.7041 - val_loss: 0.7222 - val_mean_squared_error: 0.7067\n",
      "Epoch 240/1000\n",
      "13/13 - 0s - loss: 0.7040 - mean_squared_error: 0.7039 - val_loss: 0.7212 - val_mean_squared_error: 0.7058\n",
      "Epoch 241/1000\n",
      "13/13 - 0s - loss: 0.7029 - mean_squared_error: 0.7028 - val_loss: 0.7206 - val_mean_squared_error: 0.7052\n",
      "Epoch 242/1000\n",
      "13/13 - 0s - loss: 0.7018 - mean_squared_error: 0.7017 - val_loss: 0.7202 - val_mean_squared_error: 0.7048\n",
      "Epoch 243/1000\n",
      "13/13 - 0s - loss: 0.7014 - mean_squared_error: 0.7013 - val_loss: 0.7198 - val_mean_squared_error: 0.7046\n",
      "Epoch 244/1000\n",
      "13/13 - 0s - loss: 0.7012 - mean_squared_error: 0.7011 - val_loss: 0.7190 - val_mean_squared_error: 0.7037\n",
      "Epoch 245/1000\n",
      "13/13 - 0s - loss: 0.7001 - mean_squared_error: 0.7000 - val_loss: 0.7174 - val_mean_squared_error: 0.7021\n",
      "Epoch 246/1000\n",
      "13/13 - 0s - loss: 0.6980 - mean_squared_error: 0.6979 - val_loss: 0.7171 - val_mean_squared_error: 0.7018\n",
      "Epoch 247/1000\n",
      "13/13 - 0s - loss: 0.6966 - mean_squared_error: 0.6965 - val_loss: 0.7167 - val_mean_squared_error: 0.7016\n",
      "Epoch 248/1000\n",
      "13/13 - 0s - loss: 0.6966 - mean_squared_error: 0.6965 - val_loss: 0.7166 - val_mean_squared_error: 0.7015\n",
      "Epoch 249/1000\n",
      "13/13 - 0s - loss: 0.6971 - mean_squared_error: 0.6970 - val_loss: 0.7159 - val_mean_squared_error: 0.7009\n",
      "Epoch 250/1000\n",
      "13/13 - 0s - loss: 0.6971 - mean_squared_error: 0.6970 - val_loss: 0.7153 - val_mean_squared_error: 0.7004\n",
      "Epoch 251/1000\n",
      "13/13 - 0s - loss: 0.6971 - mean_squared_error: 0.6970 - val_loss: 0.7150 - val_mean_squared_error: 0.7002\n",
      "Epoch 252/1000\n",
      "13/13 - 0s - loss: 0.6975 - mean_squared_error: 0.6973 - val_loss: 0.7145 - val_mean_squared_error: 0.6996\n",
      "Epoch 253/1000\n",
      "13/13 - 0s - loss: 0.6973 - mean_squared_error: 0.6972 - val_loss: 0.7137 - val_mean_squared_error: 0.6988\n",
      "Epoch 254/1000\n",
      "13/13 - 0s - loss: 0.6966 - mean_squared_error: 0.6965 - val_loss: 0.7132 - val_mean_squared_error: 0.6984\n",
      "Epoch 255/1000\n",
      "13/13 - 0s - loss: 0.6961 - mean_squared_error: 0.6960 - val_loss: 0.7129 - val_mean_squared_error: 0.6983\n",
      "Epoch 256/1000\n",
      "13/13 - 0s - loss: 0.6962 - mean_squared_error: 0.6961 - val_loss: 0.7127 - val_mean_squared_error: 0.6981\n",
      "Epoch 257/1000\n",
      "13/13 - 0s - loss: 0.6963 - mean_squared_error: 0.6962 - val_loss: 0.7120 - val_mean_squared_error: 0.6974\n",
      "Epoch 258/1000\n",
      "13/13 - 0s - loss: 0.6959 - mean_squared_error: 0.6958 - val_loss: 0.7117 - val_mean_squared_error: 0.6973\n"
     ]
    },
    {
     "name": "stdout",
     "output_type": "stream",
     "text": [
      "Epoch 259/1000\n",
      "13/13 - 0s - loss: 0.6960 - mean_squared_error: 0.6959 - val_loss: 0.7114 - val_mean_squared_error: 0.6970\n",
      "Epoch 260/1000\n",
      "13/13 - 0s - loss: 0.6955 - mean_squared_error: 0.6954 - val_loss: 0.7109 - val_mean_squared_error: 0.6966\n",
      "Epoch 261/1000\n",
      "13/13 - 0s - loss: 0.6955 - mean_squared_error: 0.6954 - val_loss: 0.7106 - val_mean_squared_error: 0.6962\n",
      "Epoch 262/1000\n",
      "13/13 - 0s - loss: 0.6955 - mean_squared_error: 0.6954 - val_loss: 0.7096 - val_mean_squared_error: 0.6954\n",
      "Epoch 263/1000\n",
      "13/13 - 0s - loss: 0.6950 - mean_squared_error: 0.6949 - val_loss: 0.7092 - val_mean_squared_error: 0.6949\n",
      "Epoch 264/1000\n",
      "13/13 - 0s - loss: 0.6942 - mean_squared_error: 0.6941 - val_loss: 0.7086 - val_mean_squared_error: 0.6945\n",
      "Epoch 265/1000\n",
      "13/13 - 0s - loss: 0.6940 - mean_squared_error: 0.6939 - val_loss: 0.7081 - val_mean_squared_error: 0.6940\n",
      "Epoch 266/1000\n",
      "13/13 - 0s - loss: 0.6938 - mean_squared_error: 0.6937 - val_loss: 0.7063 - val_mean_squared_error: 0.6919\n",
      "Epoch 267/1000\n",
      "13/13 - 0s - loss: 0.6918 - mean_squared_error: 0.6917 - val_loss: 0.7044 - val_mean_squared_error: 0.6900\n",
      "Epoch 268/1000\n",
      "13/13 - 0s - loss: 0.6889 - mean_squared_error: 0.6887 - val_loss: 0.7039 - val_mean_squared_error: 0.6893\n",
      "Epoch 269/1000\n",
      "13/13 - 0s - loss: 0.6869 - mean_squared_error: 0.6868 - val_loss: 0.7035 - val_mean_squared_error: 0.6892\n",
      "Epoch 270/1000\n",
      "13/13 - 0s - loss: 0.6873 - mean_squared_error: 0.6872 - val_loss: 0.7034 - val_mean_squared_error: 0.6892\n",
      "Epoch 271/1000\n",
      "13/13 - 0s - loss: 0.6876 - mean_squared_error: 0.6875 - val_loss: 0.7026 - val_mean_squared_error: 0.6884\n",
      "Epoch 272/1000\n",
      "13/13 - 0s - loss: 0.6874 - mean_squared_error: 0.6873 - val_loss: 0.7024 - val_mean_squared_error: 0.6884\n",
      "Epoch 273/1000\n",
      "13/13 - 0s - loss: 0.6875 - mean_squared_error: 0.6874 - val_loss: 0.7016 - val_mean_squared_error: 0.6876\n",
      "Epoch 274/1000\n",
      "13/13 - 0s - loss: 0.6871 - mean_squared_error: 0.6870 - val_loss: 0.7011 - val_mean_squared_error: 0.6871\n",
      "Epoch 275/1000\n",
      "13/13 - 0s - loss: 0.6867 - mean_squared_error: 0.6866 - val_loss: 0.7008 - val_mean_squared_error: 0.6870\n",
      "Epoch 276/1000\n",
      "13/13 - 0s - loss: 0.6861 - mean_squared_error: 0.6860 - val_loss: 0.7008 - val_mean_squared_error: 0.6869\n",
      "Epoch 277/1000\n",
      "13/13 - 0s - loss: 0.6864 - mean_squared_error: 0.6863 - val_loss: 0.7002 - val_mean_squared_error: 0.6865\n",
      "Epoch 278/1000\n",
      "13/13 - 0s - loss: 0.6865 - mean_squared_error: 0.6864 - val_loss: 0.6998 - val_mean_squared_error: 0.6862\n",
      "Epoch 279/1000\n",
      "13/13 - 0s - loss: 0.6863 - mean_squared_error: 0.6862 - val_loss: 0.6997 - val_mean_squared_error: 0.6862\n",
      "Epoch 280/1000\n",
      "13/13 - 0s - loss: 0.6862 - mean_squared_error: 0.6861 - val_loss: 0.6994 - val_mean_squared_error: 0.6860\n",
      "Epoch 281/1000\n",
      "13/13 - 0s - loss: 0.6863 - mean_squared_error: 0.6862 - val_loss: 0.6992 - val_mean_squared_error: 0.6858\n",
      "Epoch 282/1000\n",
      "13/13 - 0s - loss: 0.6862 - mean_squared_error: 0.6861 - val_loss: 0.6991 - val_mean_squared_error: 0.6858\n",
      "Epoch 283/1000\n",
      "13/13 - 0s - loss: 0.6862 - mean_squared_error: 0.6861 - val_loss: 0.6986 - val_mean_squared_error: 0.6854\n",
      "Epoch 284/1000\n",
      "13/13 - 0s - loss: 0.6864 - mean_squared_error: 0.6863 - val_loss: 0.6980 - val_mean_squared_error: 0.6848\n",
      "Epoch 285/1000\n",
      "13/13 - 0s - loss: 0.6860 - mean_squared_error: 0.6858 - val_loss: 0.6975 - val_mean_squared_error: 0.6843\n",
      "Epoch 286/1000\n",
      "13/13 - 0s - loss: 0.6849 - mean_squared_error: 0.6848 - val_loss: 0.6974 - val_mean_squared_error: 0.6843\n",
      "Epoch 287/1000\n",
      "13/13 - 0s - loss: 0.6852 - mean_squared_error: 0.6851 - val_loss: 0.6972 - val_mean_squared_error: 0.6842\n",
      "Epoch 288/1000\n",
      "13/13 - 0s - loss: 0.6854 - mean_squared_error: 0.6853 - val_loss: 0.6966 - val_mean_squared_error: 0.6836\n",
      "Epoch 289/1000\n",
      "13/13 - 0s - loss: 0.6848 - mean_squared_error: 0.6847 - val_loss: 0.6958 - val_mean_squared_error: 0.6829\n",
      "Epoch 290/1000\n",
      "13/13 - 0s - loss: 0.6839 - mean_squared_error: 0.6839 - val_loss: 0.6960 - val_mean_squared_error: 0.6831\n",
      "Epoch 291/1000\n",
      "13/13 - 0s - loss: 0.6844 - mean_squared_error: 0.6843 - val_loss: 0.6961 - val_mean_squared_error: 0.6833\n",
      "Epoch 292/1000\n",
      "13/13 - 0s - loss: 0.6849 - mean_squared_error: 0.6847 - val_loss: 0.6942 - val_mean_squared_error: 0.6814\n",
      "Epoch 293/1000\n",
      "13/13 - 0s - loss: 0.6831 - mean_squared_error: 0.6830 - val_loss: 0.6938 - val_mean_squared_error: 0.6810\n",
      "Epoch 294/1000\n",
      "13/13 - 0s - loss: 0.6822 - mean_squared_error: 0.6821 - val_loss: 0.6953 - val_mean_squared_error: 0.6826\n",
      "Epoch 295/1000\n",
      "13/13 - 0s - loss: 0.6836 - mean_squared_error: 0.6835 - val_loss: 0.6942 - val_mean_squared_error: 0.6817\n",
      "Epoch 296/1000\n",
      "13/13 - 0s - loss: 0.6841 - mean_squared_error: 0.6840 - val_loss: 0.6927 - val_mean_squared_error: 0.6801\n",
      "Epoch 297/1000\n",
      "13/13 - 0s - loss: 0.6827 - mean_squared_error: 0.6826 - val_loss: 0.6921 - val_mean_squared_error: 0.6795\n",
      "Epoch 298/1000\n",
      "13/13 - 0s - loss: 0.6818 - mean_squared_error: 0.6817 - val_loss: 0.6919 - val_mean_squared_error: 0.6793\n",
      "Epoch 299/1000\n",
      "13/13 - 0s - loss: 0.6815 - mean_squared_error: 0.6813 - val_loss: 0.6920 - val_mean_squared_error: 0.6796\n",
      "Epoch 300/1000\n",
      "13/13 - 0s - loss: 0.6815 - mean_squared_error: 0.6814 - val_loss: 0.6920 - val_mean_squared_error: 0.6796\n",
      "Epoch 301/1000\n",
      "13/13 - 0s - loss: 0.6817 - mean_squared_error: 0.6816 - val_loss: 0.6918 - val_mean_squared_error: 0.6795\n",
      "Epoch 302/1000\n",
      "13/13 - 0s - loss: 0.6818 - mean_squared_error: 0.6817 - val_loss: 0.6916 - val_mean_squared_error: 0.6793\n",
      "Epoch 303/1000\n",
      "13/13 - 0s - loss: 0.6818 - mean_squared_error: 0.6817 - val_loss: 0.6918 - val_mean_squared_error: 0.6797\n",
      "Epoch 304/1000\n",
      "13/13 - 0s - loss: 0.6820 - mean_squared_error: 0.6819 - val_loss: 0.6918 - val_mean_squared_error: 0.6796\n",
      "Epoch 305/1000\n",
      "13/13 - 0s - loss: 0.6820 - mean_squared_error: 0.6820 - val_loss: 0.6917 - val_mean_squared_error: 0.6796\n",
      "Epoch 306/1000\n",
      "13/13 - 0s - loss: 0.6822 - mean_squared_error: 0.6821 - val_loss: 0.6916 - val_mean_squared_error: 0.6796\n",
      "Epoch 307/1000\n",
      "13/13 - 0s - loss: 0.6829 - mean_squared_error: 0.6828 - val_loss: 0.6914 - val_mean_squared_error: 0.6794\n",
      "Epoch 308/1000\n",
      "13/13 - 0s - loss: 0.6831 - mean_squared_error: 0.6830 - val_loss: 0.6906 - val_mean_squared_error: 0.6786\n",
      "Epoch 309/1000\n",
      "13/13 - 0s - loss: 0.6820 - mean_squared_error: 0.6819 - val_loss: 0.6904 - val_mean_squared_error: 0.6785\n",
      "Epoch 310/1000\n",
      "13/13 - 0s - loss: 0.6809 - mean_squared_error: 0.6809 - val_loss: 0.6903 - val_mean_squared_error: 0.6785\n",
      "Epoch 311/1000\n",
      "13/13 - 0s - loss: 0.6808 - mean_squared_error: 0.6807 - val_loss: 0.6903 - val_mean_squared_error: 0.6785\n",
      "Epoch 312/1000\n",
      "13/13 - 0s - loss: 0.6810 - mean_squared_error: 0.6809 - val_loss: 0.6887 - val_mean_squared_error: 0.6767\n",
      "Epoch 313/1000\n",
      "13/13 - 0s - loss: 0.6786 - mean_squared_error: 0.6785 - val_loss: 0.6880 - val_mean_squared_error: 0.6760\n",
      "Epoch 314/1000\n",
      "13/13 - 0s - loss: 0.6773 - mean_squared_error: 0.6772 - val_loss: 0.6882 - val_mean_squared_error: 0.6765\n",
      "Epoch 315/1000\n",
      "13/13 - 0s - loss: 0.6777 - mean_squared_error: 0.6776 - val_loss: 0.6898 - val_mean_squared_error: 0.6781\n",
      "Epoch 316/1000\n",
      "13/13 - 0s - loss: 0.6792 - mean_squared_error: 0.6791 - val_loss: 0.6907 - val_mean_squared_error: 0.6792\n",
      "Epoch 317/1000\n",
      "13/13 - 0s - loss: 0.6808 - mean_squared_error: 0.6807 - val_loss: 0.6902 - val_mean_squared_error: 0.6787\n",
      "Epoch 318/1000\n",
      "13/13 - 0s - loss: 0.6810 - mean_squared_error: 0.6809 - val_loss: 0.6910 - val_mean_squared_error: 0.6800\n",
      "Epoch 319/1000\n",
      "13/13 - 0s - loss: 2.0352 - mean_squared_error: 2.0401 - val_loss: 1.3764 - val_mean_squared_error: 1.4386\n",
      "Epoch 320/1000\n",
      "13/13 - 0s - loss: 1.4379 - mean_squared_error: 1.4393 - val_loss: 1.6667 - val_mean_squared_error: 1.7580\n",
      "Epoch 321/1000\n",
      "13/13 - 0s - loss: 0.9469 - mean_squared_error: 0.9481 - val_loss: 1.0531 - val_mean_squared_error: 1.0826\n",
      "Epoch 322/1000\n",
      "13/13 - 0s - loss: 0.8819 - mean_squared_error: 0.8829 - val_loss: 1.0017 - val_mean_squared_error: 1.0281\n",
      "Epoch 323/1000\n",
      "13/13 - 0s - loss: 0.7891 - mean_squared_error: 0.7894 - val_loss: 0.9701 - val_mean_squared_error: 1.0122\n"
     ]
    },
    {
     "data": {
      "text/html": [
       "<span style=\"color:#4527A0\"><h1 style=\"font-size:18px\">Trial complete</h1></span>"
      ],
      "text/plain": [
       "<IPython.core.display.HTML object>"
      ]
     },
     "metadata": {},
     "output_type": "display_data"
    },
    {
     "data": {
      "text/html": [
       "<span style=\"color:#4527A0\"><h1 style=\"font-size:18px\">Trial summary</h1></span>"
      ],
      "text/plain": [
       "<IPython.core.display.HTML object>"
      ]
     },
     "metadata": {},
     "output_type": "display_data"
    },
    {
     "data": {
      "text/html": [
       "<span style=\"color:cyan\"> |-Trial ID: 031fc1507829206d634549710d52de16</span>"
      ],
      "text/plain": [
       "<IPython.core.display.HTML object>"
      ]
     },
     "metadata": {},
     "output_type": "display_data"
    },
    {
     "data": {
      "text/html": [
       "<span style=\"color:cyan\"> |-Score: 0.687981367111206</span>"
      ],
      "text/plain": [
       "<IPython.core.display.HTML object>"
      ]
     },
     "metadata": {},
     "output_type": "display_data"
    },
    {
     "data": {
      "text/html": [
       "<span style=\"color:cyan\"> |-Best step: 0</span>"
      ],
      "text/plain": [
       "<IPython.core.display.HTML object>"
      ]
     },
     "metadata": {},
     "output_type": "display_data"
    },
    {
     "data": {
      "text/html": [
       "<span style=\"color:#7E57C2\"><h2 style=\"font-size:16px\">Hyperparameters:</h2></span>"
      ],
      "text/plain": [
       "<IPython.core.display.HTML object>"
      ]
     },
     "metadata": {},
     "output_type": "display_data"
    },
    {
     "data": {
      "text/html": [
       "<span style=\"color:cyan\"> |-optimizer: adam</span>"
      ],
      "text/plain": [
       "<IPython.core.display.HTML object>"
      ]
     },
     "metadata": {},
     "output_type": "display_data"
    },
    {
     "data": {
      "text/html": [
       "<span style=\"color:blue\"> |-regression_head_1/dropout_rate: 0</span>"
      ],
      "text/plain": [
       "<IPython.core.display.HTML object>"
      ]
     },
     "metadata": {},
     "output_type": "display_data"
    },
    {
     "data": {
      "text/html": [
       "<span style=\"color:cyan\"> |-structured_data_block_1/dense_block_1/dropout_rate: 0</span>"
      ],
      "text/plain": [
       "<IPython.core.display.HTML object>"
      ]
     },
     "metadata": {},
     "output_type": "display_data"
    },
    {
     "data": {
      "text/html": [
       "<span style=\"color:blue\"> |-structured_data_block_1/dense_block_1/num_layers: 2</span>"
      ],
      "text/plain": [
       "<IPython.core.display.HTML object>"
      ]
     },
     "metadata": {},
     "output_type": "display_data"
    },
    {
     "data": {
      "text/html": [
       "<span style=\"color:cyan\"> |-structured_data_block_1/dense_block_1/units_0: 32</span>"
      ],
      "text/plain": [
       "<IPython.core.display.HTML object>"
      ]
     },
     "metadata": {},
     "output_type": "display_data"
    },
    {
     "data": {
      "text/html": [
       "<span style=\"color:blue\"> |-structured_data_block_1/dense_block_1/units_1: 32</span>"
      ],
      "text/plain": [
       "<IPython.core.display.HTML object>"
      ]
     },
     "metadata": {},
     "output_type": "display_data"
    },
    {
     "data": {
      "text/html": [
       "<span style=\"color:cyan\"> |-structured_data_block_1/dense_block_1/use_batchnorm: False</span>"
      ],
      "text/plain": [
       "<IPython.core.display.HTML object>"
      ]
     },
     "metadata": {},
     "output_type": "display_data"
    },
    {
     "name": "stdout",
     "output_type": "stream",
     "text": [
      "Train for 13 steps, validate for 4 steps\n",
      "Epoch 1/1000\n",
      "13/13 - 3s - loss: 3.4214 - mean_squared_error: 3.4272 - val_loss: 13.7755 - val_mean_squared_error: 13.9278\n",
      "Epoch 2/1000\n",
      "13/13 - 0s - loss: 2.1843 - mean_squared_error: 2.1874 - val_loss: 8.4012 - val_mean_squared_error: 8.3295\n",
      "Epoch 3/1000\n",
      "13/13 - 0s - loss: 1.4527 - mean_squared_error: 1.4542 - val_loss: 3.4076 - val_mean_squared_error: 3.3276\n",
      "Epoch 4/1000\n",
      "13/13 - 0s - loss: 1.0290 - mean_squared_error: 1.0299 - val_loss: 1.2772 - val_mean_squared_error: 1.2396\n",
      "Epoch 5/1000\n",
      "13/13 - 0s - loss: 0.8056 - mean_squared_error: 0.8063 - val_loss: 1.8384 - val_mean_squared_error: 1.8332\n",
      "Epoch 6/1000\n",
      "13/13 - 0s - loss: 0.6862 - mean_squared_error: 0.6866 - val_loss: 3.5316 - val_mean_squared_error: 3.5584\n",
      "Epoch 7/1000\n",
      "13/13 - 0s - loss: 0.6227 - mean_squared_error: 0.6227 - val_loss: 3.7705 - val_mean_squared_error: 3.8052\n",
      "Epoch 8/1000\n",
      "13/13 - 0s - loss: 0.5648 - mean_squared_error: 0.5649 - val_loss: 4.4149 - val_mean_squared_error: 4.4621\n",
      "Epoch 9/1000\n",
      "13/13 - 0s - loss: 0.5260 - mean_squared_error: 0.5259 - val_loss: 4.8508 - val_mean_squared_error: 4.9146\n",
      "Epoch 10/1000\n",
      "13/13 - 0s - loss: 0.5104 - mean_squared_error: 0.5106 - val_loss: 4.1132 - val_mean_squared_error: 4.1487\n",
      "Epoch 11/1000\n",
      "13/13 - 0s - loss: 0.5276 - mean_squared_error: 0.5276 - val_loss: 4.7720 - val_mean_squared_error: 4.8293\n",
      "Epoch 12/1000\n",
      "13/13 - 0s - loss: 0.4997 - mean_squared_error: 0.4998 - val_loss: 4.7636 - val_mean_squared_error: 4.8264\n",
      "Epoch 13/1000\n",
      "13/13 - 0s - loss: 0.4815 - mean_squared_error: 0.4810 - val_loss: 5.1774 - val_mean_squared_error: 5.2453\n",
      "Epoch 14/1000\n",
      "13/13 - 0s - loss: 0.4687 - mean_squared_error: 0.4686 - val_loss: 6.2235 - val_mean_squared_error: 6.3051\n"
     ]
    },
    {
     "data": {
      "text/html": [
       "<span style=\"color:#4527A0\"><h1 style=\"font-size:18px\">Trial complete</h1></span>"
      ],
      "text/plain": [
       "<IPython.core.display.HTML object>"
      ]
     },
     "metadata": {},
     "output_type": "display_data"
    },
    {
     "data": {
      "text/html": [
       "<span style=\"color:#4527A0\"><h1 style=\"font-size:18px\">Trial summary</h1></span>"
      ],
      "text/plain": [
       "<IPython.core.display.HTML object>"
      ]
     },
     "metadata": {},
     "output_type": "display_data"
    },
    {
     "data": {
      "text/html": [
       "<span style=\"color:cyan\"> |-Trial ID: 97de3befb3e66a31e952b21a564c75cd</span>"
      ],
      "text/plain": [
       "<IPython.core.display.HTML object>"
      ]
     },
     "metadata": {},
     "output_type": "display_data"
    },
    {
     "data": {
      "text/html": [
       "<span style=\"color:cyan\"> |-Score: 1.27715864777565</span>"
      ],
      "text/plain": [
       "<IPython.core.display.HTML object>"
      ]
     },
     "metadata": {},
     "output_type": "display_data"
    },
    {
     "data": {
      "text/html": [
       "<span style=\"color:cyan\"> |-Best step: 0</span>"
      ],
      "text/plain": [
       "<IPython.core.display.HTML object>"
      ]
     },
     "metadata": {},
     "output_type": "display_data"
    },
    {
     "data": {
      "text/html": [
       "<span style=\"color:#7E57C2\"><h2 style=\"font-size:16px\">Hyperparameters:</h2></span>"
      ],
      "text/plain": [
       "<IPython.core.display.HTML object>"
      ]
     },
     "metadata": {},
     "output_type": "display_data"
    },
    {
     "data": {
      "text/html": [
       "<span style=\"color:cyan\"> |-optimizer: adam</span>"
      ],
      "text/plain": [
       "<IPython.core.display.HTML object>"
      ]
     },
     "metadata": {},
     "output_type": "display_data"
    },
    {
     "data": {
      "text/html": [
       "<span style=\"color:blue\"> |-regression_head_1/dropout_rate: 0</span>"
      ],
      "text/plain": [
       "<IPython.core.display.HTML object>"
      ]
     },
     "metadata": {},
     "output_type": "display_data"
    },
    {
     "data": {
      "text/html": [
       "<span style=\"color:cyan\"> |-structured_data_block_1/dense_block_1/dropout_rate: 0.0</span>"
      ],
      "text/plain": [
       "<IPython.core.display.HTML object>"
      ]
     },
     "metadata": {},
     "output_type": "display_data"
    },
    {
     "data": {
      "text/html": [
       "<span style=\"color:blue\"> |-structured_data_block_1/dense_block_1/num_layers: 3</span>"
      ],
      "text/plain": [
       "<IPython.core.display.HTML object>"
      ]
     },
     "metadata": {},
     "output_type": "display_data"
    },
    {
     "data": {
      "text/html": [
       "<span style=\"color:cyan\"> |-structured_data_block_1/dense_block_1/units_0: 512</span>"
      ],
      "text/plain": [
       "<IPython.core.display.HTML object>"
      ]
     },
     "metadata": {},
     "output_type": "display_data"
    },
    {
     "data": {
      "text/html": [
       "<span style=\"color:blue\"> |-structured_data_block_1/dense_block_1/units_1: 32</span>"
      ],
      "text/plain": [
       "<IPython.core.display.HTML object>"
      ]
     },
     "metadata": {},
     "output_type": "display_data"
    },
    {
     "data": {
      "text/html": [
       "<span style=\"color:cyan\"> |-structured_data_block_1/dense_block_1/units_2: 32</span>"
      ],
      "text/plain": [
       "<IPython.core.display.HTML object>"
      ]
     },
     "metadata": {},
     "output_type": "display_data"
    },
    {
     "data": {
      "text/html": [
       "<span style=\"color:blue\"> |-structured_data_block_1/dense_block_1/use_batchnorm: True</span>"
      ],
      "text/plain": [
       "<IPython.core.display.HTML object>"
      ]
     },
     "metadata": {},
     "output_type": "display_data"
    },
    {
     "name": "stdout",
     "output_type": "stream",
     "text": [
      "Train for 13 steps, validate for 4 steps\n",
      "Epoch 1/1000\n",
      "13/13 - 3s - loss: 2.9246 - mean_squared_error: 2.9288 - val_loss: 6.3469 - val_mean_squared_error: 6.2257\n",
      "Epoch 2/1000\n",
      "13/13 - 0s - loss: 2.0683 - mean_squared_error: 2.0717 - val_loss: 5.3150 - val_mean_squared_error: 5.2003\n",
      "Epoch 3/1000\n",
      "13/13 - 0s - loss: 1.7997 - mean_squared_error: 1.8008 - val_loss: 4.5125 - val_mean_squared_error: 4.4133\n",
      "Epoch 4/1000\n",
      "13/13 - 0s - loss: 1.6923 - mean_squared_error: 1.6911 - val_loss: 4.6948 - val_mean_squared_error: 4.5886\n",
      "Epoch 5/1000\n",
      "13/13 - 0s - loss: 1.5716 - mean_squared_error: 1.5716 - val_loss: 4.3381 - val_mean_squared_error: 4.2337\n",
      "Epoch 6/1000\n",
      "13/13 - 0s - loss: 1.6168 - mean_squared_error: 1.6173 - val_loss: 3.8811 - val_mean_squared_error: 3.7867\n",
      "Epoch 7/1000\n",
      "13/13 - 0s - loss: 1.5273 - mean_squared_error: 1.5273 - val_loss: 3.6787 - val_mean_squared_error: 3.5825\n",
      "Epoch 8/1000\n",
      "13/13 - 0s - loss: 1.5584 - mean_squared_error: 1.5586 - val_loss: 3.5006 - val_mean_squared_error: 3.4097\n",
      "Epoch 9/1000\n",
      "13/13 - 0s - loss: 1.4787 - mean_squared_error: 1.4793 - val_loss: 3.4230 - val_mean_squared_error: 3.3255\n",
      "Epoch 10/1000\n",
      "13/13 - 0s - loss: 1.4522 - mean_squared_error: 1.4533 - val_loss: 3.0570 - val_mean_squared_error: 2.9672\n",
      "Epoch 11/1000\n",
      "13/13 - 0s - loss: 1.3984 - mean_squared_error: 1.3986 - val_loss: 2.9928 - val_mean_squared_error: 2.9023\n",
      "Epoch 12/1000\n",
      "13/13 - 0s - loss: 1.3253 - mean_squared_error: 1.3253 - val_loss: 2.7494 - val_mean_squared_error: 2.6637\n",
      "Epoch 13/1000\n",
      "13/13 - 0s - loss: 1.3677 - mean_squared_error: 1.3678 - val_loss: 2.6019 - val_mean_squared_error: 2.5158\n",
      "Epoch 14/1000\n",
      "13/13 - 1s - loss: 1.2895 - mean_squared_error: 1.2902 - val_loss: 2.3325 - val_mean_squared_error: 2.2548\n",
      "Epoch 15/1000\n",
      "13/13 - 0s - loss: 1.3597 - mean_squared_error: 1.3601 - val_loss: 2.2814 - val_mean_squared_error: 2.2020\n",
      "Epoch 16/1000\n",
      "13/13 - 0s - loss: 1.3258 - mean_squared_error: 1.3265 - val_loss: 2.1860 - val_mean_squared_error: 2.1083\n",
      "Epoch 17/1000\n",
      "13/13 - 0s - loss: 1.2779 - mean_squared_error: 1.2783 - val_loss: 2.0195 - val_mean_squared_error: 1.9469\n",
      "Epoch 18/1000\n",
      "13/13 - 0s - loss: 1.2922 - mean_squared_error: 1.2926 - val_loss: 2.0197 - val_mean_squared_error: 1.9461\n",
      "Epoch 19/1000\n",
      "13/13 - 0s - loss: 1.2572 - mean_squared_error: 1.2573 - val_loss: 1.9575 - val_mean_squared_error: 1.8859\n",
      "Epoch 20/1000\n",
      "13/13 - 0s - loss: 1.2021 - mean_squared_error: 1.2022 - val_loss: 2.0083 - val_mean_squared_error: 1.9385\n",
      "Epoch 21/1000\n",
      "13/13 - 0s - loss: 1.1722 - mean_squared_error: 1.1724 - val_loss: 1.8189 - val_mean_squared_error: 1.7558\n",
      "Epoch 22/1000\n",
      "13/13 - 0s - loss: 1.1891 - mean_squared_error: 1.1891 - val_loss: 1.8191 - val_mean_squared_error: 1.7566\n",
      "Epoch 23/1000\n",
      "13/13 - 0s - loss: 1.1336 - mean_squared_error: 1.1338 - val_loss: 2.0077 - val_mean_squared_error: 1.9455\n",
      "Epoch 24/1000\n",
      "13/13 - 0s - loss: 1.1277 - mean_squared_error: 1.1279 - val_loss: 1.8888 - val_mean_squared_error: 1.8295\n",
      "Epoch 25/1000\n",
      "13/13 - 0s - loss: 1.0878 - mean_squared_error: 1.0879 - val_loss: 1.9009 - val_mean_squared_error: 1.8424\n",
      "Epoch 26/1000\n",
      "13/13 - 0s - loss: 1.0690 - mean_squared_error: 1.0688 - val_loss: 1.8520 - val_mean_squared_error: 1.7958\n",
      "Epoch 27/1000\n",
      "13/13 - 0s - loss: 1.0791 - mean_squared_error: 1.0791 - val_loss: 1.6637 - val_mean_squared_error: 1.6108\n",
      "Epoch 28/1000\n",
      "13/13 - 0s - loss: 1.0640 - mean_squared_error: 1.0646 - val_loss: 1.7201 - val_mean_squared_error: 1.6674\n",
      "Epoch 29/1000\n",
      "13/13 - 0s - loss: 1.0368 - mean_squared_error: 1.0369 - val_loss: 1.5874 - val_mean_squared_error: 1.5379\n",
      "Epoch 30/1000\n",
      "13/13 - 0s - loss: 1.0149 - mean_squared_error: 1.0152 - val_loss: 1.4779 - val_mean_squared_error: 1.4306\n",
      "Epoch 31/1000\n",
      "13/13 - 0s - loss: 0.9963 - mean_squared_error: 0.9964 - val_loss: 1.4205 - val_mean_squared_error: 1.3755\n",
      "Epoch 32/1000\n",
      "13/13 - 0s - loss: 0.9921 - mean_squared_error: 0.9925 - val_loss: 1.3374 - val_mean_squared_error: 1.2931\n",
      "Epoch 33/1000\n",
      "13/13 - 0s - loss: 0.9647 - mean_squared_error: 0.9646 - val_loss: 1.2995 - val_mean_squared_error: 1.2582\n",
      "Epoch 34/1000\n",
      "13/13 - 0s - loss: 0.9857 - mean_squared_error: 0.9859 - val_loss: 1.2923 - val_mean_squared_error: 1.2545\n",
      "Epoch 35/1000\n",
      "13/13 - 0s - loss: 0.9348 - mean_squared_error: 0.9351 - val_loss: 1.3070 - val_mean_squared_error: 1.2703\n",
      "Epoch 36/1000\n",
      "13/13 - 0s - loss: 0.9461 - mean_squared_error: 0.9466 - val_loss: 1.3420 - val_mean_squared_error: 1.3073\n",
      "Epoch 37/1000\n",
      "13/13 - 0s - loss: 0.9433 - mean_squared_error: 0.9432 - val_loss: 1.2968 - val_mean_squared_error: 1.2612\n",
      "Epoch 38/1000\n",
      "13/13 - 0s - loss: 0.9361 - mean_squared_error: 0.9365 - val_loss: 1.5076 - val_mean_squared_error: 1.4793\n",
      "Epoch 39/1000\n",
      "13/13 - 0s - loss: 0.9006 - mean_squared_error: 0.9006 - val_loss: 1.3914 - val_mean_squared_error: 1.3623\n",
      "Epoch 40/1000\n",
      "13/13 - 0s - loss: 0.8780 - mean_squared_error: 0.8780 - val_loss: 1.5168 - val_mean_squared_error: 1.4878\n",
      "Epoch 41/1000\n",
      "13/13 - 0s - loss: 0.8168 - mean_squared_error: 0.8166 - val_loss: 1.6214 - val_mean_squared_error: 1.5907\n",
      "Epoch 42/1000\n",
      "13/13 - 0s - loss: 0.7927 - mean_squared_error: 0.7928 - val_loss: 1.6449 - val_mean_squared_error: 1.6194\n",
      "Epoch 43/1000\n",
      "13/13 - 0s - loss: 0.7810 - mean_squared_error: 0.7808 - val_loss: 1.5297 - val_mean_squared_error: 1.5016\n",
      "Epoch 44/1000\n",
      "13/13 - 0s - loss: 0.7586 - mean_squared_error: 0.7590 - val_loss: 1.5136 - val_mean_squared_error: 1.4850\n"
     ]
    },
    {
     "data": {
      "text/html": [
       "<span style=\"color:#4527A0\"><h1 style=\"font-size:18px\">Trial complete</h1></span>"
      ],
      "text/plain": [
       "<IPython.core.display.HTML object>"
      ]
     },
     "metadata": {},
     "output_type": "display_data"
    },
    {
     "data": {
      "text/html": [
       "<span style=\"color:#4527A0\"><h1 style=\"font-size:18px\">Trial summary</h1></span>"
      ],
      "text/plain": [
       "<IPython.core.display.HTML object>"
      ]
     },
     "metadata": {},
     "output_type": "display_data"
    },
    {
     "data": {
      "text/html": [
       "<span style=\"color:cyan\"> |-Trial ID: 043caabcf7c36f629c614d0ca6efddc6</span>"
      ],
      "text/plain": [
       "<IPython.core.display.HTML object>"
      ]
     },
     "metadata": {},
     "output_type": "display_data"
    },
    {
     "data": {
      "text/html": [
       "<span style=\"color:cyan\"> |-Score: 1.2922670543193817</span>"
      ],
      "text/plain": [
       "<IPython.core.display.HTML object>"
      ]
     },
     "metadata": {},
     "output_type": "display_data"
    },
    {
     "data": {
      "text/html": [
       "<span style=\"color:cyan\"> |-Best step: 0</span>"
      ],
      "text/plain": [
       "<IPython.core.display.HTML object>"
      ]
     },
     "metadata": {},
     "output_type": "display_data"
    },
    {
     "data": {
      "text/html": [
       "<span style=\"color:#7E57C2\"><h2 style=\"font-size:16px\">Hyperparameters:</h2></span>"
      ],
      "text/plain": [
       "<IPython.core.display.HTML object>"
      ]
     },
     "metadata": {},
     "output_type": "display_data"
    },
    {
     "data": {
      "text/html": [
       "<span style=\"color:cyan\"> |-optimizer: adam</span>"
      ],
      "text/plain": [
       "<IPython.core.display.HTML object>"
      ]
     },
     "metadata": {},
     "output_type": "display_data"
    },
    {
     "data": {
      "text/html": [
       "<span style=\"color:blue\"> |-regression_head_1/dropout_rate: 0</span>"
      ],
      "text/plain": [
       "<IPython.core.display.HTML object>"
      ]
     },
     "metadata": {},
     "output_type": "display_data"
    },
    {
     "data": {
      "text/html": [
       "<span style=\"color:cyan\"> |-structured_data_block_1/dense_block_1/dropout_rate: 0.25</span>"
      ],
      "text/plain": [
       "<IPython.core.display.HTML object>"
      ]
     },
     "metadata": {},
     "output_type": "display_data"
    },
    {
     "data": {
      "text/html": [
       "<span style=\"color:blue\"> |-structured_data_block_1/dense_block_1/num_layers: 3</span>"
      ],
      "text/plain": [
       "<IPython.core.display.HTML object>"
      ]
     },
     "metadata": {},
     "output_type": "display_data"
    },
    {
     "data": {
      "text/html": [
       "<span style=\"color:cyan\"> |-structured_data_block_1/dense_block_1/units_0: 16</span>"
      ],
      "text/plain": [
       "<IPython.core.display.HTML object>"
      ]
     },
     "metadata": {},
     "output_type": "display_data"
    },
    {
     "data": {
      "text/html": [
       "<span style=\"color:blue\"> |-structured_data_block_1/dense_block_1/units_1: 32</span>"
      ],
      "text/plain": [
       "<IPython.core.display.HTML object>"
      ]
     },
     "metadata": {},
     "output_type": "display_data"
    },
    {
     "data": {
      "text/html": [
       "<span style=\"color:cyan\"> |-structured_data_block_1/dense_block_1/units_2: 1024</span>"
      ],
      "text/plain": [
       "<IPython.core.display.HTML object>"
      ]
     },
     "metadata": {},
     "output_type": "display_data"
    },
    {
     "data": {
      "text/html": [
       "<span style=\"color:blue\"> |-structured_data_block_1/dense_block_1/use_batchnorm: True</span>"
      ],
      "text/plain": [
       "<IPython.core.display.HTML object>"
      ]
     },
     "metadata": {},
     "output_type": "display_data"
    },
    {
     "name": "stdout",
     "output_type": "stream",
     "text": [
      "Train for 13 steps, validate for 4 steps\n",
      "Epoch 1/1000\n",
      "13/13 - 2s - loss: 5661.6531 - mean_squared_error: 5681.8325 - val_loss: 10.8795 - val_mean_squared_error: 10.8162\n",
      "Epoch 2/1000\n",
      "13/13 - 0s - loss: 1682.2459 - mean_squared_error: 1687.1836 - val_loss: 6.5807 - val_mean_squared_error: 6.4572\n",
      "Epoch 3/1000\n",
      "13/13 - 0s - loss: 675.4306 - mean_squared_error: 676.4879 - val_loss: 5.7890 - val_mean_squared_error: 5.6736\n",
      "Epoch 4/1000\n",
      "13/13 - 0s - loss: 433.3210 - mean_squared_error: 434.5418 - val_loss: 5.7838 - val_mean_squared_error: 5.6689\n",
      "Epoch 5/1000\n",
      "13/13 - 0s - loss: 249.9813 - mean_squared_error: 250.3765 - val_loss: 5.7667 - val_mean_squared_error: 5.6524\n",
      "Epoch 6/1000\n",
      "13/13 - 0s - loss: 162.1409 - mean_squared_error: 162.7793 - val_loss: 5.7112 - val_mean_squared_error: 5.5972\n",
      "Epoch 7/1000\n",
      "13/13 - 0s - loss: 137.6308 - mean_squared_error: 137.6765 - val_loss: 5.6346 - val_mean_squared_error: 5.5212\n",
      "Epoch 8/1000\n",
      "13/13 - 0s - loss: 110.4290 - mean_squared_error: 110.4296 - val_loss: 5.5356 - val_mean_squared_error: 5.4232\n",
      "Epoch 9/1000\n",
      "13/13 - 0s - loss: 87.7243 - mean_squared_error: 87.5585 - val_loss: 5.4226 - val_mean_squared_error: 5.3112\n",
      "Epoch 10/1000\n",
      "13/13 - 0s - loss: 71.0331 - mean_squared_error: 71.2903 - val_loss: 5.2965 - val_mean_squared_error: 5.1863\n",
      "Epoch 11/1000\n",
      "13/13 - 0s - loss: 74.9067 - mean_squared_error: 75.1914 - val_loss: 5.1462 - val_mean_squared_error: 5.0374\n",
      "Epoch 12/1000\n",
      "13/13 - 0s - loss: 47.6025 - mean_squared_error: 47.6896 - val_loss: 4.9665 - val_mean_squared_error: 4.8594\n",
      "Epoch 13/1000\n",
      "13/13 - 0s - loss: 43.6995 - mean_squared_error: 43.7707 - val_loss: 4.7701 - val_mean_squared_error: 4.6648\n",
      "Epoch 14/1000\n",
      "13/13 - 0s - loss: 35.1013 - mean_squared_error: 35.0732 - val_loss: 4.5538 - val_mean_squared_error: 4.4506\n",
      "Epoch 15/1000\n",
      "13/13 - 0s - loss: 30.8166 - mean_squared_error: 30.7456 - val_loss: 4.3223 - val_mean_squared_error: 4.2215\n",
      "Epoch 16/1000\n",
      "13/13 - 0s - loss: 26.4853 - mean_squared_error: 26.5270 - val_loss: 4.0782 - val_mean_squared_error: 3.9800\n",
      "Epoch 17/1000\n",
      "13/13 - 0s - loss: 25.6367 - mean_squared_error: 25.7130 - val_loss: 3.8321 - val_mean_squared_error: 3.7366\n",
      "Epoch 18/1000\n",
      "13/13 - 0s - loss: 19.7076 - mean_squared_error: 19.7472 - val_loss: 3.5897 - val_mean_squared_error: 3.4971\n",
      "Epoch 19/1000\n",
      "13/13 - 0s - loss: 25.3057 - mean_squared_error: 25.3586 - val_loss: 3.3684 - val_mean_squared_error: 3.2786\n",
      "Epoch 20/1000\n",
      "13/13 - 0s - loss: 18.3675 - mean_squared_error: 18.4040 - val_loss: 3.1628 - val_mean_squared_error: 3.0756\n",
      "Epoch 21/1000\n",
      "13/13 - 0s - loss: 15.0395 - mean_squared_error: 15.0481 - val_loss: 2.9722 - val_mean_squared_error: 2.8877\n",
      "Epoch 22/1000\n",
      "13/13 - 0s - loss: 17.6763 - mean_squared_error: 17.7129 - val_loss: 2.7897 - val_mean_squared_error: 2.7078\n",
      "Epoch 23/1000\n",
      "13/13 - 0s - loss: 13.1146 - mean_squared_error: 13.1542 - val_loss: 2.6197 - val_mean_squared_error: 2.5406\n",
      "Epoch 24/1000\n",
      "13/13 - 0s - loss: 15.7433 - mean_squared_error: 15.7433 - val_loss: 2.4687 - val_mean_squared_error: 2.3921\n",
      "Epoch 25/1000\n",
      "13/13 - 0s - loss: 13.2871 - mean_squared_error: 13.2764 - val_loss: 2.3309 - val_mean_squared_error: 2.2567\n",
      "Epoch 26/1000\n",
      "13/13 - 0s - loss: 9.2793 - mean_squared_error: 9.2233 - val_loss: 2.2028 - val_mean_squared_error: 2.1311\n",
      "Epoch 27/1000\n",
      "13/13 - 0s - loss: 10.3175 - mean_squared_error: 10.3329 - val_loss: 2.0845 - val_mean_squared_error: 2.0152\n",
      "Epoch 28/1000\n",
      "13/13 - 0s - loss: 14.4766 - mean_squared_error: 14.5057 - val_loss: 1.9890 - val_mean_squared_error: 1.9218\n",
      "Epoch 29/1000\n",
      "13/13 - 1s - loss: 13.0638 - mean_squared_error: 13.1126 - val_loss: 1.8947 - val_mean_squared_error: 1.8299\n",
      "Epoch 30/1000\n",
      "13/13 - 0s - loss: 10.1519 - mean_squared_error: 10.1741 - val_loss: 1.8110 - val_mean_squared_error: 1.7484\n",
      "Epoch 31/1000\n",
      "13/13 - 0s - loss: 6.1633 - mean_squared_error: 6.1777 - val_loss: 1.7410 - val_mean_squared_error: 1.6804\n",
      "Epoch 32/1000\n",
      "13/13 - 0s - loss: 8.7242 - mean_squared_error: 8.7581 - val_loss: 1.6834 - val_mean_squared_error: 1.6247\n",
      "Epoch 33/1000\n",
      "13/13 - 1s - loss: 7.6866 - mean_squared_error: 7.7173 - val_loss: 1.6352 - val_mean_squared_error: 1.5782\n",
      "Epoch 34/1000\n",
      "13/13 - 0s - loss: 7.0771 - mean_squared_error: 7.0821 - val_loss: 1.5907 - val_mean_squared_error: 1.5354\n",
      "Epoch 35/1000\n",
      "13/13 - 0s - loss: 6.2676 - mean_squared_error: 6.2886 - val_loss: 1.5546 - val_mean_squared_error: 1.5009\n",
      "Epoch 36/1000\n",
      "13/13 - 0s - loss: 6.7186 - mean_squared_error: 6.7379 - val_loss: 1.5236 - val_mean_squared_error: 1.4714\n",
      "Epoch 37/1000\n",
      "13/13 - 0s - loss: 5.6799 - mean_squared_error: 5.7031 - val_loss: 1.4995 - val_mean_squared_error: 1.4486\n",
      "Epoch 38/1000\n",
      "13/13 - 0s - loss: 6.3035 - mean_squared_error: 6.3197 - val_loss: 1.4817 - val_mean_squared_error: 1.4319\n",
      "Epoch 39/1000\n",
      "13/13 - 0s - loss: 5.6825 - mean_squared_error: 5.6915 - val_loss: 1.4663 - val_mean_squared_error: 1.4175\n",
      "Epoch 40/1000\n",
      "13/13 - 0s - loss: 8.4270 - mean_squared_error: 8.4610 - val_loss: 1.4571 - val_mean_squared_error: 1.4091\n",
      "Epoch 41/1000\n",
      "13/13 - 0s - loss: 3.7581 - mean_squared_error: 3.7630 - val_loss: 1.4479 - val_mean_squared_error: 1.4006\n",
      "Epoch 42/1000\n",
      "13/13 - 0s - loss: 7.6008 - mean_squared_error: 7.5734 - val_loss: 1.4396 - val_mean_squared_error: 1.3931\n",
      "Epoch 43/1000\n",
      "13/13 - 0s - loss: 4.2514 - mean_squared_error: 4.2583 - val_loss: 1.4346 - val_mean_squared_error: 1.3885\n",
      "Epoch 44/1000\n",
      "13/13 - 0s - loss: 4.9464 - mean_squared_error: 4.9642 - val_loss: 1.4289 - val_mean_squared_error: 1.3834\n",
      "Epoch 45/1000\n",
      "13/13 - 0s - loss: 4.1537 - mean_squared_error: 4.1635 - val_loss: 1.4239 - val_mean_squared_error: 1.3790\n",
      "Epoch 46/1000\n",
      "13/13 - 0s - loss: 4.0275 - mean_squared_error: 4.0232 - val_loss: 1.4199 - val_mean_squared_error: 1.3756\n",
      "Epoch 47/1000\n",
      "13/13 - 0s - loss: 4.4456 - mean_squared_error: 4.4556 - val_loss: 1.4169 - val_mean_squared_error: 1.3731\n",
      "Epoch 48/1000\n",
      "13/13 - 0s - loss: 3.8484 - mean_squared_error: 3.8475 - val_loss: 1.4149 - val_mean_squared_error: 1.3714\n",
      "Epoch 49/1000\n",
      "13/13 - 0s - loss: 3.4014 - mean_squared_error: 3.4013 - val_loss: 1.4135 - val_mean_squared_error: 1.3702\n",
      "Epoch 50/1000\n",
      "13/13 - 0s - loss: 3.8173 - mean_squared_error: 3.8095 - val_loss: 1.4119 - val_mean_squared_error: 1.3690\n",
      "Epoch 51/1000\n",
      "13/13 - 0s - loss: 4.5418 - mean_squared_error: 4.5520 - val_loss: 1.4112 - val_mean_squared_error: 1.3684\n",
      "Epoch 52/1000\n",
      "13/13 - 0s - loss: 3.8083 - mean_squared_error: 3.8020 - val_loss: 1.4103 - val_mean_squared_error: 1.3677\n",
      "Epoch 53/1000\n",
      "13/13 - 0s - loss: 3.0912 - mean_squared_error: 3.0907 - val_loss: 1.4092 - val_mean_squared_error: 1.3669\n",
      "Epoch 54/1000\n",
      "13/13 - 0s - loss: 3.4555 - mean_squared_error: 3.4675 - val_loss: 1.4086 - val_mean_squared_error: 1.3665\n",
      "Epoch 55/1000\n",
      "13/13 - 0s - loss: 3.1502 - mean_squared_error: 3.1488 - val_loss: 1.4083 - val_mean_squared_error: 1.3663\n",
      "Epoch 56/1000\n",
      "13/13 - 0s - loss: 4.4253 - mean_squared_error: 4.4152 - val_loss: 1.4085 - val_mean_squared_error: 1.3664\n",
      "Epoch 57/1000\n",
      "13/13 - 0s - loss: 3.5826 - mean_squared_error: 3.5893 - val_loss: 1.4081 - val_mean_squared_error: 1.3661\n",
      "Epoch 58/1000\n",
      "13/13 - 0s - loss: 4.1875 - mean_squared_error: 4.2040 - val_loss: 1.4077 - val_mean_squared_error: 1.3659\n",
      "Epoch 59/1000\n",
      "13/13 - 0s - loss: 2.8478 - mean_squared_error: 2.8535 - val_loss: 1.4075 - val_mean_squared_error: 1.3657\n",
      "Epoch 60/1000\n",
      "13/13 - 0s - loss: 2.6955 - mean_squared_error: 2.7042 - val_loss: 1.4072 - val_mean_squared_error: 1.3655\n",
      "Epoch 61/1000\n",
      "13/13 - 0s - loss: 2.4417 - mean_squared_error: 2.4467 - val_loss: 1.4069 - val_mean_squared_error: 1.3653\n",
      "Epoch 62/1000\n",
      "13/13 - 0s - loss: 3.0162 - mean_squared_error: 3.0209 - val_loss: 1.4069 - val_mean_squared_error: 1.3653\n",
      "Epoch 63/1000\n",
      "13/13 - 0s - loss: 3.3148 - mean_squared_error: 3.3255 - val_loss: 1.4070 - val_mean_squared_error: 1.3654\n",
      "Epoch 64/1000\n",
      "13/13 - 0s - loss: 3.5026 - mean_squared_error: 3.5001 - val_loss: 1.4070 - val_mean_squared_error: 1.3654\n",
      "Epoch 65/1000\n",
      "13/13 - 0s - loss: 2.9343 - mean_squared_error: 2.9293 - val_loss: 1.4072 - val_mean_squared_error: 1.3655\n",
      "Epoch 66/1000\n",
      "13/13 - 0s - loss: 2.9519 - mean_squared_error: 2.9563 - val_loss: 1.4068 - val_mean_squared_error: 1.3652\n",
      "Epoch 67/1000\n",
      "13/13 - 0s - loss: 2.8390 - mean_squared_error: 2.8480 - val_loss: 1.4064 - val_mean_squared_error: 1.3650\n"
     ]
    },
    {
     "name": "stdout",
     "output_type": "stream",
     "text": [
      "Epoch 68/1000\n",
      "13/13 - 0s - loss: 4.1867 - mean_squared_error: 4.0823 - val_loss: 1.4065 - val_mean_squared_error: 1.3650\n",
      "Epoch 69/1000\n",
      "13/13 - 0s - loss: 3.2282 - mean_squared_error: 3.1983 - val_loss: 1.4060 - val_mean_squared_error: 1.3648\n",
      "Epoch 70/1000\n",
      "13/13 - 0s - loss: 3.0512 - mean_squared_error: 3.0636 - val_loss: 1.4063 - val_mean_squared_error: 1.3649\n",
      "Epoch 71/1000\n",
      "13/13 - 0s - loss: 2.8103 - mean_squared_error: 2.8126 - val_loss: 1.4064 - val_mean_squared_error: 1.3650\n",
      "Epoch 72/1000\n",
      "13/13 - 0s - loss: 2.9911 - mean_squared_error: 2.9929 - val_loss: 1.4064 - val_mean_squared_error: 1.3650\n",
      "Epoch 73/1000\n",
      "13/13 - 0s - loss: 2.0796 - mean_squared_error: 2.0816 - val_loss: 1.4063 - val_mean_squared_error: 1.3650\n",
      "Epoch 74/1000\n",
      "13/13 - 0s - loss: 1.8616 - mean_squared_error: 1.8638 - val_loss: 1.4062 - val_mean_squared_error: 1.3649\n",
      "Epoch 75/1000\n",
      "13/13 - 0s - loss: 2.2179 - mean_squared_error: 2.2197 - val_loss: 1.4060 - val_mean_squared_error: 1.3648\n",
      "Epoch 76/1000\n",
      "13/13 - 0s - loss: 2.3827 - mean_squared_error: 2.3884 - val_loss: 1.4060 - val_mean_squared_error: 1.3648\n",
      "Epoch 77/1000\n",
      "13/13 - 0s - loss: 2.6809 - mean_squared_error: 2.6904 - val_loss: 1.4059 - val_mean_squared_error: 1.3647\n",
      "Epoch 78/1000\n",
      "13/13 - 0s - loss: 2.2393 - mean_squared_error: 2.2409 - val_loss: 1.4058 - val_mean_squared_error: 1.3647\n",
      "Epoch 79/1000\n",
      "13/13 - 0s - loss: 2.1146 - mean_squared_error: 2.1135 - val_loss: 1.4059 - val_mean_squared_error: 1.3647\n",
      "Epoch 80/1000\n",
      "13/13 - 0s - loss: 3.3674 - mean_squared_error: 3.3730 - val_loss: 1.4061 - val_mean_squared_error: 1.3648\n",
      "Epoch 81/1000\n",
      "13/13 - 0s - loss: 2.2124 - mean_squared_error: 2.2162 - val_loss: 1.4059 - val_mean_squared_error: 1.3647\n",
      "Epoch 82/1000\n",
      "13/13 - 0s - loss: 2.9985 - mean_squared_error: 3.0035 - val_loss: 1.4058 - val_mean_squared_error: 1.3647\n",
      "Epoch 83/1000\n",
      "13/13 - 0s - loss: 2.4802 - mean_squared_error: 2.4874 - val_loss: 1.4058 - val_mean_squared_error: 1.3647\n",
      "Epoch 84/1000\n",
      "13/13 - 0s - loss: 2.5192 - mean_squared_error: 2.5260 - val_loss: 1.4060 - val_mean_squared_error: 1.3648\n",
      "Epoch 85/1000\n",
      "13/13 - 0s - loss: 2.2588 - mean_squared_error: 2.2535 - val_loss: 1.4061 - val_mean_squared_error: 1.3648\n",
      "Epoch 86/1000\n",
      "13/13 - 0s - loss: 2.1253 - mean_squared_error: 2.1275 - val_loss: 1.4061 - val_mean_squared_error: 1.3648\n",
      "Epoch 87/1000\n",
      "13/13 - 0s - loss: 2.1059 - mean_squared_error: 2.1085 - val_loss: 1.4059 - val_mean_squared_error: 1.3647\n",
      "Epoch 88/1000\n",
      "13/13 - 0s - loss: 2.2311 - mean_squared_error: 2.2352 - val_loss: 1.4060 - val_mean_squared_error: 1.3648\n"
     ]
    },
    {
     "data": {
      "text/html": [
       "<span style=\"color:#4527A0\"><h1 style=\"font-size:18px\">Trial complete</h1></span>"
      ],
      "text/plain": [
       "<IPython.core.display.HTML object>"
      ]
     },
     "metadata": {},
     "output_type": "display_data"
    },
    {
     "data": {
      "text/html": [
       "<span style=\"color:#4527A0\"><h1 style=\"font-size:18px\">Trial summary</h1></span>"
      ],
      "text/plain": [
       "<IPython.core.display.HTML object>"
      ]
     },
     "metadata": {},
     "output_type": "display_data"
    },
    {
     "data": {
      "text/html": [
       "<span style=\"color:cyan\"> |-Trial ID: 7a1eb9976034c0d12040247996645a2f</span>"
      ],
      "text/plain": [
       "<IPython.core.display.HTML object>"
      ]
     },
     "metadata": {},
     "output_type": "display_data"
    },
    {
     "data": {
      "text/html": [
       "<span style=\"color:cyan\"> |-Score: 1.4057522416114807</span>"
      ],
      "text/plain": [
       "<IPython.core.display.HTML object>"
      ]
     },
     "metadata": {},
     "output_type": "display_data"
    },
    {
     "data": {
      "text/html": [
       "<span style=\"color:cyan\"> |-Best step: 0</span>"
      ],
      "text/plain": [
       "<IPython.core.display.HTML object>"
      ]
     },
     "metadata": {},
     "output_type": "display_data"
    },
    {
     "data": {
      "text/html": [
       "<span style=\"color:#7E57C2\"><h2 style=\"font-size:16px\">Hyperparameters:</h2></span>"
      ],
      "text/plain": [
       "<IPython.core.display.HTML object>"
      ]
     },
     "metadata": {},
     "output_type": "display_data"
    },
    {
     "data": {
      "text/html": [
       "<span style=\"color:cyan\"> |-optimizer: adam</span>"
      ],
      "text/plain": [
       "<IPython.core.display.HTML object>"
      ]
     },
     "metadata": {},
     "output_type": "display_data"
    },
    {
     "data": {
      "text/html": [
       "<span style=\"color:blue\"> |-regression_head_1/dropout_rate: 0</span>"
      ],
      "text/plain": [
       "<IPython.core.display.HTML object>"
      ]
     },
     "metadata": {},
     "output_type": "display_data"
    },
    {
     "data": {
      "text/html": [
       "<span style=\"color:cyan\"> |-structured_data_block_1/dense_block_1/dropout_rate: 0.5</span>"
      ],
      "text/plain": [
       "<IPython.core.display.HTML object>"
      ]
     },
     "metadata": {},
     "output_type": "display_data"
    },
    {
     "data": {
      "text/html": [
       "<span style=\"color:blue\"> |-structured_data_block_1/dense_block_1/num_layers: 3</span>"
      ],
      "text/plain": [
       "<IPython.core.display.HTML object>"
      ]
     },
     "metadata": {},
     "output_type": "display_data"
    },
    {
     "data": {
      "text/html": [
       "<span style=\"color:cyan\"> |-structured_data_block_1/dense_block_1/units_0: 128</span>"
      ],
      "text/plain": [
       "<IPython.core.display.HTML object>"
      ]
     },
     "metadata": {},
     "output_type": "display_data"
    },
    {
     "data": {
      "text/html": [
       "<span style=\"color:blue\"> |-structured_data_block_1/dense_block_1/units_1: 32</span>"
      ],
      "text/plain": [
       "<IPython.core.display.HTML object>"
      ]
     },
     "metadata": {},
     "output_type": "display_data"
    },
    {
     "data": {
      "text/html": [
       "<span style=\"color:cyan\"> |-structured_data_block_1/dense_block_1/units_2: 512</span>"
      ],
      "text/plain": [
       "<IPython.core.display.HTML object>"
      ]
     },
     "metadata": {},
     "output_type": "display_data"
    },
    {
     "data": {
      "text/html": [
       "<span style=\"color:blue\"> |-structured_data_block_1/dense_block_1/use_batchnorm: False</span>"
      ],
      "text/plain": [
       "<IPython.core.display.HTML object>"
      ]
     },
     "metadata": {},
     "output_type": "display_data"
    },
    {
     "name": "stdout",
     "output_type": "stream",
     "text": [
      "Train for 13 steps, validate for 4 steps\n",
      "Epoch 1/1000\n",
      "13/13 - 1s - loss: 1970.4012 - mean_squared_error: 1974.8003 - val_loss: 415.4247 - val_mean_squared_error: 426.1390\n",
      "Epoch 2/1000\n",
      "13/13 - 0s - loss: 1625.7590 - mean_squared_error: 1627.1721 - val_loss: 53.4275 - val_mean_squared_error: 54.1597\n",
      "Epoch 3/1000\n",
      "13/13 - 0s - loss: 1567.4171 - mean_squared_error: 1570.1293 - val_loss: 21.3961 - val_mean_squared_error: 21.7488\n",
      "Epoch 4/1000\n",
      "13/13 - 0s - loss: 1271.9064 - mean_squared_error: 1272.7144 - val_loss: 5.4386 - val_mean_squared_error: 5.4882\n",
      "Epoch 5/1000\n",
      "13/13 - 0s - loss: 1066.8732 - mean_squared_error: 1067.7040 - val_loss: 5.8361 - val_mean_squared_error: 5.9660\n",
      "Epoch 6/1000\n",
      "13/13 - 0s - loss: 1040.9868 - mean_squared_error: 1041.6344 - val_loss: 3.1394 - val_mean_squared_error: 3.1063\n",
      "Epoch 7/1000\n",
      "13/13 - 0s - loss: 895.9528 - mean_squared_error: 896.7811 - val_loss: 19.1322 - val_mean_squared_error: 19.9190\n",
      "Epoch 8/1000\n",
      "13/13 - 0s - loss: 802.6993 - mean_squared_error: 802.9112 - val_loss: 120.9763 - val_mean_squared_error: 124.4148\n",
      "Epoch 9/1000\n",
      "13/13 - 0s - loss: 667.6661 - mean_squared_error: 667.2267 - val_loss: 26.6693 - val_mean_squared_error: 26.9710\n",
      "Epoch 10/1000\n",
      "13/13 - 0s - loss: 631.6992 - mean_squared_error: 633.0246 - val_loss: 184.1739 - val_mean_squared_error: 189.0899\n",
      "Epoch 11/1000\n",
      "13/13 - 0s - loss: 553.2773 - mean_squared_error: 554.3990 - val_loss: 27.1977 - val_mean_squared_error: 27.9932\n",
      "Epoch 12/1000\n",
      "13/13 - 0s - loss: 467.3361 - mean_squared_error: 467.4143 - val_loss: 2.5924 - val_mean_squared_error: 2.6481\n",
      "Epoch 13/1000\n",
      "13/13 - 0s - loss: 395.8237 - mean_squared_error: 395.7257 - val_loss: 5.2941 - val_mean_squared_error: 5.3872\n",
      "Epoch 14/1000\n",
      "13/13 - 0s - loss: 410.3163 - mean_squared_error: 410.8982 - val_loss: 6.8419 - val_mean_squared_error: 7.1523\n",
      "Epoch 15/1000\n",
      "13/13 - 0s - loss: 327.6248 - mean_squared_error: 328.1296 - val_loss: 11.9531 - val_mean_squared_error: 12.3494\n",
      "Epoch 16/1000\n",
      "13/13 - 0s - loss: 298.7490 - mean_squared_error: 299.0685 - val_loss: 1.6890 - val_mean_squared_error: 1.7118\n",
      "Epoch 17/1000\n",
      "13/13 - 0s - loss: 282.7215 - mean_squared_error: 282.9264 - val_loss: 1.9988 - val_mean_squared_error: 2.0572\n",
      "Epoch 18/1000\n",
      "13/13 - 0s - loss: 252.1682 - mean_squared_error: 252.3668 - val_loss: 6.9224 - val_mean_squared_error: 7.1103\n",
      "Epoch 19/1000\n",
      "13/13 - 0s - loss: 228.4321 - mean_squared_error: 228.6263 - val_loss: 12.3341 - val_mean_squared_error: 12.6007\n",
      "Epoch 20/1000\n",
      "13/13 - 0s - loss: 187.6232 - mean_squared_error: 187.9584 - val_loss: 7.7618 - val_mean_squared_error: 7.9143\n",
      "Epoch 21/1000\n",
      "13/13 - 0s - loss: 176.4723 - mean_squared_error: 176.6266 - val_loss: 3.3106 - val_mean_squared_error: 3.4114\n",
      "Epoch 22/1000\n",
      "13/13 - 0s - loss: 180.3816 - mean_squared_error: 180.3806 - val_loss: 2.2342 - val_mean_squared_error: 2.3081\n",
      "Epoch 23/1000\n",
      "13/13 - 0s - loss: 160.3730 - mean_squared_error: 160.6574 - val_loss: 8.2554 - val_mean_squared_error: 8.6074\n",
      "Epoch 24/1000\n",
      "13/13 - 0s - loss: 165.5956 - mean_squared_error: 165.8313 - val_loss: 6.4754 - val_mean_squared_error: 6.3820\n",
      "Epoch 25/1000\n",
      "13/13 - 0s - loss: 156.8064 - mean_squared_error: 157.1330 - val_loss: 3.3978 - val_mean_squared_error: 3.5375\n",
      "Epoch 26/1000\n",
      "13/13 - 0s - loss: 115.8115 - mean_squared_error: 115.9320 - val_loss: 5.7650 - val_mean_squared_error: 5.9224\n"
     ]
    },
    {
     "data": {
      "text/html": [
       "<span style=\"color:#4527A0\"><h1 style=\"font-size:18px\">Trial complete</h1></span>"
      ],
      "text/plain": [
       "<IPython.core.display.HTML object>"
      ]
     },
     "metadata": {},
     "output_type": "display_data"
    },
    {
     "data": {
      "text/html": [
       "<span style=\"color:#4527A0\"><h1 style=\"font-size:18px\">Trial summary</h1></span>"
      ],
      "text/plain": [
       "<IPython.core.display.HTML object>"
      ]
     },
     "metadata": {},
     "output_type": "display_data"
    },
    {
     "data": {
      "text/html": [
       "<span style=\"color:cyan\"> |-Trial ID: a61023a014ba81746f054e634d0e4efc</span>"
      ],
      "text/plain": [
       "<IPython.core.display.HTML object>"
      ]
     },
     "metadata": {},
     "output_type": "display_data"
    },
    {
     "data": {
      "text/html": [
       "<span style=\"color:cyan\"> |-Score: 1.6889803111553192</span>"
      ],
      "text/plain": [
       "<IPython.core.display.HTML object>"
      ]
     },
     "metadata": {},
     "output_type": "display_data"
    },
    {
     "data": {
      "text/html": [
       "<span style=\"color:cyan\"> |-Best step: 0</span>"
      ],
      "text/plain": [
       "<IPython.core.display.HTML object>"
      ]
     },
     "metadata": {},
     "output_type": "display_data"
    },
    {
     "data": {
      "text/html": [
       "<span style=\"color:#7E57C2\"><h2 style=\"font-size:16px\">Hyperparameters:</h2></span>"
      ],
      "text/plain": [
       "<IPython.core.display.HTML object>"
      ]
     },
     "metadata": {},
     "output_type": "display_data"
    },
    {
     "data": {
      "text/html": [
       "<span style=\"color:cyan\"> |-optimizer: adam</span>"
      ],
      "text/plain": [
       "<IPython.core.display.HTML object>"
      ]
     },
     "metadata": {},
     "output_type": "display_data"
    },
    {
     "data": {
      "text/html": [
       "<span style=\"color:blue\"> |-regression_head_1/dropout_rate: 0</span>"
      ],
      "text/plain": [
       "<IPython.core.display.HTML object>"
      ]
     },
     "metadata": {},
     "output_type": "display_data"
    },
    {
     "data": {
      "text/html": [
       "<span style=\"color:cyan\"> |-structured_data_block_1/dense_block_1/dropout_rate: 0.25</span>"
      ],
      "text/plain": [
       "<IPython.core.display.HTML object>"
      ]
     },
     "metadata": {},
     "output_type": "display_data"
    },
    {
     "data": {
      "text/html": [
       "<span style=\"color:blue\"> |-structured_data_block_1/dense_block_1/num_layers: 1</span>"
      ],
      "text/plain": [
       "<IPython.core.display.HTML object>"
      ]
     },
     "metadata": {},
     "output_type": "display_data"
    },
    {
     "data": {
      "text/html": [
       "<span style=\"color:cyan\"> |-structured_data_block_1/dense_block_1/units_0: 1024</span>"
      ],
      "text/plain": [
       "<IPython.core.display.HTML object>"
      ]
     },
     "metadata": {},
     "output_type": "display_data"
    },
    {
     "data": {
      "text/html": [
       "<span style=\"color:blue\"> |-structured_data_block_1/dense_block_1/units_1: 16</span>"
      ],
      "text/plain": [
       "<IPython.core.display.HTML object>"
      ]
     },
     "metadata": {},
     "output_type": "display_data"
    },
    {
     "data": {
      "text/html": [
       "<span style=\"color:cyan\"> |-structured_data_block_1/dense_block_1/units_2: 1024</span>"
      ],
      "text/plain": [
       "<IPython.core.display.HTML object>"
      ]
     },
     "metadata": {},
     "output_type": "display_data"
    },
    {
     "data": {
      "text/html": [
       "<span style=\"color:blue\"> |-structured_data_block_1/dense_block_1/use_batchnorm: False</span>"
      ],
      "text/plain": [
       "<IPython.core.display.HTML object>"
      ]
     },
     "metadata": {},
     "output_type": "display_data"
    },
    {
     "name": "stdout",
     "output_type": "stream",
     "text": [
      "Train for 13 steps, validate for 4 steps\n",
      "Epoch 1/1000\n",
      "13/13 - 1s - loss: 1858.3403 - mean_squared_error: 1871.4771 - val_loss: 57.1904 - val_mean_squared_error: 58.2252\n",
      "Epoch 2/1000\n",
      "13/13 - 0s - loss: 289.3083 - mean_squared_error: 289.8788 - val_loss: 185.0291 - val_mean_squared_error: 189.3763\n",
      "Epoch 3/1000\n",
      "13/13 - 0s - loss: 68.2255 - mean_squared_error: 68.2184 - val_loss: 86.1953 - val_mean_squared_error: 87.9439\n",
      "Epoch 4/1000\n",
      "13/13 - 0s - loss: 50.4547 - mean_squared_error: 50.6746 - val_loss: 21.3596 - val_mean_squared_error: 21.6641\n",
      "Epoch 5/1000\n",
      "13/13 - 0s - loss: 24.9193 - mean_squared_error: 24.9780 - val_loss: 16.6733 - val_mean_squared_error: 16.9744\n",
      "Epoch 6/1000\n",
      "13/13 - 0s - loss: 15.2189 - mean_squared_error: 15.2466 - val_loss: 10.8320 - val_mean_squared_error: 10.8498\n",
      "Epoch 7/1000\n",
      "13/13 - 0s - loss: 6.9848 - mean_squared_error: 6.9989 - val_loss: 5.8499 - val_mean_squared_error: 6.1363\n",
      "Epoch 8/1000\n",
      "13/13 - 0s - loss: 4.9965 - mean_squared_error: 5.0052 - val_loss: 4.1132 - val_mean_squared_error: 4.2572\n",
      "Epoch 9/1000\n",
      "13/13 - 0s - loss: 4.2050 - mean_squared_error: 4.2097 - val_loss: 3.7390 - val_mean_squared_error: 3.8534\n",
      "Epoch 10/1000\n",
      "13/13 - 0s - loss: 3.7943 - mean_squared_error: 3.7984 - val_loss: 3.5017 - val_mean_squared_error: 3.6243\n",
      "Epoch 11/1000\n",
      "13/13 - 0s - loss: 3.4846 - mean_squared_error: 3.4881 - val_loss: 3.1701 - val_mean_squared_error: 3.2521\n",
      "Epoch 12/1000\n",
      "13/13 - 0s - loss: 3.2125 - mean_squared_error: 3.2158 - val_loss: 2.9351 - val_mean_squared_error: 3.0105\n",
      "Epoch 13/1000\n",
      "13/13 - 0s - loss: 2.9560 - mean_squared_error: 2.9590 - val_loss: 2.6815 - val_mean_squared_error: 2.7364\n",
      "Epoch 14/1000\n",
      "13/13 - 0s - loss: 2.7191 - mean_squared_error: 2.7219 - val_loss: 2.4658 - val_mean_squared_error: 2.5117\n",
      "Epoch 15/1000\n",
      "13/13 - 0s - loss: 2.4988 - mean_squared_error: 2.5014 - val_loss: 2.2605 - val_mean_squared_error: 2.2950\n",
      "Epoch 16/1000\n",
      "13/13 - 0s - loss: 2.2977 - mean_squared_error: 2.3002 - val_loss: 2.0802 - val_mean_squared_error: 2.1058\n",
      "Epoch 17/1000\n",
      "13/13 - 0s - loss: 2.1181 - mean_squared_error: 2.1204 - val_loss: 1.9215 - val_mean_squared_error: 1.9374\n",
      "Epoch 18/1000\n",
      "13/13 - 0s - loss: 1.9644 - mean_squared_error: 1.9666 - val_loss: 1.7894 - val_mean_squared_error: 1.7977\n",
      "Epoch 19/1000\n",
      "13/13 - 0s - loss: 1.8364 - mean_squared_error: 1.8384 - val_loss: 1.6806 - val_mean_squared_error: 1.6836\n",
      "Epoch 20/1000\n",
      "13/13 - 0s - loss: 1.7277 - mean_squared_error: 1.7296 - val_loss: 1.5892 - val_mean_squared_error: 1.5859\n",
      "Epoch 21/1000\n",
      "13/13 - 0s - loss: 1.6327 - mean_squared_error: 1.6345 - val_loss: 1.5101 - val_mean_squared_error: 1.5010\n",
      "Epoch 22/1000\n",
      "13/13 - 0s - loss: 1.5453 - mean_squared_error: 1.5471 - val_loss: 1.4375 - val_mean_squared_error: 1.4256\n",
      "Epoch 23/1000\n",
      "13/13 - 0s - loss: 1.4616 - mean_squared_error: 1.4633 - val_loss: 1.3588 - val_mean_squared_error: 1.3530\n",
      "Epoch 24/1000\n",
      "13/13 - 0s - loss: 1.3726 - mean_squared_error: 1.3742 - val_loss: 1.2779 - val_mean_squared_error: 1.2774\n",
      "Epoch 25/1000\n",
      "13/13 - 0s - loss: 1.2912 - mean_squared_error: 1.2927 - val_loss: 1.2168 - val_mean_squared_error: 1.2211\n",
      "Epoch 26/1000\n",
      "13/13 - 0s - loss: 1.2351 - mean_squared_error: 1.2364 - val_loss: 1.1796 - val_mean_squared_error: 1.1883\n",
      "Epoch 27/1000\n",
      "13/13 - 0s - loss: 1.1999 - mean_squared_error: 1.2010 - val_loss: 1.1550 - val_mean_squared_error: 1.1655\n",
      "Epoch 28/1000\n",
      "13/13 - 0s - loss: 1.1727 - mean_squared_error: 1.1738 - val_loss: 1.1341 - val_mean_squared_error: 1.1452\n",
      "Epoch 29/1000\n",
      "13/13 - 0s - loss: 1.1497 - mean_squared_error: 1.1507 - val_loss: 1.1169 - val_mean_squared_error: 1.1289\n",
      "Epoch 30/1000\n",
      "13/13 - 0s - loss: 1.1303 - mean_squared_error: 1.1313 - val_loss: 1.1024 - val_mean_squared_error: 1.1155\n",
      "Epoch 31/1000\n",
      "13/13 - 0s - loss: 1.1132 - mean_squared_error: 1.1141 - val_loss: 1.0895 - val_mean_squared_error: 1.1036\n",
      "Epoch 32/1000\n",
      "13/13 - 0s - loss: 1.0977 - mean_squared_error: 1.0986 - val_loss: 1.0774 - val_mean_squared_error: 1.0925\n",
      "Epoch 33/1000\n",
      "13/13 - 0s - loss: 1.0836 - mean_squared_error: 1.0845 - val_loss: 1.0661 - val_mean_squared_error: 1.0822\n",
      "Epoch 34/1000\n",
      "13/13 - 0s - loss: 1.0705 - mean_squared_error: 1.0714 - val_loss: 1.0553 - val_mean_squared_error: 1.0724\n",
      "Epoch 35/1000\n",
      "13/13 - 0s - loss: 1.0581 - mean_squared_error: 1.0589 - val_loss: 1.0449 - val_mean_squared_error: 1.0630\n",
      "Epoch 36/1000\n",
      "13/13 - 0s - loss: 1.0464 - mean_squared_error: 1.0472 - val_loss: 1.0350 - val_mean_squared_error: 1.0541\n",
      "Epoch 37/1000\n",
      "13/13 - 0s - loss: 1.0354 - mean_squared_error: 1.0363 - val_loss: 1.0255 - val_mean_squared_error: 1.0454\n",
      "Epoch 38/1000\n",
      "13/13 - 0s - loss: 1.0249 - mean_squared_error: 1.0257 - val_loss: 1.0163 - val_mean_squared_error: 1.0370\n",
      "Epoch 39/1000\n",
      "13/13 - 0s - loss: 1.0148 - mean_squared_error: 1.0156 - val_loss: 1.0074 - val_mean_squared_error: 1.0287\n",
      "Epoch 40/1000\n",
      "13/13 - 0s - loss: 1.0052 - mean_squared_error: 1.0061 - val_loss: 0.9989 - val_mean_squared_error: 1.0208\n",
      "Epoch 41/1000\n",
      "13/13 - 0s - loss: 0.9960 - mean_squared_error: 0.9968 - val_loss: 0.9906 - val_mean_squared_error: 1.0131\n",
      "Epoch 42/1000\n",
      "13/13 - 0s - loss: 0.9873 - mean_squared_error: 0.9881 - val_loss: 0.9825 - val_mean_squared_error: 1.0056\n",
      "Epoch 43/1000\n",
      "13/13 - 0s - loss: 0.9790 - mean_squared_error: 0.9798 - val_loss: 0.9749 - val_mean_squared_error: 0.9985\n",
      "Epoch 44/1000\n",
      "13/13 - 0s - loss: 0.9708 - mean_squared_error: 0.9716 - val_loss: 0.9671 - val_mean_squared_error: 0.9911\n",
      "Epoch 45/1000\n",
      "13/13 - 0s - loss: 0.9631 - mean_squared_error: 0.9639 - val_loss: 0.9597 - val_mean_squared_error: 0.9842\n",
      "Epoch 46/1000\n",
      "13/13 - 0s - loss: 0.9557 - mean_squared_error: 0.9565 - val_loss: 0.9524 - val_mean_squared_error: 0.9772\n",
      "Epoch 47/1000\n",
      "13/13 - 0s - loss: 0.9487 - mean_squared_error: 0.9494 - val_loss: 0.9455 - val_mean_squared_error: 0.9706\n",
      "Epoch 48/1000\n",
      "13/13 - 0s - loss: 0.9419 - mean_squared_error: 0.9426 - val_loss: 0.9388 - val_mean_squared_error: 0.9643\n",
      "Epoch 49/1000\n",
      "13/13 - 0s - loss: 0.9352 - mean_squared_error: 0.9360 - val_loss: 0.9322 - val_mean_squared_error: 0.9581\n",
      "Epoch 50/1000\n",
      "13/13 - 0s - loss: 0.9289 - mean_squared_error: 0.9296 - val_loss: 0.9259 - val_mean_squared_error: 0.9522\n",
      "Epoch 51/1000\n",
      "13/13 - 0s - loss: 0.9230 - mean_squared_error: 0.9237 - val_loss: 0.9198 - val_mean_squared_error: 0.9465\n",
      "Epoch 52/1000\n",
      "13/13 - 0s - loss: 0.9175 - mean_squared_error: 0.9182 - val_loss: 0.9141 - val_mean_squared_error: 0.9413\n",
      "Epoch 53/1000\n",
      "13/13 - 0s - loss: 0.9120 - mean_squared_error: 0.9127 - val_loss: 0.9087 - val_mean_squared_error: 0.9362\n",
      "Epoch 54/1000\n",
      "13/13 - 0s - loss: 0.9069 - mean_squared_error: 0.9075 - val_loss: 0.9034 - val_mean_squared_error: 0.9314\n",
      "Epoch 55/1000\n",
      "13/13 - 0s - loss: 0.9019 - mean_squared_error: 0.9026 - val_loss: 0.8983 - val_mean_squared_error: 0.9266\n",
      "Epoch 56/1000\n",
      "13/13 - 0s - loss: 0.8972 - mean_squared_error: 0.8979 - val_loss: 0.8934 - val_mean_squared_error: 0.9221\n",
      "Epoch 57/1000\n",
      "13/13 - 0s - loss: 0.8927 - mean_squared_error: 0.8933 - val_loss: 0.8886 - val_mean_squared_error: 0.9177\n",
      "Epoch 58/1000\n",
      "13/13 - 0s - loss: 0.8883 - mean_squared_error: 0.8889 - val_loss: 0.8840 - val_mean_squared_error: 0.9133\n",
      "Epoch 59/1000\n",
      "13/13 - 0s - loss: 0.8842 - mean_squared_error: 0.8848 - val_loss: 0.8797 - val_mean_squared_error: 0.9093\n",
      "Epoch 60/1000\n",
      "13/13 - 0s - loss: 0.8804 - mean_squared_error: 0.8810 - val_loss: 0.8758 - val_mean_squared_error: 0.9055\n",
      "Epoch 61/1000\n",
      "13/13 - 0s - loss: 0.8767 - mean_squared_error: 0.8773 - val_loss: 0.8718 - val_mean_squared_error: 0.9018\n",
      "Epoch 62/1000\n",
      "13/13 - 0s - loss: 0.8732 - mean_squared_error: 0.8738 - val_loss: 0.8681 - val_mean_squared_error: 0.8983\n",
      "Epoch 63/1000\n",
      "13/13 - 0s - loss: 0.8698 - mean_squared_error: 0.8704 - val_loss: 0.8648 - val_mean_squared_error: 0.8950\n",
      "Epoch 64/1000\n",
      "13/13 - 0s - loss: 0.8666 - mean_squared_error: 0.8672 - val_loss: 0.8616 - val_mean_squared_error: 0.8919\n",
      "Epoch 65/1000\n",
      "13/13 - 0s - loss: 0.8635 - mean_squared_error: 0.8641 - val_loss: 0.8585 - val_mean_squared_error: 0.8888\n",
      "Epoch 66/1000\n",
      "13/13 - 0s - loss: 0.8606 - mean_squared_error: 0.8612 - val_loss: 0.8557 - val_mean_squared_error: 0.8860\n",
      "Epoch 67/1000\n",
      "13/13 - 0s - loss: 0.8579 - mean_squared_error: 0.8584 - val_loss: 0.8526 - val_mean_squared_error: 0.8830\n",
      "Epoch 68/1000\n",
      "13/13 - 0s - loss: 0.8551 - mean_squared_error: 0.8557 - val_loss: 0.8496 - val_mean_squared_error: 0.8800\n"
     ]
    },
    {
     "name": "stdout",
     "output_type": "stream",
     "text": [
      "Epoch 69/1000\n",
      "13/13 - 0s - loss: 0.8525 - mean_squared_error: 0.8531 - val_loss: 0.8467 - val_mean_squared_error: 0.8770\n",
      "Epoch 70/1000\n",
      "13/13 - 0s - loss: 0.8499 - mean_squared_error: 0.8504 - val_loss: 0.8439 - val_mean_squared_error: 0.8741\n",
      "Epoch 71/1000\n",
      "13/13 - 0s - loss: 0.8472 - mean_squared_error: 0.8478 - val_loss: 0.8411 - val_mean_squared_error: 0.8711\n",
      "Epoch 72/1000\n",
      "13/13 - 0s - loss: 0.8446 - mean_squared_error: 0.8452 - val_loss: 0.8384 - val_mean_squared_error: 0.8683\n",
      "Epoch 73/1000\n",
      "13/13 - 0s - loss: 0.8422 - mean_squared_error: 0.8427 - val_loss: 0.8360 - val_mean_squared_error: 0.8656\n",
      "Epoch 74/1000\n",
      "13/13 - 0s - loss: 0.8397 - mean_squared_error: 0.8403 - val_loss: 0.8337 - val_mean_squared_error: 0.8630\n",
      "Epoch 75/1000\n",
      "13/13 - 0s - loss: 0.8372 - mean_squared_error: 0.8377 - val_loss: 0.8314 - val_mean_squared_error: 0.8604\n",
      "Epoch 76/1000\n",
      "13/13 - 0s - loss: 0.8347 - mean_squared_error: 0.8352 - val_loss: 0.8293 - val_mean_squared_error: 0.8578\n",
      "Epoch 77/1000\n",
      "13/13 - 0s - loss: 0.8323 - mean_squared_error: 0.8329 - val_loss: 0.8271 - val_mean_squared_error: 0.8554\n",
      "Epoch 78/1000\n",
      "13/13 - 0s - loss: 0.8301 - mean_squared_error: 0.8306 - val_loss: 0.8252 - val_mean_squared_error: 0.8531\n",
      "Epoch 79/1000\n",
      "13/13 - 0s - loss: 0.8279 - mean_squared_error: 0.8284 - val_loss: 0.8232 - val_mean_squared_error: 0.8508\n",
      "Epoch 80/1000\n",
      "13/13 - 0s - loss: 0.8258 - mean_squared_error: 0.8263 - val_loss: 0.8213 - val_mean_squared_error: 0.8487\n",
      "Epoch 81/1000\n",
      "13/13 - 0s - loss: 0.8239 - mean_squared_error: 0.8244 - val_loss: 0.8194 - val_mean_squared_error: 0.8466\n",
      "Epoch 82/1000\n",
      "13/13 - 0s - loss: 0.8219 - mean_squared_error: 0.8224 - val_loss: 0.8177 - val_mean_squared_error: 0.8446\n",
      "Epoch 83/1000\n",
      "13/13 - 0s - loss: 0.8200 - mean_squared_error: 0.8205 - val_loss: 0.8160 - val_mean_squared_error: 0.8427\n",
      "Epoch 84/1000\n",
      "13/13 - 0s - loss: 0.8181 - mean_squared_error: 0.8186 - val_loss: 0.8143 - val_mean_squared_error: 0.8407\n",
      "Epoch 85/1000\n",
      "13/13 - 0s - loss: 0.8164 - mean_squared_error: 0.8169 - val_loss: 0.8129 - val_mean_squared_error: 0.8390\n",
      "Epoch 86/1000\n",
      "13/13 - 0s - loss: 0.8147 - mean_squared_error: 0.8152 - val_loss: 0.8115 - val_mean_squared_error: 0.8374\n",
      "Epoch 87/1000\n",
      "13/13 - 0s - loss: 0.8129 - mean_squared_error: 0.8134 - val_loss: 0.8100 - val_mean_squared_error: 0.8356\n",
      "Epoch 88/1000\n",
      "13/13 - 0s - loss: 0.8113 - mean_squared_error: 0.8118 - val_loss: 0.8086 - val_mean_squared_error: 0.8341\n",
      "Epoch 89/1000\n",
      "13/13 - 0s - loss: 0.8099 - mean_squared_error: 0.8104 - val_loss: 0.8073 - val_mean_squared_error: 0.8324\n",
      "Epoch 90/1000\n",
      "13/13 - 0s - loss: 0.8085 - mean_squared_error: 0.8089 - val_loss: 0.8059 - val_mean_squared_error: 0.8307\n",
      "Epoch 91/1000\n",
      "13/13 - 0s - loss: 0.8069 - mean_squared_error: 0.8074 - val_loss: 0.8044 - val_mean_squared_error: 0.8289\n",
      "Epoch 92/1000\n",
      "13/13 - 0s - loss: 0.8054 - mean_squared_error: 0.8058 - val_loss: 0.8030 - val_mean_squared_error: 0.8271\n",
      "Epoch 93/1000\n",
      "13/13 - 0s - loss: 0.8036 - mean_squared_error: 0.8041 - val_loss: 0.8017 - val_mean_squared_error: 0.8255\n",
      "Epoch 94/1000\n",
      "13/13 - 0s - loss: 0.8022 - mean_squared_error: 0.8026 - val_loss: 0.8005 - val_mean_squared_error: 0.8240\n",
      "Epoch 95/1000\n",
      "13/13 - 0s - loss: 0.8009 - mean_squared_error: 0.8013 - val_loss: 0.7994 - val_mean_squared_error: 0.8226\n",
      "Epoch 96/1000\n",
      "13/13 - 0s - loss: 0.7992 - mean_squared_error: 0.7996 - val_loss: 0.7981 - val_mean_squared_error: 0.8209\n",
      "Epoch 97/1000\n",
      "13/13 - 0s - loss: 0.7975 - mean_squared_error: 0.7979 - val_loss: 0.7968 - val_mean_squared_error: 0.8194\n",
      "Epoch 98/1000\n",
      "13/13 - 0s - loss: 0.7960 - mean_squared_error: 0.7964 - val_loss: 0.7957 - val_mean_squared_error: 0.8182\n",
      "Epoch 99/1000\n",
      "13/13 - 0s - loss: 0.7946 - mean_squared_error: 0.7949 - val_loss: 0.7944 - val_mean_squared_error: 0.8168\n",
      "Epoch 100/1000\n",
      "13/13 - 0s - loss: 0.7931 - mean_squared_error: 0.7935 - val_loss: 0.7931 - val_mean_squared_error: 0.8153\n",
      "Epoch 101/1000\n",
      "13/13 - 0s - loss: 0.7915 - mean_squared_error: 0.7918 - val_loss: 0.7919 - val_mean_squared_error: 0.8139\n",
      "Epoch 102/1000\n",
      "13/13 - 0s - loss: 0.7899 - mean_squared_error: 0.7902 - val_loss: 0.7907 - val_mean_squared_error: 0.8125\n",
      "Epoch 103/1000\n",
      "13/13 - 0s - loss: 0.7884 - mean_squared_error: 0.7887 - val_loss: 0.7894 - val_mean_squared_error: 0.8111\n",
      "Epoch 104/1000\n",
      "13/13 - 0s - loss: 0.7870 - mean_squared_error: 0.7873 - val_loss: 0.7882 - val_mean_squared_error: 0.8097\n",
      "Epoch 105/1000\n",
      "13/13 - 0s - loss: 0.7856 - mean_squared_error: 0.7860 - val_loss: 0.7871 - val_mean_squared_error: 0.8085\n",
      "Epoch 106/1000\n",
      "13/13 - 0s - loss: 0.7843 - mean_squared_error: 0.7847 - val_loss: 0.7860 - val_mean_squared_error: 0.8072\n",
      "Epoch 107/1000\n",
      "13/13 - 0s - loss: 0.7831 - mean_squared_error: 0.7834 - val_loss: 0.7848 - val_mean_squared_error: 0.8057\n",
      "Epoch 108/1000\n",
      "13/13 - 0s - loss: 0.7818 - mean_squared_error: 0.7821 - val_loss: 0.7836 - val_mean_squared_error: 0.8043\n",
      "Epoch 109/1000\n",
      "13/13 - 0s - loss: 0.7804 - mean_squared_error: 0.7807 - val_loss: 0.7823 - val_mean_squared_error: 0.8028\n",
      "Epoch 110/1000\n",
      "13/13 - 0s - loss: 0.7791 - mean_squared_error: 0.7794 - val_loss: 0.7811 - val_mean_squared_error: 0.8014\n",
      "Epoch 111/1000\n",
      "13/13 - 0s - loss: 0.7778 - mean_squared_error: 0.7782 - val_loss: 0.7798 - val_mean_squared_error: 0.8000\n",
      "Epoch 112/1000\n",
      "13/13 - 0s - loss: 0.7766 - mean_squared_error: 0.7770 - val_loss: 0.7784 - val_mean_squared_error: 0.7983\n",
      "Epoch 113/1000\n",
      "13/13 - 0s - loss: 0.7753 - mean_squared_error: 0.7756 - val_loss: 0.7769 - val_mean_squared_error: 0.7966\n",
      "Epoch 114/1000\n",
      "13/13 - 0s - loss: 0.7736 - mean_squared_error: 0.7739 - val_loss: 0.7755 - val_mean_squared_error: 0.7949\n",
      "Epoch 115/1000\n",
      "13/13 - 0s - loss: 0.7721 - mean_squared_error: 0.7724 - val_loss: 0.7742 - val_mean_squared_error: 0.7934\n",
      "Epoch 116/1000\n",
      "13/13 - 0s - loss: 0.7706 - mean_squared_error: 0.7709 - val_loss: 0.7726 - val_mean_squared_error: 0.7916\n",
      "Epoch 117/1000\n",
      "13/13 - 0s - loss: 0.7693 - mean_squared_error: 0.7696 - val_loss: 0.7710 - val_mean_squared_error: 0.7898\n",
      "Epoch 118/1000\n",
      "13/13 - 0s - loss: 0.7679 - mean_squared_error: 0.7681 - val_loss: 0.7693 - val_mean_squared_error: 0.7880\n",
      "Epoch 119/1000\n",
      "13/13 - 0s - loss: 0.7664 - mean_squared_error: 0.7667 - val_loss: 0.7679 - val_mean_squared_error: 0.7864\n",
      "Epoch 120/1000\n",
      "13/13 - 0s - loss: 0.7652 - mean_squared_error: 0.7655 - val_loss: 0.7663 - val_mean_squared_error: 0.7845\n",
      "Epoch 121/1000\n",
      "13/13 - 0s - loss: 0.7635 - mean_squared_error: 0.7638 - val_loss: 0.7642 - val_mean_squared_error: 0.7822\n",
      "Epoch 122/1000\n",
      "13/13 - 0s - loss: 0.7617 - mean_squared_error: 0.7620 - val_loss: 0.7624 - val_mean_squared_error: 0.7802\n",
      "Epoch 123/1000\n",
      "13/13 - 0s - loss: 0.7601 - mean_squared_error: 0.7604 - val_loss: 0.7609 - val_mean_squared_error: 0.7786\n",
      "Epoch 124/1000\n",
      "13/13 - 0s - loss: 0.7587 - mean_squared_error: 0.7590 - val_loss: 0.7599 - val_mean_squared_error: 0.7773\n",
      "Epoch 125/1000\n",
      "13/13 - 0s - loss: 0.7573 - mean_squared_error: 0.7575 - val_loss: 0.7584 - val_mean_squared_error: 0.7756\n",
      "Epoch 126/1000\n",
      "13/13 - 0s - loss: 0.7557 - mean_squared_error: 0.7559 - val_loss: 0.7572 - val_mean_squared_error: 0.7742\n",
      "Epoch 127/1000\n",
      "13/13 - 0s - loss: 0.7544 - mean_squared_error: 0.7546 - val_loss: 0.7562 - val_mean_squared_error: 0.7730\n",
      "Epoch 128/1000\n",
      "13/13 - 0s - loss: 0.7533 - mean_squared_error: 0.7536 - val_loss: 0.7552 - val_mean_squared_error: 0.7716\n",
      "Epoch 129/1000\n",
      "13/13 - 0s - loss: 0.7520 - mean_squared_error: 0.7522 - val_loss: 0.7543 - val_mean_squared_error: 0.7705\n",
      "Epoch 130/1000\n",
      "13/13 - 0s - loss: 0.7504 - mean_squared_error: 0.7507 - val_loss: 0.7533 - val_mean_squared_error: 0.7691\n",
      "Epoch 131/1000\n",
      "13/13 - 0s - loss: 0.7491 - mean_squared_error: 0.7493 - val_loss: 0.7516 - val_mean_squared_error: 0.7670\n",
      "Epoch 132/1000\n",
      "13/13 - 0s - loss: 0.7475 - mean_squared_error: 0.7477 - val_loss: 0.7506 - val_mean_squared_error: 0.7657\n",
      "Epoch 133/1000\n",
      "13/13 - 0s - loss: 0.7460 - mean_squared_error: 0.7462 - val_loss: 0.7492 - val_mean_squared_error: 0.7640\n",
      "Epoch 134/1000\n",
      "13/13 - 0s - loss: 0.7445 - mean_squared_error: 0.7447 - val_loss: 0.7478 - val_mean_squared_error: 0.7624\n",
      "Epoch 135/1000\n",
      "13/13 - 0s - loss: 0.7429 - mean_squared_error: 0.7431 - val_loss: 0.7461 - val_mean_squared_error: 0.7607\n",
      "Epoch 136/1000\n",
      "13/13 - 0s - loss: 0.7411 - mean_squared_error: 0.7414 - val_loss: 0.7448 - val_mean_squared_error: 0.7591\n"
     ]
    },
    {
     "name": "stdout",
     "output_type": "stream",
     "text": [
      "Epoch 137/1000\n",
      "13/13 - 0s - loss: 0.7396 - mean_squared_error: 0.7399 - val_loss: 0.7427 - val_mean_squared_error: 0.7568\n",
      "Epoch 138/1000\n",
      "13/13 - 0s - loss: 0.7380 - mean_squared_error: 0.7382 - val_loss: 0.7410 - val_mean_squared_error: 0.7549\n",
      "Epoch 139/1000\n",
      "13/13 - 0s - loss: 0.7364 - mean_squared_error: 0.7366 - val_loss: 0.7392 - val_mean_squared_error: 0.7529\n",
      "Epoch 140/1000\n",
      "13/13 - 0s - loss: 0.7347 - mean_squared_error: 0.7349 - val_loss: 0.7370 - val_mean_squared_error: 0.7505\n",
      "Epoch 141/1000\n",
      "13/13 - 0s - loss: 0.7332 - mean_squared_error: 0.7334 - val_loss: 0.7356 - val_mean_squared_error: 0.7489\n",
      "Epoch 142/1000\n",
      "13/13 - 0s - loss: 0.7318 - mean_squared_error: 0.7320 - val_loss: 0.7344 - val_mean_squared_error: 0.7473\n",
      "Epoch 143/1000\n",
      "13/13 - 0s - loss: 0.7303 - mean_squared_error: 0.7305 - val_loss: 0.7330 - val_mean_squared_error: 0.7457\n",
      "Epoch 144/1000\n",
      "13/13 - 0s - loss: 0.7290 - mean_squared_error: 0.7292 - val_loss: 0.7316 - val_mean_squared_error: 0.7442\n",
      "Epoch 145/1000\n",
      "13/13 - 0s - loss: 0.7276 - mean_squared_error: 0.7278 - val_loss: 0.7303 - val_mean_squared_error: 0.7427\n",
      "Epoch 146/1000\n",
      "13/13 - 0s - loss: 0.7262 - mean_squared_error: 0.7264 - val_loss: 0.7287 - val_mean_squared_error: 0.7407\n",
      "Epoch 147/1000\n",
      "13/13 - 0s - loss: 0.7248 - mean_squared_error: 0.7250 - val_loss: 0.7269 - val_mean_squared_error: 0.7388\n",
      "Epoch 148/1000\n",
      "13/13 - 0s - loss: 0.7235 - mean_squared_error: 0.7237 - val_loss: 0.7248 - val_mean_squared_error: 0.7365\n",
      "Epoch 149/1000\n",
      "13/13 - 0s - loss: 0.7221 - mean_squared_error: 0.7223 - val_loss: 0.7231 - val_mean_squared_error: 0.7347\n",
      "Epoch 150/1000\n",
      "13/13 - 0s - loss: 0.7208 - mean_squared_error: 0.7210 - val_loss: 0.7222 - val_mean_squared_error: 0.7335\n",
      "Epoch 151/1000\n",
      "13/13 - 0s - loss: 0.7197 - mean_squared_error: 0.7199 - val_loss: 0.7214 - val_mean_squared_error: 0.7325\n",
      "Epoch 152/1000\n",
      "13/13 - 0s - loss: 0.7187 - mean_squared_error: 0.7189 - val_loss: 0.7201 - val_mean_squared_error: 0.7312\n",
      "Epoch 153/1000\n",
      "13/13 - 0s - loss: 0.7176 - mean_squared_error: 0.7178 - val_loss: 0.7187 - val_mean_squared_error: 0.7296\n",
      "Epoch 154/1000\n",
      "13/13 - 0s - loss: 0.7166 - mean_squared_error: 0.7168 - val_loss: 0.7176 - val_mean_squared_error: 0.7283\n",
      "Epoch 155/1000\n",
      "13/13 - 0s - loss: 0.7156 - mean_squared_error: 0.7157 - val_loss: 0.7167 - val_mean_squared_error: 0.7273\n",
      "Epoch 156/1000\n",
      "13/13 - 0s - loss: 0.7145 - mean_squared_error: 0.7147 - val_loss: 0.7158 - val_mean_squared_error: 0.7263\n",
      "Epoch 157/1000\n",
      "13/13 - 0s - loss: 0.7135 - mean_squared_error: 0.7137 - val_loss: 0.7151 - val_mean_squared_error: 0.7254\n",
      "Epoch 158/1000\n",
      "13/13 - 0s - loss: 0.7126 - mean_squared_error: 0.7128 - val_loss: 0.7144 - val_mean_squared_error: 0.7247\n",
      "Epoch 159/1000\n",
      "13/13 - 0s - loss: 0.7116 - mean_squared_error: 0.7118 - val_loss: 0.7135 - val_mean_squared_error: 0.7237\n",
      "Epoch 160/1000\n",
      "13/13 - 0s - loss: 0.7107 - mean_squared_error: 0.7108 - val_loss: 0.7124 - val_mean_squared_error: 0.7225\n",
      "Epoch 161/1000\n",
      "13/13 - 0s - loss: 0.7096 - mean_squared_error: 0.7097 - val_loss: 0.7115 - val_mean_squared_error: 0.7215\n",
      "Epoch 162/1000\n",
      "13/13 - 0s - loss: 0.7085 - mean_squared_error: 0.7086 - val_loss: 0.7109 - val_mean_squared_error: 0.7209\n",
      "Epoch 163/1000\n",
      "13/13 - 0s - loss: 0.7075 - mean_squared_error: 0.7077 - val_loss: 0.7102 - val_mean_squared_error: 0.7202\n",
      "Epoch 164/1000\n",
      "13/13 - 0s - loss: 0.7065 - mean_squared_error: 0.7066 - val_loss: 0.7091 - val_mean_squared_error: 0.7190\n",
      "Epoch 165/1000\n",
      "13/13 - 0s - loss: 0.7054 - mean_squared_error: 0.7055 - val_loss: 0.7080 - val_mean_squared_error: 0.7178\n",
      "Epoch 166/1000\n",
      "13/13 - 0s - loss: 0.7042 - mean_squared_error: 0.7044 - val_loss: 0.7071 - val_mean_squared_error: 0.7170\n",
      "Epoch 167/1000\n",
      "13/13 - 0s - loss: 0.7032 - mean_squared_error: 0.7033 - val_loss: 0.7061 - val_mean_squared_error: 0.7160\n",
      "Epoch 168/1000\n",
      "13/13 - 0s - loss: 0.7021 - mean_squared_error: 0.7023 - val_loss: 0.7057 - val_mean_squared_error: 0.7156\n",
      "Epoch 169/1000\n",
      "13/13 - 0s - loss: 0.7013 - mean_squared_error: 0.7015 - val_loss: 0.7046 - val_mean_squared_error: 0.7146\n",
      "Epoch 170/1000\n",
      "13/13 - 0s - loss: 0.7002 - mean_squared_error: 0.7004 - val_loss: 0.7041 - val_mean_squared_error: 0.7141\n",
      "Epoch 171/1000\n",
      "13/13 - 0s - loss: 0.6993 - mean_squared_error: 0.6995 - val_loss: 0.7032 - val_mean_squared_error: 0.7132\n",
      "Epoch 172/1000\n",
      "13/13 - 0s - loss: 0.6982 - mean_squared_error: 0.6983 - val_loss: 0.7020 - val_mean_squared_error: 0.7121\n",
      "Epoch 173/1000\n",
      "13/13 - 0s - loss: 0.6971 - mean_squared_error: 0.6973 - val_loss: 0.7006 - val_mean_squared_error: 0.7107\n",
      "Epoch 174/1000\n",
      "13/13 - 0s - loss: 0.6959 - mean_squared_error: 0.6960 - val_loss: 0.6992 - val_mean_squared_error: 0.7094\n",
      "Epoch 175/1000\n",
      "13/13 - 0s - loss: 0.6946 - mean_squared_error: 0.6947 - val_loss: 0.6980 - val_mean_squared_error: 0.7084\n",
      "Epoch 176/1000\n",
      "13/13 - 0s - loss: 0.6932 - mean_squared_error: 0.6934 - val_loss: 0.6964 - val_mean_squared_error: 0.7069\n",
      "Epoch 177/1000\n",
      "13/13 - 0s - loss: 0.6918 - mean_squared_error: 0.6919 - val_loss: 0.6953 - val_mean_squared_error: 0.7060\n",
      "Epoch 178/1000\n",
      "13/13 - 0s - loss: 0.6906 - mean_squared_error: 0.6907 - val_loss: 0.6936 - val_mean_squared_error: 0.7045\n",
      "Epoch 179/1000\n",
      "13/13 - 0s - loss: 0.6891 - mean_squared_error: 0.6892 - val_loss: 0.6922 - val_mean_squared_error: 0.7034\n",
      "Epoch 180/1000\n",
      "13/13 - 0s - loss: 0.6879 - mean_squared_error: 0.6880 - val_loss: 0.6905 - val_mean_squared_error: 0.7017\n",
      "Epoch 181/1000\n",
      "13/13 - 0s - loss: 0.6864 - mean_squared_error: 0.6865 - val_loss: 0.6895 - val_mean_squared_error: 0.7009\n",
      "Epoch 182/1000\n",
      "13/13 - 0s - loss: 0.6851 - mean_squared_error: 0.6852 - val_loss: 0.6885 - val_mean_squared_error: 0.7000\n",
      "Epoch 183/1000\n",
      "13/13 - 0s - loss: 0.6837 - mean_squared_error: 0.6838 - val_loss: 0.6868 - val_mean_squared_error: 0.6984\n",
      "Epoch 184/1000\n",
      "13/13 - 0s - loss: 0.6822 - mean_squared_error: 0.6823 - val_loss: 0.6854 - val_mean_squared_error: 0.6971\n",
      "Epoch 185/1000\n",
      "13/13 - 0s - loss: 0.6810 - mean_squared_error: 0.6811 - val_loss: 0.6833 - val_mean_squared_error: 0.6951\n",
      "Epoch 186/1000\n",
      "13/13 - 0s - loss: 0.6793 - mean_squared_error: 0.6794 - val_loss: 0.6811 - val_mean_squared_error: 0.6932\n",
      "Epoch 187/1000\n",
      "13/13 - 0s - loss: 0.6778 - mean_squared_error: 0.6779 - val_loss: 0.6792 - val_mean_squared_error: 0.6918\n",
      "Epoch 188/1000\n",
      "13/13 - 0s - loss: 0.6766 - mean_squared_error: 0.6766 - val_loss: 0.6767 - val_mean_squared_error: 0.6898\n",
      "Epoch 189/1000\n",
      "13/13 - 1s - loss: 0.6752 - mean_squared_error: 0.6753 - val_loss: 0.6753 - val_mean_squared_error: 0.6889\n",
      "Epoch 190/1000\n",
      "13/13 - 0s - loss: 0.6743 - mean_squared_error: 0.6743 - val_loss: 0.6731 - val_mean_squared_error: 0.6872\n",
      "Epoch 191/1000\n",
      "13/13 - 0s - loss: 0.6730 - mean_squared_error: 0.6730 - val_loss: 0.6714 - val_mean_squared_error: 0.6859\n",
      "Epoch 192/1000\n",
      "13/13 - 0s - loss: 0.6717 - mean_squared_error: 0.6717 - val_loss: 0.6701 - val_mean_squared_error: 0.6850\n",
      "Epoch 193/1000\n",
      "13/13 - 0s - loss: 0.6708 - mean_squared_error: 0.6709 - val_loss: 0.6681 - val_mean_squared_error: 0.6832\n",
      "Epoch 194/1000\n",
      "13/13 - 0s - loss: 0.6693 - mean_squared_error: 0.6694 - val_loss: 0.6667 - val_mean_squared_error: 0.6823\n",
      "Epoch 195/1000\n",
      "13/13 - 0s - loss: 0.6685 - mean_squared_error: 0.6685 - val_loss: 0.6648 - val_mean_squared_error: 0.6808\n",
      "Epoch 196/1000\n",
      "13/13 - 0s - loss: 0.6677 - mean_squared_error: 0.6677 - val_loss: 0.6629 - val_mean_squared_error: 0.6790\n",
      "Epoch 197/1000\n",
      "13/13 - 0s - loss: 0.6664 - mean_squared_error: 0.6664 - val_loss: 0.6616 - val_mean_squared_error: 0.6780\n",
      "Epoch 198/1000\n",
      "13/13 - 0s - loss: 0.6655 - mean_squared_error: 0.6656 - val_loss: 0.6601 - val_mean_squared_error: 0.6767\n",
      "Epoch 199/1000\n",
      "13/13 - 0s - loss: 0.6646 - mean_squared_error: 0.6647 - val_loss: 0.6588 - val_mean_squared_error: 0.6755\n",
      "Epoch 200/1000\n",
      "13/13 - 0s - loss: 0.6637 - mean_squared_error: 0.6637 - val_loss: 0.6573 - val_mean_squared_error: 0.6742\n",
      "Epoch 201/1000\n",
      "13/13 - 0s - loss: 0.6625 - mean_squared_error: 0.6625 - val_loss: 0.6564 - val_mean_squared_error: 0.6734\n",
      "Epoch 202/1000\n",
      "13/13 - 0s - loss: 0.6613 - mean_squared_error: 0.6613 - val_loss: 0.6554 - val_mean_squared_error: 0.6726\n",
      "Epoch 203/1000\n",
      "13/13 - 0s - loss: 0.6607 - mean_squared_error: 0.6607 - val_loss: 0.6541 - val_mean_squared_error: 0.6715\n",
      "Epoch 204/1000\n",
      "13/13 - 0s - loss: 0.6598 - mean_squared_error: 0.6598 - val_loss: 0.6528 - val_mean_squared_error: 0.6704\n"
     ]
    },
    {
     "name": "stdout",
     "output_type": "stream",
     "text": [
      "Epoch 205/1000\n",
      "13/13 - 0s - loss: 0.6588 - mean_squared_error: 0.6588 - val_loss: 0.6520 - val_mean_squared_error: 0.6697\n",
      "Epoch 206/1000\n",
      "13/13 - 0s - loss: 0.6579 - mean_squared_error: 0.6580 - val_loss: 0.6509 - val_mean_squared_error: 0.6686\n",
      "Epoch 207/1000\n",
      "13/13 - 0s - loss: 0.6570 - mean_squared_error: 0.6571 - val_loss: 0.6502 - val_mean_squared_error: 0.6679\n",
      "Epoch 208/1000\n",
      "13/13 - 0s - loss: 0.6561 - mean_squared_error: 0.6561 - val_loss: 0.6494 - val_mean_squared_error: 0.6673\n",
      "Epoch 209/1000\n",
      "13/13 - 0s - loss: 0.6555 - mean_squared_error: 0.6555 - val_loss: 0.6485 - val_mean_squared_error: 0.6663\n",
      "Epoch 210/1000\n",
      "13/13 - 0s - loss: 0.6546 - mean_squared_error: 0.6546 - val_loss: 0.6483 - val_mean_squared_error: 0.6660\n",
      "Epoch 211/1000\n",
      "13/13 - 0s - loss: 0.6539 - mean_squared_error: 0.6540 - val_loss: 0.6477 - val_mean_squared_error: 0.6653\n",
      "Epoch 212/1000\n",
      "13/13 - 0s - loss: 0.6532 - mean_squared_error: 0.6532 - val_loss: 0.6470 - val_mean_squared_error: 0.6645\n",
      "Epoch 213/1000\n",
      "13/13 - 0s - loss: 0.6523 - mean_squared_error: 0.6524 - val_loss: 0.6469 - val_mean_squared_error: 0.6642\n",
      "Epoch 214/1000\n",
      "13/13 - 0s - loss: 0.6514 - mean_squared_error: 0.6515 - val_loss: 0.6470 - val_mean_squared_error: 0.6643\n",
      "Epoch 215/1000\n",
      "13/13 - 0s - loss: 0.6511 - mean_squared_error: 0.6512 - val_loss: 0.6461 - val_mean_squared_error: 0.6632\n",
      "Epoch 216/1000\n",
      "13/13 - 0s - loss: 0.6502 - mean_squared_error: 0.6502 - val_loss: 0.6453 - val_mean_squared_error: 0.6623\n",
      "Epoch 217/1000\n",
      "13/13 - 0s - loss: 0.6491 - mean_squared_error: 0.6492 - val_loss: 0.6452 - val_mean_squared_error: 0.6622\n",
      "Epoch 218/1000\n",
      "13/13 - 0s - loss: 0.6486 - mean_squared_error: 0.6486 - val_loss: 0.6454 - val_mean_squared_error: 0.6623\n",
      "Epoch 219/1000\n",
      "13/13 - 0s - loss: 0.6481 - mean_squared_error: 0.6482 - val_loss: 0.6449 - val_mean_squared_error: 0.6617\n",
      "Epoch 220/1000\n",
      "13/13 - 0s - loss: 0.6473 - mean_squared_error: 0.6474 - val_loss: 0.6450 - val_mean_squared_error: 0.6617\n",
      "Epoch 221/1000\n",
      "13/13 - 1s - loss: 0.6470 - mean_squared_error: 0.6470 - val_loss: 0.6439 - val_mean_squared_error: 0.6605\n",
      "Epoch 222/1000\n",
      "13/13 - 0s - loss: 0.6458 - mean_squared_error: 0.6459 - val_loss: 0.6447 - val_mean_squared_error: 0.6616\n",
      "Epoch 223/1000\n",
      "13/13 - 0s - loss: 0.6458 - mean_squared_error: 0.6458 - val_loss: 0.6442 - val_mean_squared_error: 0.6613\n",
      "Epoch 224/1000\n",
      "13/13 - 1s - loss: 0.6452 - mean_squared_error: 0.6452 - val_loss: 0.6431 - val_mean_squared_error: 0.6604\n",
      "Epoch 225/1000\n",
      "13/13 - 0s - loss: 0.6440 - mean_squared_error: 0.6440 - val_loss: 0.6422 - val_mean_squared_error: 0.6596\n",
      "Epoch 226/1000\n",
      "13/13 - 1s - loss: 0.6431 - mean_squared_error: 0.6432 - val_loss: 0.6410 - val_mean_squared_error: 0.6583\n",
      "Epoch 227/1000\n",
      "13/13 - 0s - loss: 0.6418 - mean_squared_error: 0.6418 - val_loss: 0.6401 - val_mean_squared_error: 0.6575\n",
      "Epoch 228/1000\n",
      "13/13 - 1s - loss: 0.6407 - mean_squared_error: 0.6407 - val_loss: 0.6397 - val_mean_squared_error: 0.6571\n",
      "Epoch 229/1000\n",
      "13/13 - 0s - loss: 0.6398 - mean_squared_error: 0.6398 - val_loss: 0.6391 - val_mean_squared_error: 0.6569\n",
      "Epoch 230/1000\n",
      "13/13 - 0s - loss: 0.6391 - mean_squared_error: 0.6391 - val_loss: 0.6378 - val_mean_squared_error: 0.6559\n",
      "Epoch 231/1000\n",
      "13/13 - 0s - loss: 0.6382 - mean_squared_error: 0.6381 - val_loss: 0.6370 - val_mean_squared_error: 0.6555\n",
      "Epoch 232/1000\n",
      "13/13 - 0s - loss: 0.6374 - mean_squared_error: 0.6374 - val_loss: 0.6359 - val_mean_squared_error: 0.6548\n",
      "Epoch 233/1000\n",
      "13/13 - 0s - loss: 0.6365 - mean_squared_error: 0.6364 - val_loss: 0.6352 - val_mean_squared_error: 0.6544\n",
      "Epoch 234/1000\n",
      "13/13 - 0s - loss: 0.6356 - mean_squared_error: 0.6355 - val_loss: 0.6341 - val_mean_squared_error: 0.6536\n",
      "Epoch 235/1000\n",
      "13/13 - 0s - loss: 0.6342 - mean_squared_error: 0.6342 - val_loss: 0.6330 - val_mean_squared_error: 0.6530\n",
      "Epoch 236/1000\n",
      "13/13 - 0s - loss: 0.6336 - mean_squared_error: 0.6335 - val_loss: 0.6324 - val_mean_squared_error: 0.6525\n",
      "Epoch 237/1000\n",
      "13/13 - 0s - loss: 0.6336 - mean_squared_error: 0.6336 - val_loss: 0.6318 - val_mean_squared_error: 0.6521\n",
      "Epoch 238/1000\n",
      "13/13 - 0s - loss: 0.6329 - mean_squared_error: 0.6328 - val_loss: 0.6311 - val_mean_squared_error: 0.6512\n",
      "Epoch 239/1000\n",
      "13/13 - 0s - loss: 0.6319 - mean_squared_error: 0.6318 - val_loss: 0.6302 - val_mean_squared_error: 0.6504\n",
      "Epoch 240/1000\n",
      "13/13 - 0s - loss: 0.6310 - mean_squared_error: 0.6309 - val_loss: 0.6296 - val_mean_squared_error: 0.6499\n",
      "Epoch 241/1000\n",
      "13/13 - 0s - loss: 0.6306 - mean_squared_error: 0.6306 - val_loss: 0.6290 - val_mean_squared_error: 0.6493\n",
      "Epoch 242/1000\n",
      "13/13 - 0s - loss: 0.6302 - mean_squared_error: 0.6301 - val_loss: 0.6277 - val_mean_squared_error: 0.6479\n",
      "Epoch 243/1000\n",
      "13/13 - 0s - loss: 0.6291 - mean_squared_error: 0.6290 - val_loss: 0.6271 - val_mean_squared_error: 0.6472\n",
      "Epoch 244/1000\n",
      "13/13 - 0s - loss: 0.6282 - mean_squared_error: 0.6281 - val_loss: 0.6268 - val_mean_squared_error: 0.6469\n",
      "Epoch 245/1000\n",
      "13/13 - 0s - loss: 0.6277 - mean_squared_error: 0.6277 - val_loss: 0.6265 - val_mean_squared_error: 0.6465\n",
      "Epoch 246/1000\n",
      "13/13 - 0s - loss: 0.6275 - mean_squared_error: 0.6274 - val_loss: 0.6261 - val_mean_squared_error: 0.6459\n",
      "Epoch 247/1000\n",
      "13/13 - 0s - loss: 0.6269 - mean_squared_error: 0.6268 - val_loss: 0.6255 - val_mean_squared_error: 0.6452\n",
      "Epoch 248/1000\n",
      "13/13 - 0s - loss: 0.6263 - mean_squared_error: 0.6262 - val_loss: 0.6251 - val_mean_squared_error: 0.6446\n",
      "Epoch 249/1000\n",
      "13/13 - 0s - loss: 0.6257 - mean_squared_error: 0.6256 - val_loss: 0.6247 - val_mean_squared_error: 0.6441\n",
      "Epoch 250/1000\n",
      "13/13 - 0s - loss: 0.6251 - mean_squared_error: 0.6250 - val_loss: 0.6242 - val_mean_squared_error: 0.6436\n",
      "Epoch 251/1000\n",
      "13/13 - 0s - loss: 0.6245 - mean_squared_error: 0.6244 - val_loss: 0.6238 - val_mean_squared_error: 0.6430\n",
      "Epoch 252/1000\n",
      "13/13 - 0s - loss: 0.6239 - mean_squared_error: 0.6238 - val_loss: 0.6237 - val_mean_squared_error: 0.6427\n",
      "Epoch 253/1000\n",
      "13/13 - 0s - loss: 0.6235 - mean_squared_error: 0.6235 - val_loss: 0.6234 - val_mean_squared_error: 0.6424\n",
      "Epoch 254/1000\n",
      "13/13 - 0s - loss: 0.6231 - mean_squared_error: 0.6230 - val_loss: 0.6231 - val_mean_squared_error: 0.6418\n",
      "Epoch 255/1000\n",
      "13/13 - 0s - loss: 0.6225 - mean_squared_error: 0.6224 - val_loss: 0.6232 - val_mean_squared_error: 0.6419\n",
      "Epoch 256/1000\n",
      "13/13 - 0s - loss: 0.6224 - mean_squared_error: 0.6223 - val_loss: 0.6225 - val_mean_squared_error: 0.6412\n",
      "Epoch 257/1000\n",
      "13/13 - 0s - loss: 0.6224 - mean_squared_error: 0.6223 - val_loss: 0.6223 - val_mean_squared_error: 0.6408\n",
      "Epoch 258/1000\n",
      "13/13 - 0s - loss: 0.6220 - mean_squared_error: 0.6219 - val_loss: 0.6218 - val_mean_squared_error: 0.6401\n",
      "Epoch 259/1000\n",
      "13/13 - 0s - loss: 0.6213 - mean_squared_error: 0.6213 - val_loss: 0.6212 - val_mean_squared_error: 0.6395\n",
      "Epoch 260/1000\n",
      "13/13 - 0s - loss: 0.6208 - mean_squared_error: 0.6207 - val_loss: 0.6211 - val_mean_squared_error: 0.6394\n",
      "Epoch 261/1000\n",
      "13/13 - 0s - loss: 0.6204 - mean_squared_error: 0.6203 - val_loss: 0.6210 - val_mean_squared_error: 0.6392\n",
      "Epoch 262/1000\n",
      "13/13 - 0s - loss: 0.6201 - mean_squared_error: 0.6201 - val_loss: 0.6208 - val_mean_squared_error: 0.6390\n",
      "Epoch 263/1000\n",
      "13/13 - 0s - loss: 0.6201 - mean_squared_error: 0.6201 - val_loss: 0.6209 - val_mean_squared_error: 0.6390\n",
      "Epoch 264/1000\n",
      "13/13 - 0s - loss: 0.6199 - mean_squared_error: 0.6198 - val_loss: 0.6208 - val_mean_squared_error: 0.6389\n",
      "Epoch 265/1000\n",
      "13/13 - 0s - loss: 0.6198 - mean_squared_error: 0.6197 - val_loss: 0.6206 - val_mean_squared_error: 0.6387\n",
      "Epoch 266/1000\n",
      "13/13 - 0s - loss: 0.6194 - mean_squared_error: 0.6194 - val_loss: 0.6203 - val_mean_squared_error: 0.6383\n",
      "Epoch 267/1000\n",
      "13/13 - 0s - loss: 0.6190 - mean_squared_error: 0.6189 - val_loss: 0.6201 - val_mean_squared_error: 0.6380\n",
      "Epoch 268/1000\n",
      "13/13 - 0s - loss: 0.6188 - mean_squared_error: 0.6187 - val_loss: 0.6199 - val_mean_squared_error: 0.6377\n",
      "Epoch 269/1000\n",
      "13/13 - 0s - loss: 0.6186 - mean_squared_error: 0.6185 - val_loss: 0.6197 - val_mean_squared_error: 0.6375\n",
      "Epoch 270/1000\n",
      "13/13 - 0s - loss: 0.6183 - mean_squared_error: 0.6182 - val_loss: 0.6196 - val_mean_squared_error: 0.6373\n",
      "Epoch 271/1000\n",
      "13/13 - 0s - loss: 0.6179 - mean_squared_error: 0.6179 - val_loss: 0.6194 - val_mean_squared_error: 0.6371\n",
      "Epoch 272/1000\n",
      "13/13 - 0s - loss: 0.6177 - mean_squared_error: 0.6176 - val_loss: 0.6191 - val_mean_squared_error: 0.6368\n"
     ]
    },
    {
     "name": "stdout",
     "output_type": "stream",
     "text": [
      "Epoch 273/1000\n",
      "13/13 - 0s - loss: 0.6174 - mean_squared_error: 0.6173 - val_loss: 0.6188 - val_mean_squared_error: 0.6364\n",
      "Epoch 274/1000\n",
      "13/13 - 0s - loss: 0.6172 - mean_squared_error: 0.6172 - val_loss: 0.6184 - val_mean_squared_error: 0.6360\n",
      "Epoch 275/1000\n",
      "13/13 - 0s - loss: 0.6168 - mean_squared_error: 0.6167 - val_loss: 0.6180 - val_mean_squared_error: 0.6356\n",
      "Epoch 276/1000\n",
      "13/13 - 0s - loss: 0.6163 - mean_squared_error: 0.6162 - val_loss: 0.6180 - val_mean_squared_error: 0.6355\n",
      "Epoch 277/1000\n",
      "13/13 - 0s - loss: 0.6159 - mean_squared_error: 0.6159 - val_loss: 0.6179 - val_mean_squared_error: 0.6355\n",
      "Epoch 278/1000\n",
      "13/13 - 0s - loss: 0.6159 - mean_squared_error: 0.6158 - val_loss: 0.6178 - val_mean_squared_error: 0.6354\n",
      "Epoch 279/1000\n",
      "13/13 - 0s - loss: 0.6158 - mean_squared_error: 0.6157 - val_loss: 0.6176 - val_mean_squared_error: 0.6352\n",
      "Epoch 280/1000\n",
      "13/13 - 0s - loss: 0.6157 - mean_squared_error: 0.6156 - val_loss: 0.6175 - val_mean_squared_error: 0.6350\n",
      "Epoch 281/1000\n",
      "13/13 - 0s - loss: 0.6155 - mean_squared_error: 0.6154 - val_loss: 0.6172 - val_mean_squared_error: 0.6347\n",
      "Epoch 282/1000\n",
      "13/13 - 0s - loss: 0.6152 - mean_squared_error: 0.6152 - val_loss: 0.6171 - val_mean_squared_error: 0.6346\n",
      "Epoch 283/1000\n",
      "13/13 - 0s - loss: 0.6150 - mean_squared_error: 0.6150 - val_loss: 0.6169 - val_mean_squared_error: 0.6345\n",
      "Epoch 284/1000\n",
      "13/13 - 0s - loss: 0.6150 - mean_squared_error: 0.6149 - val_loss: 0.6169 - val_mean_squared_error: 0.6344\n",
      "Epoch 285/1000\n",
      "13/13 - 0s - loss: 0.6150 - mean_squared_error: 0.6149 - val_loss: 0.6166 - val_mean_squared_error: 0.6342\n",
      "Epoch 286/1000\n",
      "13/13 - 0s - loss: 0.6148 - mean_squared_error: 0.6148 - val_loss: 0.6164 - val_mean_squared_error: 0.6340\n",
      "Epoch 287/1000\n",
      "13/13 - 0s - loss: 0.6146 - mean_squared_error: 0.6146 - val_loss: 0.6163 - val_mean_squared_error: 0.6338\n",
      "Epoch 288/1000\n",
      "13/13 - 0s - loss: 0.6144 - mean_squared_error: 0.6144 - val_loss: 0.6161 - val_mean_squared_error: 0.6336\n",
      "Epoch 289/1000\n",
      "13/13 - 0s - loss: 0.6143 - mean_squared_error: 0.6142 - val_loss: 0.6160 - val_mean_squared_error: 0.6334\n",
      "Epoch 290/1000\n",
      "13/13 - 0s - loss: 0.6141 - mean_squared_error: 0.6140 - val_loss: 0.6157 - val_mean_squared_error: 0.6332\n",
      "Epoch 291/1000\n",
      "13/13 - 0s - loss: 0.6139 - mean_squared_error: 0.6138 - val_loss: 0.6157 - val_mean_squared_error: 0.6331\n",
      "Epoch 292/1000\n",
      "13/13 - 0s - loss: 0.6137 - mean_squared_error: 0.6137 - val_loss: 0.6155 - val_mean_squared_error: 0.6329\n",
      "Epoch 293/1000\n",
      "13/13 - 0s - loss: 0.6136 - mean_squared_error: 0.6135 - val_loss: 0.6153 - val_mean_squared_error: 0.6327\n",
      "Epoch 294/1000\n",
      "13/13 - 0s - loss: 0.6134 - mean_squared_error: 0.6134 - val_loss: 0.6154 - val_mean_squared_error: 0.6328\n",
      "Epoch 295/1000\n",
      "13/13 - 0s - loss: 0.6133 - mean_squared_error: 0.6133 - val_loss: 0.6153 - val_mean_squared_error: 0.6327\n",
      "Epoch 296/1000\n",
      "13/13 - 0s - loss: 0.6133 - mean_squared_error: 0.6132 - val_loss: 0.6152 - val_mean_squared_error: 0.6326\n",
      "Epoch 297/1000\n",
      "13/13 - 0s - loss: 0.6131 - mean_squared_error: 0.6131 - val_loss: 0.6151 - val_mean_squared_error: 0.6325\n",
      "Epoch 298/1000\n",
      "13/13 - 0s - loss: 0.6130 - mean_squared_error: 0.6129 - val_loss: 0.6151 - val_mean_squared_error: 0.6325\n",
      "Epoch 299/1000\n",
      "13/13 - 0s - loss: 0.6129 - mean_squared_error: 0.6128 - val_loss: 0.6150 - val_mean_squared_error: 0.6324\n",
      "Epoch 300/1000\n",
      "13/13 - 0s - loss: 0.6128 - mean_squared_error: 0.6128 - val_loss: 0.6149 - val_mean_squared_error: 0.6323\n",
      "Epoch 301/1000\n",
      "13/13 - 0s - loss: 0.6127 - mean_squared_error: 0.6127 - val_loss: 0.6149 - val_mean_squared_error: 0.6323\n",
      "Epoch 302/1000\n",
      "13/13 - 0s - loss: 0.6126 - mean_squared_error: 0.6125 - val_loss: 0.6148 - val_mean_squared_error: 0.6322\n",
      "Epoch 303/1000\n",
      "13/13 - 0s - loss: 0.6125 - mean_squared_error: 0.6124 - val_loss: 0.6147 - val_mean_squared_error: 0.6322\n",
      "Epoch 304/1000\n",
      "13/13 - 0s - loss: 0.6124 - mean_squared_error: 0.6123 - val_loss: 0.6147 - val_mean_squared_error: 0.6322\n",
      "Epoch 305/1000\n",
      "13/13 - 0s - loss: 0.6122 - mean_squared_error: 0.6122 - val_loss: 0.6147 - val_mean_squared_error: 0.6321\n",
      "Epoch 306/1000\n",
      "13/13 - 0s - loss: 0.6121 - mean_squared_error: 0.6121 - val_loss: 0.6147 - val_mean_squared_error: 0.6321\n",
      "Epoch 307/1000\n",
      "13/13 - 0s - loss: 0.6120 - mean_squared_error: 0.6120 - val_loss: 0.6146 - val_mean_squared_error: 0.6321\n",
      "Epoch 308/1000\n",
      "13/13 - 0s - loss: 0.6119 - mean_squared_error: 0.6119 - val_loss: 0.6146 - val_mean_squared_error: 0.6320\n",
      "Epoch 309/1000\n",
      "13/13 - 0s - loss: 0.6118 - mean_squared_error: 0.6117 - val_loss: 0.6145 - val_mean_squared_error: 0.6320\n",
      "Epoch 310/1000\n",
      "13/13 - 0s - loss: 0.6117 - mean_squared_error: 0.6117 - val_loss: 0.6145 - val_mean_squared_error: 0.6320\n",
      "Epoch 311/1000\n",
      "13/13 - 0s - loss: 0.6116 - mean_squared_error: 0.6116 - val_loss: 0.6147 - val_mean_squared_error: 0.6322\n",
      "Epoch 312/1000\n",
      "13/13 - 0s - loss: 0.6117 - mean_squared_error: 0.6117 - val_loss: 0.6145 - val_mean_squared_error: 0.6321\n",
      "Epoch 313/1000\n",
      "13/13 - 0s - loss: 0.6116 - mean_squared_error: 0.6116 - val_loss: 0.6144 - val_mean_squared_error: 0.6319\n",
      "Epoch 314/1000\n",
      "13/13 - 0s - loss: 0.6115 - mean_squared_error: 0.6115 - val_loss: 0.6145 - val_mean_squared_error: 0.6320\n",
      "Epoch 315/1000\n",
      "13/13 - 0s - loss: 0.6114 - mean_squared_error: 0.6113 - val_loss: 0.6149 - val_mean_squared_error: 0.6325\n",
      "Epoch 316/1000\n",
      "13/13 - 0s - loss: 0.6117 - mean_squared_error: 0.6116 - val_loss: 0.6149 - val_mean_squared_error: 0.6326\n",
      "Epoch 317/1000\n",
      "13/13 - 0s - loss: 0.6117 - mean_squared_error: 0.6116 - val_loss: 0.6147 - val_mean_squared_error: 0.6323\n",
      "Epoch 318/1000\n",
      "13/13 - 0s - loss: 0.6115 - mean_squared_error: 0.6115 - val_loss: 0.6146 - val_mean_squared_error: 0.6322\n",
      "Epoch 319/1000\n",
      "13/13 - 0s - loss: 0.6113 - mean_squared_error: 0.6113 - val_loss: 0.6146 - val_mean_squared_error: 0.6322\n",
      "Epoch 320/1000\n",
      "13/13 - 0s - loss: 0.6113 - mean_squared_error: 0.6113 - val_loss: 0.6146 - val_mean_squared_error: 0.6322\n",
      "Epoch 321/1000\n",
      "13/13 - 0s - loss: 0.6113 - mean_squared_error: 0.6113 - val_loss: 0.6146 - val_mean_squared_error: 0.6323\n",
      "Epoch 322/1000\n",
      "13/13 - 0s - loss: 0.6112 - mean_squared_error: 0.6112 - val_loss: 0.6148 - val_mean_squared_error: 0.6324\n",
      "Epoch 323/1000\n",
      "13/13 - 0s - loss: 0.6111 - mean_squared_error: 0.6111 - val_loss: 0.6148 - val_mean_squared_error: 0.6324\n"
     ]
    },
    {
     "data": {
      "text/html": [
       "<span style=\"color:#4527A0\"><h1 style=\"font-size:18px\">Trial complete</h1></span>"
      ],
      "text/plain": [
       "<IPython.core.display.HTML object>"
      ]
     },
     "metadata": {},
     "output_type": "display_data"
    },
    {
     "data": {
      "text/html": [
       "<span style=\"color:#4527A0\"><h1 style=\"font-size:18px\">Trial summary</h1></span>"
      ],
      "text/plain": [
       "<IPython.core.display.HTML object>"
      ]
     },
     "metadata": {},
     "output_type": "display_data"
    },
    {
     "data": {
      "text/html": [
       "<span style=\"color:cyan\"> |-Trial ID: 74b7423215d957a59fee56b7cdbb09b5</span>"
      ],
      "text/plain": [
       "<IPython.core.display.HTML object>"
      ]
     },
     "metadata": {},
     "output_type": "display_data"
    },
    {
     "data": {
      "text/html": [
       "<span style=\"color:cyan\"> |-Score: 0.6143837422132492</span>"
      ],
      "text/plain": [
       "<IPython.core.display.HTML object>"
      ]
     },
     "metadata": {},
     "output_type": "display_data"
    },
    {
     "data": {
      "text/html": [
       "<span style=\"color:cyan\"> |-Best step: 0</span>"
      ],
      "text/plain": [
       "<IPython.core.display.HTML object>"
      ]
     },
     "metadata": {},
     "output_type": "display_data"
    },
    {
     "data": {
      "text/html": [
       "<span style=\"color:#7E57C2\"><h2 style=\"font-size:16px\">Hyperparameters:</h2></span>"
      ],
      "text/plain": [
       "<IPython.core.display.HTML object>"
      ]
     },
     "metadata": {},
     "output_type": "display_data"
    },
    {
     "data": {
      "text/html": [
       "<span style=\"color:cyan\"> |-optimizer: adam</span>"
      ],
      "text/plain": [
       "<IPython.core.display.HTML object>"
      ]
     },
     "metadata": {},
     "output_type": "display_data"
    },
    {
     "data": {
      "text/html": [
       "<span style=\"color:blue\"> |-regression_head_1/dropout_rate: 0</span>"
      ],
      "text/plain": [
       "<IPython.core.display.HTML object>"
      ]
     },
     "metadata": {},
     "output_type": "display_data"
    },
    {
     "data": {
      "text/html": [
       "<span style=\"color:cyan\"> |-structured_data_block_1/dense_block_1/dropout_rate: 0.0</span>"
      ],
      "text/plain": [
       "<IPython.core.display.HTML object>"
      ]
     },
     "metadata": {},
     "output_type": "display_data"
    },
    {
     "data": {
      "text/html": [
       "<span style=\"color:blue\"> |-structured_data_block_1/dense_block_1/num_layers: 1</span>"
      ],
      "text/plain": [
       "<IPython.core.display.HTML object>"
      ]
     },
     "metadata": {},
     "output_type": "display_data"
    },
    {
     "data": {
      "text/html": [
       "<span style=\"color:cyan\"> |-structured_data_block_1/dense_block_1/units_0: 16</span>"
      ],
      "text/plain": [
       "<IPython.core.display.HTML object>"
      ]
     },
     "metadata": {},
     "output_type": "display_data"
    },
    {
     "data": {
      "text/html": [
       "<span style=\"color:blue\"> |-structured_data_block_1/dense_block_1/units_1: 256</span>"
      ],
      "text/plain": [
       "<IPython.core.display.HTML object>"
      ]
     },
     "metadata": {},
     "output_type": "display_data"
    },
    {
     "data": {
      "text/html": [
       "<span style=\"color:cyan\"> |-structured_data_block_1/dense_block_1/units_2: 128</span>"
      ],
      "text/plain": [
       "<IPython.core.display.HTML object>"
      ]
     },
     "metadata": {},
     "output_type": "display_data"
    },
    {
     "data": {
      "text/html": [
       "<span style=\"color:blue\"> |-structured_data_block_1/dense_block_1/use_batchnorm: False</span>"
      ],
      "text/plain": [
       "<IPython.core.display.HTML object>"
      ]
     },
     "metadata": {},
     "output_type": "display_data"
    },
    {
     "name": "stdout",
     "output_type": "stream",
     "text": [
      "Train for 13 steps, validate for 4 steps\n",
      "Epoch 1/1000\n",
      "13/13 - 2s - loss: 2.9376 - mean_squared_error: 2.9418 - val_loss: 6.0277 - val_mean_squared_error: 6.3785\n",
      "Epoch 2/1000\n",
      "13/13 - 0s - loss: 2.1289 - mean_squared_error: 2.1314 - val_loss: 1.5317 - val_mean_squared_error: 1.5471\n",
      "Epoch 3/1000\n",
      "13/13 - 0s - loss: 1.6284 - mean_squared_error: 1.6295 - val_loss: 1.2945 - val_mean_squared_error: 1.2783\n",
      "Epoch 4/1000\n",
      "13/13 - 0s - loss: 1.3778 - mean_squared_error: 1.3786 - val_loss: 2.8627 - val_mean_squared_error: 2.8781\n",
      "Epoch 5/1000\n",
      "13/13 - 0s - loss: 1.1729 - mean_squared_error: 1.1735 - val_loss: 5.9594 - val_mean_squared_error: 6.0038\n",
      "Epoch 6/1000\n",
      "13/13 - 0s - loss: 1.0491 - mean_squared_error: 1.0494 - val_loss: 12.2314 - val_mean_squared_error: 12.2995\n",
      "Epoch 7/1000\n",
      "13/13 - 0s - loss: 0.9504 - mean_squared_error: 0.9505 - val_loss: 16.5541 - val_mean_squared_error: 16.6259\n",
      "Epoch 8/1000\n",
      "13/13 - 0s - loss: 0.8533 - mean_squared_error: 0.8532 - val_loss: 18.7981 - val_mean_squared_error: 18.8532\n",
      "Epoch 9/1000\n",
      "13/13 - 0s - loss: 0.8203 - mean_squared_error: 0.8201 - val_loss: 18.4338 - val_mean_squared_error: 18.4763\n",
      "Epoch 10/1000\n",
      "13/13 - 0s - loss: 0.7748 - mean_squared_error: 0.7748 - val_loss: 24.2644 - val_mean_squared_error: 24.2964\n",
      "Epoch 11/1000\n",
      "13/13 - 0s - loss: 0.7158 - mean_squared_error: 0.7155 - val_loss: 27.6754 - val_mean_squared_error: 27.7114\n",
      "Epoch 12/1000\n",
      "13/13 - 0s - loss: 0.7014 - mean_squared_error: 0.7014 - val_loss: 33.5107 - val_mean_squared_error: 33.5564\n",
      "Epoch 13/1000\n",
      "13/13 - 0s - loss: 0.6687 - mean_squared_error: 0.6686 - val_loss: 34.6765 - val_mean_squared_error: 34.7305\n"
     ]
    },
    {
     "data": {
      "text/html": [
       "<span style=\"color:#4527A0\"><h1 style=\"font-size:18px\">Trial complete</h1></span>"
      ],
      "text/plain": [
       "<IPython.core.display.HTML object>"
      ]
     },
     "metadata": {},
     "output_type": "display_data"
    },
    {
     "data": {
      "text/html": [
       "<span style=\"color:#4527A0\"><h1 style=\"font-size:18px\">Trial summary</h1></span>"
      ],
      "text/plain": [
       "<IPython.core.display.HTML object>"
      ]
     },
     "metadata": {},
     "output_type": "display_data"
    },
    {
     "data": {
      "text/html": [
       "<span style=\"color:cyan\"> |-Trial ID: c0c74484aa130b083feefc9aefb7946a</span>"
      ],
      "text/plain": [
       "<IPython.core.display.HTML object>"
      ]
     },
     "metadata": {},
     "output_type": "display_data"
    },
    {
     "data": {
      "text/html": [
       "<span style=\"color:cyan\"> |-Score: 1.2945220172405243</span>"
      ],
      "text/plain": [
       "<IPython.core.display.HTML object>"
      ]
     },
     "metadata": {},
     "output_type": "display_data"
    },
    {
     "data": {
      "text/html": [
       "<span style=\"color:cyan\"> |-Best step: 0</span>"
      ],
      "text/plain": [
       "<IPython.core.display.HTML object>"
      ]
     },
     "metadata": {},
     "output_type": "display_data"
    },
    {
     "data": {
      "text/html": [
       "<span style=\"color:#7E57C2\"><h2 style=\"font-size:16px\">Hyperparameters:</h2></span>"
      ],
      "text/plain": [
       "<IPython.core.display.HTML object>"
      ]
     },
     "metadata": {},
     "output_type": "display_data"
    },
    {
     "data": {
      "text/html": [
       "<span style=\"color:cyan\"> |-optimizer: adam</span>"
      ],
      "text/plain": [
       "<IPython.core.display.HTML object>"
      ]
     },
     "metadata": {},
     "output_type": "display_data"
    },
    {
     "data": {
      "text/html": [
       "<span style=\"color:blue\"> |-regression_head_1/dropout_rate: 0</span>"
      ],
      "text/plain": [
       "<IPython.core.display.HTML object>"
      ]
     },
     "metadata": {},
     "output_type": "display_data"
    },
    {
     "data": {
      "text/html": [
       "<span style=\"color:cyan\"> |-structured_data_block_1/dense_block_1/dropout_rate: 0.0</span>"
      ],
      "text/plain": [
       "<IPython.core.display.HTML object>"
      ]
     },
     "metadata": {},
     "output_type": "display_data"
    },
    {
     "data": {
      "text/html": [
       "<span style=\"color:blue\"> |-structured_data_block_1/dense_block_1/num_layers: 1</span>"
      ],
      "text/plain": [
       "<IPython.core.display.HTML object>"
      ]
     },
     "metadata": {},
     "output_type": "display_data"
    },
    {
     "data": {
      "text/html": [
       "<span style=\"color:cyan\"> |-structured_data_block_1/dense_block_1/units_0: 256</span>"
      ],
      "text/plain": [
       "<IPython.core.display.HTML object>"
      ]
     },
     "metadata": {},
     "output_type": "display_data"
    },
    {
     "data": {
      "text/html": [
       "<span style=\"color:blue\"> |-structured_data_block_1/dense_block_1/units_1: 32</span>"
      ],
      "text/plain": [
       "<IPython.core.display.HTML object>"
      ]
     },
     "metadata": {},
     "output_type": "display_data"
    },
    {
     "data": {
      "text/html": [
       "<span style=\"color:cyan\"> |-structured_data_block_1/dense_block_1/units_2: 128</span>"
      ],
      "text/plain": [
       "<IPython.core.display.HTML object>"
      ]
     },
     "metadata": {},
     "output_type": "display_data"
    },
    {
     "data": {
      "text/html": [
       "<span style=\"color:blue\"> |-structured_data_block_1/dense_block_1/use_batchnorm: True</span>"
      ],
      "text/plain": [
       "<IPython.core.display.HTML object>"
      ]
     },
     "metadata": {},
     "output_type": "display_data"
    },
    {
     "name": "stdout",
     "output_type": "stream",
     "text": [
      "Train for 13 steps, validate for 4 steps\n",
      "Epoch 1/1000\n",
      "13/13 - 1s - loss: 317.8819 - mean_squared_error: 319.6614 - val_loss: 116.0877 - val_mean_squared_error: 121.6703\n",
      "Epoch 2/1000\n",
      "13/13 - 0s - loss: 24.4391 - mean_squared_error: 24.5482 - val_loss: 16.8591 - val_mean_squared_error: 16.6938\n",
      "Epoch 3/1000\n",
      "13/13 - 0s - loss: 4.2162 - mean_squared_error: 4.2310 - val_loss: 1.8638 - val_mean_squared_error: 1.8624\n",
      "Epoch 4/1000\n",
      "13/13 - 0s - loss: 1.5398 - mean_squared_error: 1.5426 - val_loss: 1.3989 - val_mean_squared_error: 1.3863\n",
      "Epoch 5/1000\n",
      "13/13 - 0s - loss: 1.2726 - mean_squared_error: 1.2735 - val_loss: 1.2755 - val_mean_squared_error: 1.2511\n",
      "Epoch 6/1000\n",
      "13/13 - 0s - loss: 1.1911 - mean_squared_error: 1.1916 - val_loss: 1.2494 - val_mean_squared_error: 1.2255\n",
      "Epoch 7/1000\n",
      "13/13 - 0s - loss: 1.1688 - mean_squared_error: 1.1693 - val_loss: 1.2395 - val_mean_squared_error: 1.2135\n",
      "Epoch 8/1000\n",
      "13/13 - 0s - loss: 1.1493 - mean_squared_error: 1.1497 - val_loss: 1.2108 - val_mean_squared_error: 1.1855\n",
      "Epoch 9/1000\n",
      "13/13 - 0s - loss: 1.1214 - mean_squared_error: 1.1219 - val_loss: 1.1662 - val_mean_squared_error: 1.1472\n",
      "Epoch 10/1000\n",
      "13/13 - 0s - loss: 1.0976 - mean_squared_error: 1.0980 - val_loss: 1.1454 - val_mean_squared_error: 1.1260\n",
      "Epoch 11/1000\n",
      "13/13 - 0s - loss: 1.0739 - mean_squared_error: 1.0743 - val_loss: 1.1157 - val_mean_squared_error: 1.0987\n",
      "Epoch 12/1000\n",
      "13/13 - 0s - loss: 1.0544 - mean_squared_error: 1.0548 - val_loss: 1.0851 - val_mean_squared_error: 1.0685\n",
      "Epoch 13/1000\n",
      "13/13 - 0s - loss: 1.0261 - mean_squared_error: 1.0265 - val_loss: 1.0562 - val_mean_squared_error: 1.0463\n",
      "Epoch 14/1000\n",
      "13/13 - 0s - loss: 1.0052 - mean_squared_error: 1.0057 - val_loss: 1.0410 - val_mean_squared_error: 1.0356\n",
      "Epoch 15/1000\n",
      "13/13 - 0s - loss: 0.9900 - mean_squared_error: 0.9904 - val_loss: 0.9968 - val_mean_squared_error: 0.9912\n",
      "Epoch 16/1000\n",
      "13/13 - 0s - loss: 0.9632 - mean_squared_error: 0.9636 - val_loss: 0.9740 - val_mean_squared_error: 0.9711\n",
      "Epoch 17/1000\n",
      "13/13 - 0s - loss: 0.9369 - mean_squared_error: 0.9374 - val_loss: 0.9907 - val_mean_squared_error: 0.9927\n",
      "Epoch 18/1000\n",
      "13/13 - 0s - loss: 0.9238 - mean_squared_error: 0.9245 - val_loss: 1.0214 - val_mean_squared_error: 1.0277\n",
      "Epoch 19/1000\n",
      "13/13 - 0s - loss: 0.9153 - mean_squared_error: 0.9162 - val_loss: 1.0418 - val_mean_squared_error: 1.0509\n",
      "Epoch 20/1000\n",
      "13/13 - 0s - loss: 0.9025 - mean_squared_error: 0.9033 - val_loss: 1.0457 - val_mean_squared_error: 1.0568\n",
      "Epoch 21/1000\n",
      "13/13 - 0s - loss: 0.8795 - mean_squared_error: 0.8800 - val_loss: 0.9963 - val_mean_squared_error: 1.0066\n",
      "Epoch 22/1000\n",
      "13/13 - 0s - loss: 0.8421 - mean_squared_error: 0.8422 - val_loss: 0.8940 - val_mean_squared_error: 0.9008\n",
      "Epoch 23/1000\n",
      "13/13 - 0s - loss: 0.7928 - mean_squared_error: 0.7928 - val_loss: 0.8012 - val_mean_squared_error: 0.8031\n",
      "Epoch 24/1000\n",
      "13/13 - 0s - loss: 0.7471 - mean_squared_error: 0.7472 - val_loss: 0.7789 - val_mean_squared_error: 0.7805\n",
      "Epoch 25/1000\n",
      "13/13 - 0s - loss: 0.7255 - mean_squared_error: 0.7255 - val_loss: 0.7656 - val_mean_squared_error: 0.7695\n",
      "Epoch 26/1000\n",
      "13/13 - 0s - loss: 0.7162 - mean_squared_error: 0.7160 - val_loss: 0.7538 - val_mean_squared_error: 0.7562\n",
      "Epoch 27/1000\n",
      "13/13 - 0s - loss: 0.7113 - mean_squared_error: 0.7111 - val_loss: 0.7487 - val_mean_squared_error: 0.7538\n",
      "Epoch 28/1000\n",
      "13/13 - 0s - loss: 0.7094 - mean_squared_error: 0.7092 - val_loss: 0.7429 - val_mean_squared_error: 0.7484\n",
      "Epoch 29/1000\n",
      "13/13 - 0s - loss: 0.7084 - mean_squared_error: 0.7081 - val_loss: 0.7330 - val_mean_squared_error: 0.7385\n",
      "Epoch 30/1000\n",
      "13/13 - 0s - loss: 0.7132 - mean_squared_error: 0.7127 - val_loss: 0.7286 - val_mean_squared_error: 0.7344\n",
      "Epoch 31/1000\n",
      "13/13 - 0s - loss: 0.7175 - mean_squared_error: 0.7172 - val_loss: 0.7374 - val_mean_squared_error: 0.7446\n",
      "Epoch 32/1000\n",
      "13/13 - 0s - loss: 0.7162 - mean_squared_error: 0.7160 - val_loss: 0.7515 - val_mean_squared_error: 0.7604\n",
      "Epoch 33/1000\n",
      "13/13 - 0s - loss: 0.7142 - mean_squared_error: 0.7141 - val_loss: 0.7445 - val_mean_squared_error: 0.7532\n",
      "Epoch 34/1000\n",
      "13/13 - 0s - loss: 0.7123 - mean_squared_error: 0.7120 - val_loss: 0.7357 - val_mean_squared_error: 0.7441\n",
      "Epoch 35/1000\n",
      "13/13 - 0s - loss: 0.7219 - mean_squared_error: 0.7215 - val_loss: 0.7336 - val_mean_squared_error: 0.7416\n",
      "Epoch 36/1000\n",
      "13/13 - 0s - loss: 0.7380 - mean_squared_error: 0.7376 - val_loss: 0.7534 - val_mean_squared_error: 0.7626\n",
      "Epoch 37/1000\n",
      "13/13 - 0s - loss: 0.7442 - mean_squared_error: 0.7442 - val_loss: 0.7960 - val_mean_squared_error: 0.8071\n",
      "Epoch 38/1000\n",
      "13/13 - 0s - loss: 0.7343 - mean_squared_error: 0.7343 - val_loss: 0.7865 - val_mean_squared_error: 0.7978\n",
      "Epoch 39/1000\n",
      "13/13 - 0s - loss: 0.7275 - mean_squared_error: 0.7273 - val_loss: 0.7509 - val_mean_squared_error: 0.7607\n",
      "Epoch 40/1000\n",
      "13/13 - 0s - loss: 0.7409 - mean_squared_error: 0.7403 - val_loss: 0.7288 - val_mean_squared_error: 0.7370\n"
     ]
    },
    {
     "data": {
      "text/html": [
       "<span style=\"color:#4527A0\"><h1 style=\"font-size:18px\">Trial complete</h1></span>"
      ],
      "text/plain": [
       "<IPython.core.display.HTML object>"
      ]
     },
     "metadata": {},
     "output_type": "display_data"
    },
    {
     "data": {
      "text/html": [
       "<span style=\"color:#4527A0\"><h1 style=\"font-size:18px\">Trial summary</h1></span>"
      ],
      "text/plain": [
       "<IPython.core.display.HTML object>"
      ]
     },
     "metadata": {},
     "output_type": "display_data"
    },
    {
     "data": {
      "text/html": [
       "<span style=\"color:cyan\"> |-Trial ID: 8ac9672f17f919fc23649fcc13ff5b25</span>"
      ],
      "text/plain": [
       "<IPython.core.display.HTML object>"
      ]
     },
     "metadata": {},
     "output_type": "display_data"
    },
    {
     "data": {
      "text/html": [
       "<span style=\"color:cyan\"> |-Score: 0.7285834699869156</span>"
      ],
      "text/plain": [
       "<IPython.core.display.HTML object>"
      ]
     },
     "metadata": {},
     "output_type": "display_data"
    },
    {
     "data": {
      "text/html": [
       "<span style=\"color:cyan\"> |-Best step: 0</span>"
      ],
      "text/plain": [
       "<IPython.core.display.HTML object>"
      ]
     },
     "metadata": {},
     "output_type": "display_data"
    },
    {
     "data": {
      "text/html": [
       "<span style=\"color:#7E57C2\"><h2 style=\"font-size:16px\">Hyperparameters:</h2></span>"
      ],
      "text/plain": [
       "<IPython.core.display.HTML object>"
      ]
     },
     "metadata": {},
     "output_type": "display_data"
    },
    {
     "data": {
      "text/html": [
       "<span style=\"color:cyan\"> |-optimizer: adam</span>"
      ],
      "text/plain": [
       "<IPython.core.display.HTML object>"
      ]
     },
     "metadata": {},
     "output_type": "display_data"
    },
    {
     "data": {
      "text/html": [
       "<span style=\"color:blue\"> |-regression_head_1/dropout_rate: 0</span>"
      ],
      "text/plain": [
       "<IPython.core.display.HTML object>"
      ]
     },
     "metadata": {},
     "output_type": "display_data"
    },
    {
     "data": {
      "text/html": [
       "<span style=\"color:cyan\"> |-structured_data_block_1/dense_block_1/dropout_rate: 0.0</span>"
      ],
      "text/plain": [
       "<IPython.core.display.HTML object>"
      ]
     },
     "metadata": {},
     "output_type": "display_data"
    },
    {
     "data": {
      "text/html": [
       "<span style=\"color:blue\"> |-structured_data_block_1/dense_block_1/num_layers: 3</span>"
      ],
      "text/plain": [
       "<IPython.core.display.HTML object>"
      ]
     },
     "metadata": {},
     "output_type": "display_data"
    },
    {
     "data": {
      "text/html": [
       "<span style=\"color:cyan\"> |-structured_data_block_1/dense_block_1/units_0: 256</span>"
      ],
      "text/plain": [
       "<IPython.core.display.HTML object>"
      ]
     },
     "metadata": {},
     "output_type": "display_data"
    },
    {
     "data": {
      "text/html": [
       "<span style=\"color:blue\"> |-structured_data_block_1/dense_block_1/units_1: 64</span>"
      ],
      "text/plain": [
       "<IPython.core.display.HTML object>"
      ]
     },
     "metadata": {},
     "output_type": "display_data"
    },
    {
     "data": {
      "text/html": [
       "<span style=\"color:cyan\"> |-structured_data_block_1/dense_block_1/units_2: 32</span>"
      ],
      "text/plain": [
       "<IPython.core.display.HTML object>"
      ]
     },
     "metadata": {},
     "output_type": "display_data"
    },
    {
     "data": {
      "text/html": [
       "<span style=\"color:blue\"> |-structured_data_block_1/dense_block_1/use_batchnorm: False</span>"
      ],
      "text/plain": [
       "<IPython.core.display.HTML object>"
      ]
     },
     "metadata": {},
     "output_type": "display_data"
    },
    {
     "name": "stdout",
     "output_type": "stream",
     "text": [
      "Train for 13 steps, validate for 4 steps\n",
      "Epoch 1/1000\n",
      "13/13 - 3s - loss: 5.7987 - mean_squared_error: 5.7987 - val_loss: 6.5383 - val_mean_squared_error: 6.4052\n",
      "Epoch 2/1000\n",
      "13/13 - 0s - loss: 5.0044 - mean_squared_error: 5.0078 - val_loss: 5.2393 - val_mean_squared_error: 5.1340\n",
      "Epoch 3/1000\n",
      "13/13 - 0s - loss: 4.5099 - mean_squared_error: 4.5119 - val_loss: 4.6249 - val_mean_squared_error: 4.5187\n",
      "Epoch 4/1000\n",
      "13/13 - 0s - loss: 4.0914 - mean_squared_error: 4.0937 - val_loss: 4.4190 - val_mean_squared_error: 4.3145\n",
      "Epoch 5/1000\n",
      "13/13 - 0s - loss: 3.7266 - mean_squared_error: 3.7288 - val_loss: 4.2536 - val_mean_squared_error: 4.1449\n",
      "Epoch 6/1000\n",
      "13/13 - 0s - loss: 3.4376 - mean_squared_error: 3.4413 - val_loss: 4.1457 - val_mean_squared_error: 4.0312\n",
      "Epoch 7/1000\n",
      "13/13 - 0s - loss: 3.2365 - mean_squared_error: 3.2382 - val_loss: 3.9019 - val_mean_squared_error: 3.7866\n",
      "Epoch 8/1000\n",
      "13/13 - 0s - loss: 2.9526 - mean_squared_error: 2.9528 - val_loss: 3.5952 - val_mean_squared_error: 3.4861\n",
      "Epoch 9/1000\n",
      "13/13 - 0s - loss: 2.8212 - mean_squared_error: 2.8224 - val_loss: 3.3719 - val_mean_squared_error: 3.2674\n",
      "Epoch 10/1000\n",
      "13/13 - 0s - loss: 2.6637 - mean_squared_error: 2.6651 - val_loss: 3.1477 - val_mean_squared_error: 3.0484\n",
      "Epoch 11/1000\n",
      "13/13 - 0s - loss: 2.5265 - mean_squared_error: 2.5280 - val_loss: 2.7304 - val_mean_squared_error: 2.6356\n",
      "Epoch 12/1000\n",
      "13/13 - 0s - loss: 2.3573 - mean_squared_error: 2.3574 - val_loss: 2.3350 - val_mean_squared_error: 2.2444\n",
      "Epoch 13/1000\n",
      "13/13 - 1s - loss: 2.3413 - mean_squared_error: 2.3428 - val_loss: 2.1417 - val_mean_squared_error: 2.0554\n",
      "Epoch 14/1000\n",
      "13/13 - 0s - loss: 2.2065 - mean_squared_error: 2.2069 - val_loss: 1.9621 - val_mean_squared_error: 1.8827\n",
      "Epoch 15/1000\n",
      "13/13 - 0s - loss: 2.1383 - mean_squared_error: 2.1392 - val_loss: 1.7776 - val_mean_squared_error: 1.7133\n",
      "Epoch 16/1000\n",
      "13/13 - 0s - loss: 2.0461 - mean_squared_error: 2.0467 - val_loss: 1.7364 - val_mean_squared_error: 1.6810\n",
      "Epoch 17/1000\n",
      "13/13 - 0s - loss: 2.0372 - mean_squared_error: 2.0378 - val_loss: 1.7134 - val_mean_squared_error: 1.6500\n",
      "Epoch 18/1000\n",
      "13/13 - 0s - loss: 2.0003 - mean_squared_error: 2.0019 - val_loss: 1.6419 - val_mean_squared_error: 1.5822\n",
      "Epoch 19/1000\n",
      "13/13 - 0s - loss: 1.8885 - mean_squared_error: 1.8903 - val_loss: 1.7082 - val_mean_squared_error: 1.6552\n",
      "Epoch 20/1000\n",
      "13/13 - 0s - loss: 1.8476 - mean_squared_error: 1.8491 - val_loss: 1.6703 - val_mean_squared_error: 1.6168\n",
      "Epoch 21/1000\n",
      "13/13 - 0s - loss: 1.7735 - mean_squared_error: 1.7748 - val_loss: 1.8685 - val_mean_squared_error: 1.8329\n",
      "Epoch 22/1000\n",
      "13/13 - 0s - loss: 1.7461 - mean_squared_error: 1.7470 - val_loss: 2.1977 - val_mean_squared_error: 2.1868\n",
      "Epoch 23/1000\n",
      "13/13 - 0s - loss: 1.7308 - mean_squared_error: 1.7309 - val_loss: 2.0132 - val_mean_squared_error: 1.9959\n",
      "Epoch 24/1000\n",
      "13/13 - 0s - loss: 1.6841 - mean_squared_error: 1.6854 - val_loss: 1.8725 - val_mean_squared_error: 1.8490\n",
      "Epoch 25/1000\n",
      "13/13 - 0s - loss: 1.6457 - mean_squared_error: 1.6464 - val_loss: 1.7964 - val_mean_squared_error: 1.7739\n",
      "Epoch 26/1000\n",
      "13/13 - 0s - loss: 1.6308 - mean_squared_error: 1.6313 - val_loss: 1.6382 - val_mean_squared_error: 1.6162\n",
      "Epoch 27/1000\n",
      "13/13 - 0s - loss: 1.6429 - mean_squared_error: 1.6435 - val_loss: 1.7110 - val_mean_squared_error: 1.6911\n",
      "Epoch 28/1000\n",
      "13/13 - 0s - loss: 1.6142 - mean_squared_error: 1.6144 - val_loss: 1.5242 - val_mean_squared_error: 1.4891\n",
      "Epoch 29/1000\n",
      "13/13 - 0s - loss: 1.6048 - mean_squared_error: 1.6046 - val_loss: 1.4948 - val_mean_squared_error: 1.4608\n",
      "Epoch 30/1000\n",
      "13/13 - 0s - loss: 1.5480 - mean_squared_error: 1.5486 - val_loss: 1.5487 - val_mean_squared_error: 1.5246\n",
      "Epoch 31/1000\n",
      "13/13 - 0s - loss: 1.5302 - mean_squared_error: 1.5301 - val_loss: 1.6289 - val_mean_squared_error: 1.6113\n",
      "Epoch 32/1000\n",
      "13/13 - 0s - loss: 1.4539 - mean_squared_error: 1.4538 - val_loss: 1.5576 - val_mean_squared_error: 1.5407\n",
      "Epoch 33/1000\n",
      "13/13 - 0s - loss: 1.4305 - mean_squared_error: 1.4308 - val_loss: 1.5336 - val_mean_squared_error: 1.5135\n",
      "Epoch 34/1000\n",
      "13/13 - 0s - loss: 1.4597 - mean_squared_error: 1.4599 - val_loss: 1.5048 - val_mean_squared_error: 1.4722\n",
      "Epoch 35/1000\n",
      "13/13 - 0s - loss: 1.4781 - mean_squared_error: 1.4785 - val_loss: 1.3842 - val_mean_squared_error: 1.3545\n",
      "Epoch 36/1000\n",
      "13/13 - 0s - loss: 1.4314 - mean_squared_error: 1.4315 - val_loss: 1.3841 - val_mean_squared_error: 1.3503\n",
      "Epoch 37/1000\n",
      "13/13 - 0s - loss: 1.4302 - mean_squared_error: 1.4301 - val_loss: 1.4465 - val_mean_squared_error: 1.4108\n",
      "Epoch 38/1000\n",
      "13/13 - 0s - loss: 1.4253 - mean_squared_error: 1.4262 - val_loss: 1.4381 - val_mean_squared_error: 1.4097\n",
      "Epoch 39/1000\n",
      "13/13 - 0s - loss: 1.3889 - mean_squared_error: 1.3892 - val_loss: 1.4929 - val_mean_squared_error: 1.4782\n",
      "Epoch 40/1000\n",
      "13/13 - 0s - loss: 1.3711 - mean_squared_error: 1.3713 - val_loss: 1.4428 - val_mean_squared_error: 1.4199\n",
      "Epoch 41/1000\n",
      "13/13 - 0s - loss: 1.3587 - mean_squared_error: 1.3587 - val_loss: 1.4275 - val_mean_squared_error: 1.4042\n",
      "Epoch 42/1000\n",
      "13/13 - 0s - loss: 1.3370 - mean_squared_error: 1.3373 - val_loss: 1.4817 - val_mean_squared_error: 1.4630\n",
      "Epoch 43/1000\n",
      "13/13 - 0s - loss: 1.3483 - mean_squared_error: 1.3483 - val_loss: 1.4459 - val_mean_squared_error: 1.4289\n",
      "Epoch 44/1000\n",
      "13/13 - 0s - loss: 1.2601 - mean_squared_error: 1.2605 - val_loss: 1.4490 - val_mean_squared_error: 1.4296\n",
      "Epoch 45/1000\n",
      "13/13 - 0s - loss: 1.2629 - mean_squared_error: 1.2632 - val_loss: 1.4385 - val_mean_squared_error: 1.4169\n",
      "Epoch 46/1000\n",
      "13/13 - 0s - loss: 1.2889 - mean_squared_error: 1.2893 - val_loss: 1.4532 - val_mean_squared_error: 1.4308\n"
     ]
    },
    {
     "data": {
      "text/html": [
       "<span style=\"color:#4527A0\"><h1 style=\"font-size:18px\">Trial complete</h1></span>"
      ],
      "text/plain": [
       "<IPython.core.display.HTML object>"
      ]
     },
     "metadata": {},
     "output_type": "display_data"
    },
    {
     "data": {
      "text/html": [
       "<span style=\"color:#4527A0\"><h1 style=\"font-size:18px\">Trial summary</h1></span>"
      ],
      "text/plain": [
       "<IPython.core.display.HTML object>"
      ]
     },
     "metadata": {},
     "output_type": "display_data"
    },
    {
     "data": {
      "text/html": [
       "<span style=\"color:cyan\"> |-Trial ID: a3e4969198a4c5f686ec8caa75dbbf8c</span>"
      ],
      "text/plain": [
       "<IPython.core.display.HTML object>"
      ]
     },
     "metadata": {},
     "output_type": "display_data"
    },
    {
     "data": {
      "text/html": [
       "<span style=\"color:cyan\"> |-Score: 1.3840730488300323</span>"
      ],
      "text/plain": [
       "<IPython.core.display.HTML object>"
      ]
     },
     "metadata": {},
     "output_type": "display_data"
    },
    {
     "data": {
      "text/html": [
       "<span style=\"color:cyan\"> |-Best step: 0</span>"
      ],
      "text/plain": [
       "<IPython.core.display.HTML object>"
      ]
     },
     "metadata": {},
     "output_type": "display_data"
    },
    {
     "data": {
      "text/html": [
       "<span style=\"color:#7E57C2\"><h2 style=\"font-size:16px\">Hyperparameters:</h2></span>"
      ],
      "text/plain": [
       "<IPython.core.display.HTML object>"
      ]
     },
     "metadata": {},
     "output_type": "display_data"
    },
    {
     "data": {
      "text/html": [
       "<span style=\"color:cyan\"> |-optimizer: adam</span>"
      ],
      "text/plain": [
       "<IPython.core.display.HTML object>"
      ]
     },
     "metadata": {},
     "output_type": "display_data"
    },
    {
     "data": {
      "text/html": [
       "<span style=\"color:blue\"> |-regression_head_1/dropout_rate: 0</span>"
      ],
      "text/plain": [
       "<IPython.core.display.HTML object>"
      ]
     },
     "metadata": {},
     "output_type": "display_data"
    },
    {
     "data": {
      "text/html": [
       "<span style=\"color:cyan\"> |-structured_data_block_1/dense_block_1/dropout_rate: 0.5</span>"
      ],
      "text/plain": [
       "<IPython.core.display.HTML object>"
      ]
     },
     "metadata": {},
     "output_type": "display_data"
    },
    {
     "data": {
      "text/html": [
       "<span style=\"color:blue\"> |-structured_data_block_1/dense_block_1/num_layers: 3</span>"
      ],
      "text/plain": [
       "<IPython.core.display.HTML object>"
      ]
     },
     "metadata": {},
     "output_type": "display_data"
    },
    {
     "data": {
      "text/html": [
       "<span style=\"color:cyan\"> |-structured_data_block_1/dense_block_1/units_0: 256</span>"
      ],
      "text/plain": [
       "<IPython.core.display.HTML object>"
      ]
     },
     "metadata": {},
     "output_type": "display_data"
    },
    {
     "data": {
      "text/html": [
       "<span style=\"color:blue\"> |-structured_data_block_1/dense_block_1/units_1: 16</span>"
      ],
      "text/plain": [
       "<IPython.core.display.HTML object>"
      ]
     },
     "metadata": {},
     "output_type": "display_data"
    },
    {
     "data": {
      "text/html": [
       "<span style=\"color:cyan\"> |-structured_data_block_1/dense_block_1/units_2: 16</span>"
      ],
      "text/plain": [
       "<IPython.core.display.HTML object>"
      ]
     },
     "metadata": {},
     "output_type": "display_data"
    },
    {
     "data": {
      "text/html": [
       "<span style=\"color:blue\"> |-structured_data_block_1/dense_block_1/use_batchnorm: True</span>"
      ],
      "text/plain": [
       "<IPython.core.display.HTML object>"
      ]
     },
     "metadata": {},
     "output_type": "display_data"
    },
    {
     "name": "stdout",
     "output_type": "stream",
     "text": [
      "Train for 13 steps, validate for 4 steps\n",
      "Epoch 1/1000\n",
      "13/13 - 2s - loss: 4.8048 - mean_squared_error: 4.8151 - val_loss: 9.4577 - val_mean_squared_error: 9.6043\n",
      "Epoch 2/1000\n",
      "13/13 - 0s - loss: 3.2739 - mean_squared_error: 3.2740 - val_loss: 2.6505 - val_mean_squared_error: 2.6854\n",
      "Epoch 3/1000\n",
      "13/13 - 0s - loss: 2.7733 - mean_squared_error: 2.7745 - val_loss: 4.1435 - val_mean_squared_error: 4.2317\n",
      "Epoch 4/1000\n",
      "13/13 - 0s - loss: 2.5195 - mean_squared_error: 2.5206 - val_loss: 7.0388 - val_mean_squared_error: 7.1461\n",
      "Epoch 5/1000\n",
      "13/13 - 0s - loss: 2.2948 - mean_squared_error: 2.2963 - val_loss: 13.8622 - val_mean_squared_error: 13.9824\n",
      "Epoch 6/1000\n",
      "13/13 - 0s - loss: 1.9609 - mean_squared_error: 1.9612 - val_loss: 16.5434 - val_mean_squared_error: 16.7572\n",
      "Epoch 7/1000\n",
      "13/13 - 0s - loss: 1.9585 - mean_squared_error: 1.9597 - val_loss: 21.2478 - val_mean_squared_error: 21.4510\n",
      "Epoch 8/1000\n",
      "13/13 - 0s - loss: 1.8353 - mean_squared_error: 1.8362 - val_loss: 21.0340 - val_mean_squared_error: 21.2682\n",
      "Epoch 9/1000\n",
      "13/13 - 0s - loss: 1.8160 - mean_squared_error: 1.8180 - val_loss: 21.0916 - val_mean_squared_error: 21.2689\n",
      "Epoch 10/1000\n",
      "13/13 - 0s - loss: 1.6621 - mean_squared_error: 1.6617 - val_loss: 23.0138 - val_mean_squared_error: 23.1944\n",
      "Epoch 11/1000\n",
      "13/13 - 0s - loss: 1.6283 - mean_squared_error: 1.6275 - val_loss: 25.6131 - val_mean_squared_error: 25.7939\n",
      "Epoch 12/1000\n",
      "13/13 - 0s - loss: 1.6107 - mean_squared_error: 1.6113 - val_loss: 23.3517 - val_mean_squared_error: 23.5219\n"
     ]
    },
    {
     "data": {
      "text/html": [
       "<span style=\"color:#4527A0\"><h1 style=\"font-size:18px\">Trial complete</h1></span>"
      ],
      "text/plain": [
       "<IPython.core.display.HTML object>"
      ]
     },
     "metadata": {},
     "output_type": "display_data"
    },
    {
     "data": {
      "text/html": [
       "<span style=\"color:#4527A0\"><h1 style=\"font-size:18px\">Trial summary</h1></span>"
      ],
      "text/plain": [
       "<IPython.core.display.HTML object>"
      ]
     },
     "metadata": {},
     "output_type": "display_data"
    },
    {
     "data": {
      "text/html": [
       "<span style=\"color:cyan\"> |-Trial ID: 42a01da1e27453301c204a353644e049</span>"
      ],
      "text/plain": [
       "<IPython.core.display.HTML object>"
      ]
     },
     "metadata": {},
     "output_type": "display_data"
    },
    {
     "data": {
      "text/html": [
       "<span style=\"color:cyan\"> |-Score: 2.6505001187324524</span>"
      ],
      "text/plain": [
       "<IPython.core.display.HTML object>"
      ]
     },
     "metadata": {},
     "output_type": "display_data"
    },
    {
     "data": {
      "text/html": [
       "<span style=\"color:cyan\"> |-Best step: 0</span>"
      ],
      "text/plain": [
       "<IPython.core.display.HTML object>"
      ]
     },
     "metadata": {},
     "output_type": "display_data"
    },
    {
     "data": {
      "text/html": [
       "<span style=\"color:#7E57C2\"><h2 style=\"font-size:16px\">Hyperparameters:</h2></span>"
      ],
      "text/plain": [
       "<IPython.core.display.HTML object>"
      ]
     },
     "metadata": {},
     "output_type": "display_data"
    },
    {
     "data": {
      "text/html": [
       "<span style=\"color:cyan\"> |-optimizer: adam</span>"
      ],
      "text/plain": [
       "<IPython.core.display.HTML object>"
      ]
     },
     "metadata": {},
     "output_type": "display_data"
    },
    {
     "data": {
      "text/html": [
       "<span style=\"color:blue\"> |-regression_head_1/dropout_rate: 0</span>"
      ],
      "text/plain": [
       "<IPython.core.display.HTML object>"
      ]
     },
     "metadata": {},
     "output_type": "display_data"
    },
    {
     "data": {
      "text/html": [
       "<span style=\"color:cyan\"> |-structured_data_block_1/dense_block_1/dropout_rate: 0.5</span>"
      ],
      "text/plain": [
       "<IPython.core.display.HTML object>"
      ]
     },
     "metadata": {},
     "output_type": "display_data"
    },
    {
     "data": {
      "text/html": [
       "<span style=\"color:blue\"> |-structured_data_block_1/dense_block_1/num_layers: 1</span>"
      ],
      "text/plain": [
       "<IPython.core.display.HTML object>"
      ]
     },
     "metadata": {},
     "output_type": "display_data"
    },
    {
     "data": {
      "text/html": [
       "<span style=\"color:cyan\"> |-structured_data_block_1/dense_block_1/units_0: 512</span>"
      ],
      "text/plain": [
       "<IPython.core.display.HTML object>"
      ]
     },
     "metadata": {},
     "output_type": "display_data"
    },
    {
     "data": {
      "text/html": [
       "<span style=\"color:blue\"> |-structured_data_block_1/dense_block_1/units_1: 64</span>"
      ],
      "text/plain": [
       "<IPython.core.display.HTML object>"
      ]
     },
     "metadata": {},
     "output_type": "display_data"
    },
    {
     "data": {
      "text/html": [
       "<span style=\"color:cyan\"> |-structured_data_block_1/dense_block_1/units_2: 128</span>"
      ],
      "text/plain": [
       "<IPython.core.display.HTML object>"
      ]
     },
     "metadata": {},
     "output_type": "display_data"
    },
    {
     "data": {
      "text/html": [
       "<span style=\"color:blue\"> |-structured_data_block_1/dense_block_1/use_batchnorm: True</span>"
      ],
      "text/plain": [
       "<IPython.core.display.HTML object>"
      ]
     },
     "metadata": {},
     "output_type": "display_data"
    },
    {
     "name": "stdout",
     "output_type": "stream",
     "text": [
      "INFO:tensorflow:Oracle triggered exit\n",
      "Train for 17 steps, validate for 4 steps\n",
      "Epoch 1/1000\n",
      "17/17 - 1s - loss: 20417.7982 - mean_squared_error: 21164.0781 - val_loss: 4879.2806 - val_mean_squared_error: 5015.5986\n",
      "Epoch 2/1000\n",
      "17/17 - 0s - loss: 1098.0333 - mean_squared_error: 1148.8916 - val_loss: 172.7155 - val_mean_squared_error: 175.1030\n",
      "Epoch 3/1000\n",
      "17/17 - 0s - loss: 331.8808 - mean_squared_error: 335.8007 - val_loss: 227.7516 - val_mean_squared_error: 230.9853\n",
      "Epoch 4/1000\n",
      "17/17 - 1s - loss: 76.8465 - mean_squared_error: 80.2391 - val_loss: 20.3052 - val_mean_squared_error: 22.4126\n",
      "Epoch 5/1000\n",
      "17/17 - 0s - loss: 31.7624 - mean_squared_error: 32.6895 - val_loss: 20.7614 - val_mean_squared_error: 22.8418\n",
      "Epoch 6/1000\n",
      "17/17 - 0s - loss: 21.7420 - mean_squared_error: 22.3315 - val_loss: 15.4240 - val_mean_squared_error: 16.6211\n",
      "Epoch 7/1000\n",
      "17/17 - 0s - loss: 20.4563 - mean_squared_error: 21.0334 - val_loss: 14.2724 - val_mean_squared_error: 15.5154\n",
      "Epoch 8/1000\n",
      "17/17 - 0s - loss: 19.3436 - mean_squared_error: 19.8934 - val_loss: 13.7544 - val_mean_squared_error: 14.9927\n",
      "Epoch 9/1000\n",
      "17/17 - 1s - loss: 18.5695 - mean_squared_error: 19.0827 - val_loss: 13.2156 - val_mean_squared_error: 14.3331\n",
      "Epoch 10/1000\n",
      "17/17 - 1s - loss: 17.8619 - mean_squared_error: 18.3503 - val_loss: 12.7236 - val_mean_squared_error: 13.7787\n",
      "Epoch 11/1000\n",
      "17/17 - 0s - loss: 17.1732 - mean_squared_error: 17.6369 - val_loss: 12.2572 - val_mean_squared_error: 13.2477\n",
      "Epoch 12/1000\n",
      "17/17 - 1s - loss: 16.5053 - mean_squared_error: 16.9429 - val_loss: 11.8167 - val_mean_squared_error: 12.7384\n",
      "Epoch 13/1000\n",
      "17/17 - 0s - loss: 15.8655 - mean_squared_error: 16.2786 - val_loss: 11.3988 - val_mean_squared_error: 12.2576\n",
      "Epoch 14/1000\n",
      "17/17 - 0s - loss: 15.2495 - mean_squared_error: 15.6384 - val_loss: 11.0044 - val_mean_squared_error: 11.8015\n",
      "Epoch 15/1000\n",
      "17/17 - 0s - loss: 14.6599 - mean_squared_error: 15.0253 - val_loss: 10.6328 - val_mean_squared_error: 11.3710\n",
      "Epoch 16/1000\n",
      "17/17 - 1s - loss: 14.0964 - mean_squared_error: 14.4393 - val_loss: 10.2825 - val_mean_squared_error: 10.9645\n",
      "Epoch 17/1000\n",
      "17/17 - 1s - loss: 13.5582 - mean_squared_error: 13.8793 - val_loss: 9.9520 - val_mean_squared_error: 10.5806\n",
      "Epoch 18/1000\n",
      "17/17 - 1s - loss: 13.0443 - mean_squared_error: 13.3444 - val_loss: 9.6401 - val_mean_squared_error: 10.2180\n",
      "Epoch 19/1000\n",
      "17/17 - 0s - loss: 12.5536 - mean_squared_error: 12.8336 - val_loss: 9.3453 - val_mean_squared_error: 9.8750\n",
      "Epoch 20/1000\n",
      "17/17 - 0s - loss: 12.0851 - mean_squared_error: 12.3458 - val_loss: 9.0663 - val_mean_squared_error: 9.5504\n",
      "Epoch 21/1000\n",
      "17/17 - 0s - loss: 11.6379 - mean_squared_error: 11.8802 - val_loss: 8.8021 - val_mean_squared_error: 9.2430\n",
      "Epoch 22/1000\n",
      "17/17 - 0s - loss: 11.2111 - mean_squared_error: 11.4358 - val_loss: 8.5514 - val_mean_squared_error: 8.9513\n",
      "Epoch 23/1000\n",
      "17/17 - 0s - loss: 10.8037 - mean_squared_error: 11.0116 - val_loss: 8.3133 - val_mean_squared_error: 8.6743\n",
      "Epoch 24/1000\n",
      "17/17 - 0s - loss: 10.4149 - mean_squared_error: 10.6067 - val_loss: 8.0867 - val_mean_squared_error: 8.4107\n",
      "Epoch 25/1000\n",
      "17/17 - 0s - loss: 10.0435 - mean_squared_error: 10.2201 - val_loss: 7.8709 - val_mean_squared_error: 8.1599\n",
      "Epoch 26/1000\n",
      "17/17 - 0s - loss: 9.6722 - mean_squared_error: 9.8331 - val_loss: 7.6517 - val_mean_squared_error: 7.9031\n",
      "Epoch 27/1000\n",
      "17/17 - 1s - loss: 9.2754 - mean_squared_error: 9.4197 - val_loss: 7.4345 - val_mean_squared_error: 7.6502\n",
      "Epoch 28/1000\n",
      "17/17 - 0s - loss: 8.8959 - mean_squared_error: 9.0243 - val_loss: 7.2299 - val_mean_squared_error: 7.4120\n",
      "Epoch 29/1000\n",
      "17/17 - 0s - loss: 8.5403 - mean_squared_error: 8.6539 - val_loss: 7.0369 - val_mean_squared_error: 7.1883\n",
      "Epoch 30/1000\n",
      "17/17 - 0s - loss: 8.2078 - mean_squared_error: 8.3077 - val_loss: 6.8557 - val_mean_squared_error: 6.9784\n",
      "Epoch 31/1000\n",
      "17/17 - 0s - loss: 7.8971 - mean_squared_error: 7.9843 - val_loss: 6.6849 - val_mean_squared_error: 6.7814\n",
      "Epoch 32/1000\n",
      "17/17 - 1s - loss: 7.6070 - mean_squared_error: 7.6827 - val_loss: 6.5240 - val_mean_squared_error: 6.5966\n",
      "Epoch 33/1000\n",
      "17/17 - 1s - loss: 7.3363 - mean_squared_error: 7.4014 - val_loss: 6.3724 - val_mean_squared_error: 6.4232\n",
      "Epoch 34/1000\n",
      "17/17 - 1s - loss: 7.0838 - mean_squared_error: 7.1391 - val_loss: 6.2294 - val_mean_squared_error: 6.2604\n",
      "Epoch 35/1000\n",
      "17/17 - 1s - loss: 6.8482 - mean_squared_error: 6.8947 - val_loss: 6.0945 - val_mean_squared_error: 6.1075\n",
      "Epoch 36/1000\n",
      "17/17 - 0s - loss: 6.6284 - mean_squared_error: 6.6669 - val_loss: 5.9670 - val_mean_squared_error: 5.9638\n",
      "Epoch 37/1000\n",
      "17/17 - 1s - loss: 6.4235 - mean_squared_error: 6.4546 - val_loss: 5.8463 - val_mean_squared_error: 5.8284\n",
      "Epoch 38/1000\n",
      "17/17 - 0s - loss: 6.2323 - mean_squared_error: 6.2567 - val_loss: 5.7321 - val_mean_squared_error: 5.7010\n",
      "Epoch 39/1000\n",
      "17/17 - 1s - loss: 6.0540 - mean_squared_error: 6.0724 - val_loss: 5.6241 - val_mean_squared_error: 5.5810\n",
      "Epoch 40/1000\n",
      "17/17 - 0s - loss: 5.8877 - mean_squared_error: 5.9006 - val_loss: 5.5219 - val_mean_squared_error: 5.4679\n",
      "Epoch 41/1000\n",
      "17/17 - 1s - loss: 5.7326 - mean_squared_error: 5.7405 - val_loss: 5.4248 - val_mean_squared_error: 5.3613\n",
      "Epoch 42/1000\n",
      "17/17 - 0s - loss: 5.5877 - mean_squared_error: 5.5912 - val_loss: 5.3327 - val_mean_squared_error: 5.2607\n",
      "Epoch 43/1000\n",
      "17/17 - 0s - loss: 5.4525 - mean_squared_error: 5.4519 - val_loss: 5.2452 - val_mean_squared_error: 5.1657\n",
      "Epoch 44/1000\n",
      "17/17 - 1s - loss: 5.3261 - mean_squared_error: 5.3220 - val_loss: 5.1619 - val_mean_squared_error: 5.0758\n",
      "Epoch 45/1000\n",
      "17/17 - 0s - loss: 5.2079 - mean_squared_error: 5.2006 - val_loss: 5.0825 - val_mean_squared_error: 4.9906\n",
      "Epoch 46/1000\n",
      "17/17 - 0s - loss: 5.0972 - mean_squared_error: 5.0871 - val_loss: 5.0067 - val_mean_squared_error: 4.9097\n",
      "Epoch 47/1000\n",
      "17/17 - 1s - loss: 4.9935 - mean_squared_error: 4.9810 - val_loss: 4.9342 - val_mean_squared_error: 4.8329\n",
      "Epoch 48/1000\n",
      "17/17 - 0s - loss: 4.8963 - mean_squared_error: 4.8815 - val_loss: 4.8648 - val_mean_squared_error: 4.7598\n",
      "Epoch 49/1000\n",
      "17/17 - 0s - loss: 4.8049 - mean_squared_error: 4.7882 - val_loss: 4.7982 - val_mean_squared_error: 4.6900\n",
      "Epoch 50/1000\n",
      "17/17 - 0s - loss: 4.7189 - mean_squared_error: 4.7005 - val_loss: 4.7341 - val_mean_squared_error: 4.6234\n",
      "Epoch 51/1000\n",
      "17/17 - 0s - loss: 4.6378 - mean_squared_error: 4.6180 - val_loss: 4.6725 - val_mean_squared_error: 4.5596\n",
      "Epoch 52/1000\n",
      "17/17 - 1s - loss: 4.5612 - mean_squared_error: 4.5402 - val_loss: 4.6131 - val_mean_squared_error: 4.4984\n",
      "Epoch 53/1000\n",
      "17/17 - 0s - loss: 4.4888 - mean_squared_error: 4.4668 - val_loss: 4.5557 - val_mean_squared_error: 4.4397\n",
      "Epoch 54/1000\n",
      "17/17 - 1s - loss: 4.4202 - mean_squared_error: 4.3972 - val_loss: 4.5002 - val_mean_squared_error: 4.3832\n",
      "Epoch 55/1000\n",
      "17/17 - 0s - loss: 4.3550 - mean_squared_error: 4.3313 - val_loss: 4.4464 - val_mean_squared_error: 4.3287\n",
      "Epoch 56/1000\n",
      "17/17 - 0s - loss: 4.2929 - mean_squared_error: 4.2687 - val_loss: 4.3942 - val_mean_squared_error: 4.2761\n",
      "Epoch 57/1000\n",
      "17/17 - 0s - loss: 4.2338 - mean_squared_error: 4.2090 - val_loss: 4.3436 - val_mean_squared_error: 4.2252\n",
      "Epoch 58/1000\n",
      "17/17 - 1s - loss: 4.1772 - mean_squared_error: 4.1521 - val_loss: 4.2943 - val_mean_squared_error: 4.1759\n",
      "Epoch 59/1000\n",
      "17/17 - 1s - loss: 4.1231 - mean_squared_error: 4.0977 - val_loss: 4.2462 - val_mean_squared_error: 4.1280\n",
      "Epoch 60/1000\n",
      "17/17 - 1s - loss: 4.0711 - mean_squared_error: 4.0455 - val_loss: 4.1993 - val_mean_squared_error: 4.0815\n",
      "Epoch 61/1000\n",
      "17/17 - 1s - loss: 4.0212 - mean_squared_error: 3.9954 - val_loss: 4.1536 - val_mean_squared_error: 4.0362\n",
      "Epoch 62/1000\n",
      "17/17 - 1s - loss: 3.9730 - mean_squared_error: 3.9472 - val_loss: 4.1088 - val_mean_squared_error: 3.9921\n",
      "Epoch 63/1000\n",
      "17/17 - 1s - loss: 3.9265 - mean_squared_error: 3.9007 - val_loss: 4.0650 - val_mean_squared_error: 3.9490\n",
      "Epoch 64/1000\n",
      "17/17 - 1s - loss: 3.8816 - mean_squared_error: 3.8558 - val_loss: 4.0221 - val_mean_squared_error: 3.9069\n",
      "Epoch 65/1000\n",
      "17/17 - 1s - loss: 3.8380 - mean_squared_error: 3.8122 - val_loss: 3.9800 - val_mean_squared_error: 3.8657\n",
      "Epoch 66/1000\n",
      "17/17 - 1s - loss: 3.7957 - mean_squared_error: 3.7700 - val_loss: 3.9388 - val_mean_squared_error: 3.8254\n",
      "Epoch 67/1000\n",
      "17/17 - 1s - loss: 3.7546 - mean_squared_error: 3.7291 - val_loss: 3.8982 - val_mean_squared_error: 3.7858\n"
     ]
    },
    {
     "name": "stdout",
     "output_type": "stream",
     "text": [
      "Epoch 68/1000\n",
      "17/17 - 0s - loss: 3.7145 - mean_squared_error: 3.6892 - val_loss: 3.8583 - val_mean_squared_error: 3.7470\n",
      "Epoch 69/1000\n",
      "17/17 - 1s - loss: 3.6755 - mean_squared_error: 3.6504 - val_loss: 3.8191 - val_mean_squared_error: 3.7089\n",
      "Epoch 70/1000\n",
      "17/17 - 0s - loss: 3.6374 - mean_squared_error: 3.6125 - val_loss: 3.7805 - val_mean_squared_error: 3.6714\n",
      "Epoch 71/1000\n",
      "17/17 - 0s - loss: 3.6002 - mean_squared_error: 3.5755 - val_loss: 3.7425 - val_mean_squared_error: 3.6345\n",
      "Epoch 72/1000\n",
      "17/17 - 0s - loss: 3.5638 - mean_squared_error: 3.5393 - val_loss: 3.7051 - val_mean_squared_error: 3.5983\n",
      "Epoch 73/1000\n",
      "17/17 - 0s - loss: 3.5282 - mean_squared_error: 3.5040 - val_loss: 3.6683 - val_mean_squared_error: 3.5627\n",
      "Epoch 74/1000\n",
      "17/17 - 0s - loss: 3.4932 - mean_squared_error: 3.4693 - val_loss: 3.6320 - val_mean_squared_error: 3.5276\n",
      "Epoch 75/1000\n",
      "17/17 - 0s - loss: 3.4590 - mean_squared_error: 3.4354 - val_loss: 3.5962 - val_mean_squared_error: 3.4932\n",
      "Epoch 76/1000\n",
      "17/17 - 0s - loss: 3.4254 - mean_squared_error: 3.4020 - val_loss: 3.5610 - val_mean_squared_error: 3.4592\n",
      "Epoch 77/1000\n",
      "17/17 - 0s - loss: 3.3922 - mean_squared_error: 3.3691 - val_loss: 3.5262 - val_mean_squared_error: 3.4257\n",
      "Epoch 78/1000\n",
      "17/17 - 0s - loss: 3.3597 - mean_squared_error: 3.3369 - val_loss: 3.4920 - val_mean_squared_error: 3.3927\n",
      "Epoch 79/1000\n",
      "17/17 - 1s - loss: 3.3277 - mean_squared_error: 3.3052 - val_loss: 3.4581 - val_mean_squared_error: 3.3602\n",
      "Epoch 80/1000\n",
      "17/17 - 1s - loss: 3.2962 - mean_squared_error: 3.2740 - val_loss: 3.4247 - val_mean_squared_error: 3.3281\n",
      "Epoch 81/1000\n",
      "17/17 - 1s - loss: 3.2652 - mean_squared_error: 3.2433 - val_loss: 3.3917 - val_mean_squared_error: 3.2965\n",
      "Epoch 82/1000\n",
      "17/17 - 0s - loss: 3.2347 - mean_squared_error: 3.2131 - val_loss: 3.3592 - val_mean_squared_error: 3.2653\n",
      "Epoch 83/1000\n",
      "17/17 - 1s - loss: 3.2046 - mean_squared_error: 3.1833 - val_loss: 3.3271 - val_mean_squared_error: 3.2345\n",
      "Epoch 84/1000\n",
      "17/17 - 0s - loss: 3.1750 - mean_squared_error: 3.1540 - val_loss: 3.2955 - val_mean_squared_error: 3.2042\n",
      "Epoch 85/1000\n",
      "17/17 - 0s - loss: 3.1458 - mean_squared_error: 3.1251 - val_loss: 3.2641 - val_mean_squared_error: 3.1743\n",
      "Epoch 86/1000\n",
      "17/17 - 1s - loss: 3.1170 - mean_squared_error: 3.0966 - val_loss: 3.2333 - val_mean_squared_error: 3.1447\n",
      "Epoch 87/1000\n",
      "17/17 - 0s - loss: 3.0886 - mean_squared_error: 3.0685 - val_loss: 3.2028 - val_mean_squared_error: 3.1156\n",
      "Epoch 88/1000\n",
      "17/17 - 0s - loss: 3.0605 - mean_squared_error: 3.0407 - val_loss: 3.1726 - val_mean_squared_error: 3.0868\n",
      "Epoch 89/1000\n",
      "17/17 - 0s - loss: 3.0328 - mean_squared_error: 3.0133 - val_loss: 3.1428 - val_mean_squared_error: 3.0584\n",
      "Epoch 90/1000\n",
      "17/17 - 0s - loss: 3.0055 - mean_squared_error: 2.9863 - val_loss: 3.1134 - val_mean_squared_error: 3.0303\n",
      "Epoch 91/1000\n",
      "17/17 - 1s - loss: 2.9784 - mean_squared_error: 2.9595 - val_loss: 3.0843 - val_mean_squared_error: 3.0025\n",
      "Epoch 92/1000\n",
      "17/17 - 0s - loss: 2.9516 - mean_squared_error: 2.9330 - val_loss: 3.0555 - val_mean_squared_error: 2.9751\n",
      "Epoch 93/1000\n",
      "17/17 - 0s - loss: 2.9252 - mean_squared_error: 2.9068 - val_loss: 3.0270 - val_mean_squared_error: 2.9480\n",
      "Epoch 94/1000\n",
      "17/17 - 1s - loss: 2.8990 - mean_squared_error: 2.8810 - val_loss: 2.9988 - val_mean_squared_error: 2.9212\n",
      "Epoch 95/1000\n",
      "17/17 - 0s - loss: 2.8731 - mean_squared_error: 2.8554 - val_loss: 2.9709 - val_mean_squared_error: 2.8946\n",
      "Epoch 96/1000\n",
      "17/17 - 1s - loss: 2.8474 - mean_squared_error: 2.8300 - val_loss: 2.9432 - val_mean_squared_error: 2.8683\n",
      "Epoch 97/1000\n",
      "17/17 - 1s - loss: 2.8221 - mean_squared_error: 2.8049 - val_loss: 2.9159 - val_mean_squared_error: 2.8423\n",
      "Epoch 98/1000\n",
      "17/17 - 0s - loss: 2.7969 - mean_squared_error: 2.7801 - val_loss: 2.8888 - val_mean_squared_error: 2.8166\n",
      "Epoch 99/1000\n",
      "17/17 - 0s - loss: 2.7720 - mean_squared_error: 2.7555 - val_loss: 2.8620 - val_mean_squared_error: 2.7911\n",
      "Epoch 100/1000\n",
      "17/17 - 0s - loss: 2.7473 - mean_squared_error: 2.7311 - val_loss: 2.8355 - val_mean_squared_error: 2.7659\n",
      "Epoch 101/1000\n",
      "17/17 - 0s - loss: 2.7229 - mean_squared_error: 2.7069 - val_loss: 2.8092 - val_mean_squared_error: 2.7409\n",
      "Epoch 102/1000\n",
      "17/17 - 0s - loss: 2.6986 - mean_squared_error: 2.6829 - val_loss: 2.7831 - val_mean_squared_error: 2.7161\n",
      "Epoch 103/1000\n",
      "17/17 - 0s - loss: 2.6746 - mean_squared_error: 2.6592 - val_loss: 2.7572 - val_mean_squared_error: 2.6915\n",
      "Epoch 104/1000\n",
      "17/17 - 0s - loss: 2.6507 - mean_squared_error: 2.6356 - val_loss: 2.7316 - val_mean_squared_error: 2.6672\n",
      "Epoch 105/1000\n",
      "17/17 - 0s - loss: 2.6271 - mean_squared_error: 2.6122 - val_loss: 2.7062 - val_mean_squared_error: 2.6430\n",
      "Epoch 106/1000\n",
      "17/17 - 0s - loss: 2.6036 - mean_squared_error: 2.5890 - val_loss: 2.6809 - val_mean_squared_error: 2.6190\n",
      "Epoch 107/1000\n",
      "17/17 - 1s - loss: 2.5803 - mean_squared_error: 2.5660 - val_loss: 2.6559 - val_mean_squared_error: 2.5952\n",
      "Epoch 108/1000\n",
      "17/17 - 0s - loss: 2.5572 - mean_squared_error: 2.5432 - val_loss: 2.6310 - val_mean_squared_error: 2.5716\n",
      "Epoch 109/1000\n",
      "17/17 - 0s - loss: 2.5343 - mean_squared_error: 2.5205 - val_loss: 2.6064 - val_mean_squared_error: 2.5482\n",
      "Epoch 110/1000\n",
      "17/17 - 0s - loss: 2.5116 - mean_squared_error: 2.4980 - val_loss: 2.5820 - val_mean_squared_error: 2.5250\n",
      "Epoch 111/1000\n",
      "17/17 - 0s - loss: 2.4890 - mean_squared_error: 2.4757 - val_loss: 2.5578 - val_mean_squared_error: 2.5020\n",
      "Epoch 112/1000\n",
      "17/17 - 0s - loss: 2.4666 - mean_squared_error: 2.4536 - val_loss: 2.5338 - val_mean_squared_error: 2.4792\n",
      "Epoch 113/1000\n",
      "17/17 - 1s - loss: 2.4443 - mean_squared_error: 2.4315 - val_loss: 2.5099 - val_mean_squared_error: 2.4566\n",
      "Epoch 114/1000\n",
      "17/17 - 0s - loss: 2.4221 - mean_squared_error: 2.4096 - val_loss: 2.4863 - val_mean_squared_error: 2.4342\n",
      "Epoch 115/1000\n",
      "17/17 - 1s - loss: 2.4001 - mean_squared_error: 2.3879 - val_loss: 2.4628 - val_mean_squared_error: 2.4118\n",
      "Epoch 116/1000\n",
      "17/17 - 0s - loss: 2.3783 - mean_squared_error: 2.3664 - val_loss: 2.4395 - val_mean_squared_error: 2.3897\n",
      "Epoch 117/1000\n",
      "17/17 - 1s - loss: 2.3566 - mean_squared_error: 2.3448 - val_loss: 2.4161 - val_mean_squared_error: 2.3675\n",
      "Epoch 118/1000\n",
      "17/17 - 0s - loss: 2.3350 - mean_squared_error: 2.3235 - val_loss: 2.3930 - val_mean_squared_error: 2.3454\n",
      "Epoch 119/1000\n",
      "17/17 - 0s - loss: 2.3135 - mean_squared_error: 2.3022 - val_loss: 2.3699 - val_mean_squared_error: 2.3235\n",
      "Epoch 120/1000\n",
      "17/17 - 0s - loss: 2.2922 - mean_squared_error: 2.2812 - val_loss: 2.3470 - val_mean_squared_error: 2.3016\n",
      "Epoch 121/1000\n",
      "17/17 - 0s - loss: 2.2710 - mean_squared_error: 2.2602 - val_loss: 2.3242 - val_mean_squared_error: 2.2799\n",
      "Epoch 122/1000\n",
      "17/17 - 0s - loss: 2.2500 - mean_squared_error: 2.2395 - val_loss: 2.3015 - val_mean_squared_error: 2.2584\n",
      "Epoch 123/1000\n",
      "17/17 - 0s - loss: 2.2292 - mean_squared_error: 2.2189 - val_loss: 2.2791 - val_mean_squared_error: 2.2370\n",
      "Epoch 124/1000\n",
      "17/17 - 0s - loss: 2.2085 - mean_squared_error: 2.1984 - val_loss: 2.2568 - val_mean_squared_error: 2.2158\n",
      "Epoch 125/1000\n",
      "17/17 - 0s - loss: 2.1879 - mean_squared_error: 2.1781 - val_loss: 2.2346 - val_mean_squared_error: 2.1946\n",
      "Epoch 126/1000\n",
      "17/17 - 0s - loss: 2.1675 - mean_squared_error: 2.1579 - val_loss: 2.2126 - val_mean_squared_error: 2.1737\n",
      "Epoch 127/1000\n",
      "17/17 - 1s - loss: 2.1472 - mean_squared_error: 2.1379 - val_loss: 2.1908 - val_mean_squared_error: 2.1529\n",
      "Epoch 128/1000\n",
      "17/17 - 0s - loss: 2.1271 - mean_squared_error: 2.1180 - val_loss: 2.1692 - val_mean_squared_error: 2.1324\n",
      "Epoch 129/1000\n",
      "17/17 - 1s - loss: 2.1070 - mean_squared_error: 2.0982 - val_loss: 2.1478 - val_mean_squared_error: 2.1119\n",
      "Epoch 130/1000\n",
      "17/17 - 0s - loss: 2.0872 - mean_squared_error: 2.0786 - val_loss: 2.1265 - val_mean_squared_error: 2.0917\n",
      "Epoch 131/1000\n",
      "17/17 - 0s - loss: 2.0676 - mean_squared_error: 2.0592 - val_loss: 2.1053 - val_mean_squared_error: 2.0715\n",
      "Epoch 132/1000\n",
      "17/17 - 1s - loss: 2.0481 - mean_squared_error: 2.0400 - val_loss: 2.0842 - val_mean_squared_error: 2.0515\n",
      "Epoch 133/1000\n",
      "17/17 - 0s - loss: 2.0288 - mean_squared_error: 2.0209 - val_loss: 2.0634 - val_mean_squared_error: 2.0317\n",
      "Epoch 134/1000\n",
      "17/17 - 1s - loss: 2.0096 - mean_squared_error: 2.0019 - val_loss: 2.0427 - val_mean_squared_error: 2.0120\n",
      "Epoch 135/1000\n",
      "17/17 - 0s - loss: 1.9905 - mean_squared_error: 1.9831 - val_loss: 2.0221 - val_mean_squared_error: 1.9925\n"
     ]
    },
    {
     "name": "stdout",
     "output_type": "stream",
     "text": [
      "Epoch 136/1000\n",
      "17/17 - 0s - loss: 1.9716 - mean_squared_error: 1.9645 - val_loss: 2.0018 - val_mean_squared_error: 1.9732\n",
      "Epoch 137/1000\n",
      "17/17 - 1s - loss: 1.9529 - mean_squared_error: 1.9460 - val_loss: 1.9818 - val_mean_squared_error: 1.9541\n",
      "Epoch 138/1000\n",
      "17/17 - 0s - loss: 1.9344 - mean_squared_error: 1.9277 - val_loss: 1.9620 - val_mean_squared_error: 1.9353\n",
      "Epoch 139/1000\n",
      "17/17 - 0s - loss: 1.9160 - mean_squared_error: 1.9095 - val_loss: 1.9425 - val_mean_squared_error: 1.9167\n",
      "Epoch 140/1000\n",
      "17/17 - 0s - loss: 1.8977 - mean_squared_error: 1.8915 - val_loss: 1.9231 - val_mean_squared_error: 1.8983\n",
      "Epoch 141/1000\n",
      "17/17 - 0s - loss: 1.8796 - mean_squared_error: 1.8736 - val_loss: 1.9039 - val_mean_squared_error: 1.8801\n",
      "Epoch 142/1000\n",
      "17/17 - 0s - loss: 1.8617 - mean_squared_error: 1.8559 - val_loss: 1.8851 - val_mean_squared_error: 1.8622\n",
      "Epoch 143/1000\n",
      "17/17 - 1s - loss: 1.8439 - mean_squared_error: 1.8383 - val_loss: 1.8665 - val_mean_squared_error: 1.8444\n",
      "Epoch 144/1000\n",
      "17/17 - 0s - loss: 1.8262 - mean_squared_error: 1.8208 - val_loss: 1.8481 - val_mean_squared_error: 1.8269\n",
      "Epoch 145/1000\n",
      "17/17 - 0s - loss: 1.8088 - mean_squared_error: 1.8035 - val_loss: 1.8298 - val_mean_squared_error: 1.8096\n",
      "Epoch 146/1000\n",
      "17/17 - 0s - loss: 1.7914 - mean_squared_error: 1.7864 - val_loss: 1.8118 - val_mean_squared_error: 1.7924\n",
      "Epoch 147/1000\n",
      "17/17 - 0s - loss: 1.7743 - mean_squared_error: 1.7695 - val_loss: 1.7939 - val_mean_squared_error: 1.7755\n",
      "Epoch 148/1000\n",
      "17/17 - 0s - loss: 1.7573 - mean_squared_error: 1.7527 - val_loss: 1.7763 - val_mean_squared_error: 1.7586\n",
      "Epoch 149/1000\n",
      "17/17 - 0s - loss: 1.7404 - mean_squared_error: 1.7360 - val_loss: 1.7588 - val_mean_squared_error: 1.7419\n",
      "Epoch 150/1000\n",
      "17/17 - 0s - loss: 1.7236 - mean_squared_error: 1.7193 - val_loss: 1.7414 - val_mean_squared_error: 1.7253\n",
      "Epoch 151/1000\n",
      "17/17 - 0s - loss: 1.7069 - mean_squared_error: 1.7028 - val_loss: 1.7241 - val_mean_squared_error: 1.7086\n",
      "Epoch 152/1000\n",
      "17/17 - 0s - loss: 1.6905 - mean_squared_error: 1.6865 - val_loss: 1.7069 - val_mean_squared_error: 1.6922\n",
      "Epoch 153/1000\n",
      "17/17 - 1s - loss: 1.6742 - mean_squared_error: 1.6704 - val_loss: 1.6901 - val_mean_squared_error: 1.6760\n",
      "Epoch 154/1000\n",
      "17/17 - 0s - loss: 1.6582 - mean_squared_error: 1.6545 - val_loss: 1.6735 - val_mean_squared_error: 1.6601\n",
      "Epoch 155/1000\n",
      "17/17 - 0s - loss: 1.6423 - mean_squared_error: 1.6388 - val_loss: 1.6570 - val_mean_squared_error: 1.6444\n",
      "Epoch 156/1000\n",
      "17/17 - 0s - loss: 1.6267 - mean_squared_error: 1.6234 - val_loss: 1.6408 - val_mean_squared_error: 1.6289\n",
      "Epoch 157/1000\n",
      "17/17 - 0s - loss: 1.6113 - mean_squared_error: 1.6081 - val_loss: 1.6249 - val_mean_squared_error: 1.6136\n",
      "Epoch 158/1000\n",
      "17/17 - 0s - loss: 1.5961 - mean_squared_error: 1.5931 - val_loss: 1.6091 - val_mean_squared_error: 1.5985\n",
      "Epoch 159/1000\n",
      "17/17 - 0s - loss: 1.5811 - mean_squared_error: 1.5782 - val_loss: 1.5935 - val_mean_squared_error: 1.5836\n",
      "Epoch 160/1000\n",
      "17/17 - 1s - loss: 1.5663 - mean_squared_error: 1.5635 - val_loss: 1.5781 - val_mean_squared_error: 1.5689\n",
      "Epoch 161/1000\n",
      "17/17 - 0s - loss: 1.5516 - mean_squared_error: 1.5490 - val_loss: 1.5629 - val_mean_squared_error: 1.5544\n",
      "Epoch 162/1000\n",
      "17/17 - 0s - loss: 1.5370 - mean_squared_error: 1.5346 - val_loss: 1.5479 - val_mean_squared_error: 1.5400\n",
      "Epoch 163/1000\n",
      "17/17 - 0s - loss: 1.5228 - mean_squared_error: 1.5204 - val_loss: 1.5331 - val_mean_squared_error: 1.5258\n",
      "Epoch 164/1000\n",
      "17/17 - 0s - loss: 1.5086 - mean_squared_error: 1.5065 - val_loss: 1.5185 - val_mean_squared_error: 1.5118\n",
      "Epoch 165/1000\n",
      "17/17 - 1s - loss: 1.4947 - mean_squared_error: 1.4927 - val_loss: 1.5040 - val_mean_squared_error: 1.4980\n",
      "Epoch 166/1000\n",
      "17/17 - 0s - loss: 1.4811 - mean_squared_error: 1.4792 - val_loss: 1.4899 - val_mean_squared_error: 1.4844\n",
      "Epoch 167/1000\n",
      "17/17 - 1s - loss: 1.4675 - mean_squared_error: 1.4657 - val_loss: 1.4759 - val_mean_squared_error: 1.4710\n",
      "Epoch 168/1000\n",
      "17/17 - 0s - loss: 1.4540 - mean_squared_error: 1.4523 - val_loss: 1.4621 - val_mean_squared_error: 1.4578\n",
      "Epoch 169/1000\n",
      "17/17 - 0s - loss: 1.4407 - mean_squared_error: 1.4391 - val_loss: 1.4483 - val_mean_squared_error: 1.4445\n",
      "Epoch 170/1000\n",
      "17/17 - 0s - loss: 1.4275 - mean_squared_error: 1.4260 - val_loss: 1.4347 - val_mean_squared_error: 1.4315\n",
      "Epoch 171/1000\n",
      "17/17 - 0s - loss: 1.4145 - mean_squared_error: 1.4132 - val_loss: 1.4213 - val_mean_squared_error: 1.4187\n",
      "Epoch 172/1000\n",
      "17/17 - 0s - loss: 1.4017 - mean_squared_error: 1.4005 - val_loss: 1.4081 - val_mean_squared_error: 1.4060\n",
      "Epoch 173/1000\n",
      "17/17 - 0s - loss: 1.3890 - mean_squared_error: 1.3879 - val_loss: 1.3950 - val_mean_squared_error: 1.3933\n",
      "Epoch 174/1000\n",
      "17/17 - 0s - loss: 1.3765 - mean_squared_error: 1.3755 - val_loss: 1.3820 - val_mean_squared_error: 1.3807\n",
      "Epoch 175/1000\n",
      "17/17 - 0s - loss: 1.3642 - mean_squared_error: 1.3632 - val_loss: 1.3691 - val_mean_squared_error: 1.3682\n",
      "Epoch 176/1000\n",
      "17/17 - 0s - loss: 1.3519 - mean_squared_error: 1.3511 - val_loss: 1.3562 - val_mean_squared_error: 1.3557\n",
      "Epoch 177/1000\n",
      "17/17 - 0s - loss: 1.3398 - mean_squared_error: 1.3390 - val_loss: 1.3434 - val_mean_squared_error: 1.3432\n",
      "Epoch 178/1000\n",
      "17/17 - 0s - loss: 1.3275 - mean_squared_error: 1.3269 - val_loss: 1.3309 - val_mean_squared_error: 1.3310\n",
      "Epoch 179/1000\n",
      "17/17 - 0s - loss: 1.3159 - mean_squared_error: 1.3153 - val_loss: 1.3191 - val_mean_squared_error: 1.3196\n",
      "Epoch 180/1000\n",
      "17/17 - 1s - loss: 1.3045 - mean_squared_error: 1.3040 - val_loss: 1.3075 - val_mean_squared_error: 1.3085\n",
      "Epoch 181/1000\n",
      "17/17 - 0s - loss: 1.2935 - mean_squared_error: 1.2930 - val_loss: 1.2960 - val_mean_squared_error: 1.2975\n",
      "Epoch 182/1000\n",
      "17/17 - 0s - loss: 1.2828 - mean_squared_error: 1.2825 - val_loss: 1.2848 - val_mean_squared_error: 1.2868\n",
      "Epoch 183/1000\n",
      "17/17 - 1s - loss: 1.2722 - mean_squared_error: 1.2720 - val_loss: 1.2740 - val_mean_squared_error: 1.2764\n",
      "Epoch 184/1000\n",
      "17/17 - 1s - loss: 1.2619 - mean_squared_error: 1.2617 - val_loss: 1.2633 - val_mean_squared_error: 1.2660\n",
      "Epoch 185/1000\n",
      "17/17 - 0s - loss: 1.2516 - mean_squared_error: 1.2515 - val_loss: 1.2526 - val_mean_squared_error: 1.2558\n",
      "Epoch 186/1000\n",
      "17/17 - 0s - loss: 1.2416 - mean_squared_error: 1.2417 - val_loss: 1.2422 - val_mean_squared_error: 1.2458\n",
      "Epoch 187/1000\n",
      "17/17 - 0s - loss: 1.2318 - mean_squared_error: 1.2319 - val_loss: 1.2318 - val_mean_squared_error: 1.2359\n",
      "Epoch 188/1000\n",
      "17/17 - 0s - loss: 1.2222 - mean_squared_error: 1.2224 - val_loss: 1.2217 - val_mean_squared_error: 1.2261\n",
      "Epoch 189/1000\n",
      "17/17 - 1s - loss: 1.2125 - mean_squared_error: 1.2128 - val_loss: 1.2114 - val_mean_squared_error: 1.2161\n",
      "Epoch 190/1000\n",
      "17/17 - 0s - loss: 1.2030 - mean_squared_error: 1.2033 - val_loss: 1.2010 - val_mean_squared_error: 1.2059\n",
      "Epoch 191/1000\n",
      "17/17 - 1s - loss: 1.1936 - mean_squared_error: 1.1941 - val_loss: 1.1909 - val_mean_squared_error: 1.1961\n",
      "Epoch 192/1000\n",
      "17/17 - 1s - loss: 1.1846 - mean_squared_error: 1.1852 - val_loss: 1.1811 - val_mean_squared_error: 1.1867\n",
      "Epoch 193/1000\n",
      "17/17 - 0s - loss: 1.1759 - mean_squared_error: 1.1765 - val_loss: 1.1717 - val_mean_squared_error: 1.1776\n",
      "Epoch 194/1000\n",
      "17/17 - 0s - loss: 1.1673 - mean_squared_error: 1.1681 - val_loss: 1.1627 - val_mean_squared_error: 1.1690\n",
      "Epoch 195/1000\n",
      "17/17 - 0s - loss: 1.1590 - mean_squared_error: 1.1598 - val_loss: 1.1540 - val_mean_squared_error: 1.1607\n",
      "Epoch 196/1000\n",
      "17/17 - 1s - loss: 1.1508 - mean_squared_error: 1.1517 - val_loss: 1.1456 - val_mean_squared_error: 1.1526\n",
      "Epoch 197/1000\n",
      "17/17 - 0s - loss: 1.1428 - mean_squared_error: 1.1438 - val_loss: 1.1373 - val_mean_squared_error: 1.1447\n",
      "Epoch 198/1000\n",
      "17/17 - 0s - loss: 1.1350 - mean_squared_error: 1.1361 - val_loss: 1.1293 - val_mean_squared_error: 1.1370\n",
      "Epoch 199/1000\n",
      "17/17 - 1s - loss: 1.1274 - mean_squared_error: 1.1285 - val_loss: 1.1214 - val_mean_squared_error: 1.1295\n",
      "Epoch 200/1000\n",
      "17/17 - 0s - loss: 1.1198 - mean_squared_error: 1.1211 - val_loss: 1.1137 - val_mean_squared_error: 1.1222\n",
      "Epoch 201/1000\n",
      "17/17 - 0s - loss: 1.1125 - mean_squared_error: 1.1138 - val_loss: 1.1062 - val_mean_squared_error: 1.1150\n",
      "Epoch 202/1000\n",
      "17/17 - 1s - loss: 1.1052 - mean_squared_error: 1.1066 - val_loss: 1.0988 - val_mean_squared_error: 1.1079\n",
      "Epoch 203/1000\n",
      "17/17 - 0s - loss: 1.0982 - mean_squared_error: 1.0996 - val_loss: 1.0916 - val_mean_squared_error: 1.1010\n"
     ]
    },
    {
     "name": "stdout",
     "output_type": "stream",
     "text": [
      "Epoch 204/1000\n",
      "17/17 - 1s - loss: 1.0912 - mean_squared_error: 1.0928 - val_loss: 1.0845 - val_mean_squared_error: 1.0944\n",
      "Epoch 205/1000\n",
      "17/17 - 1s - loss: 1.0844 - mean_squared_error: 1.0860 - val_loss: 1.0777 - val_mean_squared_error: 1.0878\n",
      "Epoch 206/1000\n",
      "17/17 - 0s - loss: 1.0778 - mean_squared_error: 1.0795 - val_loss: 1.0709 - val_mean_squared_error: 1.0814\n",
      "Epoch 207/1000\n",
      "17/17 - 0s - loss: 1.0713 - mean_squared_error: 1.0730 - val_loss: 1.0643 - val_mean_squared_error: 1.0751\n",
      "Epoch 208/1000\n",
      "17/17 - 0s - loss: 1.0649 - mean_squared_error: 1.0667 - val_loss: 1.0579 - val_mean_squared_error: 1.0690\n",
      "Epoch 209/1000\n",
      "17/17 - 0s - loss: 1.0587 - mean_squared_error: 1.0605 - val_loss: 1.0516 - val_mean_squared_error: 1.0629\n",
      "Epoch 210/1000\n",
      "17/17 - 0s - loss: 1.0526 - mean_squared_error: 1.0545 - val_loss: 1.0454 - val_mean_squared_error: 1.0571\n",
      "Epoch 211/1000\n",
      "17/17 - 1s - loss: 1.0466 - mean_squared_error: 1.0486 - val_loss: 1.0395 - val_mean_squared_error: 1.0514\n",
      "Epoch 212/1000\n",
      "17/17 - 0s - loss: 1.0408 - mean_squared_error: 1.0428 - val_loss: 1.0336 - val_mean_squared_error: 1.0457\n",
      "Epoch 213/1000\n",
      "17/17 - 0s - loss: 1.0350 - mean_squared_error: 1.0371 - val_loss: 1.0278 - val_mean_squared_error: 1.0402\n",
      "Epoch 214/1000\n",
      "17/17 - 0s - loss: 1.0294 - mean_squared_error: 1.0315 - val_loss: 1.0222 - val_mean_squared_error: 1.0349\n",
      "Epoch 215/1000\n",
      "17/17 - 0s - loss: 1.0240 - mean_squared_error: 1.0261 - val_loss: 1.0168 - val_mean_squared_error: 1.0297\n",
      "Epoch 216/1000\n",
      "17/17 - 0s - loss: 1.0186 - mean_squared_error: 1.0208 - val_loss: 1.0114 - val_mean_squared_error: 1.0245\n",
      "Epoch 217/1000\n",
      "17/17 - 0s - loss: 1.0134 - mean_squared_error: 1.0156 - val_loss: 1.0062 - val_mean_squared_error: 1.0195\n",
      "Epoch 218/1000\n",
      "17/17 - 0s - loss: 1.0083 - mean_squared_error: 1.0105 - val_loss: 1.0011 - val_mean_squared_error: 1.0147\n",
      "Epoch 219/1000\n",
      "17/17 - 1s - loss: 1.0033 - mean_squared_error: 1.0056 - val_loss: 0.9961 - val_mean_squared_error: 1.0099\n",
      "Epoch 220/1000\n",
      "17/17 - 1s - loss: 0.9984 - mean_squared_error: 1.0007 - val_loss: 0.9913 - val_mean_squared_error: 1.0053\n",
      "Epoch 221/1000\n",
      "17/17 - 0s - loss: 0.9936 - mean_squared_error: 0.9960 - val_loss: 0.9865 - val_mean_squared_error: 1.0008\n",
      "Epoch 222/1000\n",
      "17/17 - 0s - loss: 0.9889 - mean_squared_error: 0.9913 - val_loss: 0.9819 - val_mean_squared_error: 0.9964\n",
      "Epoch 223/1000\n",
      "17/17 - 0s - loss: 0.9843 - mean_squared_error: 0.9868 - val_loss: 0.9774 - val_mean_squared_error: 0.9921\n",
      "Epoch 224/1000\n",
      "17/17 - 1s - loss: 0.9799 - mean_squared_error: 0.9824 - val_loss: 0.9730 - val_mean_squared_error: 0.9879\n",
      "Epoch 225/1000\n",
      "17/17 - 0s - loss: 0.9755 - mean_squared_error: 0.9781 - val_loss: 0.9687 - val_mean_squared_error: 0.9837\n",
      "Epoch 226/1000\n",
      "17/17 - 1s - loss: 0.9713 - mean_squared_error: 0.9739 - val_loss: 0.9646 - val_mean_squared_error: 0.9797\n",
      "Epoch 227/1000\n",
      "17/17 - 0s - loss: 0.9672 - mean_squared_error: 0.9697 - val_loss: 0.9605 - val_mean_squared_error: 0.9758\n",
      "Epoch 228/1000\n",
      "17/17 - 0s - loss: 0.9631 - mean_squared_error: 0.9657 - val_loss: 0.9565 - val_mean_squared_error: 0.9720\n",
      "Epoch 229/1000\n",
      "17/17 - 0s - loss: 0.9591 - mean_squared_error: 0.9618 - val_loss: 0.9527 - val_mean_squared_error: 0.9682\n",
      "Epoch 230/1000\n",
      "17/17 - 0s - loss: 0.9553 - mean_squared_error: 0.9579 - val_loss: 0.9489 - val_mean_squared_error: 0.9646\n",
      "Epoch 231/1000\n",
      "17/17 - 0s - loss: 0.9515 - mean_squared_error: 0.9542 - val_loss: 0.9452 - val_mean_squared_error: 0.9611\n",
      "Epoch 232/1000\n",
      "17/17 - 1s - loss: 0.9478 - mean_squared_error: 0.9505 - val_loss: 0.9417 - val_mean_squared_error: 0.9577\n",
      "Epoch 233/1000\n",
      "17/17 - 0s - loss: 0.9442 - mean_squared_error: 0.9469 - val_loss: 0.9382 - val_mean_squared_error: 0.9543\n",
      "Epoch 234/1000\n",
      "17/17 - 0s - loss: 0.9407 - mean_squared_error: 0.9434 - val_loss: 0.9348 - val_mean_squared_error: 0.9509\n",
      "Epoch 235/1000\n",
      "17/17 - 0s - loss: 0.9373 - mean_squared_error: 0.9401 - val_loss: 0.9314 - val_mean_squared_error: 0.9477\n",
      "Epoch 236/1000\n",
      "17/17 - 0s - loss: 0.9340 - mean_squared_error: 0.9368 - val_loss: 0.9282 - val_mean_squared_error: 0.9445\n",
      "Epoch 237/1000\n",
      "17/17 - 0s - loss: 0.9307 - mean_squared_error: 0.9335 - val_loss: 0.9250 - val_mean_squared_error: 0.9414\n",
      "Epoch 238/1000\n",
      "17/17 - 1s - loss: 0.9276 - mean_squared_error: 0.9304 - val_loss: 0.9219 - val_mean_squared_error: 0.9385\n",
      "Epoch 239/1000\n",
      "17/17 - 0s - loss: 0.9245 - mean_squared_error: 0.9273 - val_loss: 0.9189 - val_mean_squared_error: 0.9355\n",
      "Epoch 240/1000\n",
      "17/17 - 0s - loss: 0.9215 - mean_squared_error: 0.9243 - val_loss: 0.9160 - val_mean_squared_error: 0.9327\n",
      "Epoch 241/1000\n",
      "17/17 - 0s - loss: 0.9186 - mean_squared_error: 0.9214 - val_loss: 0.9131 - val_mean_squared_error: 0.9299\n",
      "Epoch 242/1000\n",
      "17/17 - 0s - loss: 0.9157 - mean_squared_error: 0.9186 - val_loss: 0.9103 - val_mean_squared_error: 0.9273\n",
      "Epoch 243/1000\n",
      "17/17 - 1s - loss: 0.9129 - mean_squared_error: 0.9158 - val_loss: 0.9077 - val_mean_squared_error: 0.9246\n",
      "Epoch 244/1000\n",
      "17/17 - 0s - loss: 0.9102 - mean_squared_error: 0.9131 - val_loss: 0.9050 - val_mean_squared_error: 0.9221\n",
      "Epoch 245/1000\n",
      "17/17 - 1s - loss: 0.9076 - mean_squared_error: 0.9105 - val_loss: 0.9025 - val_mean_squared_error: 0.9196\n",
      "Epoch 246/1000\n",
      "17/17 - 1s - loss: 0.9050 - mean_squared_error: 0.9079 - val_loss: 0.9000 - val_mean_squared_error: 0.9172\n",
      "Epoch 247/1000\n",
      "17/17 - 0s - loss: 0.9025 - mean_squared_error: 0.9054 - val_loss: 0.8976 - val_mean_squared_error: 0.9148\n",
      "Epoch 248/1000\n",
      "17/17 - 0s - loss: 0.9000 - mean_squared_error: 0.9029 - val_loss: 0.8952 - val_mean_squared_error: 0.9125\n",
      "Epoch 249/1000\n",
      "17/17 - 1s - loss: 0.8976 - mean_squared_error: 0.9006 - val_loss: 0.8929 - val_mean_squared_error: 0.9103\n",
      "Epoch 250/1000\n",
      "17/17 - 0s - loss: 0.8953 - mean_squared_error: 0.8983 - val_loss: 0.8907 - val_mean_squared_error: 0.9081\n",
      "Epoch 251/1000\n",
      "17/17 - 1s - loss: 0.8931 - mean_squared_error: 0.8960 - val_loss: 0.8885 - val_mean_squared_error: 0.9059\n",
      "Epoch 252/1000\n",
      "17/17 - 0s - loss: 0.8909 - mean_squared_error: 0.8938 - val_loss: 0.8864 - val_mean_squared_error: 0.9038\n",
      "Epoch 253/1000\n",
      "17/17 - 0s - loss: 0.8887 - mean_squared_error: 0.8917 - val_loss: 0.8844 - val_mean_squared_error: 0.9018\n",
      "Epoch 254/1000\n",
      "17/17 - 0s - loss: 0.8866 - mean_squared_error: 0.8896 - val_loss: 0.8824 - val_mean_squared_error: 0.8999\n",
      "Epoch 255/1000\n",
      "17/17 - 0s - loss: 0.8846 - mean_squared_error: 0.8875 - val_loss: 0.8804 - val_mean_squared_error: 0.8980\n",
      "Epoch 256/1000\n",
      "17/17 - 0s - loss: 0.8826 - mean_squared_error: 0.8855 - val_loss: 0.8785 - val_mean_squared_error: 0.8961\n",
      "Epoch 257/1000\n",
      "17/17 - 0s - loss: 0.8806 - mean_squared_error: 0.8836 - val_loss: 0.8767 - val_mean_squared_error: 0.8943\n",
      "Epoch 258/1000\n",
      "17/17 - 1s - loss: 0.8787 - mean_squared_error: 0.8817 - val_loss: 0.8749 - val_mean_squared_error: 0.8925\n",
      "Epoch 259/1000\n",
      "17/17 - 1s - loss: 0.8769 - mean_squared_error: 0.8798 - val_loss: 0.8732 - val_mean_squared_error: 0.8908\n",
      "Epoch 260/1000\n",
      "17/17 - 1s - loss: 0.8751 - mean_squared_error: 0.8781 - val_loss: 0.8715 - val_mean_squared_error: 0.8891\n",
      "Epoch 261/1000\n",
      "17/17 - 0s - loss: 0.8733 - mean_squared_error: 0.8763 - val_loss: 0.8698 - val_mean_squared_error: 0.8875\n",
      "Epoch 262/1000\n",
      "17/17 - 0s - loss: 0.8716 - mean_squared_error: 0.8746 - val_loss: 0.8682 - val_mean_squared_error: 0.8859\n",
      "Epoch 263/1000\n",
      "17/17 - 0s - loss: 0.8699 - mean_squared_error: 0.8729 - val_loss: 0.8667 - val_mean_squared_error: 0.8844\n",
      "Epoch 264/1000\n",
      "17/17 - 0s - loss: 0.8683 - mean_squared_error: 0.8713 - val_loss: 0.8652 - val_mean_squared_error: 0.8829\n",
      "Epoch 265/1000\n",
      "17/17 - 0s - loss: 0.8667 - mean_squared_error: 0.8697 - val_loss: 0.8637 - val_mean_squared_error: 0.8815\n",
      "Epoch 266/1000\n",
      "17/17 - 0s - loss: 0.8651 - mean_squared_error: 0.8681 - val_loss: 0.8623 - val_mean_squared_error: 0.8801\n",
      "Epoch 267/1000\n",
      "17/17 - 0s - loss: 0.8636 - mean_squared_error: 0.8666 - val_loss: 0.8609 - val_mean_squared_error: 0.8787\n",
      "Epoch 268/1000\n",
      "17/17 - 0s - loss: 0.8622 - mean_squared_error: 0.8651 - val_loss: 0.8596 - val_mean_squared_error: 0.8774\n",
      "Epoch 269/1000\n",
      "17/17 - 0s - loss: 0.8607 - mean_squared_error: 0.8637 - val_loss: 0.8583 - val_mean_squared_error: 0.8760\n",
      "Epoch 270/1000\n",
      "17/17 - 0s - loss: 0.8593 - mean_squared_error: 0.8623 - val_loss: 0.8571 - val_mean_squared_error: 0.8748\n",
      "Epoch 271/1000\n",
      "17/17 - 0s - loss: 0.8579 - mean_squared_error: 0.8609 - val_loss: 0.8559 - val_mean_squared_error: 0.8736\n"
     ]
    },
    {
     "name": "stdout",
     "output_type": "stream",
     "text": [
      "Epoch 272/1000\n",
      "17/17 - 0s - loss: 0.8566 - mean_squared_error: 0.8595 - val_loss: 0.8547 - val_mean_squared_error: 0.8724\n",
      "Epoch 273/1000\n",
      "17/17 - 0s - loss: 0.8553 - mean_squared_error: 0.8582 - val_loss: 0.8536 - val_mean_squared_error: 0.8713\n",
      "Epoch 274/1000\n",
      "17/17 - 1s - loss: 0.8540 - mean_squared_error: 0.8569 - val_loss: 0.8526 - val_mean_squared_error: 0.8703\n",
      "Epoch 275/1000\n",
      "17/17 - 0s - loss: 0.8527 - mean_squared_error: 0.8557 - val_loss: 0.8516 - val_mean_squared_error: 0.8693\n",
      "Epoch 276/1000\n",
      "17/17 - 1s - loss: 0.8515 - mean_squared_error: 0.8544 - val_loss: 0.8506 - val_mean_squared_error: 0.8683\n",
      "Epoch 277/1000\n",
      "17/17 - 0s - loss: 0.8503 - mean_squared_error: 0.8532 - val_loss: 0.8497 - val_mean_squared_error: 0.8674\n",
      "Epoch 278/1000\n",
      "17/17 - 0s - loss: 0.8491 - mean_squared_error: 0.8521 - val_loss: 0.8489 - val_mean_squared_error: 0.8666\n",
      "Epoch 279/1000\n",
      "17/17 - 0s - loss: 0.8480 - mean_squared_error: 0.8509 - val_loss: 0.8482 - val_mean_squared_error: 0.8658\n",
      "Epoch 280/1000\n",
      "17/17 - 0s - loss: 0.8468 - mean_squared_error: 0.8498 - val_loss: 0.8474 - val_mean_squared_error: 0.8651\n",
      "Epoch 281/1000\n",
      "17/17 - 0s - loss: 0.8457 - mean_squared_error: 0.8487 - val_loss: 0.8468 - val_mean_squared_error: 0.8644\n",
      "Epoch 282/1000\n",
      "17/17 - 0s - loss: 0.8446 - mean_squared_error: 0.8475 - val_loss: 0.8462 - val_mean_squared_error: 0.8638\n",
      "Epoch 283/1000\n",
      "17/17 - 0s - loss: 0.8435 - mean_squared_error: 0.8464 - val_loss: 0.8456 - val_mean_squared_error: 0.8633\n",
      "Epoch 284/1000\n",
      "17/17 - 0s - loss: 0.8424 - mean_squared_error: 0.8453 - val_loss: 0.8451 - val_mean_squared_error: 0.8627\n",
      "Epoch 285/1000\n",
      "17/17 - 0s - loss: 0.8414 - mean_squared_error: 0.8443 - val_loss: 0.8446 - val_mean_squared_error: 0.8622\n",
      "Epoch 286/1000\n",
      "17/17 - 0s - loss: 0.8403 - mean_squared_error: 0.8432 - val_loss: 0.8440 - val_mean_squared_error: 0.8617\n",
      "Epoch 287/1000\n",
      "17/17 - 0s - loss: 0.8392 - mean_squared_error: 0.8421 - val_loss: 0.8435 - val_mean_squared_error: 0.8611\n",
      "Epoch 288/1000\n",
      "17/17 - 1s - loss: 0.8381 - mean_squared_error: 0.8410 - val_loss: 0.8429 - val_mean_squared_error: 0.8605\n",
      "Epoch 289/1000\n",
      "17/17 - 0s - loss: 0.8371 - mean_squared_error: 0.8399 - val_loss: 0.8422 - val_mean_squared_error: 0.8598\n",
      "Epoch 290/1000\n",
      "17/17 - 0s - loss: 0.8360 - mean_squared_error: 0.8388 - val_loss: 0.8414 - val_mean_squared_error: 0.8590\n",
      "Epoch 291/1000\n",
      "17/17 - 1s - loss: 0.8349 - mean_squared_error: 0.8377 - val_loss: 0.8406 - val_mean_squared_error: 0.8581\n",
      "Epoch 292/1000\n",
      "17/17 - 0s - loss: 0.8338 - mean_squared_error: 0.8365 - val_loss: 0.8396 - val_mean_squared_error: 0.8571\n",
      "Epoch 293/1000\n",
      "17/17 - 1s - loss: 0.8327 - mean_squared_error: 0.8354 - val_loss: 0.8386 - val_mean_squared_error: 0.8561\n",
      "Epoch 294/1000\n",
      "17/17 - 0s - loss: 0.8316 - mean_squared_error: 0.8343 - val_loss: 0.8374 - val_mean_squared_error: 0.8549\n",
      "Epoch 295/1000\n",
      "17/17 - 1s - loss: 0.8305 - mean_squared_error: 0.8332 - val_loss: 0.8362 - val_mean_squared_error: 0.8536\n",
      "Epoch 296/1000\n",
      "17/17 - 0s - loss: 0.8294 - mean_squared_error: 0.8320 - val_loss: 0.8350 - val_mean_squared_error: 0.8523\n",
      "Epoch 297/1000\n",
      "17/17 - 0s - loss: 0.8283 - mean_squared_error: 0.8310 - val_loss: 0.8338 - val_mean_squared_error: 0.8510\n",
      "Epoch 298/1000\n",
      "17/17 - 0s - loss: 0.8272 - mean_squared_error: 0.8298 - val_loss: 0.8324 - val_mean_squared_error: 0.8497\n",
      "Epoch 299/1000\n",
      "17/17 - 0s - loss: 0.8261 - mean_squared_error: 0.8288 - val_loss: 0.8312 - val_mean_squared_error: 0.8484\n",
      "Epoch 300/1000\n",
      "17/17 - 1s - loss: 0.8250 - mean_squared_error: 0.8277 - val_loss: 0.8299 - val_mean_squared_error: 0.8471\n",
      "Epoch 301/1000\n",
      "17/17 - 1s - loss: 0.8240 - mean_squared_error: 0.8266 - val_loss: 0.8287 - val_mean_squared_error: 0.8458\n",
      "Epoch 302/1000\n",
      "17/17 - 0s - loss: 0.8229 - mean_squared_error: 0.8256 - val_loss: 0.8275 - val_mean_squared_error: 0.8446\n",
      "Epoch 303/1000\n",
      "17/17 - 0s - loss: 0.8219 - mean_squared_error: 0.8245 - val_loss: 0.8263 - val_mean_squared_error: 0.8434\n",
      "Epoch 304/1000\n",
      "17/17 - 0s - loss: 0.8209 - mean_squared_error: 0.8235 - val_loss: 0.8252 - val_mean_squared_error: 0.8421\n",
      "Epoch 305/1000\n",
      "17/17 - 0s - loss: 0.8199 - mean_squared_error: 0.8225 - val_loss: 0.8241 - val_mean_squared_error: 0.8410\n",
      "Epoch 306/1000\n",
      "17/17 - 1s - loss: 0.8189 - mean_squared_error: 0.8215 - val_loss: 0.8230 - val_mean_squared_error: 0.8399\n",
      "Epoch 307/1000\n",
      "17/17 - 0s - loss: 0.8179 - mean_squared_error: 0.8205 - val_loss: 0.8219 - val_mean_squared_error: 0.8388\n",
      "Epoch 308/1000\n",
      "17/17 - 0s - loss: 0.8169 - mean_squared_error: 0.8195 - val_loss: 0.8209 - val_mean_squared_error: 0.8377\n",
      "Epoch 309/1000\n",
      "17/17 - 0s - loss: 0.8160 - mean_squared_error: 0.8186 - val_loss: 0.8199 - val_mean_squared_error: 0.8366\n",
      "Epoch 310/1000\n",
      "17/17 - 0s - loss: 0.8150 - mean_squared_error: 0.8176 - val_loss: 0.8188 - val_mean_squared_error: 0.8356\n",
      "Epoch 311/1000\n",
      "17/17 - 0s - loss: 0.8141 - mean_squared_error: 0.8166 - val_loss: 0.8179 - val_mean_squared_error: 0.8346\n",
      "Epoch 312/1000\n",
      "17/17 - 1s - loss: 0.8131 - mean_squared_error: 0.8157 - val_loss: 0.8169 - val_mean_squared_error: 0.8335\n",
      "Epoch 313/1000\n",
      "17/17 - 0s - loss: 0.8122 - mean_squared_error: 0.8147 - val_loss: 0.8159 - val_mean_squared_error: 0.8325\n",
      "Epoch 314/1000\n",
      "17/17 - 0s - loss: 0.8112 - mean_squared_error: 0.8138 - val_loss: 0.8150 - val_mean_squared_error: 0.8315\n",
      "Epoch 315/1000\n",
      "17/17 - 1s - loss: 0.8103 - mean_squared_error: 0.8128 - val_loss: 0.8141 - val_mean_squared_error: 0.8306\n",
      "Epoch 316/1000\n",
      "17/17 - 1s - loss: 0.8094 - mean_squared_error: 0.8119 - val_loss: 0.8131 - val_mean_squared_error: 0.8296\n",
      "Epoch 317/1000\n",
      "17/17 - 0s - loss: 0.8084 - mean_squared_error: 0.8110 - val_loss: 0.8122 - val_mean_squared_error: 0.8287\n",
      "Epoch 318/1000\n",
      "17/17 - 1s - loss: 0.8075 - mean_squared_error: 0.8100 - val_loss: 0.8113 - val_mean_squared_error: 0.8277\n",
      "Epoch 319/1000\n",
      "17/17 - 1s - loss: 0.8066 - mean_squared_error: 0.8091 - val_loss: 0.8104 - val_mean_squared_error: 0.8268\n",
      "Epoch 320/1000\n",
      "17/17 - 1s - loss: 0.8057 - mean_squared_error: 0.8082 - val_loss: 0.8095 - val_mean_squared_error: 0.8258\n",
      "Epoch 321/1000\n",
      "17/17 - 1s - loss: 0.8048 - mean_squared_error: 0.8073 - val_loss: 0.8086 - val_mean_squared_error: 0.8249\n",
      "Epoch 322/1000\n",
      "17/17 - 1s - loss: 0.8038 - mean_squared_error: 0.8063 - val_loss: 0.8077 - val_mean_squared_error: 0.8240\n",
      "Epoch 323/1000\n",
      "17/17 - 1s - loss: 0.8029 - mean_squared_error: 0.8054 - val_loss: 0.8068 - val_mean_squared_error: 0.8231\n",
      "Epoch 324/1000\n",
      "17/17 - 1s - loss: 0.8020 - mean_squared_error: 0.8045 - val_loss: 0.8060 - val_mean_squared_error: 0.8222\n",
      "Epoch 325/1000\n",
      "17/17 - 1s - loss: 0.8011 - mean_squared_error: 0.8036 - val_loss: 0.8051 - val_mean_squared_error: 0.8212\n",
      "Epoch 326/1000\n",
      "17/17 - 1s - loss: 0.8002 - mean_squared_error: 0.8027 - val_loss: 0.8042 - val_mean_squared_error: 0.8204\n",
      "Epoch 327/1000\n",
      "17/17 - 1s - loss: 0.7993 - mean_squared_error: 0.8018 - val_loss: 0.8034 - val_mean_squared_error: 0.8195\n",
      "Epoch 328/1000\n",
      "17/17 - 0s - loss: 0.7984 - mean_squared_error: 0.8008 - val_loss: 0.8025 - val_mean_squared_error: 0.8185\n",
      "Epoch 329/1000\n",
      "17/17 - 0s - loss: 0.7975 - mean_squared_error: 0.7999 - val_loss: 0.8016 - val_mean_squared_error: 0.8177\n",
      "Epoch 330/1000\n",
      "17/17 - 1s - loss: 0.7966 - mean_squared_error: 0.7990 - val_loss: 0.8008 - val_mean_squared_error: 0.8168\n",
      "Epoch 331/1000\n",
      "17/17 - 0s - loss: 0.7957 - mean_squared_error: 0.7981 - val_loss: 0.7999 - val_mean_squared_error: 0.8159\n",
      "Epoch 332/1000\n",
      "17/17 - 0s - loss: 0.7948 - mean_squared_error: 0.7972 - val_loss: 0.7991 - val_mean_squared_error: 0.8150\n",
      "Epoch 333/1000\n",
      "17/17 - 0s - loss: 0.7938 - mean_squared_error: 0.7963 - val_loss: 0.7982 - val_mean_squared_error: 0.8141\n",
      "Epoch 334/1000\n",
      "17/17 - 0s - loss: 0.7929 - mean_squared_error: 0.7954 - val_loss: 0.7974 - val_mean_squared_error: 0.8132\n",
      "Epoch 335/1000\n",
      "17/17 - 0s - loss: 0.7920 - mean_squared_error: 0.7945 - val_loss: 0.7965 - val_mean_squared_error: 0.8124\n",
      "Epoch 336/1000\n",
      "17/17 - 0s - loss: 0.7911 - mean_squared_error: 0.7936 - val_loss: 0.7957 - val_mean_squared_error: 0.8115\n",
      "Epoch 337/1000\n",
      "17/17 - 0s - loss: 0.7902 - mean_squared_error: 0.7926 - val_loss: 0.7949 - val_mean_squared_error: 0.8107\n",
      "Epoch 338/1000\n",
      "17/17 - 0s - loss: 0.7893 - mean_squared_error: 0.7917 - val_loss: 0.7940 - val_mean_squared_error: 0.8098\n",
      "Epoch 339/1000\n",
      "17/17 - 0s - loss: 0.7884 - mean_squared_error: 0.7908 - val_loss: 0.7932 - val_mean_squared_error: 0.8089\n"
     ]
    },
    {
     "name": "stdout",
     "output_type": "stream",
     "text": [
      "Epoch 340/1000\n",
      "17/17 - 0s - loss: 0.7875 - mean_squared_error: 0.7899 - val_loss: 0.7924 - val_mean_squared_error: 0.8081\n",
      "Epoch 341/1000\n",
      "17/17 - 0s - loss: 0.7867 - mean_squared_error: 0.7890 - val_loss: 0.7916 - val_mean_squared_error: 0.8073\n",
      "Epoch 342/1000\n",
      "17/17 - 0s - loss: 0.7858 - mean_squared_error: 0.7881 - val_loss: 0.7908 - val_mean_squared_error: 0.8064\n",
      "Epoch 343/1000\n",
      "17/17 - 0s - loss: 0.7849 - mean_squared_error: 0.7872 - val_loss: 0.7900 - val_mean_squared_error: 0.8056\n",
      "Epoch 344/1000\n",
      "17/17 - 0s - loss: 0.7840 - mean_squared_error: 0.7863 - val_loss: 0.7892 - val_mean_squared_error: 0.8048\n",
      "Epoch 345/1000\n",
      "17/17 - 0s - loss: 0.7831 - mean_squared_error: 0.7855 - val_loss: 0.7885 - val_mean_squared_error: 0.8040\n",
      "Epoch 346/1000\n",
      "17/17 - 0s - loss: 0.7822 - mean_squared_error: 0.7846 - val_loss: 0.7877 - val_mean_squared_error: 0.8032\n",
      "Epoch 347/1000\n",
      "17/17 - 0s - loss: 0.7813 - mean_squared_error: 0.7837 - val_loss: 0.7870 - val_mean_squared_error: 0.8024\n",
      "Epoch 348/1000\n",
      "17/17 - 1s - loss: 0.7805 - mean_squared_error: 0.7828 - val_loss: 0.7862 - val_mean_squared_error: 0.8016\n",
      "Epoch 349/1000\n",
      "17/17 - 0s - loss: 0.7796 - mean_squared_error: 0.7819 - val_loss: 0.7855 - val_mean_squared_error: 0.8009\n",
      "Epoch 350/1000\n",
      "17/17 - 0s - loss: 0.7788 - mean_squared_error: 0.7811 - val_loss: 0.7848 - val_mean_squared_error: 0.8002\n",
      "Epoch 351/1000\n",
      "17/17 - 0s - loss: 0.7779 - mean_squared_error: 0.7802 - val_loss: 0.7842 - val_mean_squared_error: 0.7995\n",
      "Epoch 352/1000\n",
      "17/17 - 0s - loss: 0.7771 - mean_squared_error: 0.7794 - val_loss: 0.7835 - val_mean_squared_error: 0.7988\n",
      "Epoch 353/1000\n",
      "17/17 - 1s - loss: 0.7762 - mean_squared_error: 0.7785 - val_loss: 0.7829 - val_mean_squared_error: 0.7982\n",
      "Epoch 354/1000\n",
      "17/17 - 1s - loss: 0.7754 - mean_squared_error: 0.7777 - val_loss: 0.7823 - val_mean_squared_error: 0.7975\n",
      "Epoch 355/1000\n",
      "17/17 - 0s - loss: 0.7746 - mean_squared_error: 0.7769 - val_loss: 0.7817 - val_mean_squared_error: 0.7969\n",
      "Epoch 356/1000\n",
      "17/17 - 0s - loss: 0.7738 - mean_squared_error: 0.7761 - val_loss: 0.7812 - val_mean_squared_error: 0.7964\n",
      "Epoch 357/1000\n",
      "17/17 - 0s - loss: 0.7731 - mean_squared_error: 0.7753 - val_loss: 0.7807 - val_mean_squared_error: 0.7959\n",
      "Epoch 358/1000\n",
      "17/17 - 0s - loss: 0.7724 - mean_squared_error: 0.7746 - val_loss: 0.7802 - val_mean_squared_error: 0.7954\n",
      "Epoch 359/1000\n",
      "17/17 - 0s - loss: 0.7717 - mean_squared_error: 0.7739 - val_loss: 0.7798 - val_mean_squared_error: 0.7949\n",
      "Epoch 360/1000\n",
      "17/17 - 0s - loss: 0.7710 - mean_squared_error: 0.7732 - val_loss: 0.7794 - val_mean_squared_error: 0.7945\n",
      "Epoch 361/1000\n",
      "17/17 - 1s - loss: 0.7704 - mean_squared_error: 0.7725 - val_loss: 0.7791 - val_mean_squared_error: 0.7942\n",
      "Epoch 362/1000\n",
      "17/17 - 0s - loss: 0.7698 - mean_squared_error: 0.7719 - val_loss: 0.7788 - val_mean_squared_error: 0.7939\n",
      "Epoch 363/1000\n",
      "17/17 - 0s - loss: 0.7692 - mean_squared_error: 0.7714 - val_loss: 0.7785 - val_mean_squared_error: 0.7936\n",
      "Epoch 364/1000\n",
      "17/17 - 1s - loss: 0.7688 - mean_squared_error: 0.7708 - val_loss: 0.7783 - val_mean_squared_error: 0.7933\n",
      "Epoch 365/1000\n",
      "17/17 - 0s - loss: 0.7684 - mean_squared_error: 0.7704 - val_loss: 0.7780 - val_mean_squared_error: 0.7931\n",
      "Epoch 366/1000\n",
      "17/17 - 1s - loss: 0.7681 - mean_squared_error: 0.7700 - val_loss: 0.7777 - val_mean_squared_error: 0.7927\n",
      "Epoch 367/1000\n",
      "17/17 - 0s - loss: 0.7678 - mean_squared_error: 0.7697 - val_loss: 0.7773 - val_mean_squared_error: 0.7923\n",
      "Epoch 368/1000\n",
      "17/17 - 0s - loss: 0.7676 - mean_squared_error: 0.7695 - val_loss: 0.7768 - val_mean_squared_error: 0.7918\n",
      "Epoch 369/1000\n",
      "17/17 - 1s - loss: 0.7675 - mean_squared_error: 0.7693 - val_loss: 0.7761 - val_mean_squared_error: 0.7911\n",
      "Epoch 370/1000\n",
      "17/17 - 0s - loss: 0.7675 - mean_squared_error: 0.7692 - val_loss: 0.7751 - val_mean_squared_error: 0.7901\n",
      "Epoch 371/1000\n",
      "17/17 - 0s - loss: 0.7675 - mean_squared_error: 0.7691 - val_loss: 0.7738 - val_mean_squared_error: 0.7887\n",
      "Epoch 372/1000\n",
      "17/17 - 0s - loss: 0.7675 - mean_squared_error: 0.7689 - val_loss: 0.7722 - val_mean_squared_error: 0.7870\n",
      "Epoch 373/1000\n",
      "17/17 - 0s - loss: 0.7674 - mean_squared_error: 0.7688 - val_loss: 0.7701 - val_mean_squared_error: 0.7849\n",
      "Epoch 374/1000\n",
      "17/17 - 1s - loss: 0.7671 - mean_squared_error: 0.7685 - val_loss: 0.7677 - val_mean_squared_error: 0.7824\n",
      "Epoch 375/1000\n",
      "17/17 - 0s - loss: 0.7667 - mean_squared_error: 0.7680 - val_loss: 0.7651 - val_mean_squared_error: 0.7797\n",
      "Epoch 376/1000\n",
      "17/17 - 0s - loss: 0.7660 - mean_squared_error: 0.7672 - val_loss: 0.7623 - val_mean_squared_error: 0.7769\n",
      "Epoch 377/1000\n",
      "17/17 - 0s - loss: 0.7649 - mean_squared_error: 0.7662 - val_loss: 0.7597 - val_mean_squared_error: 0.7741\n",
      "Epoch 378/1000\n",
      "17/17 - 0s - loss: 0.7634 - mean_squared_error: 0.7648 - val_loss: 0.7573 - val_mean_squared_error: 0.7717\n",
      "Epoch 379/1000\n",
      "17/17 - 0s - loss: 0.7617 - mean_squared_error: 0.7631 - val_loss: 0.7554 - val_mean_squared_error: 0.7697\n",
      "Epoch 380/1000\n",
      "17/17 - 1s - loss: 0.7596 - mean_squared_error: 0.7612 - val_loss: 0.7538 - val_mean_squared_error: 0.7681\n",
      "Epoch 381/1000\n",
      "17/17 - 1s - loss: 0.7574 - mean_squared_error: 0.7590 - val_loss: 0.7526 - val_mean_squared_error: 0.7668\n",
      "Epoch 382/1000\n",
      "17/17 - 0s - loss: 0.7551 - mean_squared_error: 0.7569 - val_loss: 0.7516 - val_mean_squared_error: 0.7658\n",
      "Epoch 383/1000\n",
      "17/17 - 0s - loss: 0.7529 - mean_squared_error: 0.7548 - val_loss: 0.7508 - val_mean_squared_error: 0.7649\n",
      "Epoch 384/1000\n",
      "17/17 - 0s - loss: 0.7508 - mean_squared_error: 0.7527 - val_loss: 0.7500 - val_mean_squared_error: 0.7641\n",
      "Epoch 385/1000\n",
      "17/17 - 0s - loss: 0.7489 - mean_squared_error: 0.7508 - val_loss: 0.7492 - val_mean_squared_error: 0.7633\n",
      "Epoch 386/1000\n",
      "17/17 - 0s - loss: 0.7472 - mean_squared_error: 0.7491 - val_loss: 0.7484 - val_mean_squared_error: 0.7625\n",
      "Epoch 387/1000\n",
      "17/17 - 1s - loss: 0.7456 - mean_squared_error: 0.7475 - val_loss: 0.7475 - val_mean_squared_error: 0.7616\n",
      "Epoch 388/1000\n",
      "17/17 - 0s - loss: 0.7441 - mean_squared_error: 0.7461 - val_loss: 0.7466 - val_mean_squared_error: 0.7607\n",
      "Epoch 389/1000\n",
      "17/17 - 0s - loss: 0.7427 - mean_squared_error: 0.7447 - val_loss: 0.7457 - val_mean_squared_error: 0.7597\n",
      "Epoch 390/1000\n",
      "17/17 - 1s - loss: 0.7414 - mean_squared_error: 0.7434 - val_loss: 0.7448 - val_mean_squared_error: 0.7588\n",
      "Epoch 391/1000\n",
      "17/17 - 0s - loss: 0.7401 - mean_squared_error: 0.7421 - val_loss: 0.7438 - val_mean_squared_error: 0.7577\n",
      "Epoch 392/1000\n",
      "17/17 - 0s - loss: 0.7389 - mean_squared_error: 0.7409 - val_loss: 0.7429 - val_mean_squared_error: 0.7568\n",
      "Epoch 393/1000\n",
      "17/17 - 1s - loss: 0.7377 - mean_squared_error: 0.7397 - val_loss: 0.7419 - val_mean_squared_error: 0.7558\n",
      "Epoch 394/1000\n",
      "17/17 - 1s - loss: 0.7365 - mean_squared_error: 0.7385 - val_loss: 0.7410 - val_mean_squared_error: 0.7548\n",
      "Epoch 395/1000\n",
      "17/17 - 0s - loss: 0.7354 - mean_squared_error: 0.7374 - val_loss: 0.7400 - val_mean_squared_error: 0.7538\n",
      "Epoch 396/1000\n",
      "17/17 - 0s - loss: 0.7343 - mean_squared_error: 0.7363 - val_loss: 0.7390 - val_mean_squared_error: 0.7528\n",
      "Epoch 397/1000\n",
      "17/17 - 1s - loss: 0.7333 - mean_squared_error: 0.7353 - val_loss: 0.7381 - val_mean_squared_error: 0.7518\n",
      "Epoch 398/1000\n",
      "17/17 - 0s - loss: 0.7322 - mean_squared_error: 0.7342 - val_loss: 0.7371 - val_mean_squared_error: 0.7508\n",
      "Epoch 399/1000\n",
      "17/17 - 0s - loss: 0.7312 - mean_squared_error: 0.7332 - val_loss: 0.7362 - val_mean_squared_error: 0.7498\n",
      "Epoch 400/1000\n",
      "17/17 - 0s - loss: 0.7301 - mean_squared_error: 0.7321 - val_loss: 0.7352 - val_mean_squared_error: 0.7489\n",
      "Epoch 401/1000\n",
      "17/17 - 0s - loss: 0.7291 - mean_squared_error: 0.7311 - val_loss: 0.7343 - val_mean_squared_error: 0.7478\n",
      "Epoch 402/1000\n",
      "17/17 - 0s - loss: 0.7281 - mean_squared_error: 0.7301 - val_loss: 0.7333 - val_mean_squared_error: 0.7469\n",
      "Epoch 403/1000\n",
      "17/17 - 0s - loss: 0.7271 - mean_squared_error: 0.7291 - val_loss: 0.7324 - val_mean_squared_error: 0.7459\n",
      "Epoch 404/1000\n",
      "17/17 - 0s - loss: 0.7261 - mean_squared_error: 0.7281 - val_loss: 0.7314 - val_mean_squared_error: 0.7449\n",
      "Epoch 405/1000\n",
      "17/17 - 0s - loss: 0.7251 - mean_squared_error: 0.7271 - val_loss: 0.7305 - val_mean_squared_error: 0.7439\n",
      "Epoch 406/1000\n",
      "17/17 - 0s - loss: 0.7241 - mean_squared_error: 0.7261 - val_loss: 0.7295 - val_mean_squared_error: 0.7429\n",
      "Epoch 407/1000\n",
      "17/17 - 0s - loss: 0.7232 - mean_squared_error: 0.7252 - val_loss: 0.7286 - val_mean_squared_error: 0.7420\n"
     ]
    },
    {
     "name": "stdout",
     "output_type": "stream",
     "text": [
      "Epoch 408/1000\n",
      "17/17 - 1s - loss: 0.7222 - mean_squared_error: 0.7242 - val_loss: 0.7277 - val_mean_squared_error: 0.7410\n",
      "Epoch 409/1000\n",
      "17/17 - 0s - loss: 0.7213 - mean_squared_error: 0.7233 - val_loss: 0.7267 - val_mean_squared_error: 0.7400\n",
      "Epoch 410/1000\n",
      "17/17 - 1s - loss: 0.7203 - mean_squared_error: 0.7223 - val_loss: 0.7258 - val_mean_squared_error: 0.7391\n",
      "Epoch 411/1000\n",
      "17/17 - 0s - loss: 0.7195 - mean_squared_error: 0.7214 - val_loss: 0.7249 - val_mean_squared_error: 0.7381\n",
      "Epoch 412/1000\n",
      "17/17 - 0s - loss: 0.7185 - mean_squared_error: 0.7204 - val_loss: 0.7240 - val_mean_squared_error: 0.7372\n",
      "Epoch 413/1000\n",
      "17/17 - 1s - loss: 0.7177 - mean_squared_error: 0.7196 - val_loss: 0.7231 - val_mean_squared_error: 0.7363\n",
      "Epoch 414/1000\n",
      "17/17 - 0s - loss: 0.7167 - mean_squared_error: 0.7187 - val_loss: 0.7222 - val_mean_squared_error: 0.7354\n",
      "Epoch 415/1000\n",
      "17/17 - 0s - loss: 0.7159 - mean_squared_error: 0.7178 - val_loss: 0.7214 - val_mean_squared_error: 0.7345\n",
      "Epoch 416/1000\n",
      "17/17 - 0s - loss: 0.7151 - mean_squared_error: 0.7170 - val_loss: 0.7205 - val_mean_squared_error: 0.7336\n",
      "Epoch 417/1000\n",
      "17/17 - 0s - loss: 0.7142 - mean_squared_error: 0.7162 - val_loss: 0.7197 - val_mean_squared_error: 0.7327\n",
      "Epoch 418/1000\n",
      "17/17 - 0s - loss: 0.7134 - mean_squared_error: 0.7153 - val_loss: 0.7189 - val_mean_squared_error: 0.7320\n",
      "Epoch 419/1000\n",
      "17/17 - 0s - loss: 0.7127 - mean_squared_error: 0.7146 - val_loss: 0.7182 - val_mean_squared_error: 0.7312\n",
      "Epoch 420/1000\n",
      "17/17 - 0s - loss: 0.7119 - mean_squared_error: 0.7138 - val_loss: 0.7175 - val_mean_squared_error: 0.7305\n",
      "Epoch 421/1000\n",
      "17/17 - 0s - loss: 0.7112 - mean_squared_error: 0.7132 - val_loss: 0.7169 - val_mean_squared_error: 0.7298\n",
      "Epoch 422/1000\n",
      "17/17 - 0s - loss: 0.7105 - mean_squared_error: 0.7125 - val_loss: 0.7163 - val_mean_squared_error: 0.7292\n",
      "Epoch 423/1000\n",
      "17/17 - 1s - loss: 0.7099 - mean_squared_error: 0.7118 - val_loss: 0.7158 - val_mean_squared_error: 0.7288\n",
      "Epoch 424/1000\n",
      "17/17 - 0s - loss: 0.7094 - mean_squared_error: 0.7113 - val_loss: 0.7154 - val_mean_squared_error: 0.7283\n",
      "Epoch 425/1000\n",
      "17/17 - 0s - loss: 0.7088 - mean_squared_error: 0.7107 - val_loss: 0.7151 - val_mean_squared_error: 0.7280\n",
      "Epoch 426/1000\n",
      "17/17 - 0s - loss: 0.7083 - mean_squared_error: 0.7102 - val_loss: 0.7150 - val_mean_squared_error: 0.7278\n",
      "Epoch 427/1000\n",
      "17/17 - 0s - loss: 0.7078 - mean_squared_error: 0.7098 - val_loss: 0.7148 - val_mean_squared_error: 0.7277\n",
      "Epoch 428/1000\n",
      "17/17 - 1s - loss: 0.7073 - mean_squared_error: 0.7093 - val_loss: 0.7146 - val_mean_squared_error: 0.7274\n",
      "Epoch 429/1000\n",
      "17/17 - 0s - loss: 0.7068 - mean_squared_error: 0.7087 - val_loss: 0.7144 - val_mean_squared_error: 0.7272\n",
      "Epoch 430/1000\n",
      "17/17 - 0s - loss: 0.7063 - mean_squared_error: 0.7082 - val_loss: 0.7138 - val_mean_squared_error: 0.7266\n",
      "Epoch 431/1000\n",
      "17/17 - 0s - loss: 0.7056 - mean_squared_error: 0.7074 - val_loss: 0.7127 - val_mean_squared_error: 0.7255\n",
      "Epoch 432/1000\n",
      "17/17 - 0s - loss: 0.7048 - mean_squared_error: 0.7065 - val_loss: 0.7113 - val_mean_squared_error: 0.7240\n",
      "Epoch 433/1000\n",
      "17/17 - 1s - loss: 0.7038 - mean_squared_error: 0.7054 - val_loss: 0.7093 - val_mean_squared_error: 0.7220\n",
      "Epoch 434/1000\n",
      "17/17 - 1s - loss: 0.7027 - mean_squared_error: 0.7041 - val_loss: 0.7070 - val_mean_squared_error: 0.7195\n",
      "Epoch 435/1000\n",
      "17/17 - 0s - loss: 0.7014 - mean_squared_error: 0.7027 - val_loss: 0.7048 - val_mean_squared_error: 0.7173\n",
      "Epoch 436/1000\n",
      "17/17 - 1s - loss: 0.7002 - mean_squared_error: 0.7014 - val_loss: 0.7031 - val_mean_squared_error: 0.7156\n",
      "Epoch 437/1000\n",
      "17/17 - 0s - loss: 0.6988 - mean_squared_error: 0.7000 - val_loss: 0.7021 - val_mean_squared_error: 0.7145\n",
      "Epoch 438/1000\n",
      "17/17 - 0s - loss: 0.6975 - mean_squared_error: 0.6987 - val_loss: 0.7016 - val_mean_squared_error: 0.7139\n",
      "Epoch 439/1000\n",
      "17/17 - 0s - loss: 0.6962 - mean_squared_error: 0.6974 - val_loss: 0.7013 - val_mean_squared_error: 0.7137\n",
      "Epoch 440/1000\n",
      "17/17 - 0s - loss: 0.6948 - mean_squared_error: 0.6962 - val_loss: 0.7009 - val_mean_squared_error: 0.7132\n",
      "Epoch 441/1000\n",
      "17/17 - 0s - loss: 0.6936 - mean_squared_error: 0.6949 - val_loss: 0.7004 - val_mean_squared_error: 0.7126\n",
      "Epoch 442/1000\n",
      "17/17 - 0s - loss: 0.6924 - mean_squared_error: 0.6938 - val_loss: 0.6998 - val_mean_squared_error: 0.7121\n",
      "Epoch 443/1000\n",
      "17/17 - 1s - loss: 0.6913 - mean_squared_error: 0.6927 - val_loss: 0.6991 - val_mean_squared_error: 0.7113\n",
      "Epoch 444/1000\n",
      "17/17 - 0s - loss: 0.6902 - mean_squared_error: 0.6916 - val_loss: 0.6984 - val_mean_squared_error: 0.7106\n",
      "Epoch 445/1000\n",
      "17/17 - 0s - loss: 0.6893 - mean_squared_error: 0.6907 - val_loss: 0.6977 - val_mean_squared_error: 0.7099\n",
      "Epoch 446/1000\n",
      "17/17 - 0s - loss: 0.6883 - mean_squared_error: 0.6897 - val_loss: 0.6970 - val_mean_squared_error: 0.7091\n",
      "Epoch 447/1000\n",
      "17/17 - 0s - loss: 0.6873 - mean_squared_error: 0.6888 - val_loss: 0.6962 - val_mean_squared_error: 0.7083\n",
      "Epoch 448/1000\n",
      "17/17 - 0s - loss: 0.6865 - mean_squared_error: 0.6879 - val_loss: 0.6956 - val_mean_squared_error: 0.7076\n",
      "Epoch 449/1000\n",
      "17/17 - 0s - loss: 0.6856 - mean_squared_error: 0.6870 - val_loss: 0.6948 - val_mean_squared_error: 0.7068\n",
      "Epoch 450/1000\n",
      "17/17 - 0s - loss: 0.6848 - mean_squared_error: 0.6862 - val_loss: 0.6941 - val_mean_squared_error: 0.7060\n",
      "Epoch 451/1000\n",
      "17/17 - 0s - loss: 0.6839 - mean_squared_error: 0.6853 - val_loss: 0.6934 - val_mean_squared_error: 0.7052\n",
      "Epoch 452/1000\n",
      "17/17 - 0s - loss: 0.6832 - mean_squared_error: 0.6846 - val_loss: 0.6927 - val_mean_squared_error: 0.7046\n",
      "Epoch 453/1000\n",
      "17/17 - 0s - loss: 0.6824 - mean_squared_error: 0.6838 - val_loss: 0.6921 - val_mean_squared_error: 0.7039\n",
      "Epoch 454/1000\n",
      "17/17 - 0s - loss: 0.6817 - mean_squared_error: 0.6831 - val_loss: 0.6915 - val_mean_squared_error: 0.7032\n",
      "Epoch 455/1000\n",
      "17/17 - 0s - loss: 0.6810 - mean_squared_error: 0.6824 - val_loss: 0.6908 - val_mean_squared_error: 0.7026\n",
      "Epoch 456/1000\n",
      "17/17 - 1s - loss: 0.6804 - mean_squared_error: 0.6818 - val_loss: 0.6903 - val_mean_squared_error: 0.7020\n",
      "Epoch 457/1000\n",
      "17/17 - 1s - loss: 0.6798 - mean_squared_error: 0.6812 - val_loss: 0.6898 - val_mean_squared_error: 0.7015\n",
      "Epoch 458/1000\n",
      "17/17 - 0s - loss: 0.6793 - mean_squared_error: 0.6807 - val_loss: 0.6895 - val_mean_squared_error: 0.7011\n",
      "Epoch 459/1000\n",
      "17/17 - 0s - loss: 0.6789 - mean_squared_error: 0.6802 - val_loss: 0.6892 - val_mean_squared_error: 0.7008\n",
      "Epoch 460/1000\n",
      "17/17 - 0s - loss: 0.6785 - mean_squared_error: 0.6799 - val_loss: 0.6891 - val_mean_squared_error: 0.7007\n",
      "Epoch 461/1000\n",
      "17/17 - 0s - loss: 0.6783 - mean_squared_error: 0.6796 - val_loss: 0.6892 - val_mean_squared_error: 0.7007\n",
      "Epoch 462/1000\n",
      "17/17 - 1s - loss: 0.6782 - mean_squared_error: 0.6795 - val_loss: 0.6895 - val_mean_squared_error: 0.7010\n",
      "Epoch 463/1000\n",
      "17/17 - 0s - loss: 0.6783 - mean_squared_error: 0.6795 - val_loss: 0.6903 - val_mean_squared_error: 0.7018\n",
      "Epoch 464/1000\n",
      "17/17 - 0s - loss: 0.6786 - mean_squared_error: 0.6798 - val_loss: 0.6917 - val_mean_squared_error: 0.7031\n",
      "Epoch 465/1000\n",
      "17/17 - 0s - loss: 0.6791 - mean_squared_error: 0.6803 - val_loss: 0.6938 - val_mean_squared_error: 0.7053\n",
      "Epoch 466/1000\n",
      "17/17 - 0s - loss: 0.6800 - mean_squared_error: 0.6812 - val_loss: 0.6970 - val_mean_squared_error: 0.7085\n",
      "Epoch 467/1000\n",
      "17/17 - 0s - loss: 0.6813 - mean_squared_error: 0.6826 - val_loss: 0.7017 - val_mean_squared_error: 0.7133\n",
      "Epoch 468/1000\n",
      "17/17 - 0s - loss: 0.6831 - mean_squared_error: 0.6844 - val_loss: 0.7085 - val_mean_squared_error: 0.7202\n",
      "Epoch 469/1000\n",
      "17/17 - 1s - loss: 0.6854 - mean_squared_error: 0.6867 - val_loss: 0.7179 - val_mean_squared_error: 0.7297\n",
      "Epoch 470/1000\n",
      "17/17 - 0s - loss: 0.6882 - mean_squared_error: 0.6896 - val_loss: 0.7301 - val_mean_squared_error: 0.7421\n"
     ]
    }
   ],
   "source": [
    "\n",
    "regressor = ak.StructuredDataRegressor(max_trials=10)\n",
    "\n",
    "regressor.fit(x=train_data, y=train_targets, batch_size=1024, verbose=2)\n"
   ]
  },
  {
   "cell_type": "markdown",
   "metadata": {},
   "source": [
    "\n",
    "### Predict with the best model.\n"
   ]
  },
  {
   "cell_type": "code",
   "execution_count": 25,
   "metadata": {
    "colab": {},
    "colab_type": "code",
    "id": "jPSNnpP6TDAP"
   },
   "outputs": [
    {
     "name": "stdout",
     "output_type": "stream",
     "text": [
      "[[0.95392096]\n",
      " [1.2366816 ]\n",
      " [2.227534  ]\n",
      " ...\n",
      " [4.3649316 ]\n",
      " [1.3993403 ]\n",
      " [1.9566523 ]]\n"
     ]
    }
   ],
   "source": [
    "predicted_y = regressor.predict(test_data)\n",
    "print(predicted_y)"
   ]
  },
  {
   "cell_type": "markdown",
   "metadata": {},
   "source": [
    "### Evaluate the best model on the test data."
   ]
  },
  {
   "cell_type": "code",
   "execution_count": 26,
   "metadata": {
    "colab": {},
    "colab_type": "code",
    "id": "ENEc_5kaTJzn"
   },
   "outputs": [
    {
     "name": "stdout",
     "output_type": "stream",
     "text": [
      "WARNING:tensorflow:Unresolved object in checkpoint: (root).optimizer.iter\n",
      "WARNING:tensorflow:Unresolved object in checkpoint: (root).optimizer.beta_1\n",
      "WARNING:tensorflow:Unresolved object in checkpoint: (root).optimizer.beta_2\n",
      "WARNING:tensorflow:Unresolved object in checkpoint: (root).optimizer.decay\n",
      "WARNING:tensorflow:Unresolved object in checkpoint: (root).optimizer.learning_rate\n",
      "WARNING:tensorflow:A checkpoint was restored (e.g. tf.train.Checkpoint.restore or tf.keras.Model.load_weights) but not all checkpointed values were used. See above for specific issues. Use expect_partial() on the load status object, e.g. tf.train.Checkpoint.restore(...).expect_partial(), to silence these warnings, or use assert_consumed() to make the check explicit. See https://www.tensorflow.org/guide/checkpoint#loading_mechanics for details.\n",
      "WARNING:tensorflow:Unresolved object in checkpoint: (root).optimizer.iter\n",
      "WARNING:tensorflow:Unresolved object in checkpoint: (root).optimizer.beta_1\n",
      "WARNING:tensorflow:Unresolved object in checkpoint: (root).optimizer.beta_2\n",
      "WARNING:tensorflow:Unresolved object in checkpoint: (root).optimizer.decay\n",
      "WARNING:tensorflow:Unresolved object in checkpoint: (root).optimizer.learning_rate\n",
      "WARNING:tensorflow:A checkpoint was restored (e.g. tf.train.Checkpoint.restore or tf.keras.Model.load_weights) but not all checkpointed values were used. See above for specific issues. Use expect_partial() on the load status object, e.g. tf.train.Checkpoint.restore(...).expect_partial(), to silence these warnings, or use assert_consumed() to make the check explicit. See https://www.tensorflow.org/guide/checkpoint#loading_mechanics for details.\n",
      "Test accuracy:  0.7550632\n"
     ]
    }
   ],
   "source": [
    "\n",
    "test_loss, test_acc = regressor.evaluate(test_data, test_targets, verbose=0)\n",
    "print('Test accuracy: ', test_acc)\n"
   ]
  },
  {
   "cell_type": "markdown",
   "metadata": {},
   "source": [
    "### Enable customized early stop epoch"
   ]
  },
  {
   "cell_type": "code",
   "execution_count": null,
   "metadata": {},
   "outputs": [],
   "source": [
    "regressor = ak.StructuredDataRegressor(max_trials=100)\n",
    "\n",
    "callback = tf.keras.callbacks.EarlyStopping(monitor='val_loss', patience=10) # control early stopping\n",
    "\n",
    "regressor.fit(x=train_data, \n",
    "              y=train_targets, \n",
    "              epochs=200,\n",
    "              batch_size=4096, \n",
    "              verbose=2, \n",
    "              callbacks=[callback])"
   ]
  },
  {
   "cell_type": "markdown",
   "metadata": {
    "colab_type": "text",
    "id": "FBykhsofDoKf"
   },
   "source": [
    "## Reference\n",
    "[ImageClassifier](/image_classifier),\n",
    "[AutoModel](/auto_model/#automodel-class),\n",
    "[ImageBlock](/block/#imageblock-class),\n",
    "[Normalization](/preprocessor/#normalization-class),\n",
    "[ImageAugmentation](/preprocessor/#image-augmentation-class),\n",
    "[ResNetBlock](/block/#resnetblock-class),\n",
    "[ImageInput](/node/#imageinput-class),\n",
    "[ClassificationHead](/head/#classificationhead-class)."
   ]
  },
  {
   "cell_type": "code",
   "execution_count": null,
   "metadata": {},
   "outputs": [],
   "source": []
  }
 ],
 "metadata": {
  "colab": {
   "collapsed_sections": [],
   "name": "ImageClassifier.ipynb",
   "provenance": []
  },
  "kernelspec": {
   "display_name": "Python 3",
   "language": "python",
   "name": "python3"
  },
  "language_info": {
   "codemirror_mode": {
    "name": "ipython",
    "version": 3
   },
   "file_extension": ".py",
   "mimetype": "text/x-python",
   "name": "python",
   "nbconvert_exporter": "python",
   "pygments_lexer": "ipython3",
   "version": "3.6.2"
  }
 },
 "nbformat": 4,
 "nbformat_minor": 1
}
