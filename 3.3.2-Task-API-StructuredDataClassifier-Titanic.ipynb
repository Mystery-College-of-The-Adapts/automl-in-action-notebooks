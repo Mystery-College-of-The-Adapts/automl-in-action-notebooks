{
 "cells": [
  {
   "cell_type": "markdown",
   "metadata": {
    "colab_type": "text",
    "id": "LowS0sjVAsIh"
   },
   "source": [
    "[![Open In Colab](https://colab.research.google.com/assets/colab-badge.svg)](https://colab.research.google.com/github/keras-team/autokeras/blob/master/docs/templates/tutorial/image_classification.ipynb)"
   ]
  },
  {
   "cell_type": "code",
   "execution_count": 1,
   "metadata": {},
   "outputs": [
    {
     "data": {
      "text/plain": [
       "'2.1.0'"
      ]
     },
     "execution_count": 1,
     "metadata": {},
     "output_type": "execute_result"
    }
   ],
   "source": [
    "import tensorflow as tf\n",
    "import autokeras as ak\n",
    "tf.__version__"
   ]
  },
  {
   "cell_type": "markdown",
   "metadata": {},
   "source": [
    "## Titanic data downloaded with csv files"
   ]
  },
  {
   "cell_type": "markdown",
   "metadata": {},
   "source": [
    "### Download training and testing csv files"
   ]
  },
  {
   "cell_type": "code",
   "execution_count": 5,
   "metadata": {},
   "outputs": [
    {
     "ename": "SyntaxError",
     "evalue": "invalid syntax (<ipython-input-5-ca05eab86a4a>, line 1)",
     "output_type": "error",
     "traceback": [
      "\u001b[0;36m  File \u001b[0;32m\"<ipython-input-5-ca05eab86a4a>\"\u001b[0;36m, line \u001b[0;32m1\u001b[0m\n\u001b[0;31m    wget https://raw.githubusercontent.com/keras-team/autokeras/master/tests/fixtures/titanic/train.csv\u001b[0m\n\u001b[0m             ^\u001b[0m\n\u001b[0;31mSyntaxError\u001b[0m\u001b[0;31m:\u001b[0m invalid syntax\n"
     ]
    }
   ],
   "source": [
    "!wget https://raw.githubusercontent.com/keras-team/autokeras/master/tests/fixtures/titanic/train.csv\n",
    "!wget https://raw.githubusercontent.com/keras-team/autokeras/master/tests/fixtures/titanic/eval.csv"
   ]
  },
  {
   "cell_type": "markdown",
   "metadata": {},
   "source": [
    "### Run `StructuredDataClassifier` API"
   ]
  },
  {
   "cell_type": "code",
   "execution_count": 3,
   "metadata": {},
   "outputs": [
    {
     "name": "stdout",
     "output_type": "stream",
     "text": [
      "Train for 16 steps, validate for 4 steps\n",
      "Epoch 1/1000\n",
      "16/16 - 3s - loss: 0.8874 - accuracy: 0.6713 - val_loss: 0.7867 - val_accuracy: 0.5360\n",
      "Epoch 2/1000\n",
      "16/16 - 0s - loss: 0.7394 - accuracy: 0.5976 - val_loss: 0.6666 - val_accuracy: 0.6960\n",
      "Epoch 3/1000\n",
      "16/16 - 0s - loss: 0.6676 - accuracy: 0.6673 - val_loss: 0.6217 - val_accuracy: 0.6960\n",
      "Epoch 4/1000\n",
      "16/16 - 0s - loss: 0.6499 - accuracy: 0.6554 - val_loss: 0.6230 - val_accuracy: 0.6960\n",
      "Epoch 5/1000\n",
      "16/16 - 0s - loss: 0.6446 - accuracy: 0.6653 - val_loss: 0.6041 - val_accuracy: 0.6960\n",
      "Epoch 6/1000\n",
      "16/16 - 1s - loss: 0.6345 - accuracy: 0.6733 - val_loss: 0.5997 - val_accuracy: 0.7040\n",
      "Epoch 7/1000\n",
      "16/16 - 0s - loss: 0.6296 - accuracy: 0.6713 - val_loss: 0.5917 - val_accuracy: 0.7040\n",
      "Epoch 8/1000\n",
      "16/16 - 0s - loss: 0.6248 - accuracy: 0.6813 - val_loss: 0.5854 - val_accuracy: 0.7040\n",
      "Epoch 9/1000\n",
      "16/16 - 0s - loss: 0.6190 - accuracy: 0.6833 - val_loss: 0.5794 - val_accuracy: 0.7120\n",
      "Epoch 10/1000\n",
      "16/16 - 0s - loss: 0.6146 - accuracy: 0.6853 - val_loss: 0.5749 - val_accuracy: 0.7120\n",
      "Epoch 11/1000\n",
      "16/16 - 0s - loss: 0.6098 - accuracy: 0.6932 - val_loss: 0.5662 - val_accuracy: 0.7200\n",
      "Epoch 12/1000\n",
      "16/16 - 1s - loss: 0.6052 - accuracy: 0.6932 - val_loss: 0.5643 - val_accuracy: 0.7280\n",
      "Epoch 13/1000\n",
      "16/16 - 0s - loss: 0.6013 - accuracy: 0.6952 - val_loss: 0.5580 - val_accuracy: 0.7280\n",
      "Epoch 14/1000\n",
      "16/16 - 0s - loss: 0.5973 - accuracy: 0.6972 - val_loss: 0.5544 - val_accuracy: 0.7360\n",
      "Epoch 15/1000\n",
      "16/16 - 0s - loss: 0.5933 - accuracy: 0.7052 - val_loss: 0.5503 - val_accuracy: 0.7440\n",
      "Epoch 16/1000\n",
      "16/16 - 0s - loss: 0.5898 - accuracy: 0.7052 - val_loss: 0.5456 - val_accuracy: 0.7360\n",
      "Epoch 17/1000\n",
      "16/16 - 0s - loss: 0.5857 - accuracy: 0.7052 - val_loss: 0.5416 - val_accuracy: 0.7360\n",
      "Epoch 18/1000\n",
      "16/16 - 0s - loss: 0.5818 - accuracy: 0.7131 - val_loss: 0.5374 - val_accuracy: 0.7440\n",
      "Epoch 19/1000\n",
      "16/16 - 0s - loss: 0.5786 - accuracy: 0.7112 - val_loss: 0.5329 - val_accuracy: 0.7440\n",
      "Epoch 20/1000\n",
      "16/16 - 0s - loss: 0.5748 - accuracy: 0.7112 - val_loss: 0.5305 - val_accuracy: 0.7440\n",
      "Epoch 21/1000\n",
      "16/16 - 0s - loss: 0.5718 - accuracy: 0.7191 - val_loss: 0.5268 - val_accuracy: 0.7520\n",
      "Epoch 22/1000\n",
      "16/16 - 0s - loss: 0.5685 - accuracy: 0.7251 - val_loss: 0.5231 - val_accuracy: 0.7440\n",
      "Epoch 23/1000\n",
      "16/16 - 0s - loss: 0.5654 - accuracy: 0.7251 - val_loss: 0.5202 - val_accuracy: 0.7440\n",
      "Epoch 24/1000\n",
      "16/16 - 0s - loss: 0.5618 - accuracy: 0.7271 - val_loss: 0.5166 - val_accuracy: 0.7440\n",
      "Epoch 25/1000\n",
      "16/16 - 0s - loss: 0.5579 - accuracy: 0.7331 - val_loss: 0.5128 - val_accuracy: 0.7600\n",
      "Epoch 26/1000\n",
      "16/16 - 0s - loss: 0.5539 - accuracy: 0.7271 - val_loss: 0.5099 - val_accuracy: 0.7760\n",
      "Epoch 27/1000\n",
      "16/16 - 1s - loss: 0.5510 - accuracy: 0.7291 - val_loss: 0.5065 - val_accuracy: 0.7840\n",
      "Epoch 28/1000\n",
      "16/16 - 0s - loss: 0.5474 - accuracy: 0.7331 - val_loss: 0.5030 - val_accuracy: 0.7920\n",
      "Epoch 29/1000\n",
      "16/16 - 0s - loss: 0.5439 - accuracy: 0.7390 - val_loss: 0.4980 - val_accuracy: 0.7920\n",
      "Epoch 30/1000\n",
      "16/16 - 0s - loss: 0.5394 - accuracy: 0.7410 - val_loss: 0.4929 - val_accuracy: 0.7920\n",
      "Epoch 31/1000\n",
      "16/16 - 0s - loss: 0.5351 - accuracy: 0.7430 - val_loss: 0.4879 - val_accuracy: 0.7920\n",
      "Epoch 32/1000\n",
      "16/16 - 0s - loss: 0.5308 - accuracy: 0.7470 - val_loss: 0.4829 - val_accuracy: 0.7840\n",
      "Epoch 33/1000\n",
      "16/16 - 0s - loss: 0.5268 - accuracy: 0.7530 - val_loss: 0.4798 - val_accuracy: 0.7760\n",
      "Epoch 34/1000\n",
      "16/16 - 0s - loss: 0.5235 - accuracy: 0.7530 - val_loss: 0.4766 - val_accuracy: 0.7760\n",
      "Epoch 35/1000\n",
      "16/16 - 0s - loss: 0.5198 - accuracy: 0.7550 - val_loss: 0.4732 - val_accuracy: 0.7760\n",
      "Epoch 36/1000\n",
      "16/16 - 0s - loss: 0.5160 - accuracy: 0.7570 - val_loss: 0.4707 - val_accuracy: 0.7760\n",
      "Epoch 37/1000\n",
      "16/16 - 0s - loss: 0.5129 - accuracy: 0.7629 - val_loss: 0.4668 - val_accuracy: 0.7760\n",
      "Epoch 38/1000\n",
      "16/16 - 0s - loss: 0.5091 - accuracy: 0.7649 - val_loss: 0.4643 - val_accuracy: 0.7840\n",
      "Epoch 39/1000\n",
      "16/16 - 0s - loss: 0.5061 - accuracy: 0.7649 - val_loss: 0.4617 - val_accuracy: 0.7920\n",
      "Epoch 40/1000\n",
      "16/16 - 0s - loss: 0.5033 - accuracy: 0.7749 - val_loss: 0.4574 - val_accuracy: 0.7920\n",
      "Epoch 41/1000\n",
      "16/16 - 0s - loss: 0.4996 - accuracy: 0.7729 - val_loss: 0.4552 - val_accuracy: 0.7920\n",
      "Epoch 42/1000\n",
      "16/16 - 0s - loss: 0.4969 - accuracy: 0.7769 - val_loss: 0.4527 - val_accuracy: 0.7840\n",
      "Epoch 43/1000\n",
      "16/16 - 0s - loss: 0.4941 - accuracy: 0.7789 - val_loss: 0.4498 - val_accuracy: 0.7840\n",
      "Epoch 44/1000\n",
      "16/16 - 0s - loss: 0.4909 - accuracy: 0.7789 - val_loss: 0.4483 - val_accuracy: 0.7840\n",
      "Epoch 45/1000\n",
      "16/16 - 0s - loss: 0.4888 - accuracy: 0.7869 - val_loss: 0.4441 - val_accuracy: 0.7920\n",
      "Epoch 46/1000\n",
      "16/16 - 0s - loss: 0.4851 - accuracy: 0.7928 - val_loss: 0.4427 - val_accuracy: 0.7920\n",
      "Epoch 47/1000\n",
      "16/16 - 0s - loss: 0.4833 - accuracy: 0.7928 - val_loss: 0.4398 - val_accuracy: 0.7920\n",
      "Epoch 48/1000\n",
      "16/16 - 0s - loss: 0.4804 - accuracy: 0.7968 - val_loss: 0.4382 - val_accuracy: 0.7920\n",
      "Epoch 49/1000\n",
      "16/16 - 0s - loss: 0.4780 - accuracy: 0.7948 - val_loss: 0.4357 - val_accuracy: 0.7920\n",
      "Epoch 50/1000\n",
      "16/16 - 0s - loss: 0.4759 - accuracy: 0.7948 - val_loss: 0.4322 - val_accuracy: 0.8000\n",
      "Epoch 51/1000\n",
      "16/16 - 0s - loss: 0.4728 - accuracy: 0.8008 - val_loss: 0.4300 - val_accuracy: 0.8000\n",
      "Epoch 52/1000\n",
      "16/16 - 0s - loss: 0.4706 - accuracy: 0.8008 - val_loss: 0.4285 - val_accuracy: 0.8000\n",
      "Epoch 53/1000\n",
      "16/16 - 0s - loss: 0.4691 - accuracy: 0.7988 - val_loss: 0.4269 - val_accuracy: 0.8000\n",
      "Epoch 54/1000\n",
      "16/16 - 0s - loss: 0.4673 - accuracy: 0.7988 - val_loss: 0.4259 - val_accuracy: 0.8000\n",
      "Epoch 55/1000\n",
      "16/16 - 0s - loss: 0.4664 - accuracy: 0.7968 - val_loss: 0.4228 - val_accuracy: 0.8000\n",
      "Epoch 56/1000\n",
      "16/16 - 0s - loss: 0.4645 - accuracy: 0.8068 - val_loss: 0.4195 - val_accuracy: 0.8000\n",
      "Epoch 57/1000\n",
      "16/16 - 0s - loss: 0.4644 - accuracy: 0.8028 - val_loss: 0.4192 - val_accuracy: 0.8000\n",
      "Epoch 58/1000\n",
      "16/16 - 0s - loss: 0.4611 - accuracy: 0.8108 - val_loss: 0.4192 - val_accuracy: 0.8000\n",
      "Epoch 59/1000\n",
      "16/16 - 0s - loss: 0.4598 - accuracy: 0.8147 - val_loss: 0.4186 - val_accuracy: 0.8000\n",
      "Epoch 60/1000\n",
      "16/16 - 0s - loss: 0.4586 - accuracy: 0.8127 - val_loss: 0.4183 - val_accuracy: 0.8000\n",
      "Epoch 61/1000\n",
      "16/16 - 0s - loss: 0.4573 - accuracy: 0.8127 - val_loss: 0.4166 - val_accuracy: 0.8080\n",
      "Epoch 62/1000\n",
      "16/16 - 0s - loss: 0.4556 - accuracy: 0.8127 - val_loss: 0.4165 - val_accuracy: 0.8080\n",
      "Epoch 63/1000\n",
      "16/16 - 0s - loss: 0.4547 - accuracy: 0.8147 - val_loss: 0.4151 - val_accuracy: 0.8080\n",
      "Epoch 64/1000\n",
      "16/16 - 0s - loss: 0.4531 - accuracy: 0.8167 - val_loss: 0.4143 - val_accuracy: 0.8080\n",
      "Epoch 65/1000\n",
      "16/16 - 0s - loss: 0.4519 - accuracy: 0.8147 - val_loss: 0.4127 - val_accuracy: 0.8080\n",
      "Epoch 66/1000\n",
      "16/16 - 0s - loss: 0.4506 - accuracy: 0.8187 - val_loss: 0.4118 - val_accuracy: 0.8080\n",
      "Epoch 67/1000\n",
      "16/16 - 0s - loss: 0.4496 - accuracy: 0.8167 - val_loss: 0.4122 - val_accuracy: 0.8080\n",
      "Epoch 68/1000\n",
      "16/16 - 0s - loss: 0.4489 - accuracy: 0.8167 - val_loss: 0.4108 - val_accuracy: 0.8080\n",
      "Epoch 69/1000\n",
      "16/16 - 0s - loss: 0.4476 - accuracy: 0.8167 - val_loss: 0.4105 - val_accuracy: 0.8080\n",
      "Epoch 70/1000\n",
      "16/16 - 0s - loss: 0.4467 - accuracy: 0.8167 - val_loss: 0.4099 - val_accuracy: 0.8080\n",
      "Epoch 71/1000\n",
      "16/16 - 0s - loss: 0.4457 - accuracy: 0.8187 - val_loss: 0.4099 - val_accuracy: 0.8080\n",
      "Epoch 72/1000\n",
      "16/16 - 0s - loss: 0.4449 - accuracy: 0.8187 - val_loss: 0.4086 - val_accuracy: 0.8080\n",
      "Epoch 73/1000\n",
      "16/16 - 0s - loss: 0.4437 - accuracy: 0.8207 - val_loss: 0.4095 - val_accuracy: 0.8080\n",
      "Epoch 74/1000\n",
      "16/16 - 0s - loss: 0.4432 - accuracy: 0.8187 - val_loss: 0.4088 - val_accuracy: 0.8080\n",
      "Epoch 75/1000\n",
      "16/16 - 0s - loss: 0.4421 - accuracy: 0.8227 - val_loss: 0.4085 - val_accuracy: 0.8080\n",
      "Epoch 76/1000\n",
      "16/16 - 0s - loss: 0.4410 - accuracy: 0.8207 - val_loss: 0.4075 - val_accuracy: 0.8080\n",
      "Epoch 77/1000\n",
      "16/16 - 0s - loss: 0.4398 - accuracy: 0.8207 - val_loss: 0.4069 - val_accuracy: 0.8080\n",
      "Epoch 78/1000\n",
      "16/16 - 0s - loss: 0.4392 - accuracy: 0.8207 - val_loss: 0.4068 - val_accuracy: 0.8080\n",
      "Epoch 79/1000\n",
      "16/16 - 0s - loss: 0.4383 - accuracy: 0.8207 - val_loss: 0.4066 - val_accuracy: 0.8080\n",
      "Epoch 80/1000\n",
      "16/16 - 0s - loss: 0.4374 - accuracy: 0.8207 - val_loss: 0.4064 - val_accuracy: 0.8080\n",
      "Epoch 81/1000\n",
      "16/16 - 0s - loss: 0.4370 - accuracy: 0.8187 - val_loss: 0.4047 - val_accuracy: 0.8080\n"
     ]
    },
    {
     "name": "stdout",
     "output_type": "stream",
     "text": [
      "Epoch 82/1000\n",
      "16/16 - 0s - loss: 0.4362 - accuracy: 0.8187 - val_loss: 0.4058 - val_accuracy: 0.8080\n",
      "Epoch 83/1000\n",
      "16/16 - 0s - loss: 0.4357 - accuracy: 0.8187 - val_loss: 0.4047 - val_accuracy: 0.8080\n",
      "Epoch 84/1000\n",
      "16/16 - 0s - loss: 0.4350 - accuracy: 0.8167 - val_loss: 0.4041 - val_accuracy: 0.8080\n",
      "Epoch 85/1000\n",
      "16/16 - 0s - loss: 0.4340 - accuracy: 0.8167 - val_loss: 0.4042 - val_accuracy: 0.8080\n",
      "Epoch 86/1000\n",
      "16/16 - 0s - loss: 0.4335 - accuracy: 0.8187 - val_loss: 0.4045 - val_accuracy: 0.8080\n",
      "Epoch 87/1000\n",
      "16/16 - 0s - loss: 0.4329 - accuracy: 0.8167 - val_loss: 0.4044 - val_accuracy: 0.8080\n",
      "Epoch 88/1000\n",
      "16/16 - 0s - loss: 0.4327 - accuracy: 0.8167 - val_loss: 0.4036 - val_accuracy: 0.8080\n",
      "Epoch 89/1000\n",
      "16/16 - 0s - loss: 0.4322 - accuracy: 0.8167 - val_loss: 0.4012 - val_accuracy: 0.8080\n",
      "Epoch 90/1000\n",
      "16/16 - 0s - loss: 0.4313 - accuracy: 0.8167 - val_loss: 0.4029 - val_accuracy: 0.8080\n",
      "Epoch 91/1000\n",
      "16/16 - 0s - loss: 0.4309 - accuracy: 0.8167 - val_loss: 0.4019 - val_accuracy: 0.8080\n",
      "Epoch 92/1000\n",
      "16/16 - 0s - loss: 0.4307 - accuracy: 0.8167 - val_loss: 0.4019 - val_accuracy: 0.8080\n",
      "Epoch 93/1000\n",
      "16/16 - 0s - loss: 0.4301 - accuracy: 0.8187 - val_loss: 0.4020 - val_accuracy: 0.8080\n",
      "Epoch 94/1000\n",
      "16/16 - 0s - loss: 0.4298 - accuracy: 0.8187 - val_loss: 0.4017 - val_accuracy: 0.8080\n",
      "Epoch 95/1000\n",
      "16/16 - 0s - loss: 0.4296 - accuracy: 0.8187 - val_loss: 0.3999 - val_accuracy: 0.8080\n",
      "Epoch 96/1000\n",
      "16/16 - 0s - loss: 0.4284 - accuracy: 0.8187 - val_loss: 0.4008 - val_accuracy: 0.8080\n",
      "Epoch 97/1000\n",
      "16/16 - 0s - loss: 0.4278 - accuracy: 0.8187 - val_loss: 0.4011 - val_accuracy: 0.8080\n",
      "Epoch 98/1000\n",
      "16/16 - 0s - loss: 0.4273 - accuracy: 0.8187 - val_loss: 0.4015 - val_accuracy: 0.8080\n",
      "Epoch 99/1000\n",
      "16/16 - 0s - loss: 0.4269 - accuracy: 0.8187 - val_loss: 0.4008 - val_accuracy: 0.8080\n",
      "Epoch 100/1000\n",
      "16/16 - 0s - loss: 0.4265 - accuracy: 0.8187 - val_loss: 0.3996 - val_accuracy: 0.8080\n",
      "Epoch 101/1000\n",
      "16/16 - 0s - loss: 0.4261 - accuracy: 0.8207 - val_loss: 0.4005 - val_accuracy: 0.8080\n",
      "Epoch 102/1000\n",
      "16/16 - 0s - loss: 0.4253 - accuracy: 0.8207 - val_loss: 0.4004 - val_accuracy: 0.8080\n",
      "Epoch 103/1000\n",
      "16/16 - 0s - loss: 0.4251 - accuracy: 0.8207 - val_loss: 0.4010 - val_accuracy: 0.8080\n",
      "Epoch 104/1000\n",
      "16/16 - 0s - loss: 0.4250 - accuracy: 0.8207 - val_loss: 0.3974 - val_accuracy: 0.8080\n",
      "Epoch 105/1000\n",
      "16/16 - 0s - loss: 0.4243 - accuracy: 0.8207 - val_loss: 0.3990 - val_accuracy: 0.8080\n",
      "Epoch 106/1000\n",
      "16/16 - 0s - loss: 0.4234 - accuracy: 0.8207 - val_loss: 0.4009 - val_accuracy: 0.8080\n",
      "Epoch 107/1000\n",
      "16/16 - 0s - loss: 0.4237 - accuracy: 0.8207 - val_loss: 0.3987 - val_accuracy: 0.8080\n",
      "Epoch 108/1000\n",
      "16/16 - 0s - loss: 0.4224 - accuracy: 0.8207 - val_loss: 0.3959 - val_accuracy: 0.8080\n",
      "Epoch 109/1000\n",
      "16/16 - 0s - loss: 0.4220 - accuracy: 0.8207 - val_loss: 0.4003 - val_accuracy: 0.8080\n",
      "Epoch 110/1000\n",
      "16/16 - 0s - loss: 0.4221 - accuracy: 0.8207 - val_loss: 0.3998 - val_accuracy: 0.8080\n",
      "Epoch 111/1000\n",
      "16/16 - 0s - loss: 0.4213 - accuracy: 0.8227 - val_loss: 0.3977 - val_accuracy: 0.8080\n",
      "Epoch 112/1000\n",
      "16/16 - 0s - loss: 0.4201 - accuracy: 0.8227 - val_loss: 0.3967 - val_accuracy: 0.8080\n",
      "Epoch 113/1000\n",
      "16/16 - 0s - loss: 0.4203 - accuracy: 0.8227 - val_loss: 0.3996 - val_accuracy: 0.8080\n",
      "Epoch 114/1000\n",
      "16/16 - 0s - loss: 0.4202 - accuracy: 0.8227 - val_loss: 0.3994 - val_accuracy: 0.8080\n",
      "Epoch 115/1000\n",
      "16/16 - 0s - loss: 0.4192 - accuracy: 0.8247 - val_loss: 0.3989 - val_accuracy: 0.8080\n",
      "Epoch 116/1000\n",
      "16/16 - 0s - loss: 0.4192 - accuracy: 0.8247 - val_loss: 0.3976 - val_accuracy: 0.8080\n",
      "Epoch 117/1000\n",
      "16/16 - 0s - loss: 0.4192 - accuracy: 0.8247 - val_loss: 0.3937 - val_accuracy: 0.8080\n",
      "Epoch 118/1000\n",
      "16/16 - 0s - loss: 0.4187 - accuracy: 0.8267 - val_loss: 0.3979 - val_accuracy: 0.8160\n",
      "Epoch 119/1000\n",
      "16/16 - 0s - loss: 0.4178 - accuracy: 0.8287 - val_loss: 0.3997 - val_accuracy: 0.8160\n",
      "Epoch 120/1000\n",
      "16/16 - 0s - loss: 0.4175 - accuracy: 0.8287 - val_loss: 0.3975 - val_accuracy: 0.8160\n",
      "Epoch 121/1000\n",
      "16/16 - 0s - loss: 0.4163 - accuracy: 0.8267 - val_loss: 0.3970 - val_accuracy: 0.8160\n",
      "Epoch 122/1000\n",
      "16/16 - 0s - loss: 0.4162 - accuracy: 0.8287 - val_loss: 0.3963 - val_accuracy: 0.8160\n",
      "Epoch 123/1000\n",
      "16/16 - 0s - loss: 0.4164 - accuracy: 0.8267 - val_loss: 0.3994 - val_accuracy: 0.8160\n",
      "Epoch 124/1000\n",
      "16/16 - 0s - loss: 0.4158 - accuracy: 0.8247 - val_loss: 0.4014 - val_accuracy: 0.8160\n",
      "Epoch 125/1000\n",
      "16/16 - 0s - loss: 0.4163 - accuracy: 0.8287 - val_loss: 0.3995 - val_accuracy: 0.8160\n",
      "Epoch 126/1000\n",
      "16/16 - 0s - loss: 0.4158 - accuracy: 0.8287 - val_loss: 0.3985 - val_accuracy: 0.8160\n",
      "Epoch 127/1000\n",
      "16/16 - 0s - loss: 0.4152 - accuracy: 0.8287 - val_loss: 0.3968 - val_accuracy: 0.8160\n"
     ]
    },
    {
     "data": {
      "text/html": [
       "<span style=\"color:#4527A0\"><h1 style=\"font-size:18px\">Trial complete</h1></span>"
      ],
      "text/plain": [
       "<IPython.core.display.HTML object>"
      ]
     },
     "metadata": {},
     "output_type": "display_data"
    },
    {
     "data": {
      "text/html": [
       "<span style=\"color:#4527A0\"><h1 style=\"font-size:18px\">Trial summary</h1></span>"
      ],
      "text/plain": [
       "<IPython.core.display.HTML object>"
      ]
     },
     "metadata": {},
     "output_type": "display_data"
    },
    {
     "data": {
      "text/html": [
       "<span style=\"color:cyan\"> |-Trial ID: 8d8079d58a715c2a5d55cabaa9f4036a</span>"
      ],
      "text/plain": [
       "<IPython.core.display.HTML object>"
      ]
     },
     "metadata": {},
     "output_type": "display_data"
    },
    {
     "data": {
      "text/html": [
       "<span style=\"color:cyan\"> |-Score: 0.8159999847412109</span>"
      ],
      "text/plain": [
       "<IPython.core.display.HTML object>"
      ]
     },
     "metadata": {},
     "output_type": "display_data"
    },
    {
     "data": {
      "text/html": [
       "<span style=\"color:cyan\"> |-Best step: 0</span>"
      ],
      "text/plain": [
       "<IPython.core.display.HTML object>"
      ]
     },
     "metadata": {},
     "output_type": "display_data"
    },
    {
     "data": {
      "text/html": [
       "<span style=\"color:#7E57C2\"><h2 style=\"font-size:16px\">Hyperparameters:</h2></span>"
      ],
      "text/plain": [
       "<IPython.core.display.HTML object>"
      ]
     },
     "metadata": {},
     "output_type": "display_data"
    },
    {
     "data": {
      "text/html": [
       "<span style=\"color:cyan\"> |-classification_head_1/dropout_rate: 0</span>"
      ],
      "text/plain": [
       "<IPython.core.display.HTML object>"
      ]
     },
     "metadata": {},
     "output_type": "display_data"
    },
    {
     "data": {
      "text/html": [
       "<span style=\"color:blue\"> |-optimizer: adam</span>"
      ],
      "text/plain": [
       "<IPython.core.display.HTML object>"
      ]
     },
     "metadata": {},
     "output_type": "display_data"
    },
    {
     "data": {
      "text/html": [
       "<span style=\"color:cyan\"> |-structured_data_block_1/dense_block_1/dropout_rate: 0</span>"
      ],
      "text/plain": [
       "<IPython.core.display.HTML object>"
      ]
     },
     "metadata": {},
     "output_type": "display_data"
    },
    {
     "data": {
      "text/html": [
       "<span style=\"color:blue\"> |-structured_data_block_1/dense_block_1/num_layers: 2</span>"
      ],
      "text/plain": [
       "<IPython.core.display.HTML object>"
      ]
     },
     "metadata": {},
     "output_type": "display_data"
    },
    {
     "data": {
      "text/html": [
       "<span style=\"color:cyan\"> |-structured_data_block_1/dense_block_1/units_0: 32</span>"
      ],
      "text/plain": [
       "<IPython.core.display.HTML object>"
      ]
     },
     "metadata": {},
     "output_type": "display_data"
    },
    {
     "data": {
      "text/html": [
       "<span style=\"color:blue\"> |-structured_data_block_1/dense_block_1/units_1: 32</span>"
      ],
      "text/plain": [
       "<IPython.core.display.HTML object>"
      ]
     },
     "metadata": {},
     "output_type": "display_data"
    },
    {
     "data": {
      "text/html": [
       "<span style=\"color:cyan\"> |-structured_data_block_1/dense_block_1/use_batchnorm: False</span>"
      ],
      "text/plain": [
       "<IPython.core.display.HTML object>"
      ]
     },
     "metadata": {},
     "output_type": "display_data"
    },
    {
     "name": "stdout",
     "output_type": "stream",
     "text": [
      "Train for 16 steps, validate for 4 steps\n",
      "Epoch 1/1000\n",
      "16/16 - 2s - loss: 1.2742 - accuracy: 0.5797 - val_loss: 0.6250 - val_accuracy: 0.7280\n",
      "Epoch 2/1000\n",
      "16/16 - 1s - loss: 0.9260 - accuracy: 0.5657 - val_loss: 0.5698 - val_accuracy: 0.7440\n",
      "Epoch 3/1000\n",
      "16/16 - 0s - loss: 0.7263 - accuracy: 0.6175 - val_loss: 0.5883 - val_accuracy: 0.7360\n",
      "Epoch 4/1000\n",
      "16/16 - 1s - loss: 0.7162 - accuracy: 0.6275 - val_loss: 0.5380 - val_accuracy: 0.7680\n",
      "Epoch 5/1000\n",
      "16/16 - 0s - loss: 0.7590 - accuracy: 0.6255 - val_loss: 0.5795 - val_accuracy: 0.7280\n",
      "Epoch 6/1000\n",
      "16/16 - 0s - loss: 0.6792 - accuracy: 0.6434 - val_loss: 0.5551 - val_accuracy: 0.7200\n",
      "Epoch 7/1000\n",
      "16/16 - 0s - loss: 0.6720 - accuracy: 0.6195 - val_loss: 0.5894 - val_accuracy: 0.6880\n",
      "Epoch 8/1000\n",
      "16/16 - 0s - loss: 0.6453 - accuracy: 0.6474 - val_loss: 0.5580 - val_accuracy: 0.7280\n",
      "Epoch 9/1000\n",
      "16/16 - 0s - loss: 0.6987 - accuracy: 0.5916 - val_loss: 0.5740 - val_accuracy: 0.7280\n",
      "Epoch 10/1000\n",
      "16/16 - 0s - loss: 0.6918 - accuracy: 0.6255 - val_loss: 0.5281 - val_accuracy: 0.7440\n",
      "Epoch 11/1000\n",
      "16/16 - 0s - loss: 0.6417 - accuracy: 0.6534 - val_loss: 0.5385 - val_accuracy: 0.7520\n",
      "Epoch 12/1000\n",
      "16/16 - 0s - loss: 0.6306 - accuracy: 0.6594 - val_loss: 0.5200 - val_accuracy: 0.7440\n",
      "Epoch 13/1000\n",
      "16/16 - 0s - loss: 0.6675 - accuracy: 0.6414 - val_loss: 0.5376 - val_accuracy: 0.7440\n",
      "Epoch 14/1000\n",
      "16/16 - 0s - loss: 0.6239 - accuracy: 0.6375 - val_loss: 0.5348 - val_accuracy: 0.7280\n",
      "Epoch 15/1000\n",
      "16/16 - 0s - loss: 0.6168 - accuracy: 0.6574 - val_loss: 0.5260 - val_accuracy: 0.7520\n",
      "Epoch 16/1000\n",
      "16/16 - 0s - loss: 0.6327 - accuracy: 0.6753 - val_loss: 0.5323 - val_accuracy: 0.7600\n",
      "Epoch 17/1000\n",
      "16/16 - 0s - loss: 0.6322 - accuracy: 0.6295 - val_loss: 0.5216 - val_accuracy: 0.7520\n",
      "Epoch 18/1000\n",
      "16/16 - 0s - loss: 0.6128 - accuracy: 0.6653 - val_loss: 0.5563 - val_accuracy: 0.7600\n",
      "Epoch 19/1000\n",
      "16/16 - 0s - loss: 0.6178 - accuracy: 0.6833 - val_loss: 0.5275 - val_accuracy: 0.7200\n",
      "Epoch 20/1000\n",
      "16/16 - 0s - loss: 0.6144 - accuracy: 0.6753 - val_loss: 0.5292 - val_accuracy: 0.7600\n",
      "Epoch 21/1000\n",
      "16/16 - 0s - loss: 0.6120 - accuracy: 0.6633 - val_loss: 0.5371 - val_accuracy: 0.6960\n",
      "Epoch 22/1000\n",
      "16/16 - 0s - loss: 0.6017 - accuracy: 0.6594 - val_loss: 0.5063 - val_accuracy: 0.7680\n",
      "Epoch 23/1000\n",
      "16/16 - 0s - loss: 0.5835 - accuracy: 0.6793 - val_loss: 0.5114 - val_accuracy: 0.7680\n",
      "Epoch 24/1000\n",
      "16/16 - 0s - loss: 0.6069 - accuracy: 0.6633 - val_loss: 0.5453 - val_accuracy: 0.7280\n",
      "Epoch 25/1000\n",
      "16/16 - 0s - loss: 0.6425 - accuracy: 0.6514 - val_loss: 0.5314 - val_accuracy: 0.7360\n",
      "Epoch 26/1000\n",
      "16/16 - 0s - loss: 0.6011 - accuracy: 0.6952 - val_loss: 0.4735 - val_accuracy: 0.7520\n",
      "Epoch 27/1000\n",
      "16/16 - 0s - loss: 0.6018 - accuracy: 0.6633 - val_loss: 0.5079 - val_accuracy: 0.7760\n",
      "Epoch 28/1000\n",
      "16/16 - 0s - loss: 0.6128 - accuracy: 0.6713 - val_loss: 0.4922 - val_accuracy: 0.7600\n",
      "Epoch 29/1000\n",
      "16/16 - 0s - loss: 0.5789 - accuracy: 0.6853 - val_loss: 0.4717 - val_accuracy: 0.7600\n",
      "Epoch 30/1000\n",
      "16/16 - 0s - loss: 0.5786 - accuracy: 0.7231 - val_loss: 0.4852 - val_accuracy: 0.7760\n",
      "Epoch 31/1000\n",
      "16/16 - 1s - loss: 0.6004 - accuracy: 0.6992 - val_loss: 0.4915 - val_accuracy: 0.7920\n",
      "Epoch 32/1000\n",
      "16/16 - 0s - loss: 0.5766 - accuracy: 0.7112 - val_loss: 0.4908 - val_accuracy: 0.7600\n",
      "Epoch 33/1000\n",
      "16/16 - 0s - loss: 0.5588 - accuracy: 0.7012 - val_loss: 0.4608 - val_accuracy: 0.7840\n",
      "Epoch 34/1000\n",
      "16/16 - 0s - loss: 0.5854 - accuracy: 0.7052 - val_loss: 0.5037 - val_accuracy: 0.7680\n",
      "Epoch 35/1000\n",
      "16/16 - 1s - loss: 0.5758 - accuracy: 0.7092 - val_loss: 0.4853 - val_accuracy: 0.8000\n",
      "Epoch 36/1000\n",
      "16/16 - 0s - loss: 0.5627 - accuracy: 0.7072 - val_loss: 0.4507 - val_accuracy: 0.7920\n",
      "Epoch 37/1000\n",
      "16/16 - 0s - loss: 0.5565 - accuracy: 0.7092 - val_loss: 0.4747 - val_accuracy: 0.8080\n",
      "Epoch 38/1000\n",
      "16/16 - 0s - loss: 0.5626 - accuracy: 0.7131 - val_loss: 0.4863 - val_accuracy: 0.7840\n",
      "Epoch 39/1000\n",
      "16/16 - 0s - loss: 0.5597 - accuracy: 0.7191 - val_loss: 0.4529 - val_accuracy: 0.7840\n",
      "Epoch 40/1000\n",
      "16/16 - 1s - loss: 0.5655 - accuracy: 0.7231 - val_loss: 0.4479 - val_accuracy: 0.7760\n",
      "Epoch 41/1000\n",
      "16/16 - 0s - loss: 0.5722 - accuracy: 0.7510 - val_loss: 0.4963 - val_accuracy: 0.7840\n",
      "Epoch 42/1000\n",
      "16/16 - 0s - loss: 0.5662 - accuracy: 0.7012 - val_loss: 0.4591 - val_accuracy: 0.7680\n",
      "Epoch 43/1000\n",
      "16/16 - 0s - loss: 0.5483 - accuracy: 0.7131 - val_loss: 0.4566 - val_accuracy: 0.7760\n",
      "Epoch 44/1000\n",
      "16/16 - 0s - loss: 0.5450 - accuracy: 0.7171 - val_loss: 0.4536 - val_accuracy: 0.7600\n",
      "Epoch 45/1000\n",
      "16/16 - 0s - loss: 0.5643 - accuracy: 0.7291 - val_loss: 0.4513 - val_accuracy: 0.7840\n",
      "Epoch 46/1000\n",
      "16/16 - 0s - loss: 0.5490 - accuracy: 0.7171 - val_loss: 0.4804 - val_accuracy: 0.7600\n",
      "Epoch 47/1000\n",
      "16/16 - 0s - loss: 0.5413 - accuracy: 0.7430 - val_loss: 0.4320 - val_accuracy: 0.8000\n",
      "Epoch 48/1000\n",
      "16/16 - 0s - loss: 0.5544 - accuracy: 0.7331 - val_loss: 0.4230 - val_accuracy: 0.8000\n",
      "Epoch 49/1000\n",
      "16/16 - 0s - loss: 0.5459 - accuracy: 0.7470 - val_loss: 0.4418 - val_accuracy: 0.8000\n",
      "Epoch 50/1000\n",
      "16/16 - 1s - loss: 0.5380 - accuracy: 0.7390 - val_loss: 0.4270 - val_accuracy: 0.8160\n",
      "Epoch 51/1000\n",
      "16/16 - 0s - loss: 0.5426 - accuracy: 0.7351 - val_loss: 0.4173 - val_accuracy: 0.7840\n",
      "Epoch 52/1000\n",
      "16/16 - 0s - loss: 0.5417 - accuracy: 0.7271 - val_loss: 0.4498 - val_accuracy: 0.8160\n",
      "Epoch 53/1000\n",
      "16/16 - 0s - loss: 0.5511 - accuracy: 0.7590 - val_loss: 0.4331 - val_accuracy: 0.7920\n",
      "Epoch 54/1000\n",
      "16/16 - 0s - loss: 0.5161 - accuracy: 0.7649 - val_loss: 0.4636 - val_accuracy: 0.7760\n",
      "Epoch 55/1000\n",
      "16/16 - 0s - loss: 0.5622 - accuracy: 0.7271 - val_loss: 0.4224 - val_accuracy: 0.8320\n",
      "Epoch 56/1000\n",
      "16/16 - 0s - loss: 0.4996 - accuracy: 0.7789 - val_loss: 0.4308 - val_accuracy: 0.7760\n",
      "Epoch 57/1000\n",
      "16/16 - 0s - loss: 0.5168 - accuracy: 0.7530 - val_loss: 0.4091 - val_accuracy: 0.7840\n",
      "Epoch 58/1000\n",
      "16/16 - 0s - loss: 0.5069 - accuracy: 0.7530 - val_loss: 0.4382 - val_accuracy: 0.7920\n",
      "Epoch 59/1000\n",
      "16/16 - 0s - loss: 0.5141 - accuracy: 0.7729 - val_loss: 0.4081 - val_accuracy: 0.7840\n",
      "Epoch 60/1000\n",
      "16/16 - 0s - loss: 0.5233 - accuracy: 0.7510 - val_loss: 0.4288 - val_accuracy: 0.7920\n",
      "Epoch 61/1000\n",
      "16/16 - 0s - loss: 0.4949 - accuracy: 0.7629 - val_loss: 0.4036 - val_accuracy: 0.8320\n",
      "Epoch 62/1000\n",
      "16/16 - 0s - loss: 0.5087 - accuracy: 0.7749 - val_loss: 0.4149 - val_accuracy: 0.8080\n",
      "Epoch 63/1000\n",
      "16/16 - 0s - loss: 0.4857 - accuracy: 0.7629 - val_loss: 0.4318 - val_accuracy: 0.7920\n",
      "Epoch 64/1000\n",
      "16/16 - 0s - loss: 0.5223 - accuracy: 0.7510 - val_loss: 0.4200 - val_accuracy: 0.7920\n",
      "Epoch 65/1000\n",
      "16/16 - 0s - loss: 0.5085 - accuracy: 0.7570 - val_loss: 0.4205 - val_accuracy: 0.7920\n",
      "Epoch 66/1000\n",
      "16/16 - 0s - loss: 0.4950 - accuracy: 0.7649 - val_loss: 0.4186 - val_accuracy: 0.7760\n",
      "Epoch 67/1000\n",
      "16/16 - 0s - loss: 0.5150 - accuracy: 0.7729 - val_loss: 0.3984 - val_accuracy: 0.8160\n",
      "Epoch 68/1000\n",
      "16/16 - 0s - loss: 0.5188 - accuracy: 0.7450 - val_loss: 0.4059 - val_accuracy: 0.8400\n",
      "Epoch 69/1000\n",
      "16/16 - 0s - loss: 0.4752 - accuracy: 0.7988 - val_loss: 0.4116 - val_accuracy: 0.7840\n",
      "Epoch 70/1000\n",
      "16/16 - 1s - loss: 0.5158 - accuracy: 0.7490 - val_loss: 0.4020 - val_accuracy: 0.8480\n",
      "Epoch 71/1000\n",
      "16/16 - 0s - loss: 0.4994 - accuracy: 0.7689 - val_loss: 0.4271 - val_accuracy: 0.8160\n",
      "Epoch 72/1000\n",
      "16/16 - 0s - loss: 0.5141 - accuracy: 0.7769 - val_loss: 0.4116 - val_accuracy: 0.8160\n",
      "Epoch 73/1000\n",
      "16/16 - 0s - loss: 0.5180 - accuracy: 0.7649 - val_loss: 0.4111 - val_accuracy: 0.8240\n",
      "Epoch 74/1000\n",
      "16/16 - 0s - loss: 0.4784 - accuracy: 0.7988 - val_loss: 0.4051 - val_accuracy: 0.8400\n",
      "Epoch 75/1000\n",
      "16/16 - 0s - loss: 0.4931 - accuracy: 0.7908 - val_loss: 0.4210 - val_accuracy: 0.7760\n",
      "Epoch 76/1000\n",
      "16/16 - 0s - loss: 0.4888 - accuracy: 0.7689 - val_loss: 0.4061 - val_accuracy: 0.8160\n",
      "Epoch 77/1000\n",
      "16/16 - 0s - loss: 0.5054 - accuracy: 0.7629 - val_loss: 0.4545 - val_accuracy: 0.7760\n"
     ]
    },
    {
     "data": {
      "text/html": [
       "<span style=\"color:#4527A0\"><h1 style=\"font-size:18px\">Trial complete</h1></span>"
      ],
      "text/plain": [
       "<IPython.core.display.HTML object>"
      ]
     },
     "metadata": {},
     "output_type": "display_data"
    },
    {
     "data": {
      "text/html": [
       "<span style=\"color:#4527A0\"><h1 style=\"font-size:18px\">Trial summary</h1></span>"
      ],
      "text/plain": [
       "<IPython.core.display.HTML object>"
      ]
     },
     "metadata": {},
     "output_type": "display_data"
    },
    {
     "data": {
      "text/html": [
       "<span style=\"color:cyan\"> |-Trial ID: 70cab5a3f97b11a1c69db6bbf804682d</span>"
      ],
      "text/plain": [
       "<IPython.core.display.HTML object>"
      ]
     },
     "metadata": {},
     "output_type": "display_data"
    },
    {
     "data": {
      "text/html": [
       "<span style=\"color:cyan\"> |-Score: 0.8479999899864197</span>"
      ],
      "text/plain": [
       "<IPython.core.display.HTML object>"
      ]
     },
     "metadata": {},
     "output_type": "display_data"
    },
    {
     "data": {
      "text/html": [
       "<span style=\"color:cyan\"> |-Best step: 0</span>"
      ],
      "text/plain": [
       "<IPython.core.display.HTML object>"
      ]
     },
     "metadata": {},
     "output_type": "display_data"
    },
    {
     "data": {
      "text/html": [
       "<span style=\"color:#7E57C2\"><h2 style=\"font-size:16px\">Hyperparameters:</h2></span>"
      ],
      "text/plain": [
       "<IPython.core.display.HTML object>"
      ]
     },
     "metadata": {},
     "output_type": "display_data"
    },
    {
     "data": {
      "text/html": [
       "<span style=\"color:cyan\"> |-classification_head_1/dropout_rate: 0</span>"
      ],
      "text/plain": [
       "<IPython.core.display.HTML object>"
      ]
     },
     "metadata": {},
     "output_type": "display_data"
    },
    {
     "data": {
      "text/html": [
       "<span style=\"color:blue\"> |-optimizer: adam</span>"
      ],
      "text/plain": [
       "<IPython.core.display.HTML object>"
      ]
     },
     "metadata": {},
     "output_type": "display_data"
    },
    {
     "data": {
      "text/html": [
       "<span style=\"color:cyan\"> |-structured_data_block_1/dense_block_1/dropout_rate: 0.25</span>"
      ],
      "text/plain": [
       "<IPython.core.display.HTML object>"
      ]
     },
     "metadata": {},
     "output_type": "display_data"
    },
    {
     "data": {
      "text/html": [
       "<span style=\"color:blue\"> |-structured_data_block_1/dense_block_1/num_layers: 3</span>"
      ],
      "text/plain": [
       "<IPython.core.display.HTML object>"
      ]
     },
     "metadata": {},
     "output_type": "display_data"
    },
    {
     "data": {
      "text/html": [
       "<span style=\"color:cyan\"> |-structured_data_block_1/dense_block_1/units_0: 512</span>"
      ],
      "text/plain": [
       "<IPython.core.display.HTML object>"
      ]
     },
     "metadata": {},
     "output_type": "display_data"
    },
    {
     "data": {
      "text/html": [
       "<span style=\"color:blue\"> |-structured_data_block_1/dense_block_1/units_1: 64</span>"
      ],
      "text/plain": [
       "<IPython.core.display.HTML object>"
      ]
     },
     "metadata": {},
     "output_type": "display_data"
    },
    {
     "data": {
      "text/html": [
       "<span style=\"color:cyan\"> |-structured_data_block_1/dense_block_1/units_2: 32</span>"
      ],
      "text/plain": [
       "<IPython.core.display.HTML object>"
      ]
     },
     "metadata": {},
     "output_type": "display_data"
    },
    {
     "data": {
      "text/html": [
       "<span style=\"color:blue\"> |-structured_data_block_1/dense_block_1/use_batchnorm: False</span>"
      ],
      "text/plain": [
       "<IPython.core.display.HTML object>"
      ]
     },
     "metadata": {},
     "output_type": "display_data"
    },
    {
     "name": "stdout",
     "output_type": "stream",
     "text": [
      "Train for 16 steps, validate for 4 steps\n",
      "Epoch 1/1000\n",
      "16/16 - 3s - loss: 0.6592 - accuracy: 0.6235 - val_loss: 0.5670 - val_accuracy: 0.7280\n",
      "Epoch 2/1000\n",
      "16/16 - 0s - loss: 0.6127 - accuracy: 0.6952 - val_loss: 0.5990 - val_accuracy: 0.6720\n",
      "Epoch 3/1000\n",
      "16/16 - 0s - loss: 0.5899 - accuracy: 0.7211 - val_loss: 0.5796 - val_accuracy: 0.7200\n",
      "Epoch 4/1000\n",
      "16/16 - 1s - loss: 0.5595 - accuracy: 0.7331 - val_loss: 0.5746 - val_accuracy: 0.7600\n",
      "Epoch 5/1000\n",
      "16/16 - 0s - loss: 0.5436 - accuracy: 0.7311 - val_loss: 0.6010 - val_accuracy: 0.7360\n",
      "Epoch 6/1000\n",
      "16/16 - 0s - loss: 0.5197 - accuracy: 0.7371 - val_loss: 0.5592 - val_accuracy: 0.7520\n",
      "Epoch 7/1000\n",
      "16/16 - 0s - loss: 0.4941 - accuracy: 0.7570 - val_loss: 0.5610 - val_accuracy: 0.7440\n",
      "Epoch 8/1000\n",
      "16/16 - 1s - loss: 0.4755 - accuracy: 0.7709 - val_loss: 0.5424 - val_accuracy: 0.7840\n",
      "Epoch 9/1000\n",
      "16/16 - 1s - loss: 0.4625 - accuracy: 0.7908 - val_loss: 0.5318 - val_accuracy: 0.8080\n",
      "Epoch 10/1000\n",
      "16/16 - 0s - loss: 0.4422 - accuracy: 0.8108 - val_loss: 0.5577 - val_accuracy: 0.8160\n",
      "Epoch 11/1000\n",
      "16/16 - 0s - loss: 0.4322 - accuracy: 0.8088 - val_loss: 0.5618 - val_accuracy: 0.7840\n",
      "Epoch 12/1000\n",
      "16/16 - 0s - loss: 0.4224 - accuracy: 0.8167 - val_loss: 0.5504 - val_accuracy: 0.7680\n",
      "Epoch 13/1000\n",
      "16/16 - 0s - loss: 0.4171 - accuracy: 0.8227 - val_loss: 0.5956 - val_accuracy: 0.7520\n",
      "Epoch 14/1000\n",
      "16/16 - 0s - loss: 0.4063 - accuracy: 0.8247 - val_loss: 0.5531 - val_accuracy: 0.8000\n",
      "Epoch 15/1000\n",
      "16/16 - 0s - loss: 0.3990 - accuracy: 0.8287 - val_loss: 0.5587 - val_accuracy: 0.7760\n",
      "Epoch 16/1000\n",
      "16/16 - 0s - loss: 0.3932 - accuracy: 0.8267 - val_loss: 0.5570 - val_accuracy: 0.7760\n",
      "Epoch 17/1000\n",
      "16/16 - 0s - loss: 0.3867 - accuracy: 0.8367 - val_loss: 0.5517 - val_accuracy: 0.7760\n",
      "Epoch 18/1000\n",
      "16/16 - 0s - loss: 0.3808 - accuracy: 0.8446 - val_loss: 0.5615 - val_accuracy: 0.7680\n",
      "Epoch 19/1000\n",
      "16/16 - 0s - loss: 0.3704 - accuracy: 0.8446 - val_loss: 0.5288 - val_accuracy: 0.7680\n",
      "Epoch 20/1000\n",
      "16/16 - 0s - loss: 0.3638 - accuracy: 0.8446 - val_loss: 0.5133 - val_accuracy: 0.7760\n",
      "Epoch 21/1000\n",
      "16/16 - 0s - loss: 0.3577 - accuracy: 0.8546 - val_loss: 0.5170 - val_accuracy: 0.7760\n",
      "Epoch 22/1000\n",
      "16/16 - 0s - loss: 0.3512 - accuracy: 0.8566 - val_loss: 0.5422 - val_accuracy: 0.8080\n",
      "Epoch 23/1000\n",
      "16/16 - 0s - loss: 0.3555 - accuracy: 0.8526 - val_loss: 0.5213 - val_accuracy: 0.8080\n",
      "Epoch 24/1000\n",
      "16/16 - 0s - loss: 0.3444 - accuracy: 0.8606 - val_loss: 0.5066 - val_accuracy: 0.8000\n",
      "Epoch 25/1000\n",
      "16/16 - 0s - loss: 0.3530 - accuracy: 0.8506 - val_loss: 0.5137 - val_accuracy: 0.8080\n",
      "Epoch 26/1000\n",
      "16/16 - 0s - loss: 0.3367 - accuracy: 0.8685 - val_loss: 0.5084 - val_accuracy: 0.7920\n",
      "Epoch 27/1000\n",
      "16/16 - 1s - loss: 0.3406 - accuracy: 0.8625 - val_loss: 0.4708 - val_accuracy: 0.8400\n",
      "Epoch 28/1000\n",
      "16/16 - 0s - loss: 0.3387 - accuracy: 0.8645 - val_loss: 0.4591 - val_accuracy: 0.8160\n",
      "Epoch 29/1000\n",
      "16/16 - 0s - loss: 0.3346 - accuracy: 0.8645 - val_loss: 0.4268 - val_accuracy: 0.8320\n",
      "Epoch 30/1000\n",
      "16/16 - 0s - loss: 0.3247 - accuracy: 0.8685 - val_loss: 0.4255 - val_accuracy: 0.8160\n",
      "Epoch 31/1000\n",
      "16/16 - 0s - loss: 0.3191 - accuracy: 0.8685 - val_loss: 0.4357 - val_accuracy: 0.8000\n",
      "Epoch 32/1000\n",
      "16/16 - 0s - loss: 0.3173 - accuracy: 0.8625 - val_loss: 0.4353 - val_accuracy: 0.8000\n",
      "Epoch 33/1000\n",
      "16/16 - 0s - loss: 0.3109 - accuracy: 0.8725 - val_loss: 0.4168 - val_accuracy: 0.8320\n",
      "Epoch 34/1000\n",
      "16/16 - 0s - loss: 0.3090 - accuracy: 0.8625 - val_loss: 0.4350 - val_accuracy: 0.8080\n",
      "Epoch 35/1000\n",
      "16/16 - 0s - loss: 0.3058 - accuracy: 0.8705 - val_loss: 0.4530 - val_accuracy: 0.8080\n",
      "Epoch 36/1000\n",
      "16/16 - 0s - loss: 0.3075 - accuracy: 0.8645 - val_loss: 0.4231 - val_accuracy: 0.8240\n",
      "Epoch 37/1000\n",
      "16/16 - 0s - loss: 0.2996 - accuracy: 0.8805 - val_loss: 0.4233 - val_accuracy: 0.8400\n",
      "Epoch 38/1000\n",
      "16/16 - 0s - loss: 0.2928 - accuracy: 0.8785 - val_loss: 0.4276 - val_accuracy: 0.8240\n",
      "Epoch 39/1000\n",
      "16/16 - 0s - loss: 0.2903 - accuracy: 0.8745 - val_loss: 0.4220 - val_accuracy: 0.8320\n",
      "Epoch 40/1000\n",
      "16/16 - 0s - loss: 0.2864 - accuracy: 0.8725 - val_loss: 0.4321 - val_accuracy: 0.8240\n",
      "Epoch 41/1000\n",
      "16/16 - 0s - loss: 0.2830 - accuracy: 0.8865 - val_loss: 0.4349 - val_accuracy: 0.8400\n",
      "Epoch 42/1000\n",
      "16/16 - 0s - loss: 0.2799 - accuracy: 0.8904 - val_loss: 0.4168 - val_accuracy: 0.8400\n",
      "Epoch 43/1000\n",
      "16/16 - 0s - loss: 0.2759 - accuracy: 0.8924 - val_loss: 0.4229 - val_accuracy: 0.8240\n",
      "Epoch 44/1000\n",
      "16/16 - 0s - loss: 0.2728 - accuracy: 0.8964 - val_loss: 0.4534 - val_accuracy: 0.8240\n",
      "Epoch 45/1000\n",
      "16/16 - 0s - loss: 0.2717 - accuracy: 0.8904 - val_loss: 0.4327 - val_accuracy: 0.8320\n",
      "Epoch 46/1000\n",
      "16/16 - 0s - loss: 0.2650 - accuracy: 0.8984 - val_loss: 0.4278 - val_accuracy: 0.8320\n",
      "Epoch 47/1000\n",
      "16/16 - 0s - loss: 0.2641 - accuracy: 0.8944 - val_loss: 0.4114 - val_accuracy: 0.8320\n",
      "Epoch 48/1000\n",
      "16/16 - 0s - loss: 0.2614 - accuracy: 0.8984 - val_loss: 0.4127 - val_accuracy: 0.8320\n",
      "Epoch 49/1000\n",
      "16/16 - 0s - loss: 0.2611 - accuracy: 0.8984 - val_loss: 0.4399 - val_accuracy: 0.8000\n",
      "Epoch 50/1000\n",
      "16/16 - 0s - loss: 0.2663 - accuracy: 0.8964 - val_loss: 0.4349 - val_accuracy: 0.8400\n",
      "Epoch 51/1000\n",
      "16/16 - 0s - loss: 0.2599 - accuracy: 0.8964 - val_loss: 0.4521 - val_accuracy: 0.7840\n",
      "Epoch 52/1000\n",
      "16/16 - 0s - loss: 0.2768 - accuracy: 0.8884 - val_loss: 0.4346 - val_accuracy: 0.8160\n",
      "Epoch 53/1000\n",
      "16/16 - 0s - loss: 0.2691 - accuracy: 0.8924 - val_loss: 0.4413 - val_accuracy: 0.8240\n",
      "Epoch 54/1000\n",
      "16/16 - 0s - loss: 0.2550 - accuracy: 0.8984 - val_loss: 0.4163 - val_accuracy: 0.8400\n",
      "Epoch 55/1000\n",
      "16/16 - 0s - loss: 0.2493 - accuracy: 0.9024 - val_loss: 0.4785 - val_accuracy: 0.8000\n",
      "Epoch 56/1000\n",
      "16/16 - 0s - loss: 0.2394 - accuracy: 0.9124 - val_loss: 0.4395 - val_accuracy: 0.8160\n",
      "Epoch 57/1000\n",
      "16/16 - 0s - loss: 0.2381 - accuracy: 0.9124 - val_loss: 0.4346 - val_accuracy: 0.8240\n"
     ]
    },
    {
     "data": {
      "text/html": [
       "<span style=\"color:#4527A0\"><h1 style=\"font-size:18px\">Trial complete</h1></span>"
      ],
      "text/plain": [
       "<IPython.core.display.HTML object>"
      ]
     },
     "metadata": {},
     "output_type": "display_data"
    },
    {
     "data": {
      "text/html": [
       "<span style=\"color:#4527A0\"><h1 style=\"font-size:18px\">Trial summary</h1></span>"
      ],
      "text/plain": [
       "<IPython.core.display.HTML object>"
      ]
     },
     "metadata": {},
     "output_type": "display_data"
    },
    {
     "data": {
      "text/html": [
       "<span style=\"color:cyan\"> |-Trial ID: 89744858ea71bfc4d63df75ea11f7f36</span>"
      ],
      "text/plain": [
       "<IPython.core.display.HTML object>"
      ]
     },
     "metadata": {},
     "output_type": "display_data"
    },
    {
     "data": {
      "text/html": [
       "<span style=\"color:cyan\"> |-Score: 0.8399999737739563</span>"
      ],
      "text/plain": [
       "<IPython.core.display.HTML object>"
      ]
     },
     "metadata": {},
     "output_type": "display_data"
    },
    {
     "data": {
      "text/html": [
       "<span style=\"color:cyan\"> |-Best step: 0</span>"
      ],
      "text/plain": [
       "<IPython.core.display.HTML object>"
      ]
     },
     "metadata": {},
     "output_type": "display_data"
    },
    {
     "data": {
      "text/html": [
       "<span style=\"color:#7E57C2\"><h2 style=\"font-size:16px\">Hyperparameters:</h2></span>"
      ],
      "text/plain": [
       "<IPython.core.display.HTML object>"
      ]
     },
     "metadata": {},
     "output_type": "display_data"
    },
    {
     "data": {
      "text/html": [
       "<span style=\"color:cyan\"> |-classification_head_1/dropout_rate: 0</span>"
      ],
      "text/plain": [
       "<IPython.core.display.HTML object>"
      ]
     },
     "metadata": {},
     "output_type": "display_data"
    },
    {
     "data": {
      "text/html": [
       "<span style=\"color:blue\"> |-optimizer: adam</span>"
      ],
      "text/plain": [
       "<IPython.core.display.HTML object>"
      ]
     },
     "metadata": {},
     "output_type": "display_data"
    },
    {
     "data": {
      "text/html": [
       "<span style=\"color:cyan\"> |-structured_data_block_1/dense_block_1/dropout_rate: 0.0</span>"
      ],
      "text/plain": [
       "<IPython.core.display.HTML object>"
      ]
     },
     "metadata": {},
     "output_type": "display_data"
    },
    {
     "data": {
      "text/html": [
       "<span style=\"color:blue\"> |-structured_data_block_1/dense_block_1/num_layers: 2</span>"
      ],
      "text/plain": [
       "<IPython.core.display.HTML object>"
      ]
     },
     "metadata": {},
     "output_type": "display_data"
    },
    {
     "data": {
      "text/html": [
       "<span style=\"color:cyan\"> |-structured_data_block_1/dense_block_1/units_0: 128</span>"
      ],
      "text/plain": [
       "<IPython.core.display.HTML object>"
      ]
     },
     "metadata": {},
     "output_type": "display_data"
    },
    {
     "data": {
      "text/html": [
       "<span style=\"color:blue\"> |-structured_data_block_1/dense_block_1/units_1: 32</span>"
      ],
      "text/plain": [
       "<IPython.core.display.HTML object>"
      ]
     },
     "metadata": {},
     "output_type": "display_data"
    },
    {
     "data": {
      "text/html": [
       "<span style=\"color:cyan\"> |-structured_data_block_1/dense_block_1/units_2: 32</span>"
      ],
      "text/plain": [
       "<IPython.core.display.HTML object>"
      ]
     },
     "metadata": {},
     "output_type": "display_data"
    },
    {
     "data": {
      "text/html": [
       "<span style=\"color:blue\"> |-structured_data_block_1/dense_block_1/use_batchnorm: True</span>"
      ],
      "text/plain": [
       "<IPython.core.display.HTML object>"
      ]
     },
     "metadata": {},
     "output_type": "display_data"
    },
    {
     "name": "stdout",
     "output_type": "stream",
     "text": [
      "Train for 16 steps, validate for 4 steps\n",
      "Epoch 1/1000\n",
      "16/16 - 2s - loss: 2.1404 - accuracy: 0.5378 - val_loss: 0.7926 - val_accuracy: 0.7200\n",
      "Epoch 2/1000\n",
      "16/16 - 0s - loss: 1.0420 - accuracy: 0.6335 - val_loss: 0.8086 - val_accuracy: 0.3600\n",
      "Epoch 3/1000\n",
      "16/16 - 0s - loss: 0.7814 - accuracy: 0.6135 - val_loss: 0.5885 - val_accuracy: 0.7360\n",
      "Epoch 4/1000\n",
      "16/16 - 0s - loss: 0.6836 - accuracy: 0.6574 - val_loss: 0.5821 - val_accuracy: 0.7360\n",
      "Epoch 5/1000\n",
      "16/16 - 1s - loss: 0.6661 - accuracy: 0.6434 - val_loss: 0.5304 - val_accuracy: 0.7520\n",
      "Epoch 6/1000\n",
      "16/16 - 0s - loss: 0.6593 - accuracy: 0.6534 - val_loss: 0.5510 - val_accuracy: 0.7440\n",
      "Epoch 7/1000\n",
      "16/16 - 0s - loss: 0.6635 - accuracy: 0.6494 - val_loss: 0.5380 - val_accuracy: 0.7360\n",
      "Epoch 8/1000\n",
      "16/16 - 0s - loss: 0.6557 - accuracy: 0.6454 - val_loss: 0.5522 - val_accuracy: 0.7520\n",
      "Epoch 9/1000\n",
      "16/16 - 0s - loss: 0.6483 - accuracy: 0.6594 - val_loss: 0.5442 - val_accuracy: 0.7520\n",
      "Epoch 10/1000\n",
      "16/16 - 0s - loss: 0.6396 - accuracy: 0.6554 - val_loss: 0.5340 - val_accuracy: 0.7440\n",
      "Epoch 11/1000\n",
      "16/16 - 0s - loss: 0.6243 - accuracy: 0.6633 - val_loss: 0.5346 - val_accuracy: 0.7520\n",
      "Epoch 12/1000\n",
      "16/16 - 0s - loss: 0.6217 - accuracy: 0.6673 - val_loss: 0.5328 - val_accuracy: 0.7600\n",
      "Epoch 13/1000\n",
      "16/16 - 0s - loss: 0.6147 - accuracy: 0.6693 - val_loss: 0.5322 - val_accuracy: 0.7600\n",
      "Epoch 14/1000\n",
      "16/16 - 0s - loss: 0.6085 - accuracy: 0.6793 - val_loss: 0.5325 - val_accuracy: 0.7440\n",
      "Epoch 15/1000\n",
      "16/16 - 0s - loss: 0.6030 - accuracy: 0.6773 - val_loss: 0.5289 - val_accuracy: 0.7440\n",
      "Epoch 16/1000\n",
      "16/16 - 0s - loss: 0.5973 - accuracy: 0.6793 - val_loss: 0.5213 - val_accuracy: 0.7360\n",
      "Epoch 17/1000\n",
      "16/16 - 0s - loss: 0.5977 - accuracy: 0.6952 - val_loss: 0.5183 - val_accuracy: 0.7440\n",
      "Epoch 18/1000\n",
      "16/16 - 0s - loss: 0.5912 - accuracy: 0.6912 - val_loss: 0.5243 - val_accuracy: 0.7280\n",
      "Epoch 19/1000\n",
      "16/16 - 0s - loss: 0.5848 - accuracy: 0.6972 - val_loss: 0.5303 - val_accuracy: 0.7280\n",
      "Epoch 20/1000\n",
      "16/16 - 0s - loss: 0.5781 - accuracy: 0.7032 - val_loss: 0.5310 - val_accuracy: 0.6960\n",
      "Epoch 21/1000\n",
      "16/16 - 0s - loss: 0.5737 - accuracy: 0.7012 - val_loss: 0.5191 - val_accuracy: 0.7200\n",
      "Epoch 22/1000\n",
      "16/16 - 0s - loss: 0.5658 - accuracy: 0.7052 - val_loss: 0.5112 - val_accuracy: 0.7280\n",
      "Epoch 23/1000\n",
      "16/16 - 0s - loss: 0.5600 - accuracy: 0.7151 - val_loss: 0.5156 - val_accuracy: 0.7120\n",
      "Epoch 24/1000\n",
      "16/16 - 0s - loss: 0.5542 - accuracy: 0.7231 - val_loss: 0.4976 - val_accuracy: 0.7280\n",
      "Epoch 25/1000\n",
      "16/16 - 0s - loss: 0.5461 - accuracy: 0.7251 - val_loss: 0.4975 - val_accuracy: 0.7200\n",
      "Epoch 26/1000\n",
      "16/16 - 0s - loss: 0.5424 - accuracy: 0.7371 - val_loss: 0.4827 - val_accuracy: 0.7360\n",
      "Epoch 27/1000\n",
      "16/16 - 0s - loss: 0.5339 - accuracy: 0.7371 - val_loss: 0.4892 - val_accuracy: 0.7200\n",
      "Epoch 28/1000\n",
      "16/16 - 0s - loss: 0.5293 - accuracy: 0.7410 - val_loss: 0.4874 - val_accuracy: 0.7200\n",
      "Epoch 29/1000\n",
      "16/16 - 0s - loss: 0.5281 - accuracy: 0.7430 - val_loss: 0.4911 - val_accuracy: 0.7200\n",
      "Epoch 30/1000\n",
      "16/16 - 0s - loss: 0.5245 - accuracy: 0.7371 - val_loss: 0.5014 - val_accuracy: 0.7280\n",
      "Epoch 31/1000\n",
      "16/16 - 0s - loss: 0.5227 - accuracy: 0.7311 - val_loss: 0.4931 - val_accuracy: 0.7280\n",
      "Epoch 32/1000\n",
      "16/16 - 0s - loss: 0.5207 - accuracy: 0.7450 - val_loss: 0.4959 - val_accuracy: 0.7360\n",
      "Epoch 33/1000\n",
      "16/16 - 0s - loss: 0.5181 - accuracy: 0.7490 - val_loss: 0.4857 - val_accuracy: 0.7280\n",
      "Epoch 34/1000\n",
      "16/16 - 0s - loss: 0.5135 - accuracy: 0.7450 - val_loss: 0.5157 - val_accuracy: 0.7280\n",
      "Epoch 35/1000\n",
      "16/16 - 0s - loss: 0.5173 - accuracy: 0.7490 - val_loss: 0.4942 - val_accuracy: 0.7280\n",
      "Epoch 36/1000\n",
      "16/16 - 0s - loss: 0.5164 - accuracy: 0.7490 - val_loss: 0.4579 - val_accuracy: 0.7920\n",
      "Epoch 37/1000\n",
      "16/16 - 0s - loss: 0.5078 - accuracy: 0.7590 - val_loss: 0.4462 - val_accuracy: 0.8000\n",
      "Epoch 38/1000\n",
      "16/16 - 0s - loss: 0.4998 - accuracy: 0.7709 - val_loss: 0.4369 - val_accuracy: 0.7920\n",
      "Epoch 39/1000\n",
      "16/16 - 0s - loss: 0.4939 - accuracy: 0.7769 - val_loss: 0.4100 - val_accuracy: 0.8080\n",
      "Epoch 40/1000\n",
      "16/16 - 0s - loss: 0.4847 - accuracy: 0.7849 - val_loss: 0.4048 - val_accuracy: 0.8240\n",
      "Epoch 41/1000\n",
      "16/16 - 0s - loss: 0.4774 - accuracy: 0.7829 - val_loss: 0.4058 - val_accuracy: 0.8240\n",
      "Epoch 42/1000\n",
      "16/16 - 0s - loss: 0.4709 - accuracy: 0.7948 - val_loss: 0.4292 - val_accuracy: 0.8160\n",
      "Epoch 43/1000\n",
      "16/16 - 0s - loss: 0.4739 - accuracy: 0.7829 - val_loss: 0.4267 - val_accuracy: 0.8080\n",
      "Epoch 44/1000\n",
      "16/16 - 0s - loss: 0.4751 - accuracy: 0.7869 - val_loss: 0.4288 - val_accuracy: 0.8080\n",
      "Epoch 45/1000\n",
      "16/16 - 0s - loss: 0.4747 - accuracy: 0.7948 - val_loss: 0.4245 - val_accuracy: 0.8080\n",
      "Epoch 46/1000\n",
      "16/16 - 0s - loss: 0.4705 - accuracy: 0.7968 - val_loss: 0.4228 - val_accuracy: 0.8080\n",
      "Epoch 47/1000\n",
      "16/16 - 0s - loss: 0.4658 - accuracy: 0.8028 - val_loss: 0.4518 - val_accuracy: 0.7840\n",
      "Epoch 48/1000\n",
      "16/16 - 0s - loss: 0.4706 - accuracy: 0.7888 - val_loss: 0.4041 - val_accuracy: 0.8240\n",
      "Epoch 49/1000\n",
      "16/16 - 0s - loss: 0.4598 - accuracy: 0.8088 - val_loss: 0.4161 - val_accuracy: 0.8240\n",
      "Epoch 50/1000\n",
      "16/16 - 0s - loss: 0.4554 - accuracy: 0.8068 - val_loss: 0.4039 - val_accuracy: 0.8240\n",
      "Epoch 51/1000\n",
      "16/16 - 0s - loss: 0.4538 - accuracy: 0.8088 - val_loss: 0.4157 - val_accuracy: 0.8160\n",
      "Epoch 52/1000\n",
      "16/16 - 0s - loss: 0.4508 - accuracy: 0.8147 - val_loss: 0.4089 - val_accuracy: 0.8160\n",
      "Epoch 53/1000\n",
      "16/16 - 0s - loss: 0.4494 - accuracy: 0.8127 - val_loss: 0.4216 - val_accuracy: 0.8160\n",
      "Epoch 54/1000\n",
      "16/16 - 0s - loss: 0.4488 - accuracy: 0.8127 - val_loss: 0.4182 - val_accuracy: 0.8240\n",
      "Epoch 55/1000\n",
      "16/16 - 0s - loss: 0.4486 - accuracy: 0.8028 - val_loss: 0.4229 - val_accuracy: 0.8240\n",
      "Epoch 56/1000\n",
      "16/16 - 1s - loss: 0.4445 - accuracy: 0.8147 - val_loss: 0.4058 - val_accuracy: 0.8400\n",
      "Epoch 57/1000\n",
      "16/16 - 0s - loss: 0.4455 - accuracy: 0.8127 - val_loss: 0.4120 - val_accuracy: 0.8320\n",
      "Epoch 58/1000\n",
      "16/16 - 0s - loss: 0.4404 - accuracy: 0.8247 - val_loss: 0.4208 - val_accuracy: 0.8240\n",
      "Epoch 59/1000\n",
      "16/16 - 0s - loss: 0.4387 - accuracy: 0.8207 - val_loss: 0.4421 - val_accuracy: 0.8160\n",
      "Epoch 60/1000\n",
      "16/16 - 0s - loss: 0.4398 - accuracy: 0.8227 - val_loss: 0.4110 - val_accuracy: 0.8400\n"
     ]
    },
    {
     "data": {
      "text/html": [
       "<span style=\"color:#4527A0\"><h1 style=\"font-size:18px\">Trial complete</h1></span>"
      ],
      "text/plain": [
       "<IPython.core.display.HTML object>"
      ]
     },
     "metadata": {},
     "output_type": "display_data"
    },
    {
     "data": {
      "text/html": [
       "<span style=\"color:#4527A0\"><h1 style=\"font-size:18px\">Trial summary</h1></span>"
      ],
      "text/plain": [
       "<IPython.core.display.HTML object>"
      ]
     },
     "metadata": {},
     "output_type": "display_data"
    },
    {
     "data": {
      "text/html": [
       "<span style=\"color:cyan\"> |-Trial ID: 531f4061e6910891445a925d79a6016d</span>"
      ],
      "text/plain": [
       "<IPython.core.display.HTML object>"
      ]
     },
     "metadata": {},
     "output_type": "display_data"
    },
    {
     "data": {
      "text/html": [
       "<span style=\"color:cyan\"> |-Score: 0.8399999737739563</span>"
      ],
      "text/plain": [
       "<IPython.core.display.HTML object>"
      ]
     },
     "metadata": {},
     "output_type": "display_data"
    },
    {
     "data": {
      "text/html": [
       "<span style=\"color:cyan\"> |-Best step: 0</span>"
      ],
      "text/plain": [
       "<IPython.core.display.HTML object>"
      ]
     },
     "metadata": {},
     "output_type": "display_data"
    },
    {
     "data": {
      "text/html": [
       "<span style=\"color:#7E57C2\"><h2 style=\"font-size:16px\">Hyperparameters:</h2></span>"
      ],
      "text/plain": [
       "<IPython.core.display.HTML object>"
      ]
     },
     "metadata": {},
     "output_type": "display_data"
    },
    {
     "data": {
      "text/html": [
       "<span style=\"color:cyan\"> |-classification_head_1/dropout_rate: 0</span>"
      ],
      "text/plain": [
       "<IPython.core.display.HTML object>"
      ]
     },
     "metadata": {},
     "output_type": "display_data"
    },
    {
     "data": {
      "text/html": [
       "<span style=\"color:blue\"> |-optimizer: adam</span>"
      ],
      "text/plain": [
       "<IPython.core.display.HTML object>"
      ]
     },
     "metadata": {},
     "output_type": "display_data"
    },
    {
     "data": {
      "text/html": [
       "<span style=\"color:cyan\"> |-structured_data_block_1/dense_block_1/dropout_rate: 0.0</span>"
      ],
      "text/plain": [
       "<IPython.core.display.HTML object>"
      ]
     },
     "metadata": {},
     "output_type": "display_data"
    },
    {
     "data": {
      "text/html": [
       "<span style=\"color:blue\"> |-structured_data_block_1/dense_block_1/num_layers: 3</span>"
      ],
      "text/plain": [
       "<IPython.core.display.HTML object>"
      ]
     },
     "metadata": {},
     "output_type": "display_data"
    },
    {
     "data": {
      "text/html": [
       "<span style=\"color:cyan\"> |-structured_data_block_1/dense_block_1/units_0: 16</span>"
      ],
      "text/plain": [
       "<IPython.core.display.HTML object>"
      ]
     },
     "metadata": {},
     "output_type": "display_data"
    },
    {
     "data": {
      "text/html": [
       "<span style=\"color:blue\"> |-structured_data_block_1/dense_block_1/units_1: 512</span>"
      ],
      "text/plain": [
       "<IPython.core.display.HTML object>"
      ]
     },
     "metadata": {},
     "output_type": "display_data"
    },
    {
     "data": {
      "text/html": [
       "<span style=\"color:cyan\"> |-structured_data_block_1/dense_block_1/units_2: 512</span>"
      ],
      "text/plain": [
       "<IPython.core.display.HTML object>"
      ]
     },
     "metadata": {},
     "output_type": "display_data"
    },
    {
     "data": {
      "text/html": [
       "<span style=\"color:blue\"> |-structured_data_block_1/dense_block_1/use_batchnorm: False</span>"
      ],
      "text/plain": [
       "<IPython.core.display.HTML object>"
      ]
     },
     "metadata": {},
     "output_type": "display_data"
    },
    {
     "name": "stdout",
     "output_type": "stream",
     "text": [
      "Train for 16 steps, validate for 4 steps\n",
      "Epoch 1/1000\n",
      "16/16 - 2s - loss: 1.0969 - accuracy: 0.5956 - val_loss: 0.5592 - val_accuracy: 0.7200\n",
      "Epoch 2/1000\n",
      "16/16 - 0s - loss: 0.8348 - accuracy: 0.6116 - val_loss: 0.5498 - val_accuracy: 0.7120\n",
      "Epoch 3/1000\n",
      "16/16 - 0s - loss: 0.7237 - accuracy: 0.6235 - val_loss: 0.5550 - val_accuracy: 0.7360\n",
      "Epoch 4/1000\n",
      "16/16 - 0s - loss: 0.7149 - accuracy: 0.6116 - val_loss: 0.5827 - val_accuracy: 0.7280\n",
      "Epoch 5/1000\n",
      "16/16 - 0s - loss: 0.6786 - accuracy: 0.6235 - val_loss: 0.5631 - val_accuracy: 0.7360\n",
      "Epoch 6/1000\n",
      "16/16 - 0s - loss: 0.7160 - accuracy: 0.6096 - val_loss: 0.5487 - val_accuracy: 0.7200\n",
      "Epoch 7/1000\n",
      "16/16 - 0s - loss: 0.6617 - accuracy: 0.6355 - val_loss: 0.5633 - val_accuracy: 0.7120\n",
      "Epoch 8/1000\n",
      "16/16 - 0s - loss: 0.6706 - accuracy: 0.6315 - val_loss: 0.5388 - val_accuracy: 0.7120\n",
      "Epoch 9/1000\n",
      "16/16 - 0s - loss: 0.6381 - accuracy: 0.6355 - val_loss: 0.5516 - val_accuracy: 0.7280\n",
      "Epoch 10/1000\n",
      "16/16 - 0s - loss: 0.6506 - accuracy: 0.6414 - val_loss: 0.5721 - val_accuracy: 0.6560\n",
      "Epoch 11/1000\n",
      "16/16 - 0s - loss: 0.6472 - accuracy: 0.6474 - val_loss: 0.5450 - val_accuracy: 0.7040\n",
      "Epoch 12/1000\n",
      "16/16 - 0s - loss: 0.6344 - accuracy: 0.6355 - val_loss: 0.5555 - val_accuracy: 0.7280\n",
      "Epoch 13/1000\n",
      "16/16 - 0s - loss: 0.6417 - accuracy: 0.6335 - val_loss: 0.5529 - val_accuracy: 0.7520\n",
      "Epoch 14/1000\n",
      "16/16 - 0s - loss: 0.6192 - accuracy: 0.6693 - val_loss: 0.5477 - val_accuracy: 0.6800\n",
      "Epoch 15/1000\n",
      "16/16 - 0s - loss: 0.6176 - accuracy: 0.6554 - val_loss: 0.5305 - val_accuracy: 0.7120\n",
      "Epoch 16/1000\n",
      "16/16 - 0s - loss: 0.6374 - accuracy: 0.6454 - val_loss: 0.5433 - val_accuracy: 0.7360\n",
      "Epoch 17/1000\n",
      "16/16 - 0s - loss: 0.6127 - accuracy: 0.6434 - val_loss: 0.5355 - val_accuracy: 0.7280\n",
      "Epoch 18/1000\n",
      "16/16 - 0s - loss: 0.6181 - accuracy: 0.6753 - val_loss: 0.5264 - val_accuracy: 0.7280\n",
      "Epoch 19/1000\n",
      "16/16 - 0s - loss: 0.6224 - accuracy: 0.6594 - val_loss: 0.5351 - val_accuracy: 0.7280\n",
      "Epoch 20/1000\n",
      "16/16 - 0s - loss: 0.6084 - accuracy: 0.6633 - val_loss: 0.5196 - val_accuracy: 0.7360\n",
      "Epoch 21/1000\n",
      "16/16 - 0s - loss: 0.6071 - accuracy: 0.6594 - val_loss: 0.5223 - val_accuracy: 0.7440\n",
      "Epoch 22/1000\n",
      "16/16 - 0s - loss: 0.5898 - accuracy: 0.6773 - val_loss: 0.4939 - val_accuracy: 0.7440\n",
      "Epoch 23/1000\n",
      "16/16 - 1s - loss: 0.5931 - accuracy: 0.6952 - val_loss: 0.5069 - val_accuracy: 0.7760\n",
      "Epoch 24/1000\n",
      "16/16 - 0s - loss: 0.5854 - accuracy: 0.6833 - val_loss: 0.5361 - val_accuracy: 0.7440\n",
      "Epoch 25/1000\n",
      "16/16 - 0s - loss: 0.5959 - accuracy: 0.6554 - val_loss: 0.5033 - val_accuracy: 0.7600\n",
      "Epoch 26/1000\n",
      "16/16 - 0s - loss: 0.5812 - accuracy: 0.6534 - val_loss: 0.4724 - val_accuracy: 0.7600\n",
      "Epoch 27/1000\n",
      "16/16 - 0s - loss: 0.5829 - accuracy: 0.6733 - val_loss: 0.5056 - val_accuracy: 0.7760\n",
      "Epoch 28/1000\n",
      "16/16 - 0s - loss: 0.6007 - accuracy: 0.6892 - val_loss: 0.4868 - val_accuracy: 0.7840\n",
      "Epoch 29/1000\n",
      "16/16 - 0s - loss: 0.5611 - accuracy: 0.6912 - val_loss: 0.4885 - val_accuracy: 0.7600\n",
      "Epoch 30/1000\n",
      "16/16 - 0s - loss: 0.5792 - accuracy: 0.6753 - val_loss: 0.4863 - val_accuracy: 0.7760\n",
      "Epoch 31/1000\n",
      "16/16 - 0s - loss: 0.5629 - accuracy: 0.7271 - val_loss: 0.4718 - val_accuracy: 0.7600\n",
      "Epoch 32/1000\n",
      "16/16 - 0s - loss: 0.5740 - accuracy: 0.7032 - val_loss: 0.5123 - val_accuracy: 0.7840\n",
      "Epoch 33/1000\n",
      "16/16 - 0s - loss: 0.5771 - accuracy: 0.6892 - val_loss: 0.4657 - val_accuracy: 0.7600\n",
      "Epoch 34/1000\n",
      "16/16 - 1s - loss: 0.5751 - accuracy: 0.7012 - val_loss: 0.4701 - val_accuracy: 0.7920\n",
      "Epoch 35/1000\n",
      "16/16 - 1s - loss: 0.5919 - accuracy: 0.6932 - val_loss: 0.4768 - val_accuracy: 0.8160\n",
      "Epoch 36/1000\n",
      "16/16 - 0s - loss: 0.5600 - accuracy: 0.7131 - val_loss: 0.4865 - val_accuracy: 0.7680\n",
      "Epoch 37/1000\n",
      "16/16 - 0s - loss: 0.5814 - accuracy: 0.6853 - val_loss: 0.4665 - val_accuracy: 0.8000\n",
      "Epoch 38/1000\n",
      "16/16 - 0s - loss: 0.5488 - accuracy: 0.7271 - val_loss: 0.4564 - val_accuracy: 0.7440\n",
      "Epoch 39/1000\n",
      "16/16 - 0s - loss: 0.5569 - accuracy: 0.7351 - val_loss: 0.4487 - val_accuracy: 0.7680\n",
      "Epoch 40/1000\n",
      "16/16 - 0s - loss: 0.5754 - accuracy: 0.7171 - val_loss: 0.4589 - val_accuracy: 0.7840\n",
      "Epoch 41/1000\n",
      "16/16 - 0s - loss: 0.5686 - accuracy: 0.7231 - val_loss: 0.4611 - val_accuracy: 0.7840\n",
      "Epoch 42/1000\n",
      "16/16 - 0s - loss: 0.5411 - accuracy: 0.7271 - val_loss: 0.4373 - val_accuracy: 0.7760\n",
      "Epoch 43/1000\n",
      "16/16 - 0s - loss: 0.5274 - accuracy: 0.7271 - val_loss: 0.4332 - val_accuracy: 0.8000\n",
      "Epoch 44/1000\n",
      "16/16 - 0s - loss: 0.5265 - accuracy: 0.7311 - val_loss: 0.4432 - val_accuracy: 0.8080\n",
      "Epoch 45/1000\n",
      "16/16 - 0s - loss: 0.5413 - accuracy: 0.7410 - val_loss: 0.4467 - val_accuracy: 0.8000\n",
      "Epoch 46/1000\n",
      "16/16 - 0s - loss: 0.5264 - accuracy: 0.7470 - val_loss: 0.4435 - val_accuracy: 0.7840\n",
      "Epoch 47/1000\n",
      "16/16 - 0s - loss: 0.5457 - accuracy: 0.7410 - val_loss: 0.4460 - val_accuracy: 0.8240\n",
      "Epoch 48/1000\n",
      "16/16 - 0s - loss: 0.5530 - accuracy: 0.7490 - val_loss: 0.4699 - val_accuracy: 0.7760\n",
      "Epoch 49/1000\n",
      "16/16 - 0s - loss: 0.5206 - accuracy: 0.7490 - val_loss: 0.4350 - val_accuracy: 0.8000\n",
      "Epoch 50/1000\n",
      "16/16 - 0s - loss: 0.5141 - accuracy: 0.7570 - val_loss: 0.4500 - val_accuracy: 0.7840\n",
      "Epoch 51/1000\n",
      "16/16 - 0s - loss: 0.5456 - accuracy: 0.7191 - val_loss: 0.4525 - val_accuracy: 0.7600\n",
      "Epoch 52/1000\n",
      "16/16 - 0s - loss: 0.5547 - accuracy: 0.7331 - val_loss: 0.4501 - val_accuracy: 0.8080\n",
      "Epoch 53/1000\n",
      "16/16 - 0s - loss: 0.5318 - accuracy: 0.7550 - val_loss: 0.4712 - val_accuracy: 0.7680\n"
     ]
    },
    {
     "data": {
      "text/html": [
       "<span style=\"color:#4527A0\"><h1 style=\"font-size:18px\">Trial complete</h1></span>"
      ],
      "text/plain": [
       "<IPython.core.display.HTML object>"
      ]
     },
     "metadata": {},
     "output_type": "display_data"
    },
    {
     "data": {
      "text/html": [
       "<span style=\"color:#4527A0\"><h1 style=\"font-size:18px\">Trial summary</h1></span>"
      ],
      "text/plain": [
       "<IPython.core.display.HTML object>"
      ]
     },
     "metadata": {},
     "output_type": "display_data"
    },
    {
     "data": {
      "text/html": [
       "<span style=\"color:cyan\"> |-Trial ID: 4d81e355ad6534fdb7e31e6187d48011</span>"
      ],
      "text/plain": [
       "<IPython.core.display.HTML object>"
      ]
     },
     "metadata": {},
     "output_type": "display_data"
    },
    {
     "data": {
      "text/html": [
       "<span style=\"color:cyan\"> |-Score: 0.8240000009536743</span>"
      ],
      "text/plain": [
       "<IPython.core.display.HTML object>"
      ]
     },
     "metadata": {},
     "output_type": "display_data"
    },
    {
     "data": {
      "text/html": [
       "<span style=\"color:cyan\"> |-Best step: 0</span>"
      ],
      "text/plain": [
       "<IPython.core.display.HTML object>"
      ]
     },
     "metadata": {},
     "output_type": "display_data"
    },
    {
     "data": {
      "text/html": [
       "<span style=\"color:#7E57C2\"><h2 style=\"font-size:16px\">Hyperparameters:</h2></span>"
      ],
      "text/plain": [
       "<IPython.core.display.HTML object>"
      ]
     },
     "metadata": {},
     "output_type": "display_data"
    },
    {
     "data": {
      "text/html": [
       "<span style=\"color:cyan\"> |-classification_head_1/dropout_rate: 0.0</span>"
      ],
      "text/plain": [
       "<IPython.core.display.HTML object>"
      ]
     },
     "metadata": {},
     "output_type": "display_data"
    },
    {
     "data": {
      "text/html": [
       "<span style=\"color:blue\"> |-optimizer: adam</span>"
      ],
      "text/plain": [
       "<IPython.core.display.HTML object>"
      ]
     },
     "metadata": {},
     "output_type": "display_data"
    },
    {
     "data": {
      "text/html": [
       "<span style=\"color:cyan\"> |-structured_data_block_1/dense_block_1/dropout_rate: 0.25</span>"
      ],
      "text/plain": [
       "<IPython.core.display.HTML object>"
      ]
     },
     "metadata": {},
     "output_type": "display_data"
    },
    {
     "data": {
      "text/html": [
       "<span style=\"color:blue\"> |-structured_data_block_1/dense_block_1/num_layers: 3</span>"
      ],
      "text/plain": [
       "<IPython.core.display.HTML object>"
      ]
     },
     "metadata": {},
     "output_type": "display_data"
    },
    {
     "data": {
      "text/html": [
       "<span style=\"color:cyan\"> |-structured_data_block_1/dense_block_1/units_0: 512</span>"
      ],
      "text/plain": [
       "<IPython.core.display.HTML object>"
      ]
     },
     "metadata": {},
     "output_type": "display_data"
    },
    {
     "data": {
      "text/html": [
       "<span style=\"color:blue\"> |-structured_data_block_1/dense_block_1/units_1: 64</span>"
      ],
      "text/plain": [
       "<IPython.core.display.HTML object>"
      ]
     },
     "metadata": {},
     "output_type": "display_data"
    },
    {
     "data": {
      "text/html": [
       "<span style=\"color:cyan\"> |-structured_data_block_1/dense_block_1/units_2: 32</span>"
      ],
      "text/plain": [
       "<IPython.core.display.HTML object>"
      ]
     },
     "metadata": {},
     "output_type": "display_data"
    },
    {
     "data": {
      "text/html": [
       "<span style=\"color:blue\"> |-structured_data_block_1/dense_block_1/use_batchnorm: False</span>"
      ],
      "text/plain": [
       "<IPython.core.display.HTML object>"
      ]
     },
     "metadata": {},
     "output_type": "display_data"
    },
    {
     "name": "stdout",
     "output_type": "stream",
     "text": [
      "Train for 16 steps, validate for 4 steps\n",
      "Epoch 1/1000\n",
      "16/16 - 2s - loss: 0.8692 - accuracy: 0.6295 - val_loss: 0.6730 - val_accuracy: 0.7040\n",
      "Epoch 2/1000\n",
      "16/16 - 1s - loss: 0.8871 - accuracy: 0.6574 - val_loss: 0.4969 - val_accuracy: 0.7600\n",
      "Epoch 3/1000\n",
      "16/16 - 0s - loss: 0.7789 - accuracy: 0.6574 - val_loss: 0.5078 - val_accuracy: 0.7680\n",
      "Epoch 4/1000\n",
      "16/16 - 0s - loss: 0.6894 - accuracy: 0.6833 - val_loss: 0.4810 - val_accuracy: 0.7600\n",
      "Epoch 5/1000\n",
      "16/16 - 0s - loss: 0.6053 - accuracy: 0.6932 - val_loss: 0.4960 - val_accuracy: 0.8080\n",
      "Epoch 6/1000\n",
      "16/16 - 1s - loss: 0.6362 - accuracy: 0.6912 - val_loss: 0.4868 - val_accuracy: 0.8240\n",
      "Epoch 7/1000\n",
      "16/16 - 0s - loss: 0.6097 - accuracy: 0.6952 - val_loss: 0.5410 - val_accuracy: 0.7440\n",
      "Epoch 8/1000\n",
      "16/16 - 0s - loss: 0.6150 - accuracy: 0.7112 - val_loss: 0.5522 - val_accuracy: 0.7120\n",
      "Epoch 9/1000\n",
      "16/16 - 0s - loss: 0.6227 - accuracy: 0.7331 - val_loss: 0.4406 - val_accuracy: 0.8560\n",
      "Epoch 10/1000\n",
      "16/16 - 0s - loss: 0.6343 - accuracy: 0.7470 - val_loss: 0.4042 - val_accuracy: 0.8320\n",
      "Epoch 11/1000\n",
      "16/16 - 0s - loss: 0.5772 - accuracy: 0.7311 - val_loss: 0.4114 - val_accuracy: 0.8320\n",
      "Epoch 12/1000\n",
      "16/16 - 0s - loss: 0.5184 - accuracy: 0.7749 - val_loss: 0.4173 - val_accuracy: 0.8320\n",
      "Epoch 13/1000\n",
      "16/16 - 0s - loss: 0.5119 - accuracy: 0.7769 - val_loss: 0.4065 - val_accuracy: 0.8480\n",
      "Epoch 14/1000\n",
      "16/16 - 0s - loss: 0.5331 - accuracy: 0.7809 - val_loss: 0.3826 - val_accuracy: 0.8800\n",
      "Epoch 15/1000\n",
      "16/16 - 0s - loss: 0.5472 - accuracy: 0.7749 - val_loss: 0.3822 - val_accuracy: 0.8560\n",
      "Epoch 16/1000\n",
      "16/16 - 0s - loss: 0.5386 - accuracy: 0.7610 - val_loss: 0.3792 - val_accuracy: 0.8720\n",
      "Epoch 17/1000\n",
      "16/16 - 0s - loss: 0.5093 - accuracy: 0.7590 - val_loss: 0.3761 - val_accuracy: 0.8640\n",
      "Epoch 18/1000\n",
      "16/16 - 0s - loss: 0.4968 - accuracy: 0.7789 - val_loss: 0.3744 - val_accuracy: 0.8640\n",
      "Epoch 19/1000\n",
      "16/16 - 0s - loss: 0.4958 - accuracy: 0.7809 - val_loss: 0.3710 - val_accuracy: 0.8560\n",
      "Epoch 20/1000\n",
      "16/16 - 0s - loss: 0.5118 - accuracy: 0.7729 - val_loss: 0.3714 - val_accuracy: 0.8320\n",
      "Epoch 21/1000\n",
      "16/16 - 0s - loss: 0.5084 - accuracy: 0.7829 - val_loss: 0.3703 - val_accuracy: 0.8480\n",
      "Epoch 22/1000\n",
      "16/16 - 0s - loss: 0.4957 - accuracy: 0.7908 - val_loss: 0.3701 - val_accuracy: 0.8480\n",
      "Epoch 23/1000\n",
      "16/16 - 1s - loss: 0.4848 - accuracy: 0.7888 - val_loss: 0.3724 - val_accuracy: 0.8480\n",
      "Epoch 24/1000\n",
      "16/16 - 0s - loss: 0.4849 - accuracy: 0.7948 - val_loss: 0.3726 - val_accuracy: 0.8480\n",
      "Epoch 25/1000\n",
      "16/16 - 0s - loss: 0.4857 - accuracy: 0.7968 - val_loss: 0.3737 - val_accuracy: 0.8480\n",
      "Epoch 26/1000\n",
      "16/16 - 0s - loss: 0.4829 - accuracy: 0.7968 - val_loss: 0.3730 - val_accuracy: 0.8560\n",
      "Epoch 27/1000\n",
      "16/16 - 0s - loss: 0.4841 - accuracy: 0.7988 - val_loss: 0.3772 - val_accuracy: 0.8480\n",
      "Epoch 28/1000\n",
      "16/16 - 0s - loss: 0.4617 - accuracy: 0.7988 - val_loss: 0.3937 - val_accuracy: 0.8240\n",
      "Epoch 29/1000\n",
      "16/16 - 0s - loss: 0.4583 - accuracy: 0.8008 - val_loss: 0.4004 - val_accuracy: 0.8320\n",
      "Epoch 30/1000\n",
      "16/16 - 0s - loss: 0.4549 - accuracy: 0.7968 - val_loss: 0.4032 - val_accuracy: 0.8400\n",
      "Epoch 31/1000\n",
      "16/16 - 0s - loss: 0.4676 - accuracy: 0.8028 - val_loss: 0.3902 - val_accuracy: 0.8400\n",
      "Epoch 32/1000\n",
      "16/16 - 0s - loss: 0.4935 - accuracy: 0.7908 - val_loss: 0.3872 - val_accuracy: 0.8480\n"
     ]
    },
    {
     "data": {
      "text/html": [
       "<span style=\"color:#4527A0\"><h1 style=\"font-size:18px\">Trial complete</h1></span>"
      ],
      "text/plain": [
       "<IPython.core.display.HTML object>"
      ]
     },
     "metadata": {},
     "output_type": "display_data"
    },
    {
     "data": {
      "text/html": [
       "<span style=\"color:#4527A0\"><h1 style=\"font-size:18px\">Trial summary</h1></span>"
      ],
      "text/plain": [
       "<IPython.core.display.HTML object>"
      ]
     },
     "metadata": {},
     "output_type": "display_data"
    },
    {
     "data": {
      "text/html": [
       "<span style=\"color:cyan\"> |-Trial ID: 59594334e4a9f996caabf23913e409a2</span>"
      ],
      "text/plain": [
       "<IPython.core.display.HTML object>"
      ]
     },
     "metadata": {},
     "output_type": "display_data"
    },
    {
     "data": {
      "text/html": [
       "<span style=\"color:cyan\"> |-Score: 0.8799999952316284</span>"
      ],
      "text/plain": [
       "<IPython.core.display.HTML object>"
      ]
     },
     "metadata": {},
     "output_type": "display_data"
    },
    {
     "data": {
      "text/html": [
       "<span style=\"color:cyan\"> |-Best step: 0</span>"
      ],
      "text/plain": [
       "<IPython.core.display.HTML object>"
      ]
     },
     "metadata": {},
     "output_type": "display_data"
    },
    {
     "data": {
      "text/html": [
       "<span style=\"color:#7E57C2\"><h2 style=\"font-size:16px\">Hyperparameters:</h2></span>"
      ],
      "text/plain": [
       "<IPython.core.display.HTML object>"
      ]
     },
     "metadata": {},
     "output_type": "display_data"
    },
    {
     "data": {
      "text/html": [
       "<span style=\"color:cyan\"> |-classification_head_1/dropout_rate: 0</span>"
      ],
      "text/plain": [
       "<IPython.core.display.HTML object>"
      ]
     },
     "metadata": {},
     "output_type": "display_data"
    },
    {
     "data": {
      "text/html": [
       "<span style=\"color:blue\"> |-optimizer: adam</span>"
      ],
      "text/plain": [
       "<IPython.core.display.HTML object>"
      ]
     },
     "metadata": {},
     "output_type": "display_data"
    },
    {
     "data": {
      "text/html": [
       "<span style=\"color:cyan\"> |-structured_data_block_1/dense_block_1/dropout_rate: 0.0</span>"
      ],
      "text/plain": [
       "<IPython.core.display.HTML object>"
      ]
     },
     "metadata": {},
     "output_type": "display_data"
    },
    {
     "data": {
      "text/html": [
       "<span style=\"color:blue\"> |-structured_data_block_1/dense_block_1/num_layers: 2</span>"
      ],
      "text/plain": [
       "<IPython.core.display.HTML object>"
      ]
     },
     "metadata": {},
     "output_type": "display_data"
    },
    {
     "data": {
      "text/html": [
       "<span style=\"color:cyan\"> |-structured_data_block_1/dense_block_1/units_0: 512</span>"
      ],
      "text/plain": [
       "<IPython.core.display.HTML object>"
      ]
     },
     "metadata": {},
     "output_type": "display_data"
    },
    {
     "data": {
      "text/html": [
       "<span style=\"color:blue\"> |-structured_data_block_1/dense_block_1/units_1: 128</span>"
      ],
      "text/plain": [
       "<IPython.core.display.HTML object>"
      ]
     },
     "metadata": {},
     "output_type": "display_data"
    },
    {
     "data": {
      "text/html": [
       "<span style=\"color:cyan\"> |-structured_data_block_1/dense_block_1/units_2: 32</span>"
      ],
      "text/plain": [
       "<IPython.core.display.HTML object>"
      ]
     },
     "metadata": {},
     "output_type": "display_data"
    },
    {
     "data": {
      "text/html": [
       "<span style=\"color:blue\"> |-structured_data_block_1/dense_block_1/use_batchnorm: False</span>"
      ],
      "text/plain": [
       "<IPython.core.display.HTML object>"
      ]
     },
     "metadata": {},
     "output_type": "display_data"
    },
    {
     "name": "stdout",
     "output_type": "stream",
     "text": [
      "Train for 16 steps, validate for 4 steps\n",
      "Epoch 1/1000\n",
      "16/16 - 4s - loss: 0.6746 - accuracy: 0.6375 - val_loss: 0.9908 - val_accuracy: 0.3600\n",
      "Epoch 2/1000\n",
      "16/16 - 1s - loss: 0.6577 - accuracy: 0.6434 - val_loss: 0.7266 - val_accuracy: 0.4960\n",
      "Epoch 3/1000\n",
      "16/16 - 0s - loss: 0.6243 - accuracy: 0.6554 - val_loss: 0.6103 - val_accuracy: 0.7760\n",
      "Epoch 4/1000\n",
      "16/16 - 1s - loss: 0.5666 - accuracy: 0.7151 - val_loss: 0.5826 - val_accuracy: 0.7840\n",
      "Epoch 5/1000\n",
      "16/16 - 0s - loss: 0.5553 - accuracy: 0.7191 - val_loss: 0.6152 - val_accuracy: 0.7120\n",
      "Epoch 6/1000\n",
      "16/16 - 0s - loss: 0.5553 - accuracy: 0.7271 - val_loss: 0.5363 - val_accuracy: 0.7760\n",
      "Epoch 7/1000\n",
      "16/16 - 0s - loss: 0.5223 - accuracy: 0.7490 - val_loss: 0.5398 - val_accuracy: 0.7520\n",
      "Epoch 8/1000\n",
      "16/16 - 0s - loss: 0.4975 - accuracy: 0.7709 - val_loss: 0.5054 - val_accuracy: 0.7600\n",
      "Epoch 9/1000\n",
      "16/16 - 0s - loss: 0.4796 - accuracy: 0.7849 - val_loss: 0.5287 - val_accuracy: 0.7360\n",
      "Epoch 10/1000\n",
      "16/16 - 0s - loss: 0.4683 - accuracy: 0.7849 - val_loss: 0.5040 - val_accuracy: 0.7840\n",
      "Epoch 11/1000\n",
      "16/16 - 0s - loss: 0.5284 - accuracy: 0.7430 - val_loss: 0.4897 - val_accuracy: 0.7680\n",
      "Epoch 12/1000\n",
      "16/16 - 0s - loss: 0.4935 - accuracy: 0.7928 - val_loss: 0.4799 - val_accuracy: 0.7680\n",
      "Epoch 13/1000\n",
      "16/16 - 0s - loss: 0.4775 - accuracy: 0.7869 - val_loss: 0.5106 - val_accuracy: 0.7760\n",
      "Epoch 14/1000\n",
      "16/16 - 0s - loss: 0.4936 - accuracy: 0.7869 - val_loss: 0.5035 - val_accuracy: 0.7680\n",
      "Epoch 15/1000\n",
      "16/16 - 0s - loss: 0.4677 - accuracy: 0.7988 - val_loss: 0.4940 - val_accuracy: 0.7760\n",
      "Epoch 16/1000\n",
      "16/16 - 0s - loss: 0.4520 - accuracy: 0.7869 - val_loss: 0.5007 - val_accuracy: 0.7760\n",
      "Epoch 17/1000\n",
      "16/16 - 0s - loss: 0.4612 - accuracy: 0.8048 - val_loss: 0.4659 - val_accuracy: 0.7840\n",
      "Epoch 18/1000\n",
      "16/16 - 0s - loss: 0.4450 - accuracy: 0.8088 - val_loss: 0.4674 - val_accuracy: 0.7600\n",
      "Epoch 19/1000\n",
      "16/16 - 1s - loss: 0.4515 - accuracy: 0.8028 - val_loss: 0.4572 - val_accuracy: 0.8000\n",
      "Epoch 20/1000\n",
      "16/16 - 0s - loss: 0.4517 - accuracy: 0.7928 - val_loss: 0.4745 - val_accuracy: 0.7920\n",
      "Epoch 21/1000\n",
      "16/16 - 0s - loss: 0.4479 - accuracy: 0.8068 - val_loss: 0.4536 - val_accuracy: 0.7840\n",
      "Epoch 22/1000\n",
      "16/16 - 0s - loss: 0.4412 - accuracy: 0.8028 - val_loss: 0.4421 - val_accuracy: 0.8000\n",
      "Epoch 23/1000\n",
      "16/16 - 1s - loss: 0.4477 - accuracy: 0.8187 - val_loss: 0.4195 - val_accuracy: 0.8240\n",
      "Epoch 24/1000\n",
      "16/16 - 0s - loss: 0.4283 - accuracy: 0.8207 - val_loss: 0.4354 - val_accuracy: 0.7840\n",
      "Epoch 25/1000\n",
      "16/16 - 0s - loss: 0.4115 - accuracy: 0.8187 - val_loss: 0.4585 - val_accuracy: 0.7840\n",
      "Epoch 26/1000\n",
      "16/16 - 0s - loss: 0.4109 - accuracy: 0.8247 - val_loss: 0.4372 - val_accuracy: 0.8000\n",
      "Epoch 27/1000\n",
      "16/16 - 0s - loss: 0.4065 - accuracy: 0.8347 - val_loss: 0.3976 - val_accuracy: 0.8240\n",
      "Epoch 28/1000\n",
      "16/16 - 0s - loss: 0.4223 - accuracy: 0.7988 - val_loss: 0.3842 - val_accuracy: 0.8160\n",
      "Epoch 29/1000\n",
      "16/16 - 0s - loss: 0.4300 - accuracy: 0.8207 - val_loss: 0.4084 - val_accuracy: 0.8080\n",
      "Epoch 30/1000\n",
      "16/16 - 0s - loss: 0.4097 - accuracy: 0.8227 - val_loss: 0.4273 - val_accuracy: 0.7920\n",
      "Epoch 31/1000\n",
      "16/16 - 0s - loss: 0.3987 - accuracy: 0.8247 - val_loss: 0.4048 - val_accuracy: 0.8160\n",
      "Epoch 32/1000\n",
      "16/16 - 0s - loss: 0.3952 - accuracy: 0.8406 - val_loss: 0.4375 - val_accuracy: 0.7680\n",
      "Epoch 33/1000\n",
      "16/16 - 0s - loss: 0.4187 - accuracy: 0.8207 - val_loss: 0.4216 - val_accuracy: 0.7840\n",
      "Epoch 34/1000\n",
      "16/16 - 0s - loss: 0.4180 - accuracy: 0.8207 - val_loss: 0.4238 - val_accuracy: 0.7680\n",
      "Epoch 35/1000\n",
      "16/16 - 1s - loss: 0.4041 - accuracy: 0.8108 - val_loss: 0.3807 - val_accuracy: 0.8480\n",
      "Epoch 36/1000\n",
      "16/16 - 0s - loss: 0.3971 - accuracy: 0.8267 - val_loss: 0.3854 - val_accuracy: 0.8160\n",
      "Epoch 37/1000\n",
      "16/16 - 0s - loss: 0.3933 - accuracy: 0.8287 - val_loss: 0.3892 - val_accuracy: 0.8240\n",
      "Epoch 38/1000\n",
      "16/16 - 1s - loss: 0.4017 - accuracy: 0.8347 - val_loss: 0.4125 - val_accuracy: 0.7840\n",
      "Epoch 39/1000\n",
      "16/16 - 0s - loss: 0.3866 - accuracy: 0.8327 - val_loss: 0.3750 - val_accuracy: 0.8400\n",
      "Epoch 40/1000\n",
      "16/16 - 0s - loss: 0.4022 - accuracy: 0.8127 - val_loss: 0.4042 - val_accuracy: 0.8080\n",
      "Epoch 41/1000\n",
      "16/16 - 0s - loss: 0.3863 - accuracy: 0.8327 - val_loss: 0.3849 - val_accuracy: 0.8640\n",
      "Epoch 42/1000\n",
      "16/16 - 0s - loss: 0.3962 - accuracy: 0.8386 - val_loss: 0.3860 - val_accuracy: 0.8480\n",
      "Epoch 43/1000\n",
      "16/16 - 0s - loss: 0.3784 - accuracy: 0.8486 - val_loss: 0.4000 - val_accuracy: 0.8320\n",
      "Epoch 44/1000\n",
      "16/16 - 0s - loss: 0.4051 - accuracy: 0.8367 - val_loss: 0.4087 - val_accuracy: 0.8240\n",
      "Epoch 45/1000\n",
      "16/16 - 0s - loss: 0.3949 - accuracy: 0.8287 - val_loss: 0.4134 - val_accuracy: 0.8560\n",
      "Epoch 46/1000\n",
      "16/16 - 0s - loss: 0.4011 - accuracy: 0.8287 - val_loss: 0.4116 - val_accuracy: 0.8080\n",
      "Epoch 47/1000\n",
      "16/16 - 1s - loss: 0.3539 - accuracy: 0.8327 - val_loss: 0.3850 - val_accuracy: 0.8720\n",
      "Epoch 48/1000\n",
      "16/16 - 0s - loss: 0.3611 - accuracy: 0.8426 - val_loss: 0.4066 - val_accuracy: 0.8320\n",
      "Epoch 49/1000\n",
      "16/16 - 0s - loss: 0.3709 - accuracy: 0.8327 - val_loss: 0.4286 - val_accuracy: 0.8080\n"
     ]
    },
    {
     "data": {
      "text/html": [
       "<span style=\"color:#4527A0\"><h1 style=\"font-size:18px\">Trial complete</h1></span>"
      ],
      "text/plain": [
       "<IPython.core.display.HTML object>"
      ]
     },
     "metadata": {},
     "output_type": "display_data"
    },
    {
     "data": {
      "text/html": [
       "<span style=\"color:#4527A0\"><h1 style=\"font-size:18px\">Trial summary</h1></span>"
      ],
      "text/plain": [
       "<IPython.core.display.HTML object>"
      ]
     },
     "metadata": {},
     "output_type": "display_data"
    },
    {
     "data": {
      "text/html": [
       "<span style=\"color:cyan\"> |-Trial ID: 4c22790147b175dd33a7e9deb23e488d</span>"
      ],
      "text/plain": [
       "<IPython.core.display.HTML object>"
      ]
     },
     "metadata": {},
     "output_type": "display_data"
    },
    {
     "data": {
      "text/html": [
       "<span style=\"color:cyan\"> |-Score: 0.871999979019165</span>"
      ],
      "text/plain": [
       "<IPython.core.display.HTML object>"
      ]
     },
     "metadata": {},
     "output_type": "display_data"
    },
    {
     "data": {
      "text/html": [
       "<span style=\"color:cyan\"> |-Best step: 0</span>"
      ],
      "text/plain": [
       "<IPython.core.display.HTML object>"
      ]
     },
     "metadata": {},
     "output_type": "display_data"
    },
    {
     "data": {
      "text/html": [
       "<span style=\"color:#7E57C2\"><h2 style=\"font-size:16px\">Hyperparameters:</h2></span>"
      ],
      "text/plain": [
       "<IPython.core.display.HTML object>"
      ]
     },
     "metadata": {},
     "output_type": "display_data"
    },
    {
     "data": {
      "text/html": [
       "<span style=\"color:cyan\"> |-classification_head_1/dropout_rate: 0</span>"
      ],
      "text/plain": [
       "<IPython.core.display.HTML object>"
      ]
     },
     "metadata": {},
     "output_type": "display_data"
    },
    {
     "data": {
      "text/html": [
       "<span style=\"color:blue\"> |-optimizer: adam</span>"
      ],
      "text/plain": [
       "<IPython.core.display.HTML object>"
      ]
     },
     "metadata": {},
     "output_type": "display_data"
    },
    {
     "data": {
      "text/html": [
       "<span style=\"color:cyan\"> |-structured_data_block_1/dense_block_1/dropout_rate: 0.25</span>"
      ],
      "text/plain": [
       "<IPython.core.display.HTML object>"
      ]
     },
     "metadata": {},
     "output_type": "display_data"
    },
    {
     "data": {
      "text/html": [
       "<span style=\"color:blue\"> |-structured_data_block_1/dense_block_1/num_layers: 3</span>"
      ],
      "text/plain": [
       "<IPython.core.display.HTML object>"
      ]
     },
     "metadata": {},
     "output_type": "display_data"
    },
    {
     "data": {
      "text/html": [
       "<span style=\"color:cyan\"> |-structured_data_block_1/dense_block_1/units_0: 1024</span>"
      ],
      "text/plain": [
       "<IPython.core.display.HTML object>"
      ]
     },
     "metadata": {},
     "output_type": "display_data"
    },
    {
     "data": {
      "text/html": [
       "<span style=\"color:blue\"> |-structured_data_block_1/dense_block_1/units_1: 256</span>"
      ],
      "text/plain": [
       "<IPython.core.display.HTML object>"
      ]
     },
     "metadata": {},
     "output_type": "display_data"
    },
    {
     "data": {
      "text/html": [
       "<span style=\"color:cyan\"> |-structured_data_block_1/dense_block_1/units_2: 16</span>"
      ],
      "text/plain": [
       "<IPython.core.display.HTML object>"
      ]
     },
     "metadata": {},
     "output_type": "display_data"
    },
    {
     "data": {
      "text/html": [
       "<span style=\"color:blue\"> |-structured_data_block_1/dense_block_1/use_batchnorm: True</span>"
      ],
      "text/plain": [
       "<IPython.core.display.HTML object>"
      ]
     },
     "metadata": {},
     "output_type": "display_data"
    },
    {
     "name": "stdout",
     "output_type": "stream",
     "text": [
      "Train for 16 steps, validate for 4 steps\n",
      "Epoch 1/1000\n",
      "16/16 - 2s - loss: 2.8196 - accuracy: 0.6215 - val_loss: 1.3712 - val_accuracy: 0.3360\n",
      "Epoch 2/1000\n",
      "16/16 - 1s - loss: 1.7496 - accuracy: 0.5299 - val_loss: 0.7189 - val_accuracy: 0.7200\n",
      "Epoch 3/1000\n",
      "16/16 - 1s - loss: 1.1832 - accuracy: 0.6135 - val_loss: 0.5465 - val_accuracy: 0.7280\n",
      "Epoch 4/1000\n",
      "16/16 - 0s - loss: 0.9472 - accuracy: 0.6036 - val_loss: 0.6239 - val_accuracy: 0.7280\n",
      "Epoch 5/1000\n",
      "16/16 - 0s - loss: 0.9487 - accuracy: 0.5637 - val_loss: 0.5569 - val_accuracy: 0.7040\n",
      "Epoch 6/1000\n",
      "16/16 - 0s - loss: 0.8113 - accuracy: 0.6195 - val_loss: 0.5960 - val_accuracy: 0.6640\n",
      "Epoch 7/1000\n",
      "16/16 - 0s - loss: 0.7285 - accuracy: 0.6215 - val_loss: 0.6255 - val_accuracy: 0.5920\n",
      "Epoch 8/1000\n",
      "16/16 - 0s - loss: 0.7677 - accuracy: 0.6076 - val_loss: 0.5782 - val_accuracy: 0.6640\n",
      "Epoch 9/1000\n",
      "16/16 - 0s - loss: 0.7942 - accuracy: 0.5916 - val_loss: 0.6203 - val_accuracy: 0.6480\n",
      "Epoch 10/1000\n",
      "16/16 - 0s - loss: 0.7085 - accuracy: 0.6255 - val_loss: 0.6141 - val_accuracy: 0.6480\n",
      "Epoch 11/1000\n",
      "16/16 - 0s - loss: 0.7069 - accuracy: 0.6434 - val_loss: 0.6117 - val_accuracy: 0.6960\n",
      "Epoch 12/1000\n",
      "16/16 - 0s - loss: 0.6714 - accuracy: 0.6315 - val_loss: 0.6230 - val_accuracy: 0.6960\n",
      "Epoch 13/1000\n",
      "16/16 - 0s - loss: 0.7054 - accuracy: 0.6275 - val_loss: 0.6218 - val_accuracy: 0.7040\n"
     ]
    },
    {
     "data": {
      "text/html": [
       "<span style=\"color:#4527A0\"><h1 style=\"font-size:18px\">Trial complete</h1></span>"
      ],
      "text/plain": [
       "<IPython.core.display.HTML object>"
      ]
     },
     "metadata": {},
     "output_type": "display_data"
    },
    {
     "data": {
      "text/html": [
       "<span style=\"color:#4527A0\"><h1 style=\"font-size:18px\">Trial summary</h1></span>"
      ],
      "text/plain": [
       "<IPython.core.display.HTML object>"
      ]
     },
     "metadata": {},
     "output_type": "display_data"
    },
    {
     "data": {
      "text/html": [
       "<span style=\"color:cyan\"> |-Trial ID: 7f3d411b3753018449e62fc84cc4369e</span>"
      ],
      "text/plain": [
       "<IPython.core.display.HTML object>"
      ]
     },
     "metadata": {},
     "output_type": "display_data"
    },
    {
     "data": {
      "text/html": [
       "<span style=\"color:cyan\"> |-Score: 0.7279999852180481</span>"
      ],
      "text/plain": [
       "<IPython.core.display.HTML object>"
      ]
     },
     "metadata": {},
     "output_type": "display_data"
    },
    {
     "data": {
      "text/html": [
       "<span style=\"color:cyan\"> |-Best step: 0</span>"
      ],
      "text/plain": [
       "<IPython.core.display.HTML object>"
      ]
     },
     "metadata": {},
     "output_type": "display_data"
    },
    {
     "data": {
      "text/html": [
       "<span style=\"color:#7E57C2\"><h2 style=\"font-size:16px\">Hyperparameters:</h2></span>"
      ],
      "text/plain": [
       "<IPython.core.display.HTML object>"
      ]
     },
     "metadata": {},
     "output_type": "display_data"
    },
    {
     "data": {
      "text/html": [
       "<span style=\"color:cyan\"> |-classification_head_1/dropout_rate: 0</span>"
      ],
      "text/plain": [
       "<IPython.core.display.HTML object>"
      ]
     },
     "metadata": {},
     "output_type": "display_data"
    },
    {
     "data": {
      "text/html": [
       "<span style=\"color:blue\"> |-optimizer: adam</span>"
      ],
      "text/plain": [
       "<IPython.core.display.HTML object>"
      ]
     },
     "metadata": {},
     "output_type": "display_data"
    },
    {
     "data": {
      "text/html": [
       "<span style=\"color:cyan\"> |-structured_data_block_1/dense_block_1/dropout_rate: 0.25</span>"
      ],
      "text/plain": [
       "<IPython.core.display.HTML object>"
      ]
     },
     "metadata": {},
     "output_type": "display_data"
    },
    {
     "data": {
      "text/html": [
       "<span style=\"color:blue\"> |-structured_data_block_1/dense_block_1/num_layers: 2</span>"
      ],
      "text/plain": [
       "<IPython.core.display.HTML object>"
      ]
     },
     "metadata": {},
     "output_type": "display_data"
    },
    {
     "data": {
      "text/html": [
       "<span style=\"color:cyan\"> |-structured_data_block_1/dense_block_1/units_0: 128</span>"
      ],
      "text/plain": [
       "<IPython.core.display.HTML object>"
      ]
     },
     "metadata": {},
     "output_type": "display_data"
    },
    {
     "data": {
      "text/html": [
       "<span style=\"color:blue\"> |-structured_data_block_1/dense_block_1/units_1: 32</span>"
      ],
      "text/plain": [
       "<IPython.core.display.HTML object>"
      ]
     },
     "metadata": {},
     "output_type": "display_data"
    },
    {
     "data": {
      "text/html": [
       "<span style=\"color:cyan\"> |-structured_data_block_1/dense_block_1/units_2: 256</span>"
      ],
      "text/plain": [
       "<IPython.core.display.HTML object>"
      ]
     },
     "metadata": {},
     "output_type": "display_data"
    },
    {
     "data": {
      "text/html": [
       "<span style=\"color:blue\"> |-structured_data_block_1/dense_block_1/use_batchnorm: False</span>"
      ],
      "text/plain": [
       "<IPython.core.display.HTML object>"
      ]
     },
     "metadata": {},
     "output_type": "display_data"
    },
    {
     "name": "stdout",
     "output_type": "stream",
     "text": [
      "Train for 16 steps, validate for 4 steps\n",
      "Epoch 1/1000\n",
      "16/16 - 2s - loss: 1.9843 - accuracy: 0.5378 - val_loss: 0.7827 - val_accuracy: 0.4880\n",
      "Epoch 2/1000\n",
      "16/16 - 1s - loss: 1.2836 - accuracy: 0.5657 - val_loss: 0.5387 - val_accuracy: 0.7600\n",
      "Epoch 3/1000\n",
      "16/16 - 0s - loss: 1.2137 - accuracy: 0.5876 - val_loss: 0.5389 - val_accuracy: 0.7520\n",
      "Epoch 4/1000\n",
      "16/16 - 0s - loss: 0.9296 - accuracy: 0.5956 - val_loss: 0.5556 - val_accuracy: 0.7200\n",
      "Epoch 5/1000\n",
      "16/16 - 0s - loss: 0.8836 - accuracy: 0.6215 - val_loss: 0.5359 - val_accuracy: 0.7280\n",
      "Epoch 6/1000\n",
      "16/16 - 0s - loss: 0.9135 - accuracy: 0.6255 - val_loss: 0.5638 - val_accuracy: 0.6880\n",
      "Epoch 7/1000\n",
      "16/16 - 0s - loss: 0.8587 - accuracy: 0.5817 - val_loss: 0.5432 - val_accuracy: 0.7120\n",
      "Epoch 8/1000\n",
      "16/16 - 0s - loss: 0.9308 - accuracy: 0.5837 - val_loss: 0.5370 - val_accuracy: 0.7040\n",
      "Epoch 9/1000\n",
      "16/16 - 0s - loss: 0.7763 - accuracy: 0.6215 - val_loss: 0.5286 - val_accuracy: 0.7200\n",
      "Epoch 10/1000\n",
      "16/16 - 0s - loss: 0.9020 - accuracy: 0.6096 - val_loss: 0.5376 - val_accuracy: 0.7440\n",
      "Epoch 11/1000\n",
      "16/16 - 0s - loss: 0.8228 - accuracy: 0.5956 - val_loss: 0.5557 - val_accuracy: 0.7040\n",
      "Epoch 12/1000\n",
      "16/16 - 0s - loss: 0.7607 - accuracy: 0.6315 - val_loss: 0.5771 - val_accuracy: 0.7200\n",
      "Epoch 13/1000\n",
      "16/16 - 0s - loss: 0.7326 - accuracy: 0.6135 - val_loss: 0.5777 - val_accuracy: 0.7120\n",
      "Epoch 14/1000\n",
      "16/16 - 0s - loss: 0.6843 - accuracy: 0.6335 - val_loss: 0.5895 - val_accuracy: 0.6800\n",
      "Epoch 15/1000\n",
      "16/16 - 0s - loss: 0.6964 - accuracy: 0.6434 - val_loss: 0.5798 - val_accuracy: 0.6800\n",
      "Epoch 16/1000\n",
      "16/16 - 0s - loss: 0.6815 - accuracy: 0.6514 - val_loss: 0.5460 - val_accuracy: 0.7440\n",
      "Epoch 17/1000\n",
      "16/16 - 0s - loss: 0.7467 - accuracy: 0.6375 - val_loss: 0.5404 - val_accuracy: 0.7520\n",
      "Epoch 18/1000\n",
      "16/16 - 0s - loss: 0.7202 - accuracy: 0.6155 - val_loss: 0.5417 - val_accuracy: 0.7440\n",
      "Epoch 19/1000\n",
      "16/16 - 0s - loss: 0.6884 - accuracy: 0.6474 - val_loss: 0.5441 - val_accuracy: 0.7360\n"
     ]
    },
    {
     "data": {
      "text/html": [
       "<span style=\"color:#4527A0\"><h1 style=\"font-size:18px\">Trial complete</h1></span>"
      ],
      "text/plain": [
       "<IPython.core.display.HTML object>"
      ]
     },
     "metadata": {},
     "output_type": "display_data"
    },
    {
     "data": {
      "text/html": [
       "<span style=\"color:#4527A0\"><h1 style=\"font-size:18px\">Trial summary</h1></span>"
      ],
      "text/plain": [
       "<IPython.core.display.HTML object>"
      ]
     },
     "metadata": {},
     "output_type": "display_data"
    },
    {
     "data": {
      "text/html": [
       "<span style=\"color:cyan\"> |-Trial ID: df4e7d3fb8f66f6e1cbe499072ee01f9</span>"
      ],
      "text/plain": [
       "<IPython.core.display.HTML object>"
      ]
     },
     "metadata": {},
     "output_type": "display_data"
    },
    {
     "data": {
      "text/html": [
       "<span style=\"color:cyan\"> |-Score: 0.7599999904632568</span>"
      ],
      "text/plain": [
       "<IPython.core.display.HTML object>"
      ]
     },
     "metadata": {},
     "output_type": "display_data"
    },
    {
     "data": {
      "text/html": [
       "<span style=\"color:cyan\"> |-Best step: 0</span>"
      ],
      "text/plain": [
       "<IPython.core.display.HTML object>"
      ]
     },
     "metadata": {},
     "output_type": "display_data"
    },
    {
     "data": {
      "text/html": [
       "<span style=\"color:#7E57C2\"><h2 style=\"font-size:16px\">Hyperparameters:</h2></span>"
      ],
      "text/plain": [
       "<IPython.core.display.HTML object>"
      ]
     },
     "metadata": {},
     "output_type": "display_data"
    },
    {
     "data": {
      "text/html": [
       "<span style=\"color:cyan\"> |-classification_head_1/dropout_rate: 0</span>"
      ],
      "text/plain": [
       "<IPython.core.display.HTML object>"
      ]
     },
     "metadata": {},
     "output_type": "display_data"
    },
    {
     "data": {
      "text/html": [
       "<span style=\"color:blue\"> |-optimizer: adam</span>"
      ],
      "text/plain": [
       "<IPython.core.display.HTML object>"
      ]
     },
     "metadata": {},
     "output_type": "display_data"
    },
    {
     "data": {
      "text/html": [
       "<span style=\"color:cyan\"> |-structured_data_block_1/dense_block_1/dropout_rate: 0.25</span>"
      ],
      "text/plain": [
       "<IPython.core.display.HTML object>"
      ]
     },
     "metadata": {},
     "output_type": "display_data"
    },
    {
     "data": {
      "text/html": [
       "<span style=\"color:blue\"> |-structured_data_block_1/dense_block_1/num_layers: 3</span>"
      ],
      "text/plain": [
       "<IPython.core.display.HTML object>"
      ]
     },
     "metadata": {},
     "output_type": "display_data"
    },
    {
     "data": {
      "text/html": [
       "<span style=\"color:cyan\"> |-structured_data_block_1/dense_block_1/units_0: 64</span>"
      ],
      "text/plain": [
       "<IPython.core.display.HTML object>"
      ]
     },
     "metadata": {},
     "output_type": "display_data"
    },
    {
     "data": {
      "text/html": [
       "<span style=\"color:blue\"> |-structured_data_block_1/dense_block_1/units_1: 128</span>"
      ],
      "text/plain": [
       "<IPython.core.display.HTML object>"
      ]
     },
     "metadata": {},
     "output_type": "display_data"
    },
    {
     "data": {
      "text/html": [
       "<span style=\"color:cyan\"> |-structured_data_block_1/dense_block_1/units_2: 128</span>"
      ],
      "text/plain": [
       "<IPython.core.display.HTML object>"
      ]
     },
     "metadata": {},
     "output_type": "display_data"
    },
    {
     "data": {
      "text/html": [
       "<span style=\"color:blue\"> |-structured_data_block_1/dense_block_1/use_batchnorm: False</span>"
      ],
      "text/plain": [
       "<IPython.core.display.HTML object>"
      ]
     },
     "metadata": {},
     "output_type": "display_data"
    },
    {
     "name": "stdout",
     "output_type": "stream",
     "text": [
      "Train for 16 steps, validate for 4 steps\n",
      "Epoch 1/1000\n",
      "16/16 - 3s - loss: 0.9588 - accuracy: 0.6355 - val_loss: 0.5424 - val_accuracy: 0.7040\n",
      "Epoch 2/1000\n",
      "16/16 - 0s - loss: 0.8559 - accuracy: 0.5757 - val_loss: 0.6017 - val_accuracy: 0.6960\n",
      "Epoch 3/1000\n",
      "16/16 - 0s - loss: 0.7941 - accuracy: 0.6036 - val_loss: 0.6439 - val_accuracy: 0.7200\n",
      "Epoch 4/1000\n",
      "16/16 - 0s - loss: 0.7222 - accuracy: 0.6135 - val_loss: 0.5782 - val_accuracy: 0.7200\n",
      "Epoch 5/1000\n",
      "16/16 - 0s - loss: 0.7443 - accuracy: 0.6116 - val_loss: 0.5662 - val_accuracy: 0.7280\n",
      "Epoch 6/1000\n",
      "16/16 - 0s - loss: 0.6977 - accuracy: 0.6355 - val_loss: 0.5451 - val_accuracy: 0.7280\n",
      "Epoch 7/1000\n",
      "16/16 - 0s - loss: 0.6944 - accuracy: 0.6434 - val_loss: 0.5657 - val_accuracy: 0.6960\n",
      "Epoch 8/1000\n",
      "16/16 - 0s - loss: 0.7158 - accuracy: 0.6454 - val_loss: 0.5292 - val_accuracy: 0.7040\n",
      "Epoch 9/1000\n",
      "16/16 - 0s - loss: 0.6681 - accuracy: 0.6614 - val_loss: 0.5491 - val_accuracy: 0.7120\n",
      "Epoch 10/1000\n",
      "16/16 - 0s - loss: 0.6858 - accuracy: 0.6175 - val_loss: 0.5620 - val_accuracy: 0.7200\n",
      "Epoch 11/1000\n",
      "16/16 - 1s - loss: 0.6920 - accuracy: 0.6235 - val_loss: 0.5598 - val_accuracy: 0.7360\n",
      "Epoch 12/1000\n",
      "16/16 - 0s - loss: 0.6652 - accuracy: 0.6335 - val_loss: 0.5665 - val_accuracy: 0.7360\n",
      "Epoch 13/1000\n",
      "16/16 - 0s - loss: 0.6978 - accuracy: 0.6335 - val_loss: 0.5520 - val_accuracy: 0.7360\n",
      "Epoch 14/1000\n",
      "16/16 - 0s - loss: 0.6523 - accuracy: 0.6414 - val_loss: 0.5402 - val_accuracy: 0.7360\n",
      "Epoch 15/1000\n",
      "16/16 - 0s - loss: 0.6952 - accuracy: 0.6394 - val_loss: 0.5662 - val_accuracy: 0.7280\n",
      "Epoch 16/1000\n",
      "16/16 - 0s - loss: 0.6394 - accuracy: 0.6673 - val_loss: 0.5553 - val_accuracy: 0.7360\n",
      "Epoch 17/1000\n",
      "16/16 - 0s - loss: 0.6525 - accuracy: 0.6375 - val_loss: 0.5673 - val_accuracy: 0.7360\n",
      "Epoch 18/1000\n",
      "16/16 - 0s - loss: 0.6373 - accuracy: 0.6375 - val_loss: 0.5639 - val_accuracy: 0.7600\n"
     ]
    },
    {
     "data": {
      "text/html": [
       "<span style=\"color:#4527A0\"><h1 style=\"font-size:18px\">Trial complete</h1></span>"
      ],
      "text/plain": [
       "<IPython.core.display.HTML object>"
      ]
     },
     "metadata": {},
     "output_type": "display_data"
    },
    {
     "data": {
      "text/html": [
       "<span style=\"color:#4527A0\"><h1 style=\"font-size:18px\">Trial summary</h1></span>"
      ],
      "text/plain": [
       "<IPython.core.display.HTML object>"
      ]
     },
     "metadata": {},
     "output_type": "display_data"
    },
    {
     "data": {
      "text/html": [
       "<span style=\"color:cyan\"> |-Trial ID: 050fbfc7ef3ee16405fa36501b7dc8e3</span>"
      ],
      "text/plain": [
       "<IPython.core.display.HTML object>"
      ]
     },
     "metadata": {},
     "output_type": "display_data"
    },
    {
     "data": {
      "text/html": [
       "<span style=\"color:cyan\"> |-Score: 0.7599999904632568</span>"
      ],
      "text/plain": [
       "<IPython.core.display.HTML object>"
      ]
     },
     "metadata": {},
     "output_type": "display_data"
    },
    {
     "data": {
      "text/html": [
       "<span style=\"color:cyan\"> |-Best step: 0</span>"
      ],
      "text/plain": [
       "<IPython.core.display.HTML object>"
      ]
     },
     "metadata": {},
     "output_type": "display_data"
    },
    {
     "data": {
      "text/html": [
       "<span style=\"color:#7E57C2\"><h2 style=\"font-size:16px\">Hyperparameters:</h2></span>"
      ],
      "text/plain": [
       "<IPython.core.display.HTML object>"
      ]
     },
     "metadata": {},
     "output_type": "display_data"
    },
    {
     "data": {
      "text/html": [
       "<span style=\"color:cyan\"> |-classification_head_1/dropout_rate: 0</span>"
      ],
      "text/plain": [
       "<IPython.core.display.HTML object>"
      ]
     },
     "metadata": {},
     "output_type": "display_data"
    },
    {
     "data": {
      "text/html": [
       "<span style=\"color:blue\"> |-optimizer: adam</span>"
      ],
      "text/plain": [
       "<IPython.core.display.HTML object>"
      ]
     },
     "metadata": {},
     "output_type": "display_data"
    },
    {
     "data": {
      "text/html": [
       "<span style=\"color:cyan\"> |-structured_data_block_1/dense_block_1/dropout_rate: 0.25</span>"
      ],
      "text/plain": [
       "<IPython.core.display.HTML object>"
      ]
     },
     "metadata": {},
     "output_type": "display_data"
    },
    {
     "data": {
      "text/html": [
       "<span style=\"color:blue\"> |-structured_data_block_1/dense_block_1/num_layers: 3</span>"
      ],
      "text/plain": [
       "<IPython.core.display.HTML object>"
      ]
     },
     "metadata": {},
     "output_type": "display_data"
    },
    {
     "data": {
      "text/html": [
       "<span style=\"color:cyan\"> |-structured_data_block_1/dense_block_1/units_0: 64</span>"
      ],
      "text/plain": [
       "<IPython.core.display.HTML object>"
      ]
     },
     "metadata": {},
     "output_type": "display_data"
    },
    {
     "data": {
      "text/html": [
       "<span style=\"color:blue\"> |-structured_data_block_1/dense_block_1/units_1: 64</span>"
      ],
      "text/plain": [
       "<IPython.core.display.HTML object>"
      ]
     },
     "metadata": {},
     "output_type": "display_data"
    },
    {
     "data": {
      "text/html": [
       "<span style=\"color:cyan\"> |-structured_data_block_1/dense_block_1/units_2: 1024</span>"
      ],
      "text/plain": [
       "<IPython.core.display.HTML object>"
      ]
     },
     "metadata": {},
     "output_type": "display_data"
    },
    {
     "data": {
      "text/html": [
       "<span style=\"color:blue\"> |-structured_data_block_1/dense_block_1/use_batchnorm: False</span>"
      ],
      "text/plain": [
       "<IPython.core.display.HTML object>"
      ]
     },
     "metadata": {},
     "output_type": "display_data"
    },
    {
     "name": "stdout",
     "output_type": "stream",
     "text": [
      "INFO:tensorflow:Oracle triggered exit\n",
      "Train for 20 steps, validate for 4 steps\n",
      "Epoch 1/1000\n",
      "20/20 - 2s - loss: 1.2009 - accuracy: 0.6029 - val_loss: 1.1271 - val_accuracy: 0.6720\n",
      "Epoch 2/1000\n",
      "20/20 - 0s - loss: 1.1878 - accuracy: 0.5582 - val_loss: 0.6587 - val_accuracy: 0.7600\n",
      "Epoch 3/1000\n",
      "20/20 - 0s - loss: 0.6507 - accuracy: 0.7177 - val_loss: 0.4701 - val_accuracy: 0.8240\n",
      "Epoch 4/1000\n",
      "20/20 - 0s - loss: 0.6012 - accuracy: 0.6938 - val_loss: 0.4938 - val_accuracy: 0.7680\n",
      "Epoch 5/1000\n",
      "20/20 - 0s - loss: 0.6501 - accuracy: 0.7145 - val_loss: 0.4170 - val_accuracy: 0.8400\n",
      "Epoch 6/1000\n",
      "20/20 - 0s - loss: 0.5900 - accuracy: 0.7337 - val_loss: 0.4977 - val_accuracy: 0.7920\n",
      "Epoch 7/1000\n",
      "20/20 - 0s - loss: 0.6553 - accuracy: 0.7289 - val_loss: 0.3921 - val_accuracy: 0.8640\n",
      "Epoch 8/1000\n",
      "20/20 - 0s - loss: 0.5767 - accuracy: 0.7464 - val_loss: 0.4647 - val_accuracy: 0.8000\n",
      "Epoch 9/1000\n",
      "20/20 - 0s - loss: 0.6192 - accuracy: 0.7352 - val_loss: 0.3808 - val_accuracy: 0.8640\n",
      "Epoch 10/1000\n",
      "20/20 - 0s - loss: 0.5215 - accuracy: 0.7544 - val_loss: 0.4366 - val_accuracy: 0.8080\n",
      "Epoch 11/1000\n",
      "20/20 - 0s - loss: 0.5938 - accuracy: 0.7400 - val_loss: 0.3826 - val_accuracy: 0.8400\n",
      "Epoch 12/1000\n",
      "20/20 - 0s - loss: 0.4840 - accuracy: 0.7735 - val_loss: 0.3995 - val_accuracy: 0.8160\n",
      "Epoch 13/1000\n",
      "20/20 - 0s - loss: 0.5682 - accuracy: 0.7512 - val_loss: 0.3918 - val_accuracy: 0.8400\n",
      "Epoch 14/1000\n",
      "20/20 - 0s - loss: 0.4561 - accuracy: 0.7990 - val_loss: 0.3643 - val_accuracy: 0.8240\n",
      "Epoch 15/1000\n",
      "20/20 - 0s - loss: 0.5425 - accuracy: 0.7671 - val_loss: 0.3937 - val_accuracy: 0.8320\n",
      "Epoch 16/1000\n",
      "20/20 - 0s - loss: 0.4360 - accuracy: 0.8086 - val_loss: 0.3290 - val_accuracy: 0.8720\n",
      "Epoch 17/1000\n",
      "20/20 - 0s - loss: 0.4690 - accuracy: 0.7990 - val_loss: 0.3336 - val_accuracy: 0.8800\n",
      "Epoch 18/1000\n",
      "20/20 - 0s - loss: 0.4666 - accuracy: 0.7959 - val_loss: 0.3335 - val_accuracy: 0.8560\n",
      "Epoch 19/1000\n",
      "20/20 - 0s - loss: 0.4471 - accuracy: 0.8134 - val_loss: 0.3370 - val_accuracy: 0.8480\n",
      "Epoch 20/1000\n",
      "20/20 - 0s - loss: 0.4970 - accuracy: 0.7943 - val_loss: 0.3488 - val_accuracy: 0.8800\n",
      "Epoch 21/1000\n",
      "20/20 - 0s - loss: 0.4259 - accuracy: 0.8150 - val_loss: 0.3234 - val_accuracy: 0.8800\n",
      "Epoch 22/1000\n",
      "20/20 - 0s - loss: 0.4388 - accuracy: 0.8118 - val_loss: 0.3274 - val_accuracy: 0.8800\n",
      "Epoch 23/1000\n",
      "20/20 - 0s - loss: 0.4473 - accuracy: 0.8102 - val_loss: 0.3280 - val_accuracy: 0.8560\n",
      "Epoch 24/1000\n",
      "20/20 - 0s - loss: 0.4328 - accuracy: 0.8182 - val_loss: 0.3268 - val_accuracy: 0.8640\n",
      "Epoch 25/1000\n",
      "20/20 - 0s - loss: 0.4279 - accuracy: 0.8182 - val_loss: 0.3236 - val_accuracy: 0.8640\n",
      "Epoch 26/1000\n",
      "20/20 - 0s - loss: 0.4309 - accuracy: 0.8166 - val_loss: 0.3215 - val_accuracy: 0.8720\n",
      "Epoch 27/1000\n",
      "20/20 - 0s - loss: 0.4296 - accuracy: 0.8198 - val_loss: 0.3207 - val_accuracy: 0.8720\n",
      "Epoch 28/1000\n",
      "20/20 - 0s - loss: 0.4275 - accuracy: 0.8214 - val_loss: 0.3195 - val_accuracy: 0.8720\n",
      "Epoch 29/1000\n",
      "20/20 - 0s - loss: 0.4282 - accuracy: 0.8214 - val_loss: 0.3211 - val_accuracy: 0.8720\n",
      "Epoch 30/1000\n",
      "20/20 - 0s - loss: 0.4248 - accuracy: 0.8246 - val_loss: 0.3187 - val_accuracy: 0.8720\n",
      "Epoch 31/1000\n",
      "20/20 - 0s - loss: 0.4225 - accuracy: 0.8214 - val_loss: 0.3200 - val_accuracy: 0.8720\n",
      "Epoch 32/1000\n",
      "20/20 - 0s - loss: 0.4186 - accuracy: 0.8230 - val_loss: 0.3188 - val_accuracy: 0.8800\n",
      "Epoch 33/1000\n",
      "20/20 - 0s - loss: 0.4133 - accuracy: 0.8246 - val_loss: 0.3172 - val_accuracy: 0.8720\n",
      "Epoch 34/1000\n",
      "20/20 - 0s - loss: 0.4134 - accuracy: 0.8230 - val_loss: 0.3142 - val_accuracy: 0.8720\n",
      "Epoch 35/1000\n",
      "20/20 - 0s - loss: 0.4164 - accuracy: 0.8262 - val_loss: 0.3124 - val_accuracy: 0.8800\n",
      "Epoch 36/1000\n",
      "20/20 - 0s - loss: 0.4160 - accuracy: 0.8246 - val_loss: 0.3120 - val_accuracy: 0.8800\n",
      "Epoch 37/1000\n",
      "20/20 - 0s - loss: 0.4157 - accuracy: 0.8262 - val_loss: 0.3120 - val_accuracy: 0.8800\n",
      "Epoch 38/1000\n",
      "20/20 - 0s - loss: 0.4077 - accuracy: 0.8246 - val_loss: 0.3150 - val_accuracy: 0.8880\n",
      "Epoch 39/1000\n",
      "20/20 - 0s - loss: 0.4062 - accuracy: 0.8262 - val_loss: 0.3138 - val_accuracy: 0.8800\n",
      "Epoch 40/1000\n",
      "20/20 - 0s - loss: 0.4045 - accuracy: 0.8293 - val_loss: 0.3106 - val_accuracy: 0.8880\n",
      "Epoch 41/1000\n",
      "20/20 - 0s - loss: 0.4008 - accuracy: 0.8293 - val_loss: 0.3082 - val_accuracy: 0.8880\n",
      "Epoch 42/1000\n",
      "20/20 - 0s - loss: 0.4021 - accuracy: 0.8278 - val_loss: 0.3069 - val_accuracy: 0.8800\n",
      "Epoch 43/1000\n",
      "20/20 - 0s - loss: 0.4118 - accuracy: 0.8230 - val_loss: 0.3047 - val_accuracy: 0.8880\n",
      "Epoch 44/1000\n",
      "20/20 - 0s - loss: 0.4033 - accuracy: 0.8293 - val_loss: 0.3079 - val_accuracy: 0.8880\n",
      "Epoch 45/1000\n",
      "20/20 - 0s - loss: 0.3956 - accuracy: 0.8293 - val_loss: 0.3087 - val_accuracy: 0.8720\n",
      "Epoch 46/1000\n",
      "20/20 - 0s - loss: 0.3933 - accuracy: 0.8309 - val_loss: 0.3050 - val_accuracy: 0.8800\n",
      "Epoch 47/1000\n",
      "20/20 - 0s - loss: 0.3963 - accuracy: 0.8293 - val_loss: 0.3014 - val_accuracy: 0.8880\n",
      "Epoch 48/1000\n",
      "20/20 - 0s - loss: 0.3937 - accuracy: 0.8293 - val_loss: 0.3031 - val_accuracy: 0.8800\n",
      "Epoch 49/1000\n",
      "20/20 - 0s - loss: 0.3913 - accuracy: 0.8309 - val_loss: 0.3041 - val_accuracy: 0.8800\n",
      "Epoch 50/1000\n",
      "20/20 - 0s - loss: 0.3887 - accuracy: 0.8341 - val_loss: 0.3003 - val_accuracy: 0.8800\n",
      "Epoch 51/1000\n",
      "20/20 - 0s - loss: 0.3890 - accuracy: 0.8278 - val_loss: 0.2999 - val_accuracy: 0.8800\n",
      "Epoch 52/1000\n",
      "20/20 - 0s - loss: 0.3884 - accuracy: 0.8325 - val_loss: 0.3001 - val_accuracy: 0.8800\n",
      "Epoch 53/1000\n",
      "20/20 - 0s - loss: 0.3849 - accuracy: 0.8389 - val_loss: 0.3004 - val_accuracy: 0.8800\n",
      "Epoch 54/1000\n",
      "20/20 - 0s - loss: 0.3842 - accuracy: 0.8293 - val_loss: 0.2949 - val_accuracy: 0.8880\n",
      "Epoch 55/1000\n",
      "20/20 - 0s - loss: 0.3896 - accuracy: 0.8262 - val_loss: 0.2956 - val_accuracy: 0.8880\n",
      "Epoch 56/1000\n",
      "20/20 - 0s - loss: 0.3830 - accuracy: 0.8373 - val_loss: 0.2948 - val_accuracy: 0.8800\n",
      "Epoch 57/1000\n",
      "20/20 - 0s - loss: 0.3822 - accuracy: 0.8357 - val_loss: 0.2949 - val_accuracy: 0.8800\n",
      "Epoch 58/1000\n",
      "20/20 - 1s - loss: 0.3793 - accuracy: 0.8389 - val_loss: 0.2923 - val_accuracy: 0.8720\n",
      "Epoch 59/1000\n",
      "20/20 - 0s - loss: 0.3777 - accuracy: 0.8389 - val_loss: 0.2957 - val_accuracy: 0.8800\n",
      "Epoch 60/1000\n",
      "20/20 - 0s - loss: 0.3750 - accuracy: 0.8389 - val_loss: 0.2913 - val_accuracy: 0.8800\n",
      "Epoch 61/1000\n",
      "20/20 - 0s - loss: 0.3761 - accuracy: 0.8373 - val_loss: 0.2907 - val_accuracy: 0.8800\n",
      "Epoch 62/1000\n",
      "20/20 - 0s - loss: 0.3751 - accuracy: 0.8373 - val_loss: 0.2887 - val_accuracy: 0.8800\n",
      "Epoch 63/1000\n",
      "20/20 - 0s - loss: 0.3727 - accuracy: 0.8421 - val_loss: 0.2927 - val_accuracy: 0.8800\n",
      "Epoch 64/1000\n",
      "20/20 - 0s - loss: 0.3762 - accuracy: 0.8373 - val_loss: 0.2857 - val_accuracy: 0.8960\n",
      "Epoch 65/1000\n",
      "20/20 - 0s - loss: 0.3713 - accuracy: 0.8437 - val_loss: 0.2907 - val_accuracy: 0.8880\n",
      "Epoch 66/1000\n",
      "20/20 - 0s - loss: 0.3711 - accuracy: 0.8453 - val_loss: 0.2879 - val_accuracy: 0.8880\n",
      "Epoch 67/1000\n",
      "20/20 - 0s - loss: 0.3689 - accuracy: 0.8453 - val_loss: 0.2904 - val_accuracy: 0.8880\n",
      "Epoch 68/1000\n",
      "20/20 - 0s - loss: 0.3659 - accuracy: 0.8469 - val_loss: 0.2911 - val_accuracy: 0.8800\n",
      "Epoch 69/1000\n",
      "20/20 - 0s - loss: 0.3666 - accuracy: 0.8469 - val_loss: 0.2860 - val_accuracy: 0.8880\n",
      "Epoch 70/1000\n",
      "20/20 - 0s - loss: 0.3669 - accuracy: 0.8421 - val_loss: 0.2863 - val_accuracy: 0.8880\n",
      "Epoch 71/1000\n",
      "20/20 - 0s - loss: 0.3668 - accuracy: 0.8437 - val_loss: 0.2858 - val_accuracy: 0.8880\n",
      "Epoch 72/1000\n",
      "20/20 - 0s - loss: 0.3617 - accuracy: 0.8485 - val_loss: 0.2894 - val_accuracy: 0.8960\n",
      "Epoch 73/1000\n",
      "20/20 - 0s - loss: 0.3705 - accuracy: 0.8421 - val_loss: 0.2745 - val_accuracy: 0.8560\n",
      "Epoch 74/1000\n",
      "20/20 - 0s - loss: 0.3617 - accuracy: 0.8469 - val_loss: 0.2807 - val_accuracy: 0.8880\n",
      "Epoch 75/1000\n",
      "20/20 - 0s - loss: 0.3528 - accuracy: 0.8612 - val_loss: 0.2834 - val_accuracy: 0.8960\n",
      "Epoch 76/1000\n",
      "20/20 - 0s - loss: 0.3611 - accuracy: 0.8517 - val_loss: 0.2753 - val_accuracy: 0.8960\n",
      "Epoch 77/1000\n",
      "20/20 - 0s - loss: 0.3619 - accuracy: 0.8405 - val_loss: 0.2783 - val_accuracy: 0.8960\n",
      "Epoch 78/1000\n",
      "20/20 - 0s - loss: 0.3607 - accuracy: 0.8453 - val_loss: 0.2820 - val_accuracy: 0.8960\n",
      "Epoch 79/1000\n",
      "20/20 - 0s - loss: 0.3608 - accuracy: 0.8469 - val_loss: 0.2835 - val_accuracy: 0.8960\n",
      "Epoch 80/1000\n",
      "20/20 - 0s - loss: 0.3583 - accuracy: 0.8533 - val_loss: 0.2870 - val_accuracy: 0.8960\n",
      "Epoch 81/1000\n",
      "20/20 - 0s - loss: 0.3544 - accuracy: 0.8596 - val_loss: 0.2820 - val_accuracy: 0.8960\n"
     ]
    },
    {
     "name": "stdout",
     "output_type": "stream",
     "text": [
      "Epoch 82/1000\n",
      "20/20 - 0s - loss: 0.3504 - accuracy: 0.8581 - val_loss: 0.2764 - val_accuracy: 0.8960\n",
      "Epoch 83/1000\n",
      "20/20 - 0s - loss: 0.3536 - accuracy: 0.8533 - val_loss: 0.2777 - val_accuracy: 0.9040\n"
     ]
    }
   ],
   "source": [
    "import autokeras as ak\n",
    "\n",
    "# Initialize the structured data classifier.\n",
    "clf = ak.StructuredDataClassifier(max_trials=10) # Try 10 different pipelines.\n",
    "\n",
    "# Feed the structured data classifier with training data.\n",
    "clf.fit(\n",
    "    # The path to the train.csv file.\n",
    "    './train.csv',\n",
    "    # The name of the label column.\n",
    "    'survived',\n",
    "     verbose=2,)\n"
   ]
  },
  {
   "cell_type": "markdown",
   "metadata": {},
   "source": [
    "### Predict with the best model."
   ]
  },
  {
   "cell_type": "code",
   "execution_count": 6,
   "metadata": {},
   "outputs": [
    {
     "name": "stdout",
     "output_type": "stream",
     "text": [
      "WARNING:tensorflow:Unresolved object in checkpoint: (root).optimizer.iter\n",
      "WARNING:tensorflow:Unresolved object in checkpoint: (root).optimizer.beta_1\n",
      "WARNING:tensorflow:Unresolved object in checkpoint: (root).optimizer.beta_2\n",
      "WARNING:tensorflow:Unresolved object in checkpoint: (root).optimizer.decay\n",
      "WARNING:tensorflow:Unresolved object in checkpoint: (root).optimizer.learning_rate\n",
      "WARNING:tensorflow:A checkpoint was restored (e.g. tf.train.Checkpoint.restore or tf.keras.Model.load_weights) but not all checkpointed values were used. See above for specific issues. Use expect_partial() on the load status object, e.g. tf.train.Checkpoint.restore(...).expect_partial(), to silence these warnings, or use assert_consumed() to make the check explicit. See https://www.tensorflow.org/guide/checkpoint#loading_mechanics for details.\n",
      "WARNING:tensorflow:Unresolved object in checkpoint: (root).optimizer.iter\n",
      "WARNING:tensorflow:Unresolved object in checkpoint: (root).optimizer.beta_1\n",
      "WARNING:tensorflow:Unresolved object in checkpoint: (root).optimizer.beta_2\n",
      "WARNING:tensorflow:Unresolved object in checkpoint: (root).optimizer.decay\n",
      "WARNING:tensorflow:Unresolved object in checkpoint: (root).optimizer.learning_rate\n",
      "WARNING:tensorflow:A checkpoint was restored (e.g. tf.train.Checkpoint.restore or tf.keras.Model.load_weights) but not all checkpointed values were used. See above for specific issues. Use expect_partial() on the load status object, e.g. tf.train.Checkpoint.restore(...).expect_partial(), to silence these warnings, or use assert_consumed() to make the check explicit. See https://www.tensorflow.org/guide/checkpoint#loading_mechanics for details.\n",
      "[[0]\n",
      " [0]\n",
      " [0]\n",
      " [0]\n",
      " [0]\n",
      " [1]\n",
      " [0]\n",
      " [0]\n",
      " [0]\n",
      " [1]]\n"
     ]
    }
   ],
   "source": [
    "predicted_y = clf.predict('./eval.csv')\n",
    "print(predicted_y[:10])"
   ]
  },
  {
   "cell_type": "markdown",
   "metadata": {},
   "source": [
    "### Evaluate the best pipeline with the testing csv file."
   ]
  },
  {
   "cell_type": "code",
   "execution_count": null,
   "metadata": {},
   "outputs": [],
   "source": [
    "\n",
    "test_loss, test_acc = clf.evaluate('./eval.csv', 'survived', verbose=0)\n",
    "print('Test accuracy: ', test_acc)\n"
   ]
  },
  {
   "cell_type": "markdown",
   "metadata": {},
   "source": [
    "### Evaluate the best pipeline with the panda DataFrame."
   ]
  },
  {
   "cell_type": "code",
   "execution_count": 9,
   "metadata": {},
   "outputs": [
    {
     "name": "stdout",
     "output_type": "stream",
     "text": [
      "Test accuracy:  0.780303\n"
     ]
    }
   ],
   "source": [
    "import pandas as pd\n",
    "\n",
    "# Preparing testing data.\n",
    "x_test = pd.read_csv('eval.csv')\n",
    "y_test = x_test.pop('survived')\n",
    "\n",
    "test_loss, test_acc = clf.evaluate(x_test, y_test, verbose=0)\n",
    "print('Test accuracy: ', test_acc)"
   ]
  },
  {
   "cell_type": "markdown",
   "metadata": {},
   "source": [
    "## Titanic data fetched with Scikit-Learn (version one on openml dataset)"
   ]
  },
  {
   "cell_type": "markdown",
   "metadata": {
    "colab_type": "text",
    "id": "0D7scqBWkg5t"
   },
   "source": [
    "### Load Titanic dataset"
   ]
  },
  {
   "cell_type": "code",
   "execution_count": null,
   "metadata": {
    "colab": {},
    "colab_type": "code",
    "id": "YACSvJ81h_Ry"
   },
   "outputs": [],
   "source": [
    "# Import the dataset loading function from sklearn\n",
    "from sklearn.datasets import fetch_openml\n",
    "\n",
    "# Load the titanic dataset from openml\n",
    "titanic = fetch_openml(name='titanic', version=1, as_frame=True)\n",
    "\n",
    "data, label = titanic.data.copy(), titanic.target.copy()\n",
    "\n",
    "# reformat the label from pd.Series to pd.DataFrame\n",
    "label = pd.DataFrame(label)\n",
    "\n",
    "# Split data into training and test dataset\n",
    "x_train, x_test, y_train, y_test = data[:891], data[891:], label[:891], label[891:]\n",
    "\n",
    "print(\"--Shape of the training data--\\n {}\".format(x_train.shape))\n",
    "print(\"\\n--Shape of the testing data--\\n {}\".format(x_test.shape))"
   ]
  },
  {
   "cell_type": "markdown",
   "metadata": {
    "colab_type": "text",
    "id": "N5xlStkakqJn"
   },
   "source": [
    "### Run the StructuredDataClassifier"
   ]
  },
  {
   "cell_type": "code",
   "execution_count": null,
   "metadata": {
    "colab": {},
    "colab_type": "code",
    "id": "QfnaDrkPiTTg"
   },
   "outputs": [],
   "source": [
    "# It tries 10 different models.\n",
    "clf = ak.StructuredDataClassifier(max_trials=10)\n",
    "\n",
    "# Feed the structured data classifier with training data.\n",
    "clf.fit(x_train, y_train, epochs=20, verbose=2)"
   ]
  },
  {
   "cell_type": "markdown",
   "metadata": {},
   "source": [
    "### Evaluate the best model on the test data."
   ]
  },
  {
   "cell_type": "code",
   "execution_count": null,
   "metadata": {
    "colab": {},
    "colab_type": "code",
    "id": "ENEc_5kaTJzn"
   },
   "outputs": [],
   "source": [
    "\n",
    "test_loss, test_acc = clf.evaluate(x_test, y_test, verbose=0)\n",
    "print('Test accuracy: ', test_acc)\n"
   ]
  },
  {
   "cell_type": "code",
   "execution_count": null,
   "metadata": {},
   "outputs": [],
   "source": []
  },
  {
   "cell_type": "markdown",
   "metadata": {
    "colab_type": "text",
    "id": "FBykhsofDoKf"
   },
   "source": [
    "## Reference\n",
    "[ImageClassifier](/image_classifier),\n",
    "[AutoModel](/auto_model/#automodel-class),\n",
    "[ImageBlock](/block/#imageblock-class),\n",
    "[Normalization](/preprocessor/#normalization-class),\n",
    "[ImageAugmentation](/preprocessor/#image-augmentation-class),\n",
    "[ResNetBlock](/block/#resnetblock-class),\n",
    "[ImageInput](/node/#imageinput-class),\n",
    "[ClassificationHead](/head/#classificationhead-class)."
   ]
  },
  {
   "cell_type": "code",
   "execution_count": null,
   "metadata": {},
   "outputs": [],
   "source": []
  }
 ],
 "metadata": {
  "colab": {
   "collapsed_sections": [],
   "name": "ImageClassifier.ipynb",
   "provenance": []
  },
  "kernelspec": {
   "display_name": "Python 3",
   "language": "python",
   "name": "python3"
  },
  "language_info": {
   "codemirror_mode": {
    "name": "ipython",
    "version": 3
   },
   "file_extension": ".py",
   "mimetype": "text/x-python",
   "name": "python",
   "nbconvert_exporter": "python",
   "pygments_lexer": "ipython3",
   "version": "3.6.2"
  }
 },
 "nbformat": 4,
 "nbformat_minor": 1
}
