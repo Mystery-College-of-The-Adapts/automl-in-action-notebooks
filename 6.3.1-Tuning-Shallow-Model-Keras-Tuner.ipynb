{
 "cells": [
  {
   "cell_type": "code",
   "execution_count": null,
   "metadata": {},
   "outputs": [],
   "source": [
    "import kerastuner as kt"
   ]
  },
  {
   "cell_type": "markdown",
   "metadata": {},
   "source": [
    "## Load data"
   ]
  },
  {
   "cell_type": "code",
   "execution_count": 2,
   "metadata": {},
   "outputs": [
    {
     "data": {
      "text/plain": [
       "((1797, 8, 8), (1797,))"
      ]
     },
     "execution_count": 2,
     "metadata": {},
     "output_type": "execute_result"
    }
   ],
   "source": [
    "# Import the dataset loading function from sklearn\n",
    "from sklearn.datasets import load_digits\n",
    "\n",
    "# Load the hand-written digits dataset\n",
    "digits = load_digits()\n",
    "\n",
    "# Get the images and corresponding labels\n",
    "images, labels = digits.images, digits.target\n",
    "images.shape, labels.shape"
   ]
  },
  {
   "cell_type": "markdown",
   "metadata": {},
   "source": [
    "## Exploratory data analysis & Data preprocessing &  feature engineering"
   ]
  },
  {
   "cell_type": "code",
   "execution_count": 12,
   "metadata": {},
   "outputs": [
    {
     "data": {
      "image/png": "[encoded data removed]",
      "text/plain": [
       "<Figure size 720x144 with 20 Axes>"
      ]
     },
     "metadata": {
      "needs_background": "light"
     },
     "output_type": "display_data"
    }
   ],
   "source": [
    "%matplotlib inline\n",
    "import matplotlib\n",
    "import matplotlib.pyplot as plt\n",
    "\n",
    "# plot first 20 images\n",
    "n = 20\n",
    "_, axes = plt.subplots(2, 10, figsize=(10, 2))\n",
    "plt.tight_layout()\n",
    "for i in range(n):\n",
    "    row, col = i // 10, i % 10\n",
    "    axes[row, col].set_axis_off()\n",
    "    axes[row, col].imshow(images[i,], cmap=plt.cm.gray_r, interpolation='nearest')\n",
    "    axes[row, col].set_title('Label: %i' % labels[i])"
   ]
  },
  {
   "cell_type": "code",
   "execution_count": 14,
   "metadata": {},
   "outputs": [
    {
     "data": {
      "text/plain": [
       "(1797, 64)"
      ]
     },
     "execution_count": 14,
     "metadata": {},
     "output_type": "execute_result"
    }
   ],
   "source": [
    "# reshape images to vectors\n",
    "n_samples = len(digits.images)\n",
    "X = digits.images.reshape((n_samples, -1))\n",
    "X.shape"
   ]
  },
  {
   "cell_type": "code",
   "execution_count": 16,
   "metadata": {},
   "outputs": [
    {
     "name": "stdout",
     "output_type": "stream",
     "text": [
      "Shape of the training data: (1437, 64)\n",
      "Shape of the testing data: (360, 64)\n"
     ]
    }
   ],
   "source": [
    "# Split data into train and test subsets\n",
    "from sklearn.model_selection import train_test_split\n",
    "X_train, X_test, y_train, y_test = train_test_split(\n",
    "    X, labels, test_size=0.2, shuffle=False)\n",
    "\n",
    "print(\"Shape of the training data: {}\".format(X_train.shape))\n",
    "print(\"Shape of the testing data: {}\".format(X_test.shape))"
   ]
  },
  {
   "cell_type": "code",
   "execution_count": 17,
   "metadata": {},
   "outputs": [
    {
     "data": {
      "text/plain": [
       "((1437, 64), (360, 64))"
      ]
     },
     "execution_count": 17,
     "metadata": {},
     "output_type": "execute_result"
    }
   ],
   "source": [
    "X_train.shape, X_test.shape"
   ]
  },
  {
   "cell_type": "markdown",
   "metadata": {},
   "source": [
    "## KerasTuner tuning: joint hyperparameter tuning and model selection"
   ]
  },
  {
   "cell_type": "code",
   "execution_count": 1,
   "metadata": {},
   "outputs": [
    {
     "ename": "NameError",
     "evalue": "name 'kt' is not defined",
     "output_type": "error",
     "traceback": [
      "\u001b[0;31m---------------------------------------------------------------------------\u001b[0m",
      "\u001b[0;31mNameError\u001b[0m                                 Traceback (most recent call last)",
      "\u001b[0;32m<ipython-input-1-2773a3dba22a>\u001b[0m in \u001b[0;36m<module>\u001b[0;34m\u001b[0m\n\u001b[1;32m     25\u001b[0m \u001b[0;34m\u001b[0m\u001b[0m\n\u001b[1;32m     26\u001b[0m \u001b[0;34m\u001b[0m\u001b[0m\n\u001b[0;32m---> 27\u001b[0;31m tuner = kt.tuners.Sklearn(\n\u001b[0m\u001b[1;32m     28\u001b[0m         oracle=kt.oracles.BayesianOptimization(\n\u001b[1;32m     29\u001b[0m             \u001b[0mobjective\u001b[0m\u001b[0;34m=\u001b[0m\u001b[0mkt\u001b[0m\u001b[0;34m.\u001b[0m\u001b[0mObjective\u001b[0m\u001b[0;34m(\u001b[0m\u001b[0;34m'score'\u001b[0m\u001b[0;34m,\u001b[0m \u001b[0;34m'max'\u001b[0m\u001b[0;34m)\u001b[0m\u001b[0;34m,\u001b[0m\u001b[0;34m\u001b[0m\u001b[0m\n",
      "\u001b[0;31mNameError\u001b[0m: name 'kt' is not defined"
     ]
    }
   ],
   "source": [
    "from sklearn.svm import SVC\n",
    "from sklearn.ensemble import RandomForestClassifier\n",
    "\n",
    "from sklearn import linear_model\n",
    "\n",
    "# hp.Float('alpha', 1e-3, 1, sampling='log')\n",
    "\n",
    "def build_model(hp):\n",
    "    model_type = hp.Choice('model_type', ['SVC', 'random_forest'])\n",
    "    if model_type == 'SVC':\n",
    "        with hp.conditional_scope('model_type', 'SVC'):\n",
    "            model = SVC(C=hp.Choice([0.05, 0.1, 0.2, 0.5, 1, 2, 3, 4, 5, 6, 7, 8, 9, 10, 15]), \n",
    "                        kernel=hp.Choice(['linear', 'rbf']), \n",
    "                        random_state=42\n",
    "                       )\n",
    "    elif model_type == 'random_forest':\n",
    "        with hp.conditional_scope('model_type', 'random_forest'):\n",
    "            model = ensemble.RandomForestClassifier(\n",
    "                n_estimators=hp.Int('n_estimators', 10, 50, step=10),\n",
    "                max_depth=hp.Int('max_depth', 3, 10))\n",
    "    else:\n",
    "        raise ValueError('Unrecognized model_type')\n",
    "    return model\n",
    "\n",
    "\n",
    "\n",
    "tuner = kt.tuners.Sklearn(\n",
    "        oracle=kt.oracles.BayesianOptimization(\n",
    "            objective=kt.Objective('score', 'max'),\n",
    "            max_trials=10),\n",
    "        hypermodel=build_model,\n",
    "        directory=tmp_dir)\n",
    "tuner.search(X_train, y_train)"
   ]
  },
  {
   "cell_type": "code",
   "execution_count": null,
   "metadata": {},
   "outputs": [],
   "source": []
  },
  {
   "cell_type": "code",
   "execution_count": null,
   "metadata": {},
   "outputs": [],
   "source": []
  },
  {
   "cell_type": "code",
   "execution_count": null,
   "metadata": {},
   "outputs": [],
   "source": []
  },
  {
   "cell_type": "code",
   "execution_count": null,
   "metadata": {},
   "outputs": [],
   "source": []
  },
  {
   "cell_type": "code",
   "execution_count": null,
   "metadata": {},
   "outputs": [],
   "source": []
  },
  {
   "cell_type": "markdown",
   "metadata": {},
   "source": [
    "### Build a pipeline"
   ]
  },
  {
   "cell_type": "code",
   "execution_count": 50,
   "metadata": {},
   "outputs": [
    {
     "name": "stdout",
     "output_type": "stream",
     "text": [
      "The prediction accuracy: 89.44 %\n"
     ]
    }
   ],
   "source": [
    "from sklearn.pipeline import Pipeline\n",
    "image_clf = Pipeline([\n",
    "    ('pca', PCA(n_components=10)),\n",
    "    ('clf', SVC(C=1, kernel='linear', random_state=42))from sklearn.ensemble import RandomForestClassifierfrom sklearn.ensemble import RandomForestClassifierfrom sklearn.ensemble import RandomForestClassifierfrom sklearn.ensemble import RandomForestClassifierfrom sklearn.ensemble import RandomForestClassifierfrom sklearn.ensemble import RandomForestClassifierfrom sklearn.ensemble import RandomForestClassifier,])\n",
    "\n",
    "image_clf.fit(X_train, y_train)\n",
    "\n",
    "# Test\n",
    "y_pred_test = image_clf.predict(X_test)\n",
    "\n",
    "# Display the testing results\n",
    "acc = accuracy_score(y_test, y_pred_test)\n",
    "print(\"The prediction accuracy: {:.2f} %\".format(acc * 100))"
   ]
  },
  {
   "cell_type": "code",
   "execution_count": null,
   "metadata": {},
   "outputs": [],
   "source": []
  },
  {
   "cell_type": "markdown",
   "metadata": {},
   "source": [
    "## Sklearn build-in tuning: jointly tune the PCA components and SVC"
   ]
  },
  {
   "cell_type": "code",
   "execution_count": 51,
   "metadata": {},
   "outputs": [
    {
     "name": "stdout",
     "output_type": "stream",
     "text": [
      "Fitting 3 folds for each of 120 candidates, totalling 360 fits\n"
     ]
    },
    {
     "name": "stderr",
     "output_type": "stream",
     "text": [
      "[Parallel(n_jobs=-1)]: Using backend LokyBackend with 48 concurrent workers.\n",
      "[Parallel(n_jobs=-1)]: Done  66 tasks      | elapsed:    1.5s\n",
      "[Parallel(n_jobs=-1)]: Done 192 tasks      | elapsed:    2.1s\n",
      "[Parallel(n_jobs=-1)]: Done 338 out of 360 | elapsed:    3.0s remaining:    0.2s\n",
      "[Parallel(n_jobs=-1)]: Done 360 out of 360 | elapsed:    4.1s finished\n"
     ]
    }
   ],
   "source": [
    "# Hp tuning with Sklearn\n",
    "\n",
    "from sklearn.model_selection import GridSearchCV\n",
    "from sklearn.metrics import make_scorer\n",
    "\n",
    "\n",
    "# Create a dictionary for all the hyperparameters\n",
    "hps = {\n",
    "  'pca__n_components': [2, 5, 10, 20],\n",
    "  'clf__C': [0.05, 0.1, 0.2, 0.5, 1, 2, 3, 4, 5, 6, 7, 8, 9, 10, 15],\n",
    "  'clf__kernel': ['linear', 'rbf'],  \n",
    "}\n",
    "\n",
    "# Construct a scoring function for performance estimation.\n",
    "scoring_fnc = make_scorer(accuracy_score)\n",
    "\n",
    "# Create the grid search cv object (5-fold cross-validation)\n",
    "grid_search = GridSearchCV(estimator=image_clf, \n",
    "                           param_grid=hps, \n",
    "                           scoring=scoring_fnc, \n",
    "                           cv=3,\n",
    "                           verbose=5,\n",
    "                           n_jobs=-1) \n",
    "\n",
    "# Fit the grid search object to the training data to search the optimal model\n",
    "grid_search = grid_search.fit(X_train, y_train)"
   ]
  },
  {
   "cell_type": "code",
   "execution_count": 52,
   "metadata": {},
   "outputs": [],
   "source": [
    "# cvres = grid_search.cv_results_\n",
    "# for mean_score, params in zip(cvres[\"mean_test_score\"], cvres[\"params\"]):\n",
    "#     print(mean_score, params)\n",
    "\n",
    "# plt.plot(hps['C'], cvres[\"mean_test_score\"])\n",
    "# plt.title('Accuracy change with hyperparameter C of SVC (RBF Kernel)')\n",
    "# plt.xlabel('C')\n",
    "# plt.ylabel('Accuracy')\n",
    "# plt.show()"
   ]
  },
  {
   "cell_type": "code",
   "execution_count": 55,
   "metadata": {},
   "outputs": [
    {
     "name": "stdout",
     "output_type": "stream",
     "text": [
      "0.5824634655532359 {'clf__C': 0.05, 'clf__kernel': 'linear', 'pca__n_components': 2}\n",
      "0.8462073764787753 {'clf__C': 0.05, 'clf__kernel': 'linear', 'pca__n_components': 5}\n",
      "0.9262352122477383 {'clf__C': 0.05, 'clf__kernel': 'linear', 'pca__n_components': 10}\n",
      "0.9394572025052192 {'clf__C': 0.05, 'clf__kernel': 'linear', 'pca__n_components': 20}\n",
      "0.5720250521920668 {'clf__C': 0.05, 'clf__kernel': 'rbf', 'pca__n_components': 2}\n",
      "0.8469032707028532 {'clf__C': 0.05, 'clf__kernel': 'rbf', 'pca__n_components': 5}\n",
      "0.894224077940153 {'clf__C': 0.05, 'clf__kernel': 'rbf', 'pca__n_components': 10}\n",
      "0.9018789144050104 {'clf__C': 0.05, 'clf__kernel': 'rbf', 'pca__n_components': 20}\n",
      "0.58107167710508 {'clf__C': 0.1, 'clf__kernel': 'linear', 'pca__n_components': 2}\n",
      "0.848990953375087 {'clf__C': 0.1, 'clf__kernel': 'linear', 'pca__n_components': 5}\n",
      "0.9255393180236604 {'clf__C': 0.1, 'clf__kernel': 'linear', 'pca__n_components': 10}\n",
      "0.9394572025052192 {'clf__C': 0.1, 'clf__kernel': 'linear', 'pca__n_components': 20}\n",
      "0.5935977731384829 {'clf__C': 0.1, 'clf__kernel': 'rbf', 'pca__n_components': 2}\n",
      "0.8573416840640222 {'clf__C': 0.1, 'clf__kernel': 'rbf', 'pca__n_components': 5}\n",
      "0.9025748086290885 {'clf__C': 0.1, 'clf__kernel': 'rbf', 'pca__n_components': 10}\n",
      "0.9220598469032707 {'clf__C': 0.1, 'clf__kernel': 'rbf', 'pca__n_components': 20}\n",
      "0.5810716771050801 {'clf__C': 0.2, 'clf__kernel': 'linear', 'pca__n_components': 2}\n",
      "0.8496868475991649 {'clf__C': 0.2, 'clf__kernel': 'linear', 'pca__n_components': 5}\n",
      "0.9206680584551149 {'clf__C': 0.2, 'clf__kernel': 'linear', 'pca__n_components': 10}\n",
      "0.940153096729297 {'clf__C': 0.2, 'clf__kernel': 'linear', 'pca__n_components': 20}\n",
      "0.5970772442588728 {'clf__C': 0.2, 'clf__kernel': 'rbf', 'pca__n_components': 2}\n",
      "0.859429366736256 {'clf__C': 0.2, 'clf__kernel': 'rbf', 'pca__n_components': 5}\n",
      "0.9206680584551149 {'clf__C': 0.2, 'clf__kernel': 'rbf', 'pca__n_components': 10}\n",
      "0.9415448851774529 {'clf__C': 0.2, 'clf__kernel': 'rbf', 'pca__n_components': 20}\n",
      "0.5796798886569241 {'clf__C': 0.5, 'clf__kernel': 'linear', 'pca__n_components': 2}\n",
      "0.8434237995824635 {'clf__C': 0.5, 'clf__kernel': 'linear', 'pca__n_components': 5}\n",
      "0.9199721642310369 {'clf__C': 0.5, 'clf__kernel': 'linear', 'pca__n_components': 10}\n",
      "0.9387613082811411 {'clf__C': 0.5, 'clf__kernel': 'linear', 'pca__n_components': 20}\n",
      "0.5949895615866388 {'clf__C': 0.5, 'clf__kernel': 'rbf', 'pca__n_components': 2}\n",
      "0.8754349338900487 {'clf__C': 0.5, 'clf__kernel': 'rbf', 'pca__n_components': 5}\n",
      "0.9324982602644397 {'clf__C': 0.5, 'clf__kernel': 'rbf', 'pca__n_components': 10}\n",
      "0.9603340292275574 {'clf__C': 0.5, 'clf__kernel': 'rbf', 'pca__n_components': 20}\n",
      "0.5782881002087682 {'clf__C': 1, 'clf__kernel': 'linear', 'pca__n_components': 2}\n",
      "0.8455114822546973 {'clf__C': 1, 'clf__kernel': 'linear', 'pca__n_components': 5}\n",
      "0.9213639526791928 {'clf__C': 1, 'clf__kernel': 'linear', 'pca__n_components': 10}\n",
      "0.9394572025052191 {'clf__C': 1, 'clf__kernel': 'linear', 'pca__n_components': 20}\n",
      "0.6040361864996521 {'clf__C': 1, 'clf__kernel': 'rbf', 'pca__n_components': 2}\n",
      "0.8810020876826723 {'clf__C': 1, 'clf__kernel': 'rbf', 'pca__n_components': 5}\n",
      "0.9436325678496869 {'clf__C': 1, 'clf__kernel': 'rbf', 'pca__n_components': 10}\n",
      "0.9686847599164926 {'clf__C': 1, 'clf__kernel': 'rbf', 'pca__n_components': 20}\n",
      "0.5789839944328462 {'clf__C': 2, 'clf__kernel': 'linear', 'pca__n_components': 2}\n",
      "0.8448155880306194 {'clf__C': 2, 'clf__kernel': 'linear', 'pca__n_components': 5}\n",
      "0.9199721642310369 {'clf__C': 2, 'clf__kernel': 'linear', 'pca__n_components': 10}\n",
      "0.940153096729297 {'clf__C': 2, 'clf__kernel': 'linear', 'pca__n_components': 20}\n",
      "0.6089074460681977 {'clf__C': 2, 'clf__kernel': 'rbf', 'pca__n_components': 2}\n",
      "0.8865692414752958 {'clf__C': 2, 'clf__kernel': 'rbf', 'pca__n_components': 5}\n",
      "0.9491997216423105 {'clf__C': 2, 'clf__kernel': 'rbf', 'pca__n_components': 10}\n",
      "0.9679888656924147 {'clf__C': 2, 'clf__kernel': 'rbf', 'pca__n_components': 20}\n",
      "0.5782881002087682 {'clf__C': 3, 'clf__kernel': 'linear', 'pca__n_components': 2}\n",
      "0.8441196938065415 {'clf__C': 3, 'clf__kernel': 'linear', 'pca__n_components': 5}\n",
      "0.9206680584551149 {'clf__C': 3, 'clf__kernel': 'linear', 'pca__n_components': 10}\n",
      "0.940153096729297 {'clf__C': 3, 'clf__kernel': 'linear', 'pca__n_components': 20}\n",
      "0.6082115518441197 {'clf__C': 3, 'clf__kernel': 'rbf', 'pca__n_components': 2}\n",
      "0.884481558803062 {'clf__C': 3, 'clf__kernel': 'rbf', 'pca__n_components': 5}\n",
      "0.9471120389700766 {'clf__C': 3, 'clf__kernel': 'rbf', 'pca__n_components': 10}\n",
      "0.9707724425887266 {'clf__C': 3, 'clf__kernel': 'rbf', 'pca__n_components': 20}\n",
      "0.5782881002087682 {'clf__C': 4, 'clf__kernel': 'linear', 'pca__n_components': 2}\n",
      "0.8434237995824635 {'clf__C': 4, 'clf__kernel': 'linear', 'pca__n_components': 5}\n",
      "0.9199721642310369 {'clf__C': 4, 'clf__kernel': 'linear', 'pca__n_components': 10}\n",
      "0.9408489909533752 {'clf__C': 4, 'clf__kernel': 'linear', 'pca__n_components': 20}\n",
      "0.6075156576200418 {'clf__C': 4, 'clf__kernel': 'rbf', 'pca__n_components': 2}\n",
      "0.883785664578984 {'clf__C': 4, 'clf__kernel': 'rbf', 'pca__n_components': 5}\n",
      "0.9485038274182324 {'clf__C': 4, 'clf__kernel': 'rbf', 'pca__n_components': 10}\n",
      "0.9700765483646486 {'clf__C': 4, 'clf__kernel': 'rbf', 'pca__n_components': 20}\n",
      "0.5789839944328462 {'clf__C': 5, 'clf__kernel': 'linear', 'pca__n_components': 2}\n",
      "0.8434237995824635 {'clf__C': 5, 'clf__kernel': 'linear', 'pca__n_components': 5}\n",
      "0.9199721642310369 {'clf__C': 5, 'clf__kernel': 'linear', 'pca__n_components': 10}\n",
      "0.9401530967292971 {'clf__C': 5, 'clf__kernel': 'linear', 'pca__n_components': 20}\n",
      "0.6068197633959639 {'clf__C': 5, 'clf__kernel': 'rbf', 'pca__n_components': 2}\n",
      "0.8823938761308282 {'clf__C': 5, 'clf__kernel': 'rbf', 'pca__n_components': 5}\n",
      "0.9485038274182324 {'clf__C': 5, 'clf__kernel': 'rbf', 'pca__n_components': 10}\n",
      "0.9693806541405707 {'clf__C': 5, 'clf__kernel': 'rbf', 'pca__n_components': 20}\n",
      "0.5782881002087682 {'clf__C': 6, 'clf__kernel': 'linear', 'pca__n_components': 2}\n",
      "0.8434237995824635 {'clf__C': 6, 'clf__kernel': 'linear', 'pca__n_components': 5}\n",
      "0.9199721642310369 {'clf__C': 6, 'clf__kernel': 'linear', 'pca__n_components': 10}\n",
      "0.9408489909533752 {'clf__C': 6, 'clf__kernel': 'linear', 'pca__n_components': 20}\n",
      "0.6047320807237301 {'clf__C': 6, 'clf__kernel': 'rbf', 'pca__n_components': 2}\n",
      "0.884481558803062 {'clf__C': 6, 'clf__kernel': 'rbf', 'pca__n_components': 5}\n",
      "0.9478079331941545 {'clf__C': 6, 'clf__kernel': 'rbf', 'pca__n_components': 10}\n",
      "0.9693806541405706 {'clf__C': 6, 'clf__kernel': 'rbf', 'pca__n_components': 20}\n",
      "0.5775922059846903 {'clf__C': 7, 'clf__kernel': 'linear', 'pca__n_components': 2}\n",
      "0.8434237995824635 {'clf__C': 7, 'clf__kernel': 'linear', 'pca__n_components': 5}\n",
      "0.9206680584551149 {'clf__C': 7, 'clf__kernel': 'linear', 'pca__n_components': 10}\n",
      "0.9394572025052191 {'clf__C': 7, 'clf__kernel': 'linear', 'pca__n_components': 20}\n",
      "0.6005567153792625 {'clf__C': 7, 'clf__kernel': 'rbf', 'pca__n_components': 2}\n",
      "0.884481558803062 {'clf__C': 7, 'clf__kernel': 'rbf', 'pca__n_components': 5}\n",
      "0.9485038274182324 {'clf__C': 7, 'clf__kernel': 'rbf', 'pca__n_components': 10}\n",
      "0.9686847599164926 {'clf__C': 7, 'clf__kernel': 'rbf', 'pca__n_components': 20}\n",
      "0.5775922059846903 {'clf__C': 8, 'clf__kernel': 'linear', 'pca__n_components': 2}\n",
      "0.8434237995824635 {'clf__C': 8, 'clf__kernel': 'linear', 'pca__n_components': 5}\n",
      "0.9199721642310369 {'clf__C': 8, 'clf__kernel': 'linear', 'pca__n_components': 10}\n",
      "0.9401530967292971 {'clf__C': 8, 'clf__kernel': 'linear', 'pca__n_components': 20}\n",
      "0.6005567153792625 {'clf__C': 8, 'clf__kernel': 'rbf', 'pca__n_components': 2}\n",
      "0.8816979819067502 {'clf__C': 8, 'clf__kernel': 'rbf', 'pca__n_components': 5}\n",
      "0.9478079331941545 {'clf__C': 8, 'clf__kernel': 'rbf', 'pca__n_components': 10}\n",
      "0.9679888656924147 {'clf__C': 8, 'clf__kernel': 'rbf', 'pca__n_components': 20}\n",
      "0.5782881002087682 {'clf__C': 9, 'clf__kernel': 'linear', 'pca__n_components': 2}\n",
      "0.8434237995824635 {'clf__C': 9, 'clf__kernel': 'linear', 'pca__n_components': 5}\n",
      "0.9199721642310369 {'clf__C': 9, 'clf__kernel': 'linear', 'pca__n_components': 10}\n",
      "0.9394572025052191 {'clf__C': 9, 'clf__kernel': 'linear', 'pca__n_components': 20}\n",
      "0.6019485038274183 {'clf__C': 9, 'clf__kernel': 'rbf', 'pca__n_components': 2}\n",
      "0.8823938761308282 {'clf__C': 9, 'clf__kernel': 'rbf', 'pca__n_components': 5}\n",
      "0.9478079331941545 {'clf__C': 9, 'clf__kernel': 'rbf', 'pca__n_components': 10}\n",
      "0.9679888656924147 {'clf__C': 9, 'clf__kernel': 'rbf', 'pca__n_components': 20}\n",
      "0.5782881002087682 {'clf__C': 10, 'clf__kernel': 'linear', 'pca__n_components': 2}\n",
      "0.8434237995824635 {'clf__C': 10, 'clf__kernel': 'linear', 'pca__n_components': 5}\n",
      "0.9206680584551149 {'clf__C': 10, 'clf__kernel': 'linear', 'pca__n_components': 10}\n",
      "0.9394572025052192 {'clf__C': 10, 'clf__kernel': 'linear', 'pca__n_components': 20}\n",
      "0.6033402922755742 {'clf__C': 10, 'clf__kernel': 'rbf', 'pca__n_components': 2}\n",
      "0.8796102992345164 {'clf__C': 10, 'clf__kernel': 'rbf', 'pca__n_components': 5}\n",
      "0.9464161447459986 {'clf__C': 10, 'clf__kernel': 'rbf', 'pca__n_components': 10}\n",
      "0.9686847599164926 {'clf__C': 10, 'clf__kernel': 'rbf', 'pca__n_components': 20}\n",
      "0.5796798886569241 {'clf__C': 15, 'clf__kernel': 'linear', 'pca__n_components': 2}\n",
      "0.8441196938065415 {'clf__C': 15, 'clf__kernel': 'linear', 'pca__n_components': 5}\n",
      "0.9206680584551149 {'clf__C': 15, 'clf__kernel': 'linear', 'pca__n_components': 10}\n",
      "0.940153096729297 {'clf__C': 15, 'clf__kernel': 'linear', 'pca__n_components': 20}\n",
      "0.6026443980514963 {'clf__C': 15, 'clf__kernel': 'rbf', 'pca__n_components': 2}\n",
      "0.8816979819067502 {'clf__C': 15, 'clf__kernel': 'rbf', 'pca__n_components': 5}\n",
      "0.9457202505219207 {'clf__C': 15, 'clf__kernel': 'rbf', 'pca__n_components': 10}\n",
      "0.9686847599164926 {'clf__C': 15, 'clf__kernel': 'rbf', 'pca__n_components': 20}\n"
     ]
    }
   ],
   "source": [
    "cvres = grid_search.cv_results_\n",
    "for mean_score, params in zip(cvres[\"mean_test_score\"], cvres[\"params\"]):\n",
    "    print(mean_score, params)"
   ]
  },
  {
   "cell_type": "markdown",
   "metadata": {},
   "source": [
    "## Retrive the best model"
   ]
  },
  {
   "cell_type": "code",
   "execution_count": 59,
   "metadata": {},
   "outputs": [
    {
     "name": "stdout",
     "output_type": "stream",
     "text": [
      "The best combination of hyperparameters are:\n",
      "clf__C: 3\n",
      "clf__kernel: 'rbf'\n",
      "pca__n_components: 20\n",
      "\n",
      "The prediction accuracy on training set: 99.93 %\n",
      "The prediction accuracy on test set: 96.67 %\n"
     ]
    },
    {
     "data": {
      "image/png": "[encoded data removed]",
      "text/plain": [
       "<Figure size 432x288 with 2 Axes>"
      ]
     },
     "metadata": {
      "needs_background": "light"
     },
     "output_type": "display_data"
    }
   ],
   "source": [
    "grid_search.best_params_\n",
    "best_pipeline = grid_search.best_estimator_\n",
    "\n",
    "# Produce the value for 'max_depth'\n",
    "print(\"The best combination of hyperparameters are:\")\n",
    "\n",
    "for hp_name in sorted(hps.keys()):\n",
    "    print(\"%s: %r\" % (hp_name, grid_search.best_params_[hp_name]))\n",
    "\n",
    "# Model prediction on training & test data\n",
    "y_pred_train = best_pipeline.predict(X_train)\n",
    "y_pred_test = best_pipeline.predict(X_test)\n",
    "\n",
    "# Display the testing results\n",
    "train_acc = accuracy_score(y_train, y_pred_train)\n",
    "test_acc = accuracy_score(y_test, y_pred_test)\n",
    "print(\"\\nThe prediction accuracy on training set: {:.2f} %\".format(train_acc * 100))\n",
    "print(\"The prediction accuracy on test set: {:.2f} %\".format(test_acc * 100))\n",
    "\n",
    "disp = plot_confusion_matrix(best_pipeline, X_test, y_test)\n",
    "disp.figure_.suptitle(\"Confusion Matrix (PCA + RBF SVC)\")\n",
    "\n",
    "plt.show()"
   ]
  },
  {
   "cell_type": "markdown",
   "metadata": {},
   "source": [
    "## KerasTuner tuning: jointly tune the PCA components and SVC"
   ]
  },
  {
   "cell_type": "code",
   "execution_count": null,
   "metadata": {},
   "outputs": [],
   "source": []
  }
 ],
 "metadata": {
  "kernelspec": {
   "display_name": "Python 3",
   "language": "python",
   "name": "python3"
  },
  "language_info": {
   "codemirror_mode": {
    "name": "ipython",
    "version": 3
   },
   "file_extension": ".py",
   "mimetype": "text/x-python",
   "name": "python",
   "nbconvert_exporter": "python",
   "pygments_lexer": "ipython3",
   "version": "3.6.3"
  }
 },
 "nbformat": 4,
 "nbformat_minor": 4
}
