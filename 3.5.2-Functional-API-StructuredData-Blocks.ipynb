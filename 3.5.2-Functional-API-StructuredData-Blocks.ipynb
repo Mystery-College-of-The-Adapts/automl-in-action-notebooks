{
 "cells": [
  {
   "cell_type": "markdown",
   "metadata": {
    "colab_type": "text",
    "id": "LowS0sjVAsIh"
   },
   "source": [
    "[![Open In Colab](https://colab.research.google.com/assets/colab-badge.svg)](https://colab.research.google.com/github/keras-team/autokeras/blob/master/docs/templates/tutorial/image_classification.ipynb)"
   ]
  },
  {
   "cell_type": "code",
   "execution_count": 1,
   "metadata": {},
   "outputs": [
    {
     "data": {
      "text/plain": [
       "'2.1.0'"
      ]
     },
     "execution_count": 1,
     "metadata": {},
     "output_type": "execute_result"
    }
   ],
   "source": [
    "import tensorflow as tf\n",
    "import autokeras as ak\n",
    "tf.__version__"
   ]
  },
  {
   "cell_type": "code",
   "execution_count": 2,
   "metadata": {},
   "outputs": [],
   "source": [
    "gpus = tf.config.experimental.list_physical_devices('GPU')\n",
    "tf.config.experimental.set_visible_devices(gpus[6], 'GPU')"
   ]
  },
  {
   "cell_type": "markdown",
   "metadata": {
    "colab_type": "text",
    "id": "0D7scqBWkg5t"
   },
   "source": [
    "### Load california dataset"
   ]
  },
  {
   "cell_type": "code",
   "execution_count": 3,
   "metadata": {
    "colab": {},
    "colab_type": "code",
    "id": "YACSvJ81h_Ry"
   },
   "outputs": [],
   "source": [
    "from sklearn.datasets import fetch_california_housing\n",
    "\n",
    "house_dataset = fetch_california_housing()\n",
    "\n",
    "# Import pandas package to format the data\n",
    "import pandas as pd\n",
    "\n",
    "# Extract features with their names into the a dataframe format\n",
    "data = pd.DataFrame(house_dataset.data, columns=house_dataset.feature_names)\n",
    "\n",
    "# Extract target with their names into a pd.Series object with name MEDV\n",
    "target = pd.Series(house_dataset.target, name = 'MEDV')\n",
    "\n",
    "from sklearn.model_selection import train_test_split\n",
    "train_data, test_data, train_targets, test_targets = train_test_split(data, target, test_size=0.2, random_state=42)"
   ]
  },
  {
   "cell_type": "code",
   "execution_count": 4,
   "metadata": {},
   "outputs": [
    {
     "name": "stdout",
     "output_type": "stream",
     "text": [
      "--Shape of the whole data--\n",
      " (20640, 8)\n",
      "\n",
      "--Shape of the target vector--\n",
      " (20640,)\n",
      "\n",
      "--Shape of the training data--\n",
      " (16512, 8)\n",
      "\n",
      "--Shape of the testing data--\n",
      " (4128, 8)\n"
     ]
    }
   ],
   "source": [
    "# Check the shape of whole dataset and the splited training and test set\n",
    "print(\"--Shape of the whole data--\\n {}\".format(data.shape))\n",
    "print(\"\\n--Shape of the target vector--\\n {}\".format(target.shape))\n",
    "print(\"\\n--Shape of the training data--\\n {}\".format(train_data.shape))\n",
    "print(\"\\n--Shape of the testing data--\\n {}\".format(test_data.shape))"
   ]
  },
  {
   "cell_type": "markdown",
   "metadata": {
    "colab_type": "text",
    "id": "N5xlStkakqJn"
   },
   "source": [
    "### CategoricalToNumerical + DenseBlock"
   ]
  },
  {
   "cell_type": "code",
   "execution_count": 8,
   "metadata": {},
   "outputs": [
    {
     "name": "stdout",
     "output_type": "stream",
     "text": [
      "Train for 13 steps, validate for 4 steps\n",
      "Epoch 1/150\n",
      "13/13 - 1s - loss: 1346.8290 - mean_squared_error: 1355.1202 - val_loss: 532.0701 - val_mean_squared_error: 550.2142\n",
      "Epoch 2/150\n",
      "13/13 - 0s - loss: 314.0340 - mean_squared_error: 314.7182 - val_loss: 164.8772 - val_mean_squared_error: 168.1701\n",
      "Epoch 3/150\n",
      "13/13 - 0s - loss: 58.7832 - mean_squared_error: 59.1676 - val_loss: 15.5248 - val_mean_squared_error: 15.8401\n",
      "Epoch 4/150\n",
      "13/13 - 0s - loss: 22.5579 - mean_squared_error: 22.6441 - val_loss: 5.2005 - val_mean_squared_error: 5.2099\n",
      "Epoch 5/150\n",
      "13/13 - 0s - loss: 7.2636 - mean_squared_error: 7.2767 - val_loss: 7.5547 - val_mean_squared_error: 7.9308\n",
      "Epoch 6/150\n",
      "13/13 - 0s - loss: 4.8024 - mean_squared_error: 4.8084 - val_loss: 4.1011 - val_mean_squared_error: 4.2239\n",
      "Epoch 7/150\n",
      "13/13 - 0s - loss: 3.6964 - mean_squared_error: 3.7000 - val_loss: 3.4572 - val_mean_squared_error: 3.5049\n",
      "Epoch 8/150\n",
      "13/13 - 0s - loss: 3.3982 - mean_squared_error: 3.4007 - val_loss: 3.3660 - val_mean_squared_error: 3.4004\n",
      "Epoch 9/150\n",
      "13/13 - 0s - loss: 3.1875 - mean_squared_error: 3.1897 - val_loss: 3.1605 - val_mean_squared_error: 3.1970\n",
      "Epoch 10/150\n",
      "13/13 - 0s - loss: 3.0131 - mean_squared_error: 3.0154 - val_loss: 3.0083 - val_mean_squared_error: 3.0527\n",
      "Epoch 11/150\n",
      "13/13 - 0s - loss: 2.8796 - mean_squared_error: 2.8819 - val_loss: 2.8882 - val_mean_squared_error: 2.9308\n",
      "Epoch 12/150\n",
      "13/13 - 0s - loss: 2.7618 - mean_squared_error: 2.7639 - val_loss: 2.7786 - val_mean_squared_error: 2.8196\n",
      "Epoch 13/150\n",
      "13/13 - 0s - loss: 2.6512 - mean_squared_error: 2.6533 - val_loss: 2.6758 - val_mean_squared_error: 2.7183\n",
      "Epoch 14/150\n",
      "13/13 - 0s - loss: 2.5503 - mean_squared_error: 2.5523 - val_loss: 2.5799 - val_mean_squared_error: 2.6205\n",
      "Epoch 15/150\n",
      "13/13 - 0s - loss: 2.4556 - mean_squared_error: 2.4576 - val_loss: 2.4816 - val_mean_squared_error: 2.5179\n",
      "Epoch 16/150\n",
      "13/13 - 0s - loss: 2.2414 - mean_squared_error: 2.2445 - val_loss: 2.1154 - val_mean_squared_error: 2.1284\n",
      "Epoch 17/150\n",
      "13/13 - 0s - loss: 1.9602 - mean_squared_error: 1.9620 - val_loss: 1.9341 - val_mean_squared_error: 1.9484\n",
      "Epoch 18/150\n",
      "13/13 - 0s - loss: 1.7967 - mean_squared_error: 1.7984 - val_loss: 1.7974 - val_mean_squared_error: 1.8127\n",
      "Epoch 19/150\n",
      "13/13 - 0s - loss: 1.6919 - mean_squared_error: 1.6934 - val_loss: 1.7251 - val_mean_squared_error: 1.7407\n",
      "Epoch 20/150\n",
      "13/13 - 0s - loss: 1.6343 - mean_squared_error: 1.6358 - val_loss: 1.6838 - val_mean_squared_error: 1.6978\n",
      "Epoch 21/150\n",
      "13/13 - 0s - loss: 1.5995 - mean_squared_error: 1.6007 - val_loss: 1.5818 - val_mean_squared_error: 1.5864\n",
      "Epoch 22/150\n",
      "13/13 - 0s - loss: 1.5365 - mean_squared_error: 1.5375 - val_loss: 1.5469 - val_mean_squared_error: 1.5456\n",
      "Epoch 23/150\n",
      "13/13 - 0s - loss: 1.4833 - mean_squared_error: 1.4843 - val_loss: 1.5126 - val_mean_squared_error: 1.5107\n",
      "Epoch 24/150\n",
      "13/13 - 0s - loss: 1.4595 - mean_squared_error: 1.4604 - val_loss: 1.4978 - val_mean_squared_error: 1.4965\n",
      "Epoch 25/150\n",
      "13/13 - 0s - loss: 1.4537 - mean_squared_error: 1.4547 - val_loss: 1.4930 - val_mean_squared_error: 1.4916\n",
      "Epoch 26/150\n",
      "13/13 - 0s - loss: 1.4511 - mean_squared_error: 1.4520 - val_loss: 1.4696 - val_mean_squared_error: 1.4659\n",
      "Epoch 27/150\n",
      "13/13 - 0s - loss: 1.4391 - mean_squared_error: 1.4398 - val_loss: 1.4408 - val_mean_squared_error: 1.4336\n",
      "Epoch 28/150\n",
      "13/13 - 0s - loss: 1.4128 - mean_squared_error: 1.4135 - val_loss: 1.4215 - val_mean_squared_error: 1.4123\n",
      "Epoch 29/150\n",
      "13/13 - 0s - loss: 1.3881 - mean_squared_error: 1.3888 - val_loss: 1.4072 - val_mean_squared_error: 1.3970\n",
      "Epoch 30/150\n",
      "13/13 - 0s - loss: 1.7416 - mean_squared_error: 1.7390 - val_loss: 1.4050 - val_mean_squared_error: 1.3968\n",
      "Epoch 31/150\n",
      "13/13 - 0s - loss: 1.5526 - mean_squared_error: 1.5546 - val_loss: 1.4403 - val_mean_squared_error: 1.4275\n",
      "Epoch 32/150\n",
      "13/13 - 0s - loss: 1.3628 - mean_squared_error: 1.3636 - val_loss: 1.3836 - val_mean_squared_error: 1.3750\n",
      "Epoch 33/150\n",
      "13/13 - 0s - loss: 1.3401 - mean_squared_error: 1.3408 - val_loss: 1.3835 - val_mean_squared_error: 1.3692\n",
      "Epoch 34/150\n",
      "13/13 - 0s - loss: 1.3157 - mean_squared_error: 1.3163 - val_loss: 1.3524 - val_mean_squared_error: 1.3415\n",
      "Epoch 35/150\n",
      "13/13 - 0s - loss: 1.3107 - mean_squared_error: 1.3113 - val_loss: 1.3441 - val_mean_squared_error: 1.3314\n",
      "Epoch 36/150\n",
      "13/13 - 0s - loss: 1.2970 - mean_squared_error: 1.2976 - val_loss: 1.3304 - val_mean_squared_error: 1.3189\n",
      "Epoch 37/150\n",
      "13/13 - 0s - loss: 1.2885 - mean_squared_error: 1.2890 - val_loss: 1.3198 - val_mean_squared_error: 1.3084\n",
      "Epoch 38/150\n",
      "13/13 - 0s - loss: 1.2815 - mean_squared_error: 1.2820 - val_loss: 1.3097 - val_mean_squared_error: 1.2983\n",
      "Epoch 39/150\n",
      "13/13 - 0s - loss: 1.2733 - mean_squared_error: 1.2738 - val_loss: 1.2996 - val_mean_squared_error: 1.2884\n",
      "Epoch 40/150\n",
      "13/13 - 0s - loss: 1.2660 - mean_squared_error: 1.2665 - val_loss: 1.2898 - val_mean_squared_error: 1.2789\n",
      "Epoch 41/150\n",
      "13/13 - 0s - loss: 1.2594 - mean_squared_error: 1.2599 - val_loss: 1.2803 - val_mean_squared_error: 1.2698\n",
      "Epoch 42/150\n",
      "13/13 - 0s - loss: 1.2531 - mean_squared_error: 1.2535 - val_loss: 1.2714 - val_mean_squared_error: 1.2611\n",
      "Epoch 43/150\n",
      "13/13 - 0s - loss: 1.2473 - mean_squared_error: 1.2477 - val_loss: 1.2632 - val_mean_squared_error: 1.2530\n",
      "Epoch 44/150\n",
      "13/13 - 0s - loss: 1.2419 - mean_squared_error: 1.2424 - val_loss: 1.2558 - val_mean_squared_error: 1.2459\n",
      "Epoch 45/150\n",
      "13/13 - 0s - loss: 1.2371 - mean_squared_error: 1.2376 - val_loss: 1.2482 - val_mean_squared_error: 1.2391\n",
      "Epoch 46/150\n",
      "13/13 - 0s - loss: 1.2326 - mean_squared_error: 1.2331 - val_loss: 1.2414 - val_mean_squared_error: 1.2338\n",
      "Epoch 47/150\n",
      "13/13 - 0s - loss: 1.2280 - mean_squared_error: 1.2284 - val_loss: 1.2371 - val_mean_squared_error: 1.2301\n",
      "Epoch 48/150\n",
      "13/13 - 0s - loss: 1.2241 - mean_squared_error: 1.2246 - val_loss: 1.2316 - val_mean_squared_error: 1.2257\n",
      "Epoch 49/150\n",
      "13/13 - 0s - loss: 1.2199 - mean_squared_error: 1.2204 - val_loss: 1.2278 - val_mean_squared_error: 1.2227\n",
      "Epoch 50/150\n",
      "13/13 - 0s - loss: 1.2161 - mean_squared_error: 1.2166 - val_loss: 1.2232 - val_mean_squared_error: 1.2192\n",
      "Epoch 51/150\n",
      "13/13 - 0s - loss: 1.2120 - mean_squared_error: 1.2125 - val_loss: 1.2194 - val_mean_squared_error: 1.2165\n",
      "Epoch 52/150\n",
      "13/13 - 0s - loss: 1.2075 - mean_squared_error: 1.2080 - val_loss: 1.2156 - val_mean_squared_error: 1.2134\n",
      "Epoch 53/150\n",
      "13/13 - 0s - loss: 1.2025 - mean_squared_error: 1.2030 - val_loss: 1.2117 - val_mean_squared_error: 1.2102\n",
      "Epoch 54/150\n",
      "13/13 - 0s - loss: 1.1974 - mean_squared_error: 1.1980 - val_loss: 1.2083 - val_mean_squared_error: 1.2076\n",
      "Epoch 55/150\n",
      "13/13 - 0s - loss: 1.1922 - mean_squared_error: 1.1928 - val_loss: 1.2046 - val_mean_squared_error: 1.2046\n",
      "Epoch 56/150\n",
      "13/13 - 0s - loss: 1.1867 - mean_squared_error: 1.1873 - val_loss: 1.2016 - val_mean_squared_error: 1.2021\n",
      "Epoch 57/150\n",
      "13/13 - 0s - loss: 1.1815 - mean_squared_error: 1.1821 - val_loss: 1.1986 - val_mean_squared_error: 1.1998\n",
      "Epoch 58/150\n",
      "13/13 - 0s - loss: 1.1760 - mean_squared_error: 1.1766 - val_loss: 1.1965 - val_mean_squared_error: 1.1982\n",
      "Epoch 59/150\n",
      "13/13 - 0s - loss: 1.1707 - mean_squared_error: 1.1713 - val_loss: 1.1944 - val_mean_squared_error: 1.1966\n",
      "Epoch 60/150\n",
      "13/13 - 0s - loss: 1.1653 - mean_squared_error: 1.1659 - val_loss: 1.1927 - val_mean_squared_error: 1.1953\n",
      "Epoch 61/150\n",
      "13/13 - 0s - loss: 1.1601 - mean_squared_error: 1.1607 - val_loss: 1.1915 - val_mean_squared_error: 1.1944\n",
      "Epoch 62/150\n",
      "13/13 - 0s - loss: 1.1550 - mean_squared_error: 1.1557 - val_loss: 1.1908 - val_mean_squared_error: 1.1941\n",
      "Epoch 63/150\n",
      "13/13 - 0s - loss: 1.1500 - mean_squared_error: 1.1507 - val_loss: 1.1902 - val_mean_squared_error: 1.1938\n",
      "Epoch 64/150\n",
      "13/13 - 0s - loss: 1.1450 - mean_squared_error: 1.1457 - val_loss: 1.1897 - val_mean_squared_error: 1.1938\n",
      "Epoch 65/150\n",
      "13/13 - 0s - loss: 1.1402 - mean_squared_error: 1.1409 - val_loss: 1.1901 - val_mean_squared_error: 1.1946\n",
      "Epoch 66/150\n",
      "13/13 - 0s - loss: 1.1354 - mean_squared_error: 1.1361 - val_loss: 1.1898 - val_mean_squared_error: 1.1950\n",
      "Epoch 67/150\n",
      "13/13 - 0s - loss: 1.1304 - mean_squared_error: 1.1312 - val_loss: 1.1900 - val_mean_squared_error: 1.1957\n",
      "Epoch 68/150\n",
      "13/13 - 0s - loss: 1.1251 - mean_squared_error: 1.1258 - val_loss: 1.1892 - val_mean_squared_error: 1.1956\n"
     ]
    },
    {
     "name": "stdout",
     "output_type": "stream",
     "text": [
      "Epoch 69/150\n",
      "13/13 - 0s - loss: 1.1196 - mean_squared_error: 1.1203 - val_loss: 1.1881 - val_mean_squared_error: 1.1949\n",
      "Epoch 70/150\n",
      "13/13 - 0s - loss: 1.1136 - mean_squared_error: 1.1144 - val_loss: 1.1876 - val_mean_squared_error: 1.1948\n",
      "Epoch 71/150\n",
      "13/13 - 0s - loss: 1.1078 - mean_squared_error: 1.1086 - val_loss: 1.1865 - val_mean_squared_error: 1.1941\n",
      "Epoch 72/150\n",
      "13/13 - 0s - loss: 1.1016 - mean_squared_error: 1.1024 - val_loss: 1.1852 - val_mean_squared_error: 1.1932\n",
      "Epoch 73/150\n",
      "13/13 - 0s - loss: 1.0963 - mean_squared_error: 1.0970 - val_loss: 1.1854 - val_mean_squared_error: 1.1935\n",
      "Epoch 74/150\n",
      "13/13 - 0s - loss: 1.0905 - mean_squared_error: 1.0913 - val_loss: 1.1792 - val_mean_squared_error: 1.1879\n",
      "Epoch 75/150\n",
      "13/13 - 0s - loss: 1.0825 - mean_squared_error: 1.0832 - val_loss: 1.1748 - val_mean_squared_error: 1.1835\n",
      "Epoch 76/150\n",
      "13/13 - 0s - loss: 1.0740 - mean_squared_error: 1.0747 - val_loss: 1.1675 - val_mean_squared_error: 1.1763\n",
      "Epoch 77/150\n",
      "13/13 - 0s - loss: 1.0648 - mean_squared_error: 1.0654 - val_loss: 1.1581 - val_mean_squared_error: 1.1669\n",
      "Epoch 78/150\n",
      "13/13 - 0s - loss: 1.0550 - mean_squared_error: 1.0556 - val_loss: 1.1459 - val_mean_squared_error: 1.1544\n",
      "Epoch 79/150\n",
      "13/13 - 0s - loss: 1.0444 - mean_squared_error: 1.0449 - val_loss: 1.1308 - val_mean_squared_error: 1.1389\n",
      "Epoch 80/150\n",
      "13/13 - 0s - loss: 1.0329 - mean_squared_error: 1.0333 - val_loss: 1.1115 - val_mean_squared_error: 1.1189\n",
      "Epoch 81/150\n",
      "13/13 - 0s - loss: 1.0203 - mean_squared_error: 1.0206 - val_loss: 1.0900 - val_mean_squared_error: 1.0964\n",
      "Epoch 82/150\n",
      "13/13 - 0s - loss: 1.0075 - mean_squared_error: 1.0077 - val_loss: 1.0666 - val_mean_squared_error: 1.0716\n",
      "Epoch 83/150\n",
      "13/13 - 0s - loss: 0.9941 - mean_squared_error: 0.9943 - val_loss: 1.0429 - val_mean_squared_error: 1.0468\n",
      "Epoch 84/150\n",
      "13/13 - 0s - loss: 0.9812 - mean_squared_error: 0.9813 - val_loss: 1.0205 - val_mean_squared_error: 1.0232\n",
      "Epoch 85/150\n",
      "13/13 - 0s - loss: 0.9691 - mean_squared_error: 0.9692 - val_loss: 1.0008 - val_mean_squared_error: 1.0025\n",
      "Epoch 86/150\n",
      "13/13 - 0s - loss: 0.9577 - mean_squared_error: 0.9578 - val_loss: 0.9841 - val_mean_squared_error: 0.9850\n",
      "Epoch 87/150\n",
      "13/13 - 0s - loss: 0.9474 - mean_squared_error: 0.9474 - val_loss: 0.9712 - val_mean_squared_error: 0.9715\n",
      "Epoch 88/150\n",
      "13/13 - 0s - loss: 0.9388 - mean_squared_error: 0.9389 - val_loss: 0.9604 - val_mean_squared_error: 0.9602\n",
      "Epoch 89/150\n",
      "13/13 - 0s - loss: 0.9307 - mean_squared_error: 0.9308 - val_loss: 0.9517 - val_mean_squared_error: 0.9510\n",
      "Epoch 90/150\n",
      "13/13 - 0s - loss: 0.9234 - mean_squared_error: 0.9235 - val_loss: 0.9444 - val_mean_squared_error: 0.9432\n",
      "Epoch 91/150\n",
      "13/13 - 0s - loss: 0.9170 - mean_squared_error: 0.9171 - val_loss: 0.9376 - val_mean_squared_error: 0.9362\n",
      "Epoch 92/150\n",
      "13/13 - 0s - loss: 0.9108 - mean_squared_error: 0.9109 - val_loss: 0.9312 - val_mean_squared_error: 0.9295\n",
      "Epoch 93/150\n",
      "13/13 - 0s - loss: 0.9052 - mean_squared_error: 0.9052 - val_loss: 0.9251 - val_mean_squared_error: 0.9231\n",
      "Epoch 94/150\n",
      "13/13 - 0s - loss: 0.8995 - mean_squared_error: 0.8995 - val_loss: 0.9197 - val_mean_squared_error: 0.9176\n",
      "Epoch 95/150\n",
      "13/13 - 0s - loss: 0.8942 - mean_squared_error: 0.8943 - val_loss: 0.9145 - val_mean_squared_error: 0.9124\n",
      "Epoch 96/150\n",
      "13/13 - 0s - loss: 0.8888 - mean_squared_error: 0.8888 - val_loss: 0.9098 - val_mean_squared_error: 0.9076\n",
      "Epoch 97/150\n",
      "13/13 - 0s - loss: 0.8841 - mean_squared_error: 0.8841 - val_loss: 0.9054 - val_mean_squared_error: 0.9030\n",
      "Epoch 98/150\n",
      "13/13 - 0s - loss: 0.8797 - mean_squared_error: 0.8797 - val_loss: 0.9006 - val_mean_squared_error: 0.8982\n",
      "Epoch 99/150\n",
      "13/13 - 0s - loss: 0.8752 - mean_squared_error: 0.8753 - val_loss: 0.8961 - val_mean_squared_error: 0.8934\n",
      "Epoch 100/150\n",
      "13/13 - 0s - loss: 0.8703 - mean_squared_error: 0.8703 - val_loss: 0.8920 - val_mean_squared_error: 0.8894\n",
      "Epoch 101/150\n",
      "13/13 - 0s - loss: 0.8668 - mean_squared_error: 0.8669 - val_loss: 0.8877 - val_mean_squared_error: 0.8848\n",
      "Epoch 102/150\n",
      "13/13 - 0s - loss: 0.8624 - mean_squared_error: 0.8624 - val_loss: 0.8838 - val_mean_squared_error: 0.8806\n",
      "Epoch 103/150\n",
      "13/13 - 0s - loss: 0.8579 - mean_squared_error: 0.8579 - val_loss: 0.8798 - val_mean_squared_error: 0.8768\n",
      "Epoch 104/150\n",
      "13/13 - 0s - loss: 0.8542 - mean_squared_error: 0.8542 - val_loss: 0.8760 - val_mean_squared_error: 0.8730\n",
      "Epoch 105/150\n",
      "13/13 - 0s - loss: 0.8502 - mean_squared_error: 0.8502 - val_loss: 0.8723 - val_mean_squared_error: 0.8693\n",
      "Epoch 106/150\n",
      "13/13 - 0s - loss: 0.8463 - mean_squared_error: 0.8464 - val_loss: 0.8692 - val_mean_squared_error: 0.8665\n",
      "Epoch 107/150\n",
      "13/13 - 0s - loss: 0.8437 - mean_squared_error: 0.8437 - val_loss: 0.8650 - val_mean_squared_error: 0.8621\n",
      "Epoch 108/150\n",
      "13/13 - 0s - loss: 0.8390 - mean_squared_error: 0.8390 - val_loss: 0.8619 - val_mean_squared_error: 0.8592\n",
      "Epoch 109/150\n",
      "13/13 - 0s - loss: 0.8347 - mean_squared_error: 0.8347 - val_loss: 0.8591 - val_mean_squared_error: 0.8568\n",
      "Epoch 110/150\n",
      "13/13 - 0s - loss: 0.8306 - mean_squared_error: 0.8306 - val_loss: 0.8567 - val_mean_squared_error: 0.8543\n",
      "Epoch 111/150\n",
      "13/13 - 0s - loss: 0.8275 - mean_squared_error: 0.8274 - val_loss: 0.8545 - val_mean_squared_error: 0.8519\n",
      "Epoch 112/150\n",
      "13/13 - 0s - loss: 0.8241 - mean_squared_error: 0.8240 - val_loss: 0.8519 - val_mean_squared_error: 0.8493\n",
      "Epoch 113/150\n",
      "13/13 - 0s - loss: 0.8223 - mean_squared_error: 0.8223 - val_loss: 0.8486 - val_mean_squared_error: 0.8460\n",
      "Epoch 114/150\n",
      "13/13 - 0s - loss: 0.8197 - mean_squared_error: 0.8196 - val_loss: 0.8463 - val_mean_squared_error: 0.8430\n",
      "Epoch 115/150\n",
      "13/13 - 0s - loss: 0.8172 - mean_squared_error: 0.8171 - val_loss: 0.8441 - val_mean_squared_error: 0.8410\n",
      "Epoch 116/150\n",
      "13/13 - 0s - loss: 0.8155 - mean_squared_error: 0.8154 - val_loss: 0.8421 - val_mean_squared_error: 0.8386\n",
      "Epoch 117/150\n",
      "13/13 - 0s - loss: 0.8136 - mean_squared_error: 0.8135 - val_loss: 0.8400 - val_mean_squared_error: 0.8364\n",
      "Epoch 118/150\n",
      "13/13 - 0s - loss: 0.8118 - mean_squared_error: 0.8117 - val_loss: 0.8375 - val_mean_squared_error: 0.8335\n",
      "Epoch 119/150\n",
      "13/13 - 0s - loss: 0.8109 - mean_squared_error: 0.8108 - val_loss: 0.8343 - val_mean_squared_error: 0.8306\n",
      "Epoch 120/150\n",
      "13/13 - 0s - loss: 0.8116 - mean_squared_error: 0.8114 - val_loss: 0.8316 - val_mean_squared_error: 0.8276\n",
      "Epoch 121/150\n",
      "13/13 - 0s - loss: 0.8131 - mean_squared_error: 0.8129 - val_loss: 0.8309 - val_mean_squared_error: 0.8268\n",
      "Epoch 122/150\n",
      "13/13 - 0s - loss: 0.8164 - mean_squared_error: 0.8161 - val_loss: 0.8278 - val_mean_squared_error: 0.8240\n",
      "Epoch 123/150\n",
      "13/13 - 0s - loss: 0.8214 - mean_squared_error: 0.8210 - val_loss: 0.8251 - val_mean_squared_error: 0.8212\n",
      "Epoch 124/150\n",
      "13/13 - 0s - loss: 0.8282 - mean_squared_error: 0.8277 - val_loss: 0.8229 - val_mean_squared_error: 0.8188\n",
      "Epoch 125/150\n",
      "13/13 - 0s - loss: 0.8357 - mean_squared_error: 0.8352 - val_loss: 0.8208 - val_mean_squared_error: 0.8170\n",
      "Epoch 126/150\n",
      "13/13 - 0s - loss: 0.8446 - mean_squared_error: 0.8440 - val_loss: 0.8189 - val_mean_squared_error: 0.8155\n",
      "Epoch 127/150\n",
      "13/13 - 0s - loss: 0.8547 - mean_squared_error: 0.8540 - val_loss: 0.8177 - val_mean_squared_error: 0.8147\n",
      "Epoch 128/150\n",
      "13/13 - 0s - loss: 0.8656 - mean_squared_error: 0.8648 - val_loss: 0.8180 - val_mean_squared_error: 0.8153\n",
      "Epoch 129/150\n",
      "13/13 - 0s - loss: 0.8771 - mean_squared_error: 0.8763 - val_loss: 0.8212 - val_mean_squared_error: 0.8189\n",
      "Epoch 130/150\n",
      "13/13 - 0s - loss: 0.8886 - mean_squared_error: 0.8879 - val_loss: 0.8246 - val_mean_squared_error: 0.8237\n",
      "Epoch 131/150\n",
      "13/13 - 0s - loss: 0.9000 - mean_squared_error: 0.8993 - val_loss: 0.8339 - val_mean_squared_error: 0.8341\n",
      "Epoch 132/150\n",
      "13/13 - 0s - loss: 0.9084 - mean_squared_error: 0.9079 - val_loss: 0.8466 - val_mean_squared_error: 0.8483\n",
      "Epoch 133/150\n",
      "13/13 - 0s - loss: 0.9103 - mean_squared_error: 0.9100 - val_loss: 0.8580 - val_mean_squared_error: 0.8611\n",
      "Epoch 134/150\n",
      "13/13 - 0s - loss: 0.9028 - mean_squared_error: 0.9027 - val_loss: 0.8635 - val_mean_squared_error: 0.8674\n",
      "Epoch 135/150\n",
      "13/13 - 0s - loss: 0.8860 - mean_squared_error: 0.8860 - val_loss: 0.8579 - val_mean_squared_error: 0.8619\n",
      "Epoch 136/150\n",
      "13/13 - 0s - loss: 0.8633 - mean_squared_error: 0.8633 - val_loss: 0.8462 - val_mean_squared_error: 0.8498\n"
     ]
    },
    {
     "name": "stdout",
     "output_type": "stream",
     "text": [
      "Epoch 137/150\n",
      "13/13 - 0s - loss: 0.8428 - mean_squared_error: 0.8427 - val_loss: 0.8349 - val_mean_squared_error: 0.8377\n"
     ]
    },
    {
     "data": {
      "text/html": [
       "<span style=\"color:#4527A0\"><h1 style=\"font-size:18px\">Trial complete</h1></span>"
      ],
      "text/plain": [
       "<IPython.core.display.HTML object>"
      ]
     },
     "metadata": {},
     "output_type": "display_data"
    },
    {
     "data": {
      "text/html": [
       "<span style=\"color:#4527A0\"><h1 style=\"font-size:18px\">Trial summary</h1></span>"
      ],
      "text/plain": [
       "<IPython.core.display.HTML object>"
      ]
     },
     "metadata": {},
     "output_type": "display_data"
    },
    {
     "data": {
      "text/html": [
       "<span style=\"color:cyan\"> |-Trial ID: 76159a15ef06208f6a45877825d4c2c6</span>"
      ],
      "text/plain": [
       "<IPython.core.display.HTML object>"
      ]
     },
     "metadata": {},
     "output_type": "display_data"
    },
    {
     "data": {
      "text/html": [
       "<span style=\"color:cyan\"> |-Score: 0.8177407383918762</span>"
      ],
      "text/plain": [
       "<IPython.core.display.HTML object>"
      ]
     },
     "metadata": {},
     "output_type": "display_data"
    },
    {
     "data": {
      "text/html": [
       "<span style=\"color:cyan\"> |-Best step: 0</span>"
      ],
      "text/plain": [
       "<IPython.core.display.HTML object>"
      ]
     },
     "metadata": {},
     "output_type": "display_data"
    },
    {
     "data": {
      "text/html": [
       "<span style=\"color:#7E57C2\"><h2 style=\"font-size:16px\">Hyperparameters:</h2></span>"
      ],
      "text/plain": [
       "<IPython.core.display.HTML object>"
      ]
     },
     "metadata": {},
     "output_type": "display_data"
    },
    {
     "data": {
      "text/html": [
       "<span style=\"color:cyan\"> |-dense_block_1/dropout_rate: 0</span>"
      ],
      "text/plain": [
       "<IPython.core.display.HTML object>"
      ]
     },
     "metadata": {},
     "output_type": "display_data"
    },
    {
     "data": {
      "text/html": [
       "<span style=\"color:blue\"> |-dense_block_1/units_0: 32</span>"
      ],
      "text/plain": [
       "<IPython.core.display.HTML object>"
      ]
     },
     "metadata": {},
     "output_type": "display_data"
    },
    {
     "data": {
      "text/html": [
       "<span style=\"color:cyan\"> |-dense_block_1/units_1: 32</span>"
      ],
      "text/plain": [
       "<IPython.core.display.HTML object>"
      ]
     },
     "metadata": {},
     "output_type": "display_data"
    },
    {
     "data": {
      "text/html": [
       "<span style=\"color:blue\"> |-dense_block_1/units_2: 32</span>"
      ],
      "text/plain": [
       "<IPython.core.display.HTML object>"
      ]
     },
     "metadata": {},
     "output_type": "display_data"
    },
    {
     "data": {
      "text/html": [
       "<span style=\"color:cyan\"> |-dense_block_1/use_batchnorm: False</span>"
      ],
      "text/plain": [
       "<IPython.core.display.HTML object>"
      ]
     },
     "metadata": {},
     "output_type": "display_data"
    },
    {
     "data": {
      "text/html": [
       "<span style=\"color:blue\"> |-optimizer: adam</span>"
      ],
      "text/plain": [
       "<IPython.core.display.HTML object>"
      ]
     },
     "metadata": {},
     "output_type": "display_data"
    },
    {
     "data": {
      "text/html": [
       "<span style=\"color:cyan\"> |-regression_head_1/dropout_rate: 0</span>"
      ],
      "text/plain": [
       "<IPython.core.display.HTML object>"
      ]
     },
     "metadata": {},
     "output_type": "display_data"
    },
    {
     "name": "stdout",
     "output_type": "stream",
     "text": [
      "Train for 13 steps, validate for 4 steps\n",
      "Epoch 1/150\n",
      "13/13 - 1s - loss: 6.0937 - mean_squared_error: 6.1072 - val_loss: 15.9520 - val_mean_squared_error: 15.8751\n",
      "Epoch 2/150\n",
      "13/13 - 0s - loss: 3.0354 - mean_squared_error: 3.0390 - val_loss: 5.3194 - val_mean_squared_error: 5.2091\n",
      "Epoch 3/150\n",
      "13/13 - 0s - loss: 2.4743 - mean_squared_error: 2.4749 - val_loss: 4.5073 - val_mean_squared_error: 4.4088\n",
      "Epoch 4/150\n",
      "13/13 - 0s - loss: 2.2213 - mean_squared_error: 2.2225 - val_loss: 4.2155 - val_mean_squared_error: 4.1076\n",
      "Epoch 5/150\n",
      "13/13 - 0s - loss: 2.0109 - mean_squared_error: 2.0126 - val_loss: 3.0021 - val_mean_squared_error: 2.9191\n",
      "Epoch 6/150\n",
      "13/13 - 0s - loss: 1.7860 - mean_squared_error: 1.7864 - val_loss: 1.9790 - val_mean_squared_error: 1.9189\n",
      "Epoch 7/150\n",
      "13/13 - 0s - loss: 1.7272 - mean_squared_error: 1.7284 - val_loss: 2.3666 - val_mean_squared_error: 2.3384\n",
      "Epoch 8/150\n",
      "13/13 - 0s - loss: 1.5353 - mean_squared_error: 1.5363 - val_loss: 2.6445 - val_mean_squared_error: 2.6358\n",
      "Epoch 9/150\n",
      "13/13 - 0s - loss: 1.4685 - mean_squared_error: 1.4682 - val_loss: 2.9642 - val_mean_squared_error: 2.9662\n",
      "Epoch 10/150\n",
      "13/13 - 0s - loss: 1.3823 - mean_squared_error: 1.3825 - val_loss: 3.1005 - val_mean_squared_error: 3.1094\n",
      "Epoch 11/150\n",
      "13/13 - 0s - loss: 1.3195 - mean_squared_error: 1.3196 - val_loss: 2.8331 - val_mean_squared_error: 2.8285\n",
      "Epoch 12/150\n",
      "13/13 - 0s - loss: 1.2943 - mean_squared_error: 1.2940 - val_loss: 3.5741 - val_mean_squared_error: 3.5913\n",
      "Epoch 13/150\n",
      "13/13 - 0s - loss: 1.2100 - mean_squared_error: 1.2102 - val_loss: 4.0836 - val_mean_squared_error: 4.1149\n",
      "Epoch 14/150\n",
      "13/13 - 0s - loss: 1.1752 - mean_squared_error: 1.1751 - val_loss: 5.5540 - val_mean_squared_error: 5.6038\n",
      "Epoch 15/150\n",
      "13/13 - 0s - loss: 1.1590 - mean_squared_error: 1.1586 - val_loss: 5.4497 - val_mean_squared_error: 5.4982\n",
      "Epoch 16/150\n",
      "13/13 - 0s - loss: 1.1124 - mean_squared_error: 1.1126 - val_loss: 6.1777 - val_mean_squared_error: 6.2325\n"
     ]
    },
    {
     "data": {
      "text/html": [
       "<span style=\"color:#4527A0\"><h1 style=\"font-size:18px\">Trial complete</h1></span>"
      ],
      "text/plain": [
       "<IPython.core.display.HTML object>"
      ]
     },
     "metadata": {},
     "output_type": "display_data"
    },
    {
     "data": {
      "text/html": [
       "<span style=\"color:#4527A0\"><h1 style=\"font-size:18px\">Trial summary</h1></span>"
      ],
      "text/plain": [
       "<IPython.core.display.HTML object>"
      ]
     },
     "metadata": {},
     "output_type": "display_data"
    },
    {
     "data": {
      "text/html": [
       "<span style=\"color:cyan\"> |-Trial ID: b765f5303116fc6434b79180c8618903</span>"
      ],
      "text/plain": [
       "<IPython.core.display.HTML object>"
      ]
     },
     "metadata": {},
     "output_type": "display_data"
    },
    {
     "data": {
      "text/html": [
       "<span style=\"color:cyan\"> |-Score: 1.9789864718914032</span>"
      ],
      "text/plain": [
       "<IPython.core.display.HTML object>"
      ]
     },
     "metadata": {},
     "output_type": "display_data"
    },
    {
     "data": {
      "text/html": [
       "<span style=\"color:cyan\"> |-Best step: 0</span>"
      ],
      "text/plain": [
       "<IPython.core.display.HTML object>"
      ]
     },
     "metadata": {},
     "output_type": "display_data"
    },
    {
     "data": {
      "text/html": [
       "<span style=\"color:#7E57C2\"><h2 style=\"font-size:16px\">Hyperparameters:</h2></span>"
      ],
      "text/plain": [
       "<IPython.core.display.HTML object>"
      ]
     },
     "metadata": {},
     "output_type": "display_data"
    },
    {
     "data": {
      "text/html": [
       "<span style=\"color:cyan\"> |-dense_block_1/dropout_rate: 0.5</span>"
      ],
      "text/plain": [
       "<IPython.core.display.HTML object>"
      ]
     },
     "metadata": {},
     "output_type": "display_data"
    },
    {
     "data": {
      "text/html": [
       "<span style=\"color:blue\"> |-dense_block_1/units_0: 512</span>"
      ],
      "text/plain": [
       "<IPython.core.display.HTML object>"
      ]
     },
     "metadata": {},
     "output_type": "display_data"
    },
    {
     "data": {
      "text/html": [
       "<span style=\"color:cyan\"> |-dense_block_1/units_1: 1024</span>"
      ],
      "text/plain": [
       "<IPython.core.display.HTML object>"
      ]
     },
     "metadata": {},
     "output_type": "display_data"
    },
    {
     "data": {
      "text/html": [
       "<span style=\"color:blue\"> |-dense_block_1/units_2: 128</span>"
      ],
      "text/plain": [
       "<IPython.core.display.HTML object>"
      ]
     },
     "metadata": {},
     "output_type": "display_data"
    },
    {
     "data": {
      "text/html": [
       "<span style=\"color:cyan\"> |-dense_block_1/use_batchnorm: True</span>"
      ],
      "text/plain": [
       "<IPython.core.display.HTML object>"
      ]
     },
     "metadata": {},
     "output_type": "display_data"
    },
    {
     "data": {
      "text/html": [
       "<span style=\"color:blue\"> |-optimizer: adam</span>"
      ],
      "text/plain": [
       "<IPython.core.display.HTML object>"
      ]
     },
     "metadata": {},
     "output_type": "display_data"
    },
    {
     "data": {
      "text/html": [
       "<span style=\"color:cyan\"> |-regression_head_1/dropout_rate: 0.25</span>"
      ],
      "text/plain": [
       "<IPython.core.display.HTML object>"
      ]
     },
     "metadata": {},
     "output_type": "display_data"
    },
    {
     "name": "stdout",
     "output_type": "stream",
     "text": [
      "Train for 13 steps, validate for 4 steps\n",
      "Epoch 1/150\n",
      "13/13 - 1s - loss: 8342.7694 - mean_squared_error: 8355.8896 - val_loss: 844.7003 - val_mean_squared_error: 867.5230\n",
      "Epoch 2/150\n",
      "13/13 - 0s - loss: 4722.2431 - mean_squared_error: 4734.0098 - val_loss: 109.6138 - val_mean_squared_error: 112.5177\n",
      "Epoch 3/150\n",
      "13/13 - 0s - loss: 3047.6590 - mean_squared_error: 3054.3213 - val_loss: 25.6038 - val_mean_squared_error: 26.1915\n",
      "Epoch 4/150\n",
      "13/13 - 0s - loss: 2012.8154 - mean_squared_error: 2014.6334 - val_loss: 2.9098 - val_mean_squared_error: 2.9127\n",
      "Epoch 5/150\n",
      "13/13 - 0s - loss: 1478.9845 - mean_squared_error: 1480.2648 - val_loss: 1.5987 - val_mean_squared_error: 1.5751\n",
      "Epoch 6/150\n",
      "13/13 - 0s - loss: 1141.6065 - mean_squared_error: 1143.4340 - val_loss: 7.5062 - val_mean_squared_error: 7.6612\n",
      "Epoch 7/150\n",
      "13/13 - 0s - loss: 840.2402 - mean_squared_error: 841.4312 - val_loss: 8.5734 - val_mean_squared_error: 8.6954\n",
      "Epoch 8/150\n",
      "13/13 - 0s - loss: 696.3352 - mean_squared_error: 697.3213 - val_loss: 2.7942 - val_mean_squared_error: 2.8170\n",
      "Epoch 9/150\n",
      "13/13 - 0s - loss: 586.4351 - mean_squared_error: 586.7700 - val_loss: 3.5108 - val_mean_squared_error: 3.6182\n",
      "Epoch 10/150\n",
      "13/13 - 0s - loss: 436.1713 - mean_squared_error: 436.6297 - val_loss: 2.4326 - val_mean_squared_error: 2.4341\n",
      "Epoch 11/150\n",
      "13/13 - 0s - loss: 358.5063 - mean_squared_error: 358.5499 - val_loss: 1.6948 - val_mean_squared_error: 1.6573\n",
      "Epoch 12/150\n",
      "13/13 - 0s - loss: 311.5366 - mean_squared_error: 312.2374 - val_loss: 1.5664 - val_mean_squared_error: 1.5430\n",
      "Epoch 13/150\n",
      "13/13 - 0s - loss: 235.8711 - mean_squared_error: 236.1368 - val_loss: 2.1664 - val_mean_squared_error: 2.1378\n",
      "Epoch 14/150\n",
      "13/13 - 0s - loss: 219.4486 - mean_squared_error: 219.6481 - val_loss: 1.7605 - val_mean_squared_error: 1.7202\n",
      "Epoch 15/150\n",
      "13/13 - 0s - loss: 165.7440 - mean_squared_error: 165.8433 - val_loss: 1.6577 - val_mean_squared_error: 1.6188\n",
      "Epoch 16/150\n",
      "13/13 - 0s - loss: 147.1204 - mean_squared_error: 147.1836 - val_loss: 1.7533 - val_mean_squared_error: 1.7011\n",
      "Epoch 17/150\n",
      "13/13 - 0s - loss: 132.3383 - mean_squared_error: 132.5746 - val_loss: 2.5974 - val_mean_squared_error: 2.6373\n",
      "Epoch 18/150\n",
      "13/13 - 0s - loss: 114.6739 - mean_squared_error: 114.9048 - val_loss: 1.8216 - val_mean_squared_error: 1.8032\n",
      "Epoch 19/150\n",
      "13/13 - 0s - loss: 109.4982 - mean_squared_error: 109.6403 - val_loss: 1.7557 - val_mean_squared_error: 1.7636\n",
      "Epoch 20/150\n",
      "13/13 - 0s - loss: 94.8316 - mean_squared_error: 94.9551 - val_loss: 1.6919 - val_mean_squared_error: 1.6795\n",
      "Epoch 21/150\n",
      "13/13 - 0s - loss: 72.9812 - mean_squared_error: 73.0319 - val_loss: 1.4191 - val_mean_squared_error: 1.3836\n",
      "Epoch 22/150\n",
      "13/13 - 0s - loss: 63.5658 - mean_squared_error: 63.6564 - val_loss: 1.7617 - val_mean_squared_error: 1.7552\n",
      "Epoch 23/150\n",
      "13/13 - 0s - loss: 43.4981 - mean_squared_error: 43.5932 - val_loss: 1.6617 - val_mean_squared_error: 1.6711\n",
      "Epoch 24/150\n",
      "13/13 - 0s - loss: 37.2671 - mean_squared_error: 37.2819 - val_loss: 1.4209 - val_mean_squared_error: 1.3975\n",
      "Epoch 25/150\n",
      "13/13 - 0s - loss: 26.3807 - mean_squared_error: 26.4002 - val_loss: 1.5073 - val_mean_squared_error: 1.4818\n",
      "Epoch 26/150\n",
      "13/13 - 0s - loss: 20.8382 - mean_squared_error: 20.8550 - val_loss: 1.5604 - val_mean_squared_error: 1.5299\n",
      "Epoch 27/150\n",
      "13/13 - 0s - loss: 14.4256 - mean_squared_error: 14.4398 - val_loss: 1.4345 - val_mean_squared_error: 1.3938\n",
      "Epoch 28/150\n",
      "13/13 - 0s - loss: 11.3506 - mean_squared_error: 11.3837 - val_loss: 1.4464 - val_mean_squared_error: 1.4179\n",
      "Epoch 29/150\n",
      "13/13 - 0s - loss: 8.8590 - mean_squared_error: 8.8812 - val_loss: 1.4990 - val_mean_squared_error: 1.4764\n",
      "Epoch 30/150\n",
      "13/13 - 0s - loss: 5.4828 - mean_squared_error: 5.5034 - val_loss: 1.4257 - val_mean_squared_error: 1.3972\n",
      "Epoch 31/150\n",
      "13/13 - 0s - loss: 3.0102 - mean_squared_error: 3.0172 - val_loss: 1.5947 - val_mean_squared_error: 1.5641\n"
     ]
    },
    {
     "data": {
      "text/html": [
       "<span style=\"color:#4527A0\"><h1 style=\"font-size:18px\">Trial complete</h1></span>"
      ],
      "text/plain": [
       "<IPython.core.display.HTML object>"
      ]
     },
     "metadata": {},
     "output_type": "display_data"
    },
    {
     "data": {
      "text/html": [
       "<span style=\"color:#4527A0\"><h1 style=\"font-size:18px\">Trial summary</h1></span>"
      ],
      "text/plain": [
       "<IPython.core.display.HTML object>"
      ]
     },
     "metadata": {},
     "output_type": "display_data"
    },
    {
     "data": {
      "text/html": [
       "<span style=\"color:cyan\"> |-Trial ID: 99b7c0667e73e17c69e11883acec538c</span>"
      ],
      "text/plain": [
       "<IPython.core.display.HTML object>"
      ]
     },
     "metadata": {},
     "output_type": "display_data"
    },
    {
     "data": {
      "text/html": [
       "<span style=\"color:cyan\"> |-Score: 1.4191459715366364</span>"
      ],
      "text/plain": [
       "<IPython.core.display.HTML object>"
      ]
     },
     "metadata": {},
     "output_type": "display_data"
    },
    {
     "data": {
      "text/html": [
       "<span style=\"color:cyan\"> |-Best step: 0</span>"
      ],
      "text/plain": [
       "<IPython.core.display.HTML object>"
      ]
     },
     "metadata": {},
     "output_type": "display_data"
    },
    {
     "data": {
      "text/html": [
       "<span style=\"color:#7E57C2\"><h2 style=\"font-size:16px\">Hyperparameters:</h2></span>"
      ],
      "text/plain": [
       "<IPython.core.display.HTML object>"
      ]
     },
     "metadata": {},
     "output_type": "display_data"
    },
    {
     "data": {
      "text/html": [
       "<span style=\"color:cyan\"> |-dense_block_1/dropout_rate: 0.0</span>"
      ],
      "text/plain": [
       "<IPython.core.display.HTML object>"
      ]
     },
     "metadata": {},
     "output_type": "display_data"
    },
    {
     "data": {
      "text/html": [
       "<span style=\"color:blue\"> |-dense_block_1/units_0: 16</span>"
      ],
      "text/plain": [
       "<IPython.core.display.HTML object>"
      ]
     },
     "metadata": {},
     "output_type": "display_data"
    },
    {
     "data": {
      "text/html": [
       "<span style=\"color:cyan\"> |-dense_block_1/units_1: 16</span>"
      ],
      "text/plain": [
       "<IPython.core.display.HTML object>"
      ]
     },
     "metadata": {},
     "output_type": "display_data"
    },
    {
     "data": {
      "text/html": [
       "<span style=\"color:blue\"> |-dense_block_1/units_2: 512</span>"
      ],
      "text/plain": [
       "<IPython.core.display.HTML object>"
      ]
     },
     "metadata": {},
     "output_type": "display_data"
    },
    {
     "data": {
      "text/html": [
       "<span style=\"color:cyan\"> |-dense_block_1/use_batchnorm: False</span>"
      ],
      "text/plain": [
       "<IPython.core.display.HTML object>"
      ]
     },
     "metadata": {},
     "output_type": "display_data"
    },
    {
     "data": {
      "text/html": [
       "<span style=\"color:blue\"> |-optimizer: adam</span>"
      ],
      "text/plain": [
       "<IPython.core.display.HTML object>"
      ]
     },
     "metadata": {},
     "output_type": "display_data"
    },
    {
     "data": {
      "text/html": [
       "<span style=\"color:cyan\"> |-regression_head_1/dropout_rate: 0.5</span>"
      ],
      "text/plain": [
       "<IPython.core.display.HTML object>"
      ]
     },
     "metadata": {},
     "output_type": "display_data"
    },
    {
     "name": "stdout",
     "output_type": "stream",
     "text": [
      "INFO:tensorflow:Oracle triggered exit\n",
      "Train for 17 steps, validate for 4 steps\n",
      "Epoch 1/150\n",
      "17/17 - 1s - loss: 1725.0349 - mean_squared_error: 1804.7258 - val_loss: 9.9104 - val_mean_squared_error: 10.3790\n",
      "Epoch 2/150\n",
      "17/17 - 0s - loss: 160.9006 - mean_squared_error: 166.1141 - val_loss: 94.8083 - val_mean_squared_error: 96.5790\n",
      "Epoch 3/150\n",
      "17/17 - 0s - loss: 39.7304 - mean_squared_error: 41.3589 - val_loss: 4.3740 - val_mean_squared_error: 4.6303\n",
      "Epoch 4/150\n",
      "17/17 - 0s - loss: 7.5296 - mean_squared_error: 7.6415 - val_loss: 6.5391 - val_mean_squared_error: 6.9093\n",
      "Epoch 5/150\n",
      "17/17 - 0s - loss: 3.8545 - mean_squared_error: 3.9215 - val_loss: 3.0824 - val_mean_squared_error: 3.2208\n",
      "Epoch 6/150\n",
      "17/17 - 0s - loss: 2.2417 - mean_squared_error: 2.2677 - val_loss: 1.8571 - val_mean_squared_error: 1.8878\n",
      "Epoch 7/150\n",
      "17/17 - 0s - loss: 1.7316 - mean_squared_error: 1.7339 - val_loss: 1.7107 - val_mean_squared_error: 1.7143\n",
      "Epoch 8/150\n",
      "17/17 - 0s - loss: 1.6211 - mean_squared_error: 1.6250 - val_loss: 1.5878 - val_mean_squared_error: 1.5960\n",
      "Epoch 9/150\n",
      "17/17 - 0s - loss: 1.5282 - mean_squared_error: 1.5306 - val_loss: 1.5078 - val_mean_squared_error: 1.5109\n",
      "Epoch 10/150\n",
      "17/17 - 0s - loss: 1.4701 - mean_squared_error: 1.4709 - val_loss: 1.4644 - val_mean_squared_error: 1.4630\n",
      "Epoch 11/150\n",
      "17/17 - 0s - loss: 1.4341 - mean_squared_error: 1.4337 - val_loss: 1.4328 - val_mean_squared_error: 1.4268\n",
      "Epoch 12/150\n",
      "17/17 - 0s - loss: 1.4065 - mean_squared_error: 1.4056 - val_loss: 1.4061 - val_mean_squared_error: 1.3981\n",
      "Epoch 13/150\n",
      "17/17 - 0s - loss: 1.3845 - mean_squared_error: 1.3830 - val_loss: 1.3856 - val_mean_squared_error: 1.3746\n",
      "Epoch 14/150\n",
      "17/17 - 0s - loss: 1.3624 - mean_squared_error: 1.3597 - val_loss: 1.3742 - val_mean_squared_error: 1.3602\n",
      "Epoch 15/150\n",
      "17/17 - 0s - loss: 1.3437 - mean_squared_error: 1.3405 - val_loss: 1.3598 - val_mean_squared_error: 1.3444\n",
      "Epoch 16/150\n",
      "17/17 - 0s - loss: 1.3259 - mean_squared_error: 1.3222 - val_loss: 1.3423 - val_mean_squared_error: 1.3250\n",
      "Epoch 17/150\n",
      "17/17 - 0s - loss: 1.3122 - mean_squared_error: 1.3090 - val_loss: 1.3238 - val_mean_squared_error: 1.3074\n",
      "Epoch 18/150\n",
      "17/17 - 0s - loss: 1.2933 - mean_squared_error: 1.2890 - val_loss: 1.3101 - val_mean_squared_error: 1.2911\n",
      "Epoch 19/150\n",
      "17/17 - 0s - loss: 1.2747 - mean_squared_error: 1.2701 - val_loss: 1.2954 - val_mean_squared_error: 1.2754\n",
      "Epoch 20/150\n",
      "17/17 - 0s - loss: 1.2560 - mean_squared_error: 1.2515 - val_loss: 1.2754 - val_mean_squared_error: 1.2558\n",
      "Epoch 21/150\n",
      "17/17 - 0s - loss: 1.2386 - mean_squared_error: 1.2343 - val_loss: 1.2511 - val_mean_squared_error: 1.2316\n",
      "Epoch 22/150\n",
      "17/17 - 0s - loss: 1.2175 - mean_squared_error: 1.2133 - val_loss: 1.2304 - val_mean_squared_error: 1.2125\n",
      "Epoch 23/150\n",
      "17/17 - 0s - loss: 1.1952 - mean_squared_error: 1.1920 - val_loss: 1.2013 - val_mean_squared_error: 1.1868\n",
      "Epoch 24/150\n",
      "17/17 - 0s - loss: 1.1667 - mean_squared_error: 1.1646 - val_loss: 1.1744 - val_mean_squared_error: 1.1636\n",
      "Epoch 25/150\n",
      "17/17 - 0s - loss: 1.1315 - mean_squared_error: 1.1296 - val_loss: 1.1245 - val_mean_squared_error: 1.1130\n",
      "Epoch 26/150\n",
      "17/17 - 0s - loss: 1.0944 - mean_squared_error: 1.0927 - val_loss: 1.0899 - val_mean_squared_error: 1.0809\n",
      "Epoch 27/150\n",
      "17/17 - 0s - loss: 1.0585 - mean_squared_error: 1.0571 - val_loss: 1.0522 - val_mean_squared_error: 1.0442\n",
      "Epoch 28/150\n",
      "17/17 - 0s - loss: 1.0177 - mean_squared_error: 1.0162 - val_loss: 1.0039 - val_mean_squared_error: 0.9961\n",
      "Epoch 29/150\n",
      "17/17 - 0s - loss: 0.9734 - mean_squared_error: 0.9727 - val_loss: 0.9585 - val_mean_squared_error: 0.9498\n",
      "Epoch 30/150\n",
      "17/17 - 0s - loss: 0.9250 - mean_squared_error: 0.9250 - val_loss: 1.0176 - val_mean_squared_error: 1.0235\n",
      "Epoch 31/150\n",
      "17/17 - 0s - loss: 0.9307 - mean_squared_error: 0.9326 - val_loss: 0.8839 - val_mean_squared_error: 0.8769\n",
      "Epoch 32/150\n",
      "17/17 - 0s - loss: 0.8372 - mean_squared_error: 0.8366 - val_loss: 0.8263 - val_mean_squared_error: 0.8247\n",
      "Epoch 33/150\n",
      "17/17 - 0s - loss: 0.8067 - mean_squared_error: 0.8066 - val_loss: 0.7990 - val_mean_squared_error: 0.7990\n",
      "Epoch 34/150\n",
      "17/17 - 0s - loss: 0.7774 - mean_squared_error: 0.7776 - val_loss: 0.7715 - val_mean_squared_error: 0.7746\n",
      "Epoch 35/150\n",
      "17/17 - 0s - loss: 0.7624 - mean_squared_error: 0.7629 - val_loss: 0.7531 - val_mean_squared_error: 0.7583\n",
      "Epoch 36/150\n",
      "17/17 - 0s - loss: 0.7469 - mean_squared_error: 0.7478 - val_loss: 0.7384 - val_mean_squared_error: 0.7451\n",
      "Epoch 37/150\n",
      "17/17 - 0s - loss: 0.7329 - mean_squared_error: 0.7341 - val_loss: 0.7274 - val_mean_squared_error: 0.7352\n",
      "Epoch 38/150\n",
      "17/17 - 0s - loss: 0.7230 - mean_squared_error: 0.7243 - val_loss: 0.7190 - val_mean_squared_error: 0.7276\n",
      "Epoch 39/150\n",
      "17/17 - 0s - loss: 0.7164 - mean_squared_error: 0.7178 - val_loss: 0.7124 - val_mean_squared_error: 0.7215\n",
      "Epoch 40/150\n",
      "17/17 - 0s - loss: 0.7108 - mean_squared_error: 0.7122 - val_loss: 0.7063 - val_mean_squared_error: 0.7159\n",
      "Epoch 41/150\n",
      "17/17 - 0s - loss: 0.7046 - mean_squared_error: 0.7060 - val_loss: 0.7014 - val_mean_squared_error: 0.7112\n",
      "Epoch 42/150\n",
      "17/17 - 0s - loss: 0.6988 - mean_squared_error: 0.7002 - val_loss: 0.6975 - val_mean_squared_error: 0.7074\n",
      "Epoch 43/150\n",
      "17/17 - 0s - loss: 0.6955 - mean_squared_error: 0.6969 - val_loss: 0.6943 - val_mean_squared_error: 0.7041\n",
      "Epoch 44/150\n",
      "17/17 - 0s - loss: 0.6942 - mean_squared_error: 0.6955 - val_loss: 0.6916 - val_mean_squared_error: 0.7011\n",
      "Epoch 45/150\n",
      "17/17 - 0s - loss: 0.6923 - mean_squared_error: 0.6935 - val_loss: 0.6887 - val_mean_squared_error: 0.6981\n",
      "Epoch 46/150\n",
      "17/17 - 0s - loss: 0.6901 - mean_squared_error: 0.6912 - val_loss: 0.6862 - val_mean_squared_error: 0.6954\n",
      "Epoch 47/150\n",
      "17/17 - 0s - loss: 0.6877 - mean_squared_error: 0.6889 - val_loss: 0.6848 - val_mean_squared_error: 0.6939\n",
      "Epoch 48/150\n",
      "17/17 - 0s - loss: 0.6864 - mean_squared_error: 0.6876 - val_loss: 0.6852 - val_mean_squared_error: 0.6945\n",
      "Epoch 49/150\n",
      "17/17 - 0s - loss: 0.6863 - mean_squared_error: 0.6874 - val_loss: 0.6846 - val_mean_squared_error: 0.6940\n",
      "Epoch 50/150\n",
      "17/17 - 0s - loss: 0.6852 - mean_squared_error: 0.6861 - val_loss: 0.6790 - val_mean_squared_error: 0.6879\n",
      "Epoch 51/150\n",
      "17/17 - 0s - loss: 0.6804 - mean_squared_error: 0.6813 - val_loss: 0.6738 - val_mean_squared_error: 0.6822\n",
      "Epoch 52/150\n",
      "17/17 - 0s - loss: 0.6753 - mean_squared_error: 0.6762 - val_loss: 0.6717 - val_mean_squared_error: 0.6800\n",
      "Epoch 53/150\n",
      "17/17 - 0s - loss: 0.6729 - mean_squared_error: 0.6738 - val_loss: 0.6706 - val_mean_squared_error: 0.6787\n",
      "Epoch 54/150\n",
      "17/17 - 0s - loss: 0.6715 - mean_squared_error: 0.6725 - val_loss: 0.6701 - val_mean_squared_error: 0.6783\n",
      "Epoch 55/150\n",
      "17/17 - 0s - loss: 0.6713 - mean_squared_error: 0.6722 - val_loss: 0.6698 - val_mean_squared_error: 0.6779\n",
      "Epoch 56/150\n",
      "17/17 - 0s - loss: 0.6707 - mean_squared_error: 0.6716 - val_loss: 0.6680 - val_mean_squared_error: 0.6760\n",
      "Epoch 57/150\n",
      "17/17 - 0s - loss: 0.6697 - mean_squared_error: 0.6706 - val_loss: 0.6646 - val_mean_squared_error: 0.6723\n",
      "Epoch 58/150\n",
      "17/17 - 0s - loss: 0.6661 - mean_squared_error: 0.6670 - val_loss: 0.6637 - val_mean_squared_error: 0.6714\n",
      "Epoch 59/150\n",
      "17/17 - 0s - loss: 0.6651 - mean_squared_error: 0.6661 - val_loss: 0.6628 - val_mean_squared_error: 0.6705\n",
      "Epoch 60/150\n",
      "17/17 - 0s - loss: 0.6638 - mean_squared_error: 0.6647 - val_loss: 0.6630 - val_mean_squared_error: 0.6709\n",
      "Epoch 61/150\n",
      "17/17 - 0s - loss: 0.6645 - mean_squared_error: 0.6655 - val_loss: 0.6621 - val_mean_squared_error: 0.6699\n",
      "Epoch 62/150\n",
      "17/17 - 0s - loss: 0.6637 - mean_squared_error: 0.6647 - val_loss: 0.6597 - val_mean_squared_error: 0.6674\n",
      "Epoch 63/150\n",
      "17/17 - 0s - loss: 0.6608 - mean_squared_error: 0.6618 - val_loss: 0.6604 - val_mean_squared_error: 0.6682\n",
      "Epoch 64/150\n",
      "17/17 - 0s - loss: 0.6621 - mean_squared_error: 0.6631 - val_loss: 0.6607 - val_mean_squared_error: 0.6685\n",
      "Epoch 65/150\n",
      "17/17 - 0s - loss: 0.6623 - mean_squared_error: 0.6633 - val_loss: 0.6582 - val_mean_squared_error: 0.6659\n",
      "Epoch 66/150\n",
      "17/17 - 0s - loss: 0.6599 - mean_squared_error: 0.6609 - val_loss: 0.6565 - val_mean_squared_error: 0.6641\n",
      "Epoch 67/150\n",
      "17/17 - 0s - loss: 0.6580 - mean_squared_error: 0.6590 - val_loss: 0.6559 - val_mean_squared_error: 0.6636\n",
      "Epoch 68/150\n",
      "17/17 - 0s - loss: 0.6570 - mean_squared_error: 0.6581 - val_loss: 0.6564 - val_mean_squared_error: 0.6644\n"
     ]
    },
    {
     "name": "stdout",
     "output_type": "stream",
     "text": [
      "Epoch 69/150\n",
      "17/17 - 0s - loss: 0.6575 - mean_squared_error: 0.6587 - val_loss: 0.6559 - val_mean_squared_error: 0.6639\n",
      "Epoch 70/150\n",
      "17/17 - 0s - loss: 0.6572 - mean_squared_error: 0.6584 - val_loss: 0.6553 - val_mean_squared_error: 0.6633\n",
      "Epoch 71/150\n",
      "17/17 - 0s - loss: 0.6575 - mean_squared_error: 0.6587 - val_loss: 0.6545 - val_mean_squared_error: 0.6627\n",
      "Epoch 72/150\n",
      "17/17 - 0s - loss: 0.6573 - mean_squared_error: 0.6586 - val_loss: 0.6526 - val_mean_squared_error: 0.6611\n",
      "Epoch 73/150\n",
      "17/17 - 0s - loss: 0.6539 - mean_squared_error: 0.6552 - val_loss: 0.6518 - val_mean_squared_error: 0.6601\n",
      "Epoch 74/150\n",
      "17/17 - 0s - loss: 0.6546 - mean_squared_error: 0.6561 - val_loss: 0.6532 - val_mean_squared_error: 0.6620\n",
      "Epoch 75/150\n",
      "17/17 - 0s - loss: 0.6544 - mean_squared_error: 0.6557 - val_loss: 0.6529 - val_mean_squared_error: 0.6612\n",
      "Epoch 76/150\n",
      "17/17 - 0s - loss: 0.6560 - mean_squared_error: 0.6575 - val_loss: 0.6533 - val_mean_squared_error: 0.6626\n",
      "Epoch 77/150\n",
      "17/17 - 0s - loss: 0.6541 - mean_squared_error: 0.6555 - val_loss: 0.6514 - val_mean_squared_error: 0.6599\n",
      "Epoch 78/150\n",
      "17/17 - 0s - loss: 0.6544 - mean_squared_error: 0.6559 - val_loss: 0.6508 - val_mean_squared_error: 0.6598\n",
      "Epoch 79/150\n",
      "17/17 - 0s - loss: 0.6529 - mean_squared_error: 0.6544 - val_loss: 0.6512 - val_mean_squared_error: 0.6599\n",
      "Epoch 80/150\n",
      "17/17 - 0s - loss: 0.6537 - mean_squared_error: 0.6553 - val_loss: 0.6509 - val_mean_squared_error: 0.6600\n",
      "Epoch 81/150\n",
      "17/17 - 0s - loss: 0.6532 - mean_squared_error: 0.6548 - val_loss: 0.6510 - val_mean_squared_error: 0.6601\n",
      "Epoch 82/150\n",
      "17/17 - 0s - loss: 0.6528 - mean_squared_error: 0.6545 - val_loss: 0.6507 - val_mean_squared_error: 0.6597\n",
      "Epoch 83/150\n",
      "17/17 - 0s - loss: 0.6526 - mean_squared_error: 0.6542 - val_loss: 0.6510 - val_mean_squared_error: 0.6600\n",
      "Epoch 84/150\n",
      "17/17 - 0s - loss: 0.6525 - mean_squared_error: 0.6542 - val_loss: 0.6507 - val_mean_squared_error: 0.6597\n",
      "Epoch 85/150\n",
      "17/17 - 0s - loss: 0.6523 - mean_squared_error: 0.6540 - val_loss: 0.6512 - val_mean_squared_error: 0.6605\n",
      "Epoch 86/150\n",
      "17/17 - 0s - loss: 0.6524 - mean_squared_error: 0.6539 - val_loss: 0.6512 - val_mean_squared_error: 0.6598\n",
      "Epoch 87/150\n",
      "17/17 - 0s - loss: 0.6524 - mean_squared_error: 0.6540 - val_loss: 0.6515 - val_mean_squared_error: 0.6598\n",
      "Epoch 88/150\n",
      "17/17 - 0s - loss: 0.6524 - mean_squared_error: 0.6541 - val_loss: 0.6513 - val_mean_squared_error: 0.6601\n",
      "Epoch 89/150\n",
      "17/17 - 0s - loss: 0.6523 - mean_squared_error: 0.6540 - val_loss: 0.6531 - val_mean_squared_error: 0.6612\n",
      "Epoch 90/150\n",
      "17/17 - 0s - loss: 0.6531 - mean_squared_error: 0.6551 - val_loss: 0.6513 - val_mean_squared_error: 0.6604\n",
      "Epoch 91/150\n",
      "17/17 - 0s - loss: 0.6526 - mean_squared_error: 0.6545 - val_loss: 0.6517 - val_mean_squared_error: 0.6613\n",
      "Epoch 92/150\n",
      "17/17 - 0s - loss: 0.6520 - mean_squared_error: 0.6538 - val_loss: 0.6510 - val_mean_squared_error: 0.6601\n",
      "Epoch 93/150\n",
      "17/17 - 0s - loss: 0.6514 - mean_squared_error: 0.6533 - val_loss: 0.6524 - val_mean_squared_error: 0.6611\n",
      "Epoch 94/150\n",
      "17/17 - 0s - loss: 0.6520 - mean_squared_error: 0.6540 - val_loss: 0.6533 - val_mean_squared_error: 0.6621\n",
      "Epoch 95/150\n",
      "17/17 - 0s - loss: 0.6523 - mean_squared_error: 0.6544 - val_loss: 0.6545 - val_mean_squared_error: 0.6635\n",
      "Epoch 96/150\n",
      "17/17 - 0s - loss: 0.6530 - mean_squared_error: 0.6551 - val_loss: 0.6550 - val_mean_squared_error: 0.6642\n",
      "Epoch 97/150\n",
      "17/17 - 0s - loss: 0.6532 - mean_squared_error: 0.6553 - val_loss: 0.6545 - val_mean_squared_error: 0.6637\n",
      "Epoch 98/150\n",
      "17/17 - 0s - loss: 0.6526 - mean_squared_error: 0.6547 - val_loss: 0.6541 - val_mean_squared_error: 0.6633\n",
      "Epoch 99/150\n",
      "17/17 - 0s - loss: 0.6517 - mean_squared_error: 0.6538 - val_loss: 0.6538 - val_mean_squared_error: 0.6630\n",
      "Epoch 100/150\n",
      "17/17 - 0s - loss: 0.6511 - mean_squared_error: 0.6532 - val_loss: 0.6540 - val_mean_squared_error: 0.6634\n",
      "Epoch 101/150\n",
      "17/17 - 0s - loss: 0.6511 - mean_squared_error: 0.6532 - val_loss: 0.6565 - val_mean_squared_error: 0.6658\n",
      "Epoch 102/150\n",
      "17/17 - 0s - loss: 0.6524 - mean_squared_error: 0.6547 - val_loss: 0.6593 - val_mean_squared_error: 0.6685\n",
      "Epoch 103/150\n",
      "17/17 - 0s - loss: 0.6537 - mean_squared_error: 0.6562 - val_loss: 0.6587 - val_mean_squared_error: 0.6681\n",
      "Epoch 104/150\n",
      "17/17 - 0s - loss: 0.6528 - mean_squared_error: 0.6552 - val_loss: 0.6583 - val_mean_squared_error: 0.6679\n",
      "Epoch 105/150\n",
      "17/17 - 0s - loss: 0.6524 - mean_squared_error: 0.6549 - val_loss: 0.6568 - val_mean_squared_error: 0.6664\n",
      "Epoch 106/150\n",
      "17/17 - 0s - loss: 0.6514 - mean_squared_error: 0.6539 - val_loss: 0.6572 - val_mean_squared_error: 0.6670\n",
      "Epoch 107/150\n",
      "17/17 - 0s - loss: 0.6510 - mean_squared_error: 0.6535 - val_loss: 0.6583 - val_mean_squared_error: 0.6682\n",
      "Epoch 108/150\n",
      "17/17 - 0s - loss: 0.6509 - mean_squared_error: 0.6535 - val_loss: 0.6582 - val_mean_squared_error: 0.6684\n",
      "Epoch 109/150\n",
      "17/17 - 0s - loss: 0.6505 - mean_squared_error: 0.6531 - val_loss: 0.6600 - val_mean_squared_error: 0.6701\n",
      "Epoch 110/150\n",
      "17/17 - 0s - loss: 0.6515 - mean_squared_error: 0.6542 - val_loss: 0.6627 - val_mean_squared_error: 0.6728\n",
      "Epoch 111/150\n",
      "17/17 - 0s - loss: 0.6524 - mean_squared_error: 0.6552 - val_loss: 0.6654 - val_mean_squared_error: 0.6756\n",
      "Epoch 112/150\n",
      "17/17 - 0s - loss: 0.6533 - mean_squared_error: 0.6562 - val_loss: 0.6663 - val_mean_squared_error: 0.6766\n",
      "Epoch 113/150\n",
      "17/17 - 0s - loss: 0.6530 - mean_squared_error: 0.6559 - val_loss: 0.6674 - val_mean_squared_error: 0.6780\n",
      "Epoch 114/150\n",
      "17/17 - 0s - loss: 0.6531 - mean_squared_error: 0.6561 - val_loss: 0.6670 - val_mean_squared_error: 0.6779\n",
      "Epoch 115/150\n",
      "17/17 - 0s - loss: 0.6524 - mean_squared_error: 0.6554 - val_loss: 0.6666 - val_mean_squared_error: 0.6776\n",
      "Epoch 116/150\n",
      "17/17 - 0s - loss: 0.6519 - mean_squared_error: 0.6549 - val_loss: 0.6689 - val_mean_squared_error: 0.6801\n",
      "Epoch 117/150\n",
      "17/17 - 0s - loss: 0.6524 - mean_squared_error: 0.6555 - val_loss: 0.6695 - val_mean_squared_error: 0.6805\n",
      "Epoch 118/150\n",
      "17/17 - 0s - loss: 0.6522 - mean_squared_error: 0.6553 - val_loss: 0.6700 - val_mean_squared_error: 0.6809\n",
      "Epoch 119/150\n",
      "17/17 - 0s - loss: 0.6520 - mean_squared_error: 0.6552 - val_loss: 0.6715 - val_mean_squared_error: 0.6825\n",
      "Epoch 120/150\n",
      "17/17 - 0s - loss: 0.6524 - mean_squared_error: 0.6556 - val_loss: 0.6727 - val_mean_squared_error: 0.6837\n",
      "Epoch 121/150\n",
      "17/17 - 0s - loss: 0.6533 - mean_squared_error: 0.6565 - val_loss: 0.6776 - val_mean_squared_error: 0.6886\n",
      "Epoch 122/150\n",
      "17/17 - 0s - loss: 0.6540 - mean_squared_error: 0.6573 - val_loss: 0.6791 - val_mean_squared_error: 0.6902\n",
      "Epoch 123/150\n",
      "17/17 - 0s - loss: 0.6530 - mean_squared_error: 0.6563 - val_loss: 0.6760 - val_mean_squared_error: 0.6876\n",
      "Epoch 124/150\n",
      "17/17 - 0s - loss: 0.6517 - mean_squared_error: 0.6549 - val_loss: 0.6726 - val_mean_squared_error: 0.6841\n",
      "Epoch 125/150\n",
      "17/17 - 0s - loss: 0.6497 - mean_squared_error: 0.6529 - val_loss: 0.6712 - val_mean_squared_error: 0.6827\n",
      "Epoch 126/150\n",
      "17/17 - 0s - loss: 0.6486 - mean_squared_error: 0.6517 - val_loss: 0.6690 - val_mean_squared_error: 0.6805\n",
      "Epoch 127/150\n",
      "17/17 - 0s - loss: 0.6470 - mean_squared_error: 0.6500 - val_loss: 0.6661 - val_mean_squared_error: 0.6777\n",
      "Epoch 128/150\n",
      "17/17 - 0s - loss: 0.6448 - mean_squared_error: 0.6476 - val_loss: 0.6684 - val_mean_squared_error: 0.6806\n",
      "Epoch 129/150\n",
      "17/17 - 0s - loss: 0.6438 - mean_squared_error: 0.6464 - val_loss: 0.6594 - val_mean_squared_error: 0.6715\n",
      "Epoch 130/150\n",
      "17/17 - 0s - loss: 0.6387 - mean_squared_error: 0.6409 - val_loss: 0.6498 - val_mean_squared_error: 0.6613\n",
      "Epoch 131/150\n",
      "17/17 - 0s - loss: 0.6345 - mean_squared_error: 0.6364 - val_loss: 0.6424 - val_mean_squared_error: 0.6536\n",
      "Epoch 132/150\n",
      "17/17 - 0s - loss: 0.6313 - mean_squared_error: 0.6330 - val_loss: 0.6352 - val_mean_squared_error: 0.6461\n",
      "Epoch 133/150\n",
      "17/17 - 0s - loss: 0.6281 - mean_squared_error: 0.6296 - val_loss: 0.6293 - val_mean_squared_error: 0.6399\n",
      "Epoch 134/150\n",
      "17/17 - 0s - loss: 0.6251 - mean_squared_error: 0.6264 - val_loss: 0.6244 - val_mean_squared_error: 0.6349\n",
      "Epoch 135/150\n",
      "17/17 - 0s - loss: 0.6222 - mean_squared_error: 0.6234 - val_loss: 0.6208 - val_mean_squared_error: 0.6312\n",
      "Epoch 136/150\n",
      "17/17 - 0s - loss: 0.6198 - mean_squared_error: 0.6211 - val_loss: 0.6187 - val_mean_squared_error: 0.6290\n"
     ]
    },
    {
     "name": "stdout",
     "output_type": "stream",
     "text": [
      "Epoch 137/150\n",
      "17/17 - 0s - loss: 0.6175 - mean_squared_error: 0.6187 - val_loss: 0.6174 - val_mean_squared_error: 0.6278\n",
      "Epoch 138/150\n",
      "17/17 - 0s - loss: 0.6157 - mean_squared_error: 0.6170 - val_loss: 0.6166 - val_mean_squared_error: 0.6269\n",
      "Epoch 139/150\n",
      "17/17 - 0s - loss: 0.6145 - mean_squared_error: 0.6157 - val_loss: 0.6162 - val_mean_squared_error: 0.6265\n",
      "Epoch 140/150\n",
      "17/17 - 0s - loss: 0.6138 - mean_squared_error: 0.6151 - val_loss: 0.6159 - val_mean_squared_error: 0.6263\n",
      "Epoch 141/150\n",
      "17/17 - 0s - loss: 0.6131 - mean_squared_error: 0.6144 - val_loss: 0.6158 - val_mean_squared_error: 0.6262\n",
      "Epoch 142/150\n",
      "17/17 - 0s - loss: 0.6129 - mean_squared_error: 0.6143 - val_loss: 0.6156 - val_mean_squared_error: 0.6259\n",
      "Epoch 143/150\n",
      "17/17 - 0s - loss: 0.6117 - mean_squared_error: 0.6131 - val_loss: 0.6154 - val_mean_squared_error: 0.6258\n",
      "Epoch 144/150\n",
      "17/17 - 0s - loss: 0.6110 - mean_squared_error: 0.6124 - val_loss: 0.6152 - val_mean_squared_error: 0.6255\n",
      "Epoch 145/150\n",
      "17/17 - 0s - loss: 0.6104 - mean_squared_error: 0.6119 - val_loss: 0.6151 - val_mean_squared_error: 0.6254\n",
      "Epoch 146/150\n",
      "17/17 - 0s - loss: 0.6099 - mean_squared_error: 0.6114 - val_loss: 0.6150 - val_mean_squared_error: 0.6254\n",
      "Epoch 147/150\n",
      "17/17 - 0s - loss: 0.6095 - mean_squared_error: 0.6110 - val_loss: 0.6148 - val_mean_squared_error: 0.6252\n",
      "Epoch 148/150\n",
      "17/17 - 0s - loss: 0.6091 - mean_squared_error: 0.6106 - val_loss: 0.6148 - val_mean_squared_error: 0.6253\n",
      "Epoch 149/150\n",
      "17/17 - 0s - loss: 0.6091 - mean_squared_error: 0.6105 - val_loss: 0.6146 - val_mean_squared_error: 0.6252\n",
      "Epoch 150/150\n",
      "17/17 - 0s - loss: 0.6090 - mean_squared_error: 0.6105 - val_loss: 0.6147 - val_mean_squared_error: 0.6253\n",
      "Test accuracy:  0.6327146\n"
     ]
    }
   ],
   "source": [
    "import autokeras as ak\n",
    "\n",
    "input_node = ak.StructuredDataInput()\n",
    "output_node = ak.CategoricalToNumerical()(input_node)\n",
    "output_node = ak.DenseBlock(num_layers=2)(output_node)\n",
    "output_node = ak.RegressionHead()(output_node)\n",
    "auto_model = ak.AutoModel(inputs=input_node, outputs=output_node, max_trials=3)\n",
    "\n",
    "auto_model.fit(train_data, train_targets, batch_size=1024, epochs=150, verbose=2)"
   ]
  },
  {
   "cell_type": "code",
   "execution_count": 9,
   "metadata": {},
   "outputs": [
    {
     "name": "stdout",
     "output_type": "stream",
     "text": [
      "WARNING:tensorflow:Unresolved object in checkpoint: (root).optimizer.iter\n",
      "WARNING:tensorflow:Unresolved object in checkpoint: (root).optimizer.beta_1\n",
      "WARNING:tensorflow:Unresolved object in checkpoint: (root).optimizer.beta_2\n",
      "WARNING:tensorflow:Unresolved object in checkpoint: (root).optimizer.decay\n",
      "WARNING:tensorflow:Unresolved object in checkpoint: (root).optimizer.learning_rate\n",
      "WARNING:tensorflow:A checkpoint was restored (e.g. tf.train.Checkpoint.restore or tf.keras.Model.load_weights) but not all checkpointed values were used. See above for specific issues. Use expect_partial() on the load status object, e.g. tf.train.Checkpoint.restore(...).expect_partial(), to silence these warnings, or use assert_consumed() to make the check explicit. See https://www.tensorflow.org/guide/checkpoint#loading_mechanics for details.\n",
      "WARNING:tensorflow:Unresolved object in checkpoint: (root).optimizer.iter\n",
      "WARNING:tensorflow:Unresolved object in checkpoint: (root).optimizer.beta_1\n",
      "WARNING:tensorflow:Unresolved object in checkpoint: (root).optimizer.beta_2\n",
      "WARNING:tensorflow:Unresolved object in checkpoint: (root).optimizer.decay\n",
      "WARNING:tensorflow:Unresolved object in checkpoint: (root).optimizer.learning_rate\n",
      "WARNING:tensorflow:A checkpoint was restored (e.g. tf.train.Checkpoint.restore or tf.keras.Model.load_weights) but not all checkpointed values were used. See above for specific issues. Use expect_partial() on the load status object, e.g. tf.train.Checkpoint.restore(...).expect_partial(), to silence these warnings, or use assert_consumed() to make the check explicit. See https://www.tensorflow.org/guide/checkpoint#loading_mechanics for details.\n",
      "Test accuracy:  0.6327146\n"
     ]
    }
   ],
   "source": [
    "test_loss, test_acc = auto_model.evaluate(test_data, test_targets, verbose=0)\n",
    "print('Test accuracy: ', test_acc)"
   ]
  },
  {
   "cell_type": "markdown",
   "metadata": {},
   "source": [
    "### StructuredDataBlock"
   ]
  },
  {
   "cell_type": "code",
   "execution_count": 12,
   "metadata": {},
   "outputs": [
    {
     "name": "stdout",
     "output_type": "stream",
     "text": [
      "Train for 413 steps, validate for 104 steps\n",
      "Epoch 1/3\n",
      "413/413 - 3s - loss: 40.8966 - mean_squared_error: 40.9148 - val_loss: 1.7593 - val_mean_squared_error: 1.7664\n",
      "Epoch 2/3\n",
      "413/413 - 2s - loss: 1.3892 - mean_squared_error: 1.3896 - val_loss: 1.4707 - val_mean_squared_error: 1.4745\n",
      "Epoch 3/3\n",
      "413/413 - 2s - loss: 2.2366 - mean_squared_error: 2.2374 - val_loss: 1.1481 - val_mean_squared_error: 1.1508\n"
     ]
    },
    {
     "data": {
      "text/html": [
       "<span style=\"color:#4527A0\"><h1 style=\"font-size:18px\">Trial complete</h1></span>"
      ],
      "text/plain": [
       "<IPython.core.display.HTML object>"
      ]
     },
     "metadata": {},
     "output_type": "display_data"
    },
    {
     "data": {
      "text/html": [
       "<span style=\"color:#4527A0\"><h1 style=\"font-size:18px\">Trial summary</h1></span>"
      ],
      "text/plain": [
       "<IPython.core.display.HTML object>"
      ]
     },
     "metadata": {},
     "output_type": "display_data"
    },
    {
     "data": {
      "text/html": [
       "<span style=\"color:cyan\"> |-Trial ID: 5aa9f0dfef7a9a30941e4db15f1ac117</span>"
      ],
      "text/plain": [
       "<IPython.core.display.HTML object>"
      ]
     },
     "metadata": {},
     "output_type": "display_data"
    },
    {
     "data": {
      "text/html": [
       "<span style=\"color:cyan\"> |-Score: 1.1481385133587396</span>"
      ],
      "text/plain": [
       "<IPython.core.display.HTML object>"
      ]
     },
     "metadata": {},
     "output_type": "display_data"
    },
    {
     "data": {
      "text/html": [
       "<span style=\"color:cyan\"> |-Best step: 0</span>"
      ],
      "text/plain": [
       "<IPython.core.display.HTML object>"
      ]
     },
     "metadata": {},
     "output_type": "display_data"
    },
    {
     "data": {
      "text/html": [
       "<span style=\"color:#7E57C2\"><h2 style=\"font-size:16px\">Hyperparameters:</h2></span>"
      ],
      "text/plain": [
       "<IPython.core.display.HTML object>"
      ]
     },
     "metadata": {},
     "output_type": "display_data"
    },
    {
     "data": {
      "text/html": [
       "<span style=\"color:cyan\"> |-optimizer: adam</span>"
      ],
      "text/plain": [
       "<IPython.core.display.HTML object>"
      ]
     },
     "metadata": {},
     "output_type": "display_data"
    },
    {
     "data": {
      "text/html": [
       "<span style=\"color:blue\"> |-regression_head_2/dropout_rate: 0</span>"
      ],
      "text/plain": [
       "<IPython.core.display.HTML object>"
      ]
     },
     "metadata": {},
     "output_type": "display_data"
    },
    {
     "data": {
      "text/html": [
       "<span style=\"color:cyan\"> |-structured_data_block_2/dense_block_1/dropout_rate: 0</span>"
      ],
      "text/plain": [
       "<IPython.core.display.HTML object>"
      ]
     },
     "metadata": {},
     "output_type": "display_data"
    },
    {
     "data": {
      "text/html": [
       "<span style=\"color:blue\"> |-structured_data_block_2/dense_block_1/num_layers: 2</span>"
      ],
      "text/plain": [
       "<IPython.core.display.HTML object>"
      ]
     },
     "metadata": {},
     "output_type": "display_data"
    },
    {
     "data": {
      "text/html": [
       "<span style=\"color:cyan\"> |-structured_data_block_2/dense_block_1/units_0: 32</span>"
      ],
      "text/plain": [
       "<IPython.core.display.HTML object>"
      ]
     },
     "metadata": {},
     "output_type": "display_data"
    },
    {
     "data": {
      "text/html": [
       "<span style=\"color:blue\"> |-structured_data_block_2/dense_block_1/units_1: 32</span>"
      ],
      "text/plain": [
       "<IPython.core.display.HTML object>"
      ]
     },
     "metadata": {},
     "output_type": "display_data"
    },
    {
     "data": {
      "text/html": [
       "<span style=\"color:cyan\"> |-structured_data_block_2/dense_block_1/use_batchnorm: False</span>"
      ],
      "text/plain": [
       "<IPython.core.display.HTML object>"
      ]
     },
     "metadata": {},
     "output_type": "display_data"
    },
    {
     "name": "stdout",
     "output_type": "stream",
     "text": [
      "Train for 413 steps, validate for 104 steps\n",
      "Epoch 1/3\n",
      "413/413 - 3s - loss: 3.0985 - mean_squared_error: 3.0993 - val_loss: 1.3005 - val_mean_squared_error: 1.3058\n",
      "Epoch 2/3\n",
      "413/413 - 2s - loss: 1.6499 - mean_squared_error: 1.6503 - val_loss: 0.9920 - val_mean_squared_error: 0.9953\n",
      "Epoch 3/3\n",
      "413/413 - 2s - loss: 1.2368 - mean_squared_error: 1.2371 - val_loss: 0.8933 - val_mean_squared_error: 0.8965\n"
     ]
    },
    {
     "data": {
      "text/html": [
       "<span style=\"color:#4527A0\"><h1 style=\"font-size:18px\">Trial complete</h1></span>"
      ],
      "text/plain": [
       "<IPython.core.display.HTML object>"
      ]
     },
     "metadata": {},
     "output_type": "display_data"
    },
    {
     "data": {
      "text/html": [
       "<span style=\"color:#4527A0\"><h1 style=\"font-size:18px\">Trial summary</h1></span>"
      ],
      "text/plain": [
       "<IPython.core.display.HTML object>"
      ]
     },
     "metadata": {},
     "output_type": "display_data"
    },
    {
     "data": {
      "text/html": [
       "<span style=\"color:cyan\"> |-Trial ID: 26823c80892b296326bbf18697ed8b8c</span>"
      ],
      "text/plain": [
       "<IPython.core.display.HTML object>"
      ]
     },
     "metadata": {},
     "output_type": "display_data"
    },
    {
     "data": {
      "text/html": [
       "<span style=\"color:cyan\"> |-Score: 0.8933112268837599</span>"
      ],
      "text/plain": [
       "<IPython.core.display.HTML object>"
      ]
     },
     "metadata": {},
     "output_type": "display_data"
    },
    {
     "data": {
      "text/html": [
       "<span style=\"color:cyan\"> |-Best step: 0</span>"
      ],
      "text/plain": [
       "<IPython.core.display.HTML object>"
      ]
     },
     "metadata": {},
     "output_type": "display_data"
    },
    {
     "data": {
      "text/html": [
       "<span style=\"color:#7E57C2\"><h2 style=\"font-size:16px\">Hyperparameters:</h2></span>"
      ],
      "text/plain": [
       "<IPython.core.display.HTML object>"
      ]
     },
     "metadata": {},
     "output_type": "display_data"
    },
    {
     "data": {
      "text/html": [
       "<span style=\"color:cyan\"> |-optimizer: adam</span>"
      ],
      "text/plain": [
       "<IPython.core.display.HTML object>"
      ]
     },
     "metadata": {},
     "output_type": "display_data"
    },
    {
     "data": {
      "text/html": [
       "<span style=\"color:blue\"> |-regression_head_2/dropout_rate: 0</span>"
      ],
      "text/plain": [
       "<IPython.core.display.HTML object>"
      ]
     },
     "metadata": {},
     "output_type": "display_data"
    },
    {
     "data": {
      "text/html": [
       "<span style=\"color:cyan\"> |-structured_data_block_2/dense_block_1/dropout_rate: 0.5</span>"
      ],
      "text/plain": [
       "<IPython.core.display.HTML object>"
      ]
     },
     "metadata": {},
     "output_type": "display_data"
    },
    {
     "data": {
      "text/html": [
       "<span style=\"color:blue\"> |-structured_data_block_2/dense_block_1/num_layers: 1</span>"
      ],
      "text/plain": [
       "<IPython.core.display.HTML object>"
      ]
     },
     "metadata": {},
     "output_type": "display_data"
    },
    {
     "data": {
      "text/html": [
       "<span style=\"color:cyan\"> |-structured_data_block_2/dense_block_1/units_0: 32</span>"
      ],
      "text/plain": [
       "<IPython.core.display.HTML object>"
      ]
     },
     "metadata": {},
     "output_type": "display_data"
    },
    {
     "data": {
      "text/html": [
       "<span style=\"color:blue\"> |-structured_data_block_2/dense_block_1/units_1: 16</span>"
      ],
      "text/plain": [
       "<IPython.core.display.HTML object>"
      ]
     },
     "metadata": {},
     "output_type": "display_data"
    },
    {
     "data": {
      "text/html": [
       "<span style=\"color:cyan\"> |-structured_data_block_2/dense_block_1/use_batchnorm: True</span>"
      ],
      "text/plain": [
       "<IPython.core.display.HTML object>"
      ]
     },
     "metadata": {},
     "output_type": "display_data"
    },
    {
     "name": "stdout",
     "output_type": "stream",
     "text": [
      "Train for 413 steps, validate for 104 steps\n",
      "Epoch 1/3\n",
      "413/413 - 3s - loss: 1091.1748 - mean_squared_error: 1091.6608 - val_loss: 2.8186 - val_mean_squared_error: 2.8229\n",
      "Epoch 2/3\n",
      "413/413 - 2s - loss: 10.7733 - mean_squared_error: 10.7771 - val_loss: 2.7525 - val_mean_squared_error: 2.7584\n",
      "Epoch 3/3\n",
      "413/413 - 2s - loss: 3.7507 - mean_squared_error: 3.7517 - val_loss: 2.2323 - val_mean_squared_error: 2.2355\n"
     ]
    },
    {
     "data": {
      "text/html": [
       "<span style=\"color:#4527A0\"><h1 style=\"font-size:18px\">Trial complete</h1></span>"
      ],
      "text/plain": [
       "<IPython.core.display.HTML object>"
      ]
     },
     "metadata": {},
     "output_type": "display_data"
    },
    {
     "data": {
      "text/html": [
       "<span style=\"color:#4527A0\"><h1 style=\"font-size:18px\">Trial summary</h1></span>"
      ],
      "text/plain": [
       "<IPython.core.display.HTML object>"
      ]
     },
     "metadata": {},
     "output_type": "display_data"
    },
    {
     "data": {
      "text/html": [
       "<span style=\"color:cyan\"> |-Trial ID: af042ed3e90b494d578e16d2ee70f687</span>"
      ],
      "text/plain": [
       "<IPython.core.display.HTML object>"
      ]
     },
     "metadata": {},
     "output_type": "display_data"
    },
    {
     "data": {
      "text/html": [
       "<span style=\"color:cyan\"> |-Score: 2.232274311666305</span>"
      ],
      "text/plain": [
       "<IPython.core.display.HTML object>"
      ]
     },
     "metadata": {},
     "output_type": "display_data"
    },
    {
     "data": {
      "text/html": [
       "<span style=\"color:cyan\"> |-Best step: 0</span>"
      ],
      "text/plain": [
       "<IPython.core.display.HTML object>"
      ]
     },
     "metadata": {},
     "output_type": "display_data"
    },
    {
     "data": {
      "text/html": [
       "<span style=\"color:#7E57C2\"><h2 style=\"font-size:16px\">Hyperparameters:</h2></span>"
      ],
      "text/plain": [
       "<IPython.core.display.HTML object>"
      ]
     },
     "metadata": {},
     "output_type": "display_data"
    },
    {
     "data": {
      "text/html": [
       "<span style=\"color:cyan\"> |-optimizer: adam</span>"
      ],
      "text/plain": [
       "<IPython.core.display.HTML object>"
      ]
     },
     "metadata": {},
     "output_type": "display_data"
    },
    {
     "data": {
      "text/html": [
       "<span style=\"color:blue\"> |-regression_head_2/dropout_rate: 0</span>"
      ],
      "text/plain": [
       "<IPython.core.display.HTML object>"
      ]
     },
     "metadata": {},
     "output_type": "display_data"
    },
    {
     "data": {
      "text/html": [
       "<span style=\"color:cyan\"> |-structured_data_block_2/dense_block_1/dropout_rate: 0.25</span>"
      ],
      "text/plain": [
       "<IPython.core.display.HTML object>"
      ]
     },
     "metadata": {},
     "output_type": "display_data"
    },
    {
     "data": {
      "text/html": [
       "<span style=\"color:blue\"> |-structured_data_block_2/dense_block_1/num_layers: 2</span>"
      ],
      "text/plain": [
       "<IPython.core.display.HTML object>"
      ]
     },
     "metadata": {},
     "output_type": "display_data"
    },
    {
     "data": {
      "text/html": [
       "<span style=\"color:cyan\"> |-structured_data_block_2/dense_block_1/units_0: 512</span>"
      ],
      "text/plain": [
       "<IPython.core.display.HTML object>"
      ]
     },
     "metadata": {},
     "output_type": "display_data"
    },
    {
     "data": {
      "text/html": [
       "<span style=\"color:blue\"> |-structured_data_block_2/dense_block_1/units_1: 512</span>"
      ],
      "text/plain": [
       "<IPython.core.display.HTML object>"
      ]
     },
     "metadata": {},
     "output_type": "display_data"
    },
    {
     "data": {
      "text/html": [
       "<span style=\"color:cyan\"> |-structured_data_block_2/dense_block_1/use_batchnorm: False</span>"
      ],
      "text/plain": [
       "<IPython.core.display.HTML object>"
      ]
     },
     "metadata": {},
     "output_type": "display_data"
    },
    {
     "name": "stdout",
     "output_type": "stream",
     "text": [
      "INFO:tensorflow:Oracle triggered exit\n",
      "Train for 517 steps, validate for 104 steps\n",
      "Epoch 1/3\n",
      "517/517 - 3s - loss: 2.6243 - mean_squared_error: 2.6249 - val_loss: 1.2602 - val_mean_squared_error: 1.2627\n",
      "Epoch 2/3\n",
      "517/517 - 3s - loss: 1.3969 - mean_squared_error: 1.3961 - val_loss: 0.9443 - val_mean_squared_error: 0.9476\n",
      "Epoch 3/3\n",
      "517/517 - 3s - loss: 0.9847 - mean_squared_error: 0.9836 - val_loss: 0.9095 - val_mean_squared_error: 0.9129\n"
     ]
    }
   ],
   "source": [
    "import autokeras as ak\n",
    "\n",
    "input_node = ak.StructuredDataInput()\n",
    "output_node = ak.StructuredDataBlock(categorical_encoding=True, seed=42)(input_node)\n",
    "output_node = ak.RegressionHead()(output_node)\n",
    "auto_model = ak.AutoModel(inputs=input_node, outputs=output_node, max_trials=3)\n",
    "\n",
    "auto_model.fit(train_data, train_targets, epochs=3, verbose=2)"
   ]
  },
  {
   "cell_type": "code",
   "execution_count": 13,
   "metadata": {},
   "outputs": [
    {
     "name": "stdout",
     "output_type": "stream",
     "text": [
      "Test accuracy:  0.88373566\n"
     ]
    }
   ],
   "source": [
    "test_loss, test_acc = auto_model.evaluate(test_data, test_targets, verbose=0)\n",
    "print('Test accuracy: ', test_acc)"
   ]
  },
  {
   "cell_type": "markdown",
   "metadata": {
    "colab_type": "text",
    "id": "FBykhsofDoKf"
   },
   "source": [
    "## Reference\n",
    "[ImageClassifier](/image_classifier),\n",
    "[AutoModel](/auto_model/#automodel-class),\n",
    "[ImageBlock](/block/#imageblock-class),\n",
    "[Normalization](/preprocessor/#normalization-class),\n",
    "[ImageAugmentation](/preprocessor/#image-augmentation-class),\n",
    "[ResNetBlock](/block/#resnetblock-class),\n",
    "[ImageInput](/node/#imageinput-class),\n",
    "[ClassificationHead](/head/#classificationhead-class)."
   ]
  },
  {
   "cell_type": "code",
   "execution_count": null,
   "metadata": {},
   "outputs": [],
   "source": []
  }
 ],
 "metadata": {
  "colab": {
   "collapsed_sections": [],
   "name": "ImageClassifier.ipynb",
   "provenance": []
  },
  "kernelspec": {
   "display_name": "Python 3",
   "language": "python",
   "name": "python3"
  },
  "language_info": {
   "codemirror_mode": {
    "name": "ipython",
    "version": 3
   },
   "file_extension": ".py",
   "mimetype": "text/x-python",
   "name": "python",
   "nbconvert_exporter": "python",
   "pygments_lexer": "ipython3",
   "version": "3.6.2"
  }
 },
 "nbformat": 4,
 "nbformat_minor": 1
}
